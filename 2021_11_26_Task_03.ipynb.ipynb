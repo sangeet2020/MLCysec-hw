{
 "cells": [
  {
   "cell_type": "markdown",
   "metadata": {
    "id": "qKo3S_fOsMim"
   },
   "source": [
    "# ML in Cybersecurity: Task 3\n",
    "\n",
    "## Team\n",
    "  * **Team name**:  *fill this in*\n",
    "  * **Members**:  *fill this in. format: name1 (email1), name2 (email2), name3 (email3),*\n",
    "\n",
    "\n",
    "## Logistics\n",
    "  * **Due date**: 9th December 2021, 23:59:59\n",
    "  * Email the completed notebook to: `mlcysec_ws2022_staff@lists.cispa.saarland`\n",
    "  * Complete this in **teams of 3**\n",
    "  * Feel free to use the forum to discuss.\n",
    "  \n",
    "## Timeline\n",
    "  * 26-Nov-2021: hand-out\n",
    "  * **09-Dec-2021**: Email completed notebook\n",
    "  \n",
    "  \n",
    "## About this Project\n",
    "In this project, you will explore an application of ML to a popular task in cybersecurity: malware classification.\n",
    "You will be presented with precomputed behaviour analysis reports of thousands of program binaries, many of which are malwares.\n",
    "Your goal is to train a malware detector using this behavioural reports.\n",
    "\n",
    "\n",
    "## A Note on Grading\n",
    "The grading for this project will depend on:\n",
    " 1. Vectorizing Inputs\n",
    "   * Obtaining a reasonable vectorized representations of the input data (a file containing a sequence of system calls)\n",
    "   * Understanding the influence these representations have on your model\n",
    " 1. Classification Model  \n",
    "   * Following a clear ML pipeline\n",
    "   * Obtaining reasonable performances (>60\\%) on held-out test set\n",
    "   * Choice of evaluation metric\n",
    "   * Visualizing loss/accuracy curves\n",
    " 1. Analysis\n",
    "   * Which methods (input representations/ML models) work better than the rest and why?\n",
    "   * Which hyper-parameters and design-choices were important in each of your methods?\n",
    "   * Quantifying influence of these hyper-parameters on loss and/or validation accuracies\n",
    "   * Trade-offs between methods, hyper-parameters, design-choices\n",
    "   * Anything else you find interesting (this part is open-ended)\n",
    "\n",
    "\n",
    "## Grading Details\n",
    " * 40 points: Vectorizing input data (each input = behaviour analysis file in our case)\n",
    " * 40 points: Training a classification model\n",
    " * 15 points: Analysis/Discussion\n",
    " * 5 points: Clean code\n",
    " \n",
    "## Filling-in the Notebook\n",
    "You'll be submitting this very notebook that is filled-in with your code and analysis. Make sure you submit one that has been previously executed in-order. (So that results/graphs are already visible upon opening it). \n",
    "\n",
    "The notebook you submit **should compile** (or should be self-contained and sufficiently commented). Check tutorial 1 on how to set up the Python3 environment.\n",
    "\n",
    "\n",
    "**The notebook is your project report. So, to make the report readable, omit code for techniques/models/things that did not work. You can use the final summary to provide a report about these.**\n",
    "\n",
    "It is extremely important that you **do not** re-order the existing sections. Apart from that, the code blocks that you need to fill-in are given by:\n",
    "```\n",
    "#\n",
    "#\n",
    "# ------- Your Code -------\n",
    "#\n",
    "#\n",
    "```\n",
    "Feel free to break this into multiple-cells. It's even better if you interleave explanations and code-blocks so that the entire notebook forms a readable \"story\".\n",
    "\n",
    "\n",
    "## Code of Honor\n",
    "We encourage discussing ideas and concepts with other students to help you learn and better understand the course content. However, the work you submit and present **must be original** and demonstrate your effort in solving the presented problems. **We will not tolerate** blatantly using existing solutions (such as from the internet), improper collaboration (e.g., sharing code or experimental data between groups) and plagiarism. If the honor code is not met, no points will be awarded.\n",
    "\n",
    " \n",
    " ## Versions\n",
    "  * v1.1: Updated deadline\n",
    "  * v1.0: Initial notebook\n",
    "  \n",
    "  ---"
   ]
  },
  {
   "cell_type": "code",
   "execution_count": 2,
   "metadata": {
    "id": "uyCiLbXbsMiq"
   },
   "outputs": [],
   "source": [
    "import time \n",
    " \n",
    "import numpy as np \n",
    "import matplotlib.pyplot as plt \n",
    "\n",
    "import json \n",
    "import time \n",
    "import pickle \n",
    "import sys \n",
    "import csv \n",
    "import os\n",
    "import os.path as osp \n",
    "import shutil \n",
    "import pathlib\n",
    "from pathlib import Path\n",
    "from dataclasses import dataclass\n",
    "from IPython.display import display, HTML\n",
    " \n",
    "%matplotlib inline \n",
    "plt.rcParams['figure.figsize'] = (10.0, 8.0) # set default size of plots \n",
    "plt.rcParams['image.interpolation'] = 'nearest' \n",
    "plt.rcParams['image.cmap'] = 'gray' \n",
    " \n",
    "# for auto-reloading external modules \n",
    "# see http://stackoverflow.com/questions/1907993/autoreload-of-modules-in-ipython \n",
    "%load_ext autoreload\n",
    "%autoreload 2"
   ]
  },
  {
   "cell_type": "code",
   "execution_count": 12,
   "metadata": {
    "id": "7dHogdxRsMis"
   },
   "outputs": [],
   "source": [
    "# Some suggestions of our libraries that might be helpful for this project\n",
    "from collections import Counter          # an even easier way to count\n",
    "from multiprocessing import Pool         # for multiprocessing\n",
    "from tqdm import tqdm                    # fancy progress bars\n",
    "\n",
    "# Load other libraries here.\n",
    "# Keep it minimal! We should be easily able to reproduce your code.\n",
    "\n",
    "# We preload pytorch as an example\n",
    "import torch\n",
    "import torch.nn as nn\n",
    "import torchmetrics\n",
    "import torch.nn.functional as F\n",
    "import torch.optim as optim\n",
    "from torch.utils.data import DataLoader, Dataset, TensorDataset\n",
    "from torch.nn.utils.rnn import pack_padded_sequence\n",
    "\n",
    "from sklearn.model_selection import train_test_split\n",
    "import gc\n",
    "from sklearn.preprocessing import LabelEncoder"
   ]
  },
  {
   "cell_type": "markdown",
   "metadata": {
    "id": "oJWkh3GUsMit"
   },
   "source": [
    "# Setup\n",
    "\n",
    "  * Download the datasets: [train](https://nextcloud.mpi-klsb.mpg.de/index.php/s/pJrRGzm2So2PMZm) (128M) and [test](https://nextcloud.mpi-klsb.mpg.de/index.php/s/zN3yeWzQB3i5WqE) (92M)\n",
    "  * Unpack them under `./data/train` and `./data/test`\n",
    "  * Hint: you can execute shell scripts from notebooks using the `!` prefix, e.g., `! wget <url>`"
   ]
  },
  {
   "cell_type": "code",
   "execution_count": null,
   "metadata": {
    "colab": {
     "base_uri": "https://localhost:8080/"
    },
    "id": "Pm4WY0PjtsKu",
    "outputId": "294a6774-ad40-478f-ce1b-d4b1e33c42b8"
   },
   "outputs": [],
   "source": [
    "!wget -O train.tar.gz https://nextcloud.mpi-klsb.mpg.de/index.php/s/pJrRGzm2So2PMZm/download\n",
    "!wget -O test.tar.gz https://nextcloud.mpi-klsb.mpg.de/index.php/s/zN3yeWzQB3i5WqE/download"
   ]
  },
  {
   "cell_type": "code",
   "execution_count": null,
   "metadata": {
    "id": "238SWrCSty7q"
   },
   "outputs": [],
   "source": [
    "!mkdir data"
   ]
  },
  {
   "cell_type": "code",
   "execution_count": null,
   "metadata": {
    "colab": {
     "base_uri": "https://localhost:8080/"
    },
    "id": "ghaI9Kdjt11p",
    "outputId": "0c9d2424-1243-4b6d-e8b4-6ad4417b12e3"
   },
   "outputs": [],
   "source": [
    "!tar -xzvf train.tar.gz -C data/"
   ]
  },
  {
   "cell_type": "code",
   "execution_count": null,
   "metadata": {
    "colab": {
     "base_uri": "https://localhost:8080/"
    },
    "id": "82JFKe_bwBpc",
    "outputId": "f81d857b-6a48-4def-9362-bab8ce43b3c0"
   },
   "outputs": [],
   "source": [
    "!tar -xzvf test.tar.gz -C data/"
   ]
  },
  {
   "cell_type": "code",
   "execution_count": null,
   "metadata": {
    "colab": {
     "base_uri": "https://localhost:8080/"
    },
    "id": "wlhs4w44sMit",
    "outputId": "c5c95d88-2029-4cd7-a45c-76f97ed6981c"
   },
   "outputs": [],
   "source": [
    "# Check that you are prepared with the data\n",
    "! printf '# train examples (Should be 13682) : '; ls data/train | wc -l\n",
    "! printf '# test  examples (Should be 10000) : '; ls data/test | wc -l"
   ]
  },
  {
   "cell_type": "markdown",
   "metadata": {
    "id": "Zh1-JHNIsMiv"
   },
   "source": [
    "Now that you're set, let's briefly look at the data you have been handed.\n",
    "Each file encodes the behavior report of a program (potentially a malware), using an encoding scheme called \"The Malware Instruction Set\" (MIST for short).\n",
    "At this point, we highly recommend you briefly read-up Sec. 2 of the [MIST](http://www.mlsec.org/malheur/docs/mist-tr.pdf) documentation.\n",
    "\n",
    "You will find each file named as `filename.<malwarename>`:\n",
    "```\n",
    "» ls data/train | head\n",
    "00005ecc06ae3e489042e979717bb1455f17ac9d.NothingFound\n",
    "0008e3d188483aeae0de62d8d3a1479bd63ed8c9.Basun\n",
    "000d2eea77ee037b7ef99586eb2f1433991baca9.Patched\n",
    "000d996fa8f3c83c1c5568687bb3883a543ec874.Basun\n",
    "0010f78d3ffee61101068a0722e09a98959a5f2c.Basun\n",
    "0013cd0a8febd88bfc4333e20486bd1a9816fcbf.Basun\n",
    "0014aca72eb88a7f20fce5a4e000c1f7fff4958a.Texel\n",
    "001ffc75f24a0ae63a7033a01b8152ba371f6154.Texel\n",
    "0022d6ba67d556b931e3ab26abcd7490393703c4.Basun\n",
    "0028c307a125cf0fdc97d7a1ffce118c6e560a70.Swizzor\n",
    "...\n",
    "```\n",
    "and within each file, you will see a sequence of individual systems calls monitored duing the run-time of the binary - a malware named 'Basun' in the case:\n",
    "```\n",
    "» head data/train/000d996fa8f3c83c1c5568687bb3883a543ec874.Basun\n",
    "# process 000006c8 0000066a 022c82f4 00000000 thread 0001 #\n",
    "02 01 | 000006c8 0000066a 00015000\n",
    "02 02 | 00006b2c 047c8042 000b9000\n",
    "02 02 | 00006b2c 047c8042 00108000\n",
    "02 02 | 00006b2c 047c8042 00153000\n",
    "02 02 | 00006b2c 047c8042 00091000\n",
    "02 02 | 00006b2c 047c8042 00049000\n",
    "02 02 | 00006b2c 047c8042 000aa000\n",
    "02 02 | 00006b2c 047c8042 00092000\n",
    "02 02 | 00006b2c 047c8042 00011000\n",
    "...\n",
    "```\n",
    "(**Note**: Please ignore the first line that begins with `# process ...`.)\n",
    "\n",
    "Your task in this project is to train a malware detector, which given the sequence of system calls (in the MIST-formatted file like above), predicts one of 10 classes: `{ Agent, Allaple, AutoIt, Basun, NothingFound, Patched, Swizzor, Texel, VB, Virut }`, where `NothingFound` roughly represents no malware is present.\n",
    "In terms of machine learning terminology, your malware detector $F: X \\rightarrow Y$ should learn a mapping from the MIST-encoded behaviour report (the input $x \\in X$) to the malware class $y \\in Y$.\n",
    "\n",
    "Consequently, you will primarily tackle two challenges in this project:\n",
    "  1. \"Vectorizing\" the input data i.e., representing each input (file) as a tensor\n",
    "  1. Training an ML model\n",
    "  \n",
    "\n",
    "### Some tips:\n",
    "  * Begin with an extremely simple representation/ML model and get above chance-level classification performance\n",
    "  * Choose your evaluation metric wisely\n",
    "  * Save intermediate computations (e.g., a token to index mapping). This will avoid you parsing the entire dataset for every experiment\n",
    "  * Try using `multiprocessing.Pool` to parallelize your `for` loops"
   ]
  },
  {
   "cell_type": "markdown",
   "metadata": {
    "id": "p8xloR8dsMiv"
   },
   "source": [
    "---"
   ]
  },
  {
   "cell_type": "markdown",
   "metadata": {
    "id": "vXnyDAdbsMiw"
   },
   "source": [
    "# 1. Vectorize Data"
   ]
  },
  {
   "cell_type": "markdown",
   "metadata": {
    "id": "Ia-xFIQtsMiw"
   },
   "source": [
    "## 1.a. Load Raw Data"
   ]
  },
  {
   "cell_type": "code",
   "execution_count": 5,
   "metadata": {
    "id": "ZScY-C2IsMiw"
   },
   "outputs": [],
   "source": [
    "def load_content(filepath):\n",
    "    '''Given a filepath, returns (content, classname), where content = [list of lines in file]'''\n",
    "    with open(filepath, \"r\") as file:\n",
    "        data = file.read().split('\\n')\n",
    "    data = data[:-1]\n",
    "    _, file_extension = os.path.splitext(filepath)\n",
    "\n",
    "    return data, file_extension[1:]\n",
    "\n",
    "\n",
    "def load_data(root_path, nworkers=10):\n",
    "    '''Returns each data sample as a list of strings wher each string correpsonds to one file, and another list corresponding to the labels.'''\n",
    "    raw_data_samples = []\n",
    "    labels = []\n",
    "    for file_name in tqdm(os.listdir(root_path)):\n",
    "        filepath = os.path.join(root_path, file_name)\n",
    "        data, label = load_content(filepath)\n",
    "        lst_initials = []\n",
    "        for line in data:\n",
    "            if line[0]==\"#\":\n",
    "                continue\n",
    "            line = line.split(\" \")\n",
    "            line.remove(\"|\")\n",
    "            if len(line)>=4:\n",
    "                lst_initials.extend(line[:4])\n",
    "            else:\n",
    "                lst_initials.extend(line[:len(line)])\n",
    "        raw_data_samples.append(\" \".join(lst_initials))\n",
    "        labels.append(label)\n",
    "\n",
    "    return raw_data_samples, labels"
   ]
  },
  {
   "cell_type": "code",
   "execution_count": 6,
   "metadata": {
    "colab": {
     "base_uri": "https://localhost:8080/"
    },
    "id": "7BSUdq_-sMiw",
    "outputId": "767fa2d1-78f3-43ed-cdb1-f7c1566cc0c6",
    "scrolled": true
   },
   "outputs": [
    {
     "name": "stdout",
     "output_type": "stream",
     "text": [
      "=> Loading training data ... \n"
     ]
    },
    {
     "name": "stderr",
     "output_type": "stream",
     "text": [
      "100%|██████████| 13682/13682 [05:40<00:00, 40.23it/s]\n"
     ]
    }
   ],
   "source": [
    "print('=> Loading training data ... ')\n",
    "train_raw_samples, train_labels = load_data('./data/train')"
   ]
  },
  {
   "cell_type": "code",
   "execution_count": 7,
   "metadata": {
    "colab": {
     "base_uri": "https://localhost:8080/"
    },
    "id": "YwEDAwfoysFP",
    "outputId": "a6634d27-051d-432e-bcad-197856c8e610"
   },
   "outputs": [
    {
     "name": "stdout",
     "output_type": "stream",
     "text": [
      "=> Loading testing data ... \n"
     ]
    },
    {
     "name": "stderr",
     "output_type": "stream",
     "text": [
      "100%|██████████| 10000/10000 [03:55<00:00, 42.46it/s]\n"
     ]
    }
   ],
   "source": [
    "print('=> Loading testing data ... ')\n",
    "test_raw_samples, test_labels = load_data('./data/test')"
   ]
  },
  {
   "cell_type": "code",
   "execution_count": 8,
   "metadata": {
    "id": "GG6tcSNJsMiw"
   },
   "outputs": [],
   "source": [
    "# project_mode = 'trainval'    # trainval, traintest, debug\n",
    "# np.random.seed(123)          # To perform the same split across multiple runs\n",
    "\n",
    "# if project_mode == 'trainval':\n",
    "#     pass\n",
    "# #     train_raw_samples, val_raw_samples = train_test_split()\n",
    "# elif project_mode == 'traintest':\n",
    "#     # Load train and test data\n",
    "#     pass\n",
    "# elif project_mode == 'debug':\n",
    "#     # Optional, use a small subset of the training and validation data for fast debugging\n",
    "#     pass\n",
    "# else:\n",
    "#     raise ValueError('Unrecognized mode')\n",
    "    \n",
    "# # print('=> # Train samples = ', len(train_raw_samples))\n",
    "# # print('=> # Test  samples = ', len(test_raw_samples))"
   ]
  },
  {
   "cell_type": "code",
   "execution_count": 9,
   "metadata": {
    "colab": {
     "base_uri": "https://localhost:8080/"
    },
    "id": "r8mEVynutiB1",
    "outputId": "b3ba7ce4-818b-48cb-a7b1-fd68831dc846"
   },
   "outputs": [
    {
     "name": "stdout",
     "output_type": "stream",
     "text": [
      "13682 13682\n",
      "10000 10000\n"
     ]
    }
   ],
   "source": [
    "print(len(train_raw_samples), len(train_labels))\n",
    "print(len(test_raw_samples), len(test_labels))"
   ]
  },
  {
   "cell_type": "code",
   "execution_count": 10,
   "metadata": {
    "id": "W1t-i6XBzuc5"
   },
   "outputs": [],
   "source": [
    "# Converting labels to numericals\n",
    "le = LabelEncoder()\n",
    "train_labels = le.fit_transform(train_labels)\n",
    "test_labels = le.transform(test_labels)"
   ]
  },
  {
   "cell_type": "code",
   "execution_count": 11,
   "metadata": {
    "colab": {
     "base_uri": "https://localhost:8080/"
    },
    "id": "D9rtOM5FtiB1",
    "outputId": "fc291351-54fd-4230-f898-2a5774063ce4"
   },
   "outputs": [
    {
     "data": {
      "text/plain": [
       "0"
      ]
     },
     "execution_count": 11,
     "metadata": {},
     "output_type": "execute_result"
    }
   ],
   "source": [
    "train_raw, val_raw, labels_train, labels_val = train_test_split(train_raw_samples, train_labels, test_size=0.20, stratify=train_labels, random_state=42)\n",
    "del train_raw_samples, train_labels\n",
    "gc.collect()"
   ]
  },
  {
   "cell_type": "code",
   "execution_count": 12,
   "metadata": {
    "colab": {
     "base_uri": "https://localhost:8080/"
    },
    "id": "V5K7_gCztiB2",
    "outputId": "aa2826c2-4c81-4abe-ba20-e6b9861a5621"
   },
   "outputs": [
    {
     "name": "stdout",
     "output_type": "stream",
     "text": [
      "Training data len:  10945 10945\n",
      "Val data len:  2737 2737\n",
      "Test data len:  10000 10000\n"
     ]
    }
   ],
   "source": [
    "print(\"Training data len: \", len(train_raw), len(labels_train))\n",
    "print(\"Val data len: \", len(val_raw), len(labels_val))\n",
    "print(\"Test data len: \", len(test_raw_samples), len(test_labels))"
   ]
  },
  {
   "cell_type": "markdown",
   "metadata": {
    "id": "GjiNiOVHsMiy"
   },
   "source": [
    "## 1.b. Vectorize: Setup\n",
    "\n",
    "Make one pass over the inputs to identify relevant features/tokens.\n",
    "\n",
    "Suggestion:\n",
    "  - identify tokens (e.g., unigrams, bigrams)\n",
    "  - create a token -> index (int) mapping. Note that you might have a >10K unique tokens. So, you will have to choose a suitable \"vocabulary\" size."
   ]
  },
  {
   "cell_type": "code",
   "execution_count": 13,
   "metadata": {
    "id": "DAtmzL6PsMiy"
   },
   "outputs": [],
   "source": [
    "# Creating the word2index and index2word dictionaries.\n",
    "def get_key_idx_map(counter, vocab_size):\n",
    "    word2idx = {'_PAD': 0, '_UNK': 1}\n",
    "    word2idx.update({word: i+2 for i, (word, count) in enumerate(counter.most_common(vocab_size))})\n",
    "    idx2word = {idx: word for word, idx in word2idx.items()}\n",
    "    return word2idx, idx2word"
   ]
  },
  {
   "cell_type": "code",
   "execution_count": 14,
   "metadata": {
    "colab": {
     "base_uri": "https://localhost:8080/"
    },
    "id": "zM_wFtgQtiB3",
    "outputId": "d93ca5d9-0060-4028-801a-8a14641d7a72"
   },
   "outputs": [
    {
     "name": "stderr",
     "output_type": "stream",
     "text": [
      "100%|██████████| 10945/10945 [01:02<00:00, 175.79it/s]\n"
     ]
    }
   ],
   "source": [
    "# Creating the counts of the unigrams from the training data.\n",
    "counts = Counter()\n",
    "for line in tqdm(train_raw):\n",
    "    counts.update(line.split(\" \"))"
   ]
  },
  {
   "cell_type": "code",
   "execution_count": 15,
   "metadata": {
    "colab": {
     "base_uri": "https://localhost:8080/"
    },
    "id": "6qk2KPFHtiB3",
    "outputId": "b8214f37-6732-4ca8-fe3b-5183e17e48a6"
   },
   "outputs": [
    {
     "name": "stdout",
     "output_type": "stream",
     "text": [
      "Total unique words:  131579\n"
     ]
    }
   ],
   "source": [
    "print(\"Total unique words: \", len(counts))"
   ]
  },
  {
   "cell_type": "code",
   "execution_count": 16,
   "metadata": {
    "id": "LSMEAcgvsMiy"
   },
   "outputs": [],
   "source": [
    "max_vocab_size = 20000\n",
    "\n",
    "word2idx, idx2word = get_key_idx_map(counts, max_vocab_size)\n",
    "\n",
    "# Save vocab to file\n",
    "out_path = 'application_vocab_{}.pkl'.format(max_vocab_size)\n",
    "with open(out_path, 'wb') as wf:\n",
    "    dct = {'word2idx': word2idx,\n",
    "          'idx2word': idx2word}\n",
    "    pickle.dump(dct, wf)"
   ]
  },
  {
   "cell_type": "code",
   "execution_count": 17,
   "metadata": {
    "colab": {
     "base_uri": "https://localhost:8080/"
    },
    "id": "wAD8rAKf2auq",
    "outputId": "37ccb805-4e3d-428b-a64f-e6393dbf04c5"
   },
   "outputs": [
    {
     "data": {
      "text/plain": [
       "(20002, 20002)"
      ]
     },
     "execution_count": 17,
     "metadata": {},
     "output_type": "execute_result"
    }
   ],
   "source": [
    "len(word2idx), len(idx2word)"
   ]
  },
  {
   "cell_type": "code",
   "execution_count": 18,
   "metadata": {
    "colab": {
     "base_uri": "https://localhost:8080/"
    },
    "id": "dfC6gHyp2ayK",
    "outputId": "fb66b936-50ba-4c54-8c90-b7474a0f29d0"
   },
   "outputs": [
    {
     "data": {
      "text/plain": [
       "[('_PAD', 0),\n",
       " ('_UNK', 1),\n",
       " ('03', 2),\n",
       " ('02', 3),\n",
       " ('000004', 4),\n",
       " ('004000', 5),\n",
       " ('01', 6),\n",
       " ('0a', 7),\n",
       " ('047c8042', 8)]"
      ]
     },
     "execution_count": 18,
     "metadata": {},
     "output_type": "execute_result"
    }
   ],
   "source": [
    "list(word2idx.items())[:9]"
   ]
  },
  {
   "cell_type": "code",
   "execution_count": 19,
   "metadata": {
    "colab": {
     "base_uri": "https://localhost:8080/"
    },
    "id": "DLW-fZKs2nCc",
    "outputId": "38bd3d81-e245-42d5-9c39-c8d9b785167e"
   },
   "outputs": [
    {
     "data": {
      "text/plain": [
       "[(0, '_PAD'),\n",
       " (1, '_UNK'),\n",
       " (2, '03'),\n",
       " (3, '02'),\n",
       " (4, '000004'),\n",
       " (5, '004000'),\n",
       " (6, '01'),\n",
       " (7, '0a'),\n",
       " (8, '047c8042')]"
      ]
     },
     "execution_count": 19,
     "metadata": {},
     "output_type": "execute_result"
    }
   ],
   "source": [
    "list(idx2word.items())[:9]"
   ]
  },
  {
   "cell_type": "markdown",
   "metadata": {
    "id": "QUefzVjFsMiy"
   },
   "source": [
    "## 1.c. Vectorize Data\n",
    "\n",
    "Use the (token $\\rightarrow$ index) mapping you created before to vectorize your data"
   ]
  },
  {
   "cell_type": "code",
   "execution_count": 20,
   "metadata": {
    "id": "ffJJ0XOvsMiz"
   },
   "outputs": [],
   "source": [
    "def convert_to_index(sent, max_length):\n",
    "  '''Converts the word to indexed representation and also pads or truncate it to max_length'''\n",
    "\n",
    "  sentence_indexed = []\n",
    "  for token in sent.split(\" \"):\n",
    "    if len(sentence_indexed) >= max_length:\n",
    "      break\n",
    "    sentence_indexed.append(word2idx.get(str(token), 1))\n",
    "\n",
    "  length_sent = len(sentence_indexed)\n",
    "  if len(sentence_indexed) < max_length:\n",
    "    sentence_indexed = sentence_indexed + [0] * (max_length - len(sentence_indexed))\n",
    "\n",
    "  return sentence_indexed, length_sent"
   ]
  },
  {
   "cell_type": "code",
   "execution_count": 21,
   "metadata": {
    "id": "CD5IqJmXsMiz"
   },
   "outputs": [],
   "source": [
    "def vectorize_raw_samples(raw_samples, nworkers=10):\n",
    "    vectorized_samples = []\n",
    "    original_lengths = []\n",
    "    for line in tqdm(raw_samples):\n",
    "      sentence_indexed, length = convert_to_index(line, 2000)\n",
    "      vectorized_samples.append(sentence_indexed)\n",
    "      original_lengths.append(length)\n",
    "    return vectorized_samples, original_lengths"
   ]
  },
  {
   "cell_type": "code",
   "execution_count": 22,
   "metadata": {
    "colab": {
     "base_uri": "https://localhost:8080/"
    },
    "id": "BtS10ASbsMi0",
    "outputId": "7bb60245-cd01-4754-9de0-725e864bcd38",
    "scrolled": true
   },
   "outputs": [
    {
     "name": "stdout",
     "output_type": "stream",
     "text": [
      "=> Processing: Train\n"
     ]
    },
    {
     "name": "stderr",
     "output_type": "stream",
     "text": [
      "100%|██████████| 10945/10945 [00:19<00:00, 554.09it/s]\n"
     ]
    },
    {
     "data": {
      "text/plain": [
       "27"
      ]
     },
     "execution_count": 22,
     "metadata": {},
     "output_type": "execute_result"
    }
   ],
   "source": [
    "print('=> Processing: Train')\n",
    "train_data, train_lengths = vectorize_raw_samples(train_raw)\n",
    "del train_raw\n",
    "gc.collect()"
   ]
  },
  {
   "cell_type": "code",
   "execution_count": 23,
   "metadata": {
    "colab": {
     "base_uri": "https://localhost:8080/"
    },
    "id": "Byjn0frDNMUe",
    "outputId": "92b30f73-f181-45b8-f167-aaecd4c576d9"
   },
   "outputs": [
    {
     "name": "stdout",
     "output_type": "stream",
     "text": [
      "=> Processing: Val\n"
     ]
    },
    {
     "name": "stderr",
     "output_type": "stream",
     "text": [
      "100%|██████████| 2737/2737 [00:06<00:00, 419.59it/s]\n"
     ]
    },
    {
     "data": {
      "text/plain": [
       "27"
      ]
     },
     "execution_count": 23,
     "metadata": {},
     "output_type": "execute_result"
    }
   ],
   "source": [
    "print('=> Processing: Val')\n",
    "val_data, val_lengths = vectorize_raw_samples(val_raw)\n",
    "del val_raw\n",
    "gc.collect()"
   ]
  },
  {
   "cell_type": "code",
   "execution_count": 24,
   "metadata": {
    "colab": {
     "base_uri": "https://localhost:8080/"
    },
    "id": "apnXxsTH9nxx",
    "outputId": "bc712c10-798b-47da-f5a1-90e33c24185f"
   },
   "outputs": [
    {
     "name": "stdout",
     "output_type": "stream",
     "text": [
      "=> Processing: Test\n"
     ]
    },
    {
     "name": "stderr",
     "output_type": "stream",
     "text": [
      "100%|██████████| 10000/10000 [00:19<00:00, 524.55it/s]\n"
     ]
    },
    {
     "data": {
      "text/plain": [
       "27"
      ]
     },
     "execution_count": 24,
     "metadata": {},
     "output_type": "execute_result"
    }
   ],
   "source": [
    "print('=> Processing: Test')\n",
    "test_data, test_lengths = vectorize_raw_samples(test_raw_samples)\n",
    "del test_raw_samples\n",
    "gc.collect()"
   ]
  },
  {
   "cell_type": "code",
   "execution_count": 25,
   "metadata": {
    "id": "VNunTYc4hbMn"
   },
   "outputs": [],
   "source": [
    "train_data, labels_train, train_lengths = torch.LongTensor(train_data), torch.LongTensor(labels_train), torch.Tensor(train_lengths)\n",
    "val_data, labels_val, val_lengths = torch.LongTensor(val_data), torch.LongTensor(labels_val), torch.Tensor(val_lengths)\n",
    "test_data, labels_test, test_lengths = torch.LongTensor(test_data), torch.LongTensor(test_labels), torch.Tensor(test_lengths)"
   ]
  },
  {
   "cell_type": "code",
   "execution_count": 26,
   "metadata": {
    "colab": {
     "base_uri": "https://localhost:8080/"
    },
    "id": "9m98_h7ugpq7",
    "outputId": "9e4792d2-db97-408f-e8ca-4871a5b7b017"
   },
   "outputs": [
    {
     "name": "stdout",
     "output_type": "stream",
     "text": [
      "torch.Size([10945, 2000]) torch.Size([10945]) torch.Size([10945])\n",
      "torch.Size([2737, 2000]) torch.Size([2737]) torch.Size([2737])\n",
      "torch.Size([10000, 2000]) torch.Size([10000]) torch.Size([10000])\n"
     ]
    }
   ],
   "source": [
    "print(train_data.shape, labels_train.shape, train_lengths.shape)\n",
    "print(val_data.shape, labels_val.shape, val_lengths.shape)\n",
    "print(test_data.shape, labels_test.shape, test_lengths.shape)"
   ]
  },
  {
   "cell_type": "code",
   "execution_count": 4,
   "metadata": {
    "colab": {
     "base_uri": "https://localhost:8080/"
    },
    "id": "0XOHr24usMi0",
    "outputId": "8ac1ea52-3f39-4e7d-d678-4d0b48eaaa64"
   },
   "outputs": [],
   "source": [
    "# Vocab size to create the embedding layer\n",
    "vocab_size = len(word2idx) #20002\n",
    "\n",
    "trainset = TensorDataset(train_data, labels_train, train_lengths)\n",
    "validset = TensorDataset(val_data, labels_val, val_lengths)\n",
    "testset = TensorDataset(test_data, labels_test, test_lengths)\n",
    "\n",
    "# trainset = torch.load('trainset.pt') \n",
    "# validset =  torch.load('validset.pt')\n",
    "# testset = torch.load('testset.pt')\n",
    "\n",
    "train_loader = DataLoader(trainset, batch_size=64, shuffle=True, num_workers=4)\n",
    "val_loader = DataLoader(validset, batch_size=64, shuffle=False, num_workers=4)\n",
    "test_loader = DataLoader(testset, batch_size=64, shuffle=False, num_workers=4)"
   ]
  },
  {
   "cell_type": "code",
   "execution_count": 5,
   "metadata": {
    "colab": {
     "base_uri": "https://localhost:8080/"
    },
    "id": "8Uh9pojei9H3",
    "outputId": "ea178a26-748c-4db2-9a8f-1316e0791397"
   },
   "outputs": [
    {
     "name": "stdout",
     "output_type": "stream",
     "text": [
      "tensor([[  3,   6,  11,  ...,   0,   0,   0],\n",
      "        [  3,   6, 163,  ..., 115,  39,  12],\n",
      "        [  3,   6, 163,  ...,   0,   0,   0],\n",
      "        ...,\n",
      "        [  3,   6, 163,  ...,   0,   0,   0],\n",
      "        [  3,   6,  11,  ...,  13,   4,   5],\n",
      "        [  3,   6, 163,  ...,  10,   6,  53]]) torch.Size([64]) torch.Size([64])\n"
     ]
    }
   ],
   "source": [
    "# Example of using dataloader\n",
    "for batch_idx, (sents, labels, lens) in enumerate(train_loader):\n",
    "  print(sents, labels.shape, lens.shape)\n",
    "  break"
   ]
  },
  {
   "cell_type": "markdown",
   "metadata": {
    "id": "_l0tLsEVsMi0"
   },
   "source": [
    "# 2. Train Model\n",
    "\n",
    "You will now train an ML model on the vectorized datasets you created previously.\n",
    "\n",
    "_Note_: Although we often refer to each input as a 'vector' for simplicity, each of your inputs can also be higher dimensional tensors."
   ]
  },
  {
   "cell_type": "markdown",
   "metadata": {
    "id": "UInY1YzksMi0"
   },
   "source": [
    "## 2.a. Helpers"
   ]
  },
  {
   "cell_type": "code",
   "execution_count": 6,
   "metadata": {},
   "outputs": [],
   "source": [
    "DEVICE = torch.device(\"cuda:0\") if torch.cuda.is_available() else torch.device(\"cpu\")"
   ]
  },
  {
   "cell_type": "code",
   "execution_count": 7,
   "metadata": {
    "id": "VnSv0J75sMi0"
   },
   "outputs": [],
   "source": [
    "# Feel free to edit anything in this block\n",
    "\n",
    "def evaluate_preds(y_gt, y_pred):\n",
    "    pass\n",
    "\n",
    "\n",
    "def another_helper(question):\n",
    "    return 42\n",
    "\n",
    "\n",
    "def save_model(model, out_path):\n",
    "    pass\n",
    "\n",
    "\n",
    "def save_data(eval_data, out_path):\n",
    "    with open(out_path, 'wb') as wf:\n",
    "        pickle.dump(eval_data, out_path)"
   ]
  },
  {
   "cell_type": "markdown",
   "metadata": {
    "id": "PhbVzVLDsMi1"
   },
   "source": [
    "## 2.b. Define Model"
   ]
  },
  {
   "cell_type": "markdown",
   "metadata": {
    "id": "jrUKCNRgsMi1"
   },
   "source": [
    "Describe your model here."
   ]
  },
  {
   "cell_type": "code",
   "execution_count": 8,
   "metadata": {
    "id": "ILB2fBRWsMi1"
   },
   "outputs": [],
   "source": [
    "class biLSTM(nn.ModuleList):\n",
    "    def __init__(self, params):\n",
    "        super(biLSTM, self).__init__()\n",
    "        self.vocab_size = params.vocab_size\n",
    "        self.embedding_size = params.embedding_size\n",
    "        self.hidden_dim = params.hidden_dim\n",
    "        self.n_layers = params.n_layers\n",
    "        self.dropout = params.dropout\n",
    "        self.bidirectional = params.bidirectional\n",
    "        self.output_dim = params.output_dim\n",
    "        \n",
    "        # Embedding layer definition\n",
    "        self.embedding = nn.Embedding(self.vocab_size, self.embedding_size)\n",
    "        \n",
    "        self.rnn = nn.LSTM(self.embedding_size,\n",
    "                            self.hidden_dim, \n",
    "                            num_layers=self.n_layers, \n",
    "                            bidirectional=self.bidirectional, \n",
    "                            batch_first=True, \n",
    "                            dropout=self.dropout)\n",
    "\n",
    "        self.fc = nn.Linear(self.hidden_dim*2, self.output_dim)\n",
    "        self.dropout = nn.Dropout(self.dropout)\n",
    "        self.act = nn.Softsign()\n",
    "    \n",
    "    def forward(self, text, lens):\n",
    "        text_emb = self.dropout(self.embedding(text))\n",
    "        packed_input = pack_padded_sequence(text_emb, lens, batch_first=True, enforce_sorted=False)\n",
    "        lstm_out, (hidden, ct) = self.rnn(packed_input)\n",
    "        #concat the final forward and backward hidden state\n",
    "        hidden = torch.cat((hidden[-2,:,:], hidden[-1,:,:]), dim = 1)\n",
    "        dense_outputs =  self.fc(hidden)\n",
    "        outputs = self.act(dense_outputs)\n",
    "        return outputs"
   ]
  },
  {
   "cell_type": "markdown",
   "metadata": {
    "id": "QO1yPx7YsMi1"
   },
   "source": [
    "## 2.c. Set Hyperparameters"
   ]
  },
  {
   "cell_type": "code",
   "execution_count": 21,
   "metadata": {
    "id": "0k0jLX5ksMi1"
   },
   "outputs": [],
   "source": [
    "@dataclass\n",
    "class Parameters:\n",
    "    # Model parameters\n",
    "    vocab_size: int = 20002\n",
    "    embedding_size: int = 100\n",
    "    bidirectional: bool = True\n",
    "    save_model: bool = True\n",
    "    model_dir: str = \"biLSTM\"\n",
    "    output_dim: int = 10    \n",
    "        \n",
    "    # Training parameters\n",
    "    hidden_dim: int = 64\n",
    "    n_layers: int = 2\n",
    "    learning_rate: float = 1e-2\n",
    "    dropout: float = 0.2\n",
    "    epochs: int = 20\n",
    "    batch_size: int = 64"
   ]
  },
  {
   "cell_type": "markdown",
   "metadata": {
    "id": "NtpgVAO1sMi2"
   },
   "source": [
    "## 2.d. Train your Model"
   ]
  },
  {
   "cell_type": "code",
   "execution_count": 22,
   "metadata": {
    "id": "Co0W2ifGsMi2"
   },
   "outputs": [],
   "source": [
    "class Run:\n",
    "    '''Training, evaluation and metrics calculation'''\n",
    "\n",
    "    @staticmethod\n",
    "    def train(model, data, params):\n",
    "        loader_train = data[\"train_loader\"]\n",
    "        loader_valid = data[\"val_loader\"]\n",
    "        loader_test = data[\"test_loader\"]\n",
    "        \n",
    "        # Define optimizer and loss function\n",
    "        optimizer = optim.RMSprop(model.parameters(), lr=params.learning_rate)\n",
    "        criterion = nn.CrossEntropyLoss(reduction='sum')\n",
    "\n",
    "        # Tracking best validation accuracy\n",
    "        best_accuracy = 0\n",
    "        \n",
    "        print(\"\\nStart training...\")\n",
    "        print(f\"{'Epoch':^7} | {'Train Acc':^10} | {'F1 Score':^10} |{'Val Loss':^10} | {'Val Acc':^9} | {'Test Acc':^9} | {'Elapsed':^9}\")\n",
    "        print(\"-\"*80)\n",
    "    \n",
    "        # Starts training phase\n",
    "        train_loss_list = []\n",
    "        val_loss_list = []\n",
    "        test_acc_list = []\n",
    "        torch_F1 = torchmetrics.F1(num_classes=params.output_dim, average=\"micro\")\n",
    "        \n",
    "        for epoch in range(params.epochs):\n",
    "            # =======================================\n",
    "            #               Training\n",
    "            # =======================================\n",
    "            # Tracking time and loss\n",
    "            t0_epoch = time.time()\n",
    "            total_loss = 0\n",
    "            train_accuracy = 0\n",
    "            f1_score = 0\n",
    "\n",
    "            # Put the model into training mode\n",
    "            model.train()\n",
    "        \n",
    "            # Starts batch training\n",
    "            for x_batch, y_batch, lens in loader_train:\n",
    "                \n",
    "                # pdb.set_trace()\n",
    "                # Load batch to GPU\n",
    "                x_batch = x_batch.long()\n",
    "                y_batch = y_batch.long()\n",
    "                # lens = lens.to(DEVICE)\n",
    "                x_batch = x_batch.to(DEVICE)\n",
    "                y_batch = y_batch.to(DEVICE)\n",
    "                \n",
    "                # Feed the model\n",
    "                \n",
    "                y_pred = model(x_batch,lens)\n",
    "\n",
    "                # Compute loss and accumulate the loss values\n",
    "                loss = criterion(y_pred, y_batch)\n",
    "                # import pdb; pdb.set_trace()\n",
    "                total_loss += loss.item()\n",
    "\n",
    "                # Clean gradients\n",
    "                optimizer.zero_grad()\n",
    "\n",
    "                # Gradients calculation\n",
    "                loss.backward()\n",
    "\n",
    "                # Gradients update\n",
    "                optimizer.step()\n",
    "            \n",
    "                # Accumulate training accuracy (for all batch in one epoch)\n",
    "                corrects = (torch.max(y_pred, 1)[1].view(y_batch.size()).data == y_batch.data).sum()\n",
    "                acc = 100.0 * corrects/loader_train.batch_size\n",
    "                train_accuracy += acc\n",
    "                \n",
    "                # Compute F1 Score over a batch\n",
    "                f1_score += torch_F1(y_pred.detach().cpu(), y_batch.detach().cpu())\n",
    "                \n",
    "\n",
    "            # Calculate the average loss over the entire training data for an epoch\n",
    "            avg_train_loss = total_loss / len(loader_train)\n",
    "            train_loss_list.append(avg_train_loss)\n",
    "            \n",
    "            # Compute accuracy and F1 averaged over all batches for an epoch\n",
    "            train_accuracy = train_accuracy / len(loader_train)\n",
    "            f1_score /= len(loader_train)\n",
    "            # =======================================\n",
    "            #               Evaluation\n",
    "            # =======================================\n",
    "            \n",
    "            # After the completion of each training epoch, measure the model's\n",
    "            # performance on our validation set.          \n",
    "            \n",
    "            # Validation metrics\n",
    "            val_loss, val_accuracy = evaluation(model, loader_valid)\n",
    "            _, test_accuracy = evaluation(model, loader_test)\n",
    "            val_loss_list.append(val_loss)\n",
    "            test_acc_list.append(test_accuracy)\n",
    "            \n",
    "            # Track the best accuracy\n",
    "            if val_accuracy > best_accuracy:\n",
    "                best_accuracy = val_accuracy\n",
    "                # Save the best model\n",
    "                os.makedirs(params.model_dir, exist_ok=True)\n",
    "                if params.save_model:\n",
    "                    # Save the best model\n",
    "                    PATH = params.model_dir + \"/bi-dir_lstm_\" + str(epoch+1) +\"_batch_size_\" + str(params.batch_size) + \".pth\"\n",
    "                    torch.save(model.state_dict(), PATH)\n",
    "\n",
    "            # Print performance over the entire training data\n",
    "            time_elapsed = time.time() - t0_epoch\n",
    "            print(f\"{epoch + 1:^7} | {train_accuracy:^10.2f} | {f1_score:^10.4f} | {val_loss:^10.3f} | {val_accuracy:^9.2f} | {test_accuracy:^9.2f} | {time_elapsed:^9.2f}\")\n",
    "            \n",
    "            \n",
    "        print(\"\\n\")\n",
    "        print(f\"Training complete! \\nBest accuracy: {best_accuracy:.2f} %.\")\n",
    "        return train_loss_list, val_loss_list, test_acc_list, PATH\n",
    "\n",
    "def evaluation(model, loader_valid):\n",
    "    # Set the model in evaluation mode\n",
    "    model.eval()\n",
    "    corrects, avg_loss = 0, 0\n",
    "    criterion = nn.CrossEntropyLoss(reduction='sum')\n",
    "\n",
    "    # Start evaluation phase   \n",
    "    with torch.no_grad():\n",
    "        for x_batch, y_batch, lens in loader_valid:\n",
    "            x_batch = x_batch.long()\n",
    "            y_batch = y_batch.long()\n",
    "            # lens = lens.to(DEVICE)\n",
    "            x_batch = x_batch.to(DEVICE); \n",
    "            y_batch = y_batch.to(DEVICE)\n",
    "            \n",
    "            y_pred = model(x_batch, lens)\n",
    "            \n",
    "            loss = criterion(y_pred, y_batch)\n",
    "            avg_loss += loss.item()\n",
    "            corrects += (torch.max(y_pred, 1) [1].view(y_batch.size()).data == y_batch.data).sum()\n",
    "            \n",
    "    size = len(loader_valid.dataset)\n",
    "    avg_loss /= size\n",
    "    accuracy = 100.0 * corrects/size\n",
    "    \n",
    "    return avg_loss, accuracy"
   ]
  },
  {
   "cell_type": "code",
   "execution_count": 23,
   "metadata": {
    "id": "3afVBWVKsMi2"
   },
   "outputs": [
    {
     "name": "stdout",
     "output_type": "stream",
     "text": [
      "biLSTM(\n",
      "  (embedding): Embedding(20002, 100)\n",
      "  (rnn): LSTM(100, 64, num_layers=2, batch_first=True, dropout=0.2, bidirectional=True)\n",
      "  (fc): Linear(in_features=128, out_features=10, bias=True)\n",
      "  (dropout): Dropout(p=0.2, inplace=False)\n",
      "  (act): Softsign()\n",
      ")\n",
      "\n",
      "Start training...\n",
      " Epoch  | Train Acc  |  F1 Score  | Val Loss  |  Val Acc  | Test Acc  |  Elapsed \n",
      "--------------------------------------------------------------------------------\n",
      "   1    |   58.87    |   0.5944   |   1.409    |   63.76   |   64.45   |   55.74  \n",
      "   2    |   66.91    |   0.6691   |   1.301    |   67.67   |   67.94   |   55.76  \n",
      "   3    |   69.96    |   0.7053   |   1.248    |   71.61   |   72.01   |   55.28  \n",
      "   4    |   72.49    |   0.7307   |   1.245    |   72.74   |   73.66   |   55.88  \n",
      "   5    |   72.85    |   0.7342   |   1.202    |   76.43   |   76.51   |   55.61  \n",
      "   6    |   74.55    |   0.7455   |   1.207    |   76.25   |   77.50   |   55.72  \n",
      "   7    |   73.64    |   0.7421   |   1.243    |   71.79   |   72.61   |   56.01  \n",
      "   8    |   72.87    |   0.7345   |   1.191    |   74.68   |   75.56   |   55.29  \n",
      "   9    |   73.49    |   0.7406   |   1.198    |   74.28   |   75.00   |   55.71  \n",
      "  10    |   74.45    |   0.7503   |   1.190    |   74.53   |   75.47   |   55.78  \n",
      "  11    |   74.66    |   0.7524   |   1.177    |   75.92   |   76.24   |   55.17  \n",
      "  12    |   75.63    |   0.7563   |   1.162    |   76.29   |   76.60   |   55.88  \n",
      "  13    |   75.70    |   0.7627   |   1.174    |   74.90   |   75.59   |   55.69  \n",
      "  14    |   75.08    |   0.7565   |   1.160    |   76.03   |   76.87   |   55.52  \n",
      "  15    |   76.74    |   0.7731   |   1.154    |   76.84   |   77.42   |   55.69  \n",
      "  16    |   76.97    |   0.7754   |   1.155    |   76.69   |   77.81   |   55.64  \n",
      "  17    |   77.23    |   0.7780   |   1.147    |   78.88   |   80.18   |   55.53  \n",
      "  18    |   76.43    |   0.7700   |   1.162    |   76.29   |   77.08   |   55.82  \n",
      "  19    |   76.11    |   0.7611   |   1.155    |   76.25   |   77.03   |   55.30  \n",
      "  20    |   74.29    |   0.7429   |   1.166    |   76.07   |   76.59   |   55.63  \n",
      "\n",
      "\n",
      "Training complete! \n",
      "Best accuracy: 78.88 %.\n",
      "*** Training Complete ***\n",
      "Training runtime: 1112.67 s\n"
     ]
    }
   ],
   "source": [
    "data = {\n",
    "    \"train_loader\": train_loader,\n",
    "    \"val_loader\": val_loader,\n",
    "    \"test_loader\": test_loader,\n",
    "}\n",
    "start = time.time()\n",
    "params = Parameters()\n",
    "model = biLSTM(params)\n",
    "model.to(DEVICE)\n",
    "print(model)\n",
    "\n",
    "# Train and Evaluate the pipeline\n",
    "train_loss_list, val_loss_list, test_acc_list, PATH = Run().train(model, data, params)\n",
    "end = time.time()\n",
    "print(\"*** Training Complete ***\")\n",
    "print(\"Training runtime: {:.2f} s\".format(end-start))"
   ]
  },
  {
   "cell_type": "markdown",
   "metadata": {
    "id": "Z5w-7O5jsMi2"
   },
   "source": [
    "## 2.e. Evaluate model"
   ]
  },
  {
   "cell_type": "code",
   "execution_count": null,
   "metadata": {
    "id": "CMbzX1h4sMi2"
   },
   "outputs": [],
   "source": [
    "#\n",
    "#\n",
    "# ------- Your Code -------\n",
    "#\n",
    "# "
   ]
  },
  {
   "cell_type": "markdown",
   "metadata": {
    "id": "U_GE1BQjsMi3"
   },
   "source": [
    "## 2.f. Save Model + Data"
   ]
  },
  {
   "cell_type": "code",
   "execution_count": 20,
   "metadata": {
    "id": "4Xvo--GIsMi3"
   },
   "outputs": [
    {
     "name": "stdout",
     "output_type": "stream",
     "text": [
      "Best model saved as:  biLSTM/bi-dir_lstm_1_batch_size_64.pth\n"
     ]
    }
   ],
   "source": [
    "print(\"Best model saved as: \", PATH)\n",
    "\n",
    "# save train, val, test\n",
    "torch.save(trainset, 'trainset.pt')\n",
    "torch.save(validset, 'validset.pt')\n",
    "torch.save(testset, 'testset.pt')"
   ]
  },
  {
   "cell_type": "markdown",
   "metadata": {
    "id": "W-UQbfCrsMi3"
   },
   "source": [
    "---"
   ]
  },
  {
   "cell_type": "markdown",
   "metadata": {
    "id": "uLD6dur1sMi3"
   },
   "source": [
    "# 3. Analysis"
   ]
  },
  {
   "cell_type": "markdown",
   "metadata": {
    "id": "1QRKxLsPsMi3"
   },
   "source": [
    "## 3.a. Summary: Main Results\n",
    "\n",
    "Summarize your approach and results here"
   ]
  },
  {
   "cell_type": "markdown",
   "metadata": {
    "collapsed": true,
    "id": "dNKqJAoasMi4"
   },
   "source": [
    "## 3.b. Discussion\n",
    "\n",
    "Enter your final summary here.\n",
    "\n",
    "For instance, you can address:\n",
    "- What was the performance you obtained with the simplest approach?\n",
    "- Which vectorized input representations helped more than the others?\n",
    "- Which malwares are difficult to detect and why?\n",
    "- Which approach do you recommend to perform malware classification?"
   ]
  },
  {
   "cell_type": "code",
   "execution_count": null,
   "metadata": {
    "id": "xYGR9ID1sMi4"
   },
   "outputs": [],
   "source": []
  }
 ],
 "metadata": {
  "colab": {
   "collapsed_sections": [
    "1QRKxLsPsMi3",
    "dNKqJAoasMi4"
   ],
   "name": "2021_11_26_Task_03.ipynb.ipynb",
   "provenance": []
  },
  "kernelspec": {
   "display_name": "Python 3",
   "language": "python",
   "name": "python3"
  },
  "language_info": {
   "codemirror_mode": {
    "name": "ipython",
    "version": 3
   },
   "file_extension": ".py",
   "mimetype": "text/x-python",
   "name": "python",
   "nbconvert_exporter": "python",
   "pygments_lexer": "ipython3",
   "version": "3.8.5"
  }
 },
 "nbformat": 4,
 "nbformat_minor": 1
}
