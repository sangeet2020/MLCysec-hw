{
 "cells": [
  {
   "cell_type": "markdown",
   "metadata": {
    "id": "4NzyqehHjUlG"
   },
   "source": [
    "# ML in Cybersecurity: Task I\n",
    "\n",
    "## Team\n",
    "  * **Team name**:  *ChickenEgg*\n",
    "  * **Members**:  *Sangeet Sagar (sasa00001@stud.uni-saarland.de), Abhijith Srinivas Bidaralli (abbi00001@stud.uni-saarland.de), Abhinav Bhatt (abbh00001@stud.uni-saarland.de)*\n",
    "\n",
    "\n",
    "## Logistics\n",
    "  * **Due date**: 11th November 2021, 23:59:59 (email the completed notebook including outputs to mlcysec_ws2022_staff@lists.cispa.saarland)\n",
    "  * Please include your team name and the task number in the file name and the email subject\n",
    "  * Complete this in **teams of 3**\n",
    "  * Feel free to use the forum or the mailing list to find group members.\n",
    "  \n",
    "## Timeline\n",
    "  * 29-Oct-2021: Task 1 hand-out\n",
    "  * **11-Nov-2021** (23:59:59): Email the completed notebook including outputs to mlcysec_ws2022_staff@lists.cispa.saarland\n",
    "  * 12-Nov-2021: Task 1 discussion and summary\n",
    "  \n",
    "  \n",
    "## About this task\n",
    "In this task, you'll implement a digit classifier, based on the popular [MNIST](http://yann.lecun.com/exdb/mnist/) dataset. The dataset is based on a seminal [paper](http://yann.lecun.com/exdb/publis/pdf/lecun-01a.pdf), which immensely popularized (convolutional) neural networks. This is a great starting point for ML research and this dataset/model has been a stepping stone numerous other tasks such as [GANs](https://papers.nips.cc/paper/5423-generative-adversarial-nets.pdf), [Adversarial Perturbations](https://arxiv.org/abs/1412.6572) and so many more!\n",
    "\n",
    "This dataset consists of data $\\mathcal{D} = \\{x_i, y_i\\}_{i=1}^N$, where $x_i$ is a 28x28 pixel grayscale image and $y_i$ is a scalar represeting digits between 0-9. The notebook will guide you to load this data, implement classifiers $\\hat{y_i} = f_w(x_i)$  and analyze results. By doing so, you'll have a ML model that works on real data!\n",
    "\n",
    "To put things into context, have a look at Slide 21 in the [second](https://cms.cispa.saarland/mlcysec19/dl/4/2019-10-24-ml.pdf) lecture. Within this framework, the following blocks of this task are fixed:\n",
    "  * *Real-world problem*: Digit classification\n",
    "  * *Performance metric*: Mean accuracy i.e., $ \\frac{1}{N} \\sum_{i=1}^N \\mathbb{1}[\\hat{y_i} = y_i]$, where $\\mathbb{1}[\\hat{y_i} = y_i]$ is 1 if your model predicted the right digit for the $i$-th digit and 0 otherwise.\n",
    "  * *Data*: The MNIST dataset\n",
    "\n",
    "You'll make the the following design-choices:\n",
    " * *Choice of Model*: A model family (Non-parametric methods, Linear classifiers, Neural Networks, etc.)\n",
    " * *ML Model*: Specific model (e.g., SVM with a polynomial kernel)\n",
    " * *Loss/Risk*\n",
    " * *Optimization*\n",
    "\n",
    "\n",
    "## A Note on Grading\n",
    "The grading for this task will depend on:\n",
    " 1. Functional digit classifier\n",
    "   * Following a well-defined ML pipeline\n",
    "   * Developing 3 classification models (keep them diverse and ideally of increasing complexity)\n",
    "   * Obtaining reasonable accuracies (>80%) on a held-out test set\n",
    " 1. Analysis\n",
    "   * Which methods work better than the rest and why?\n",
    "   * Which hyper-parameters and design-choices were important in each of your methods?\n",
    "   * Quantifying influence of these hyper-parameters on loss and/or validation accuracies\n",
    "   * Trade-offs between methods, hyper-parameters, design-choices\n",
    "    * Anything else you find interesting (this part is open-ended)\n",
    "  \n",
    " A note on (1.): \n",
    "  * Choose your models that aids good insights. We require at least one non-Neural Network (e.g., SVM, KNN) and one Neural Network model (e.g., MLP, CNN).\n",
    "  * We definitely don't expect all three models to achieve >99% test accuracies!\n",
    "\n",
    "## Grading Details\n",
    " * 5 points for loading and visualization \n",
    " * 25x3 points for models. Per model:\n",
    "   * 4 points for written description \n",
    "   * 7 points for implementation\n",
    "   * 7 points for evaluation\n",
    "   * 7 points for summary\n",
    " * 15 points for final summary (Section 3)\n",
    " * 5 points for clean code\n",
    " \n",
    "## Filling-in the Notebook\n",
    "You'll be submitting this very notebook that is filled-in with your code and analysis. Make sure you submit one that has been previously executed in-order. (So that results/graphs are already visible upon opening it). \n",
    "\n",
    "The notebook you submit **should compile** (or should be self-contained and sufficiently commented). Check tutorial 1 on how to set up the Python3 environment.\n",
    "\n",
    "\n",
    "**The notebook is your task report. So, to make the report readable, omit code for techniques/models/things that did not work. You can use final summary to provide report about these codes.**\n",
    "\n",
    "It is extremely important that you **do not** re-order the existing sections. Apart from that, the code blocks that you need to fill-in are given by:\n",
    "```\n",
    "#\n",
    "#\n",
    "# ------- Your Code -------\n",
    "#\n",
    "#\n",
    "```\n",
    "Feel free to break this into multiple-cells. It's even better if you interleave explanations and code-blocks so that the entire notebook forms a readable \"story\".\n",
    "\n",
    "\n",
    "## Code of Honor\n",
    "We encourage discussing ideas and concepts with other students to help you learn and better understand the course content. However, the work you submit and present **must be original** and demonstrate your effort in solving the presented problems. **We will not tolerate** blatantly using existing solutions (such as from the internet), improper collaboration (e.g., sharing code or experimental data between groups) and plagiarism. If the honor code is not met, no points will be awarded.\n",
    "\n",
    " \n",
    " ## Versions\n",
    "  * v2.0: Added pytorch\n",
    "  * v1.1: Added Code of Honor\n",
    "  * v1.0: Initial notebook\n",
    "  \n",
    "  ---"
   ]
  },
  {
   "cell_type": "code",
   "execution_count": 1,
   "metadata": {
    "id": "3ewNwfFvbFaR"
   },
   "outputs": [],
   "source": [
    "import time \n",
    " \n",
    "import numpy as np \n",
    "import matplotlib.pyplot as plt \n",
    "\n",
    "import json \n",
    "import time \n",
    "import pickle \n",
    "import sys \n",
    "import csv \n",
    "import os \n",
    "import os.path as osp \n",
    "import shutil \n",
    "\n",
    "import pandas as pd\n",
    "\n",
    "from IPython.display import display, HTML\n",
    " \n",
    "%matplotlib inline \n",
    "plt.rcParams['figure.figsize'] = (10.0, 8.0) # set default size of plots \n",
    "plt.rcParams['image.interpolation'] = 'nearest' \n",
    "plt.rcParams['image.cmap'] = 'gray' \n",
    " \n",
    "# for auto-reloading external modules \n",
    "# see http://stackoverflow.com/questions/1907993/autoreload-of-modules-in-ipython \n",
    "%load_ext autoreload\n",
    "%autoreload 2"
   ]
  },
  {
   "cell_type": "code",
   "execution_count": 2,
   "metadata": {
    "id": "640GrzbOevr0"
   },
   "outputs": [
    {
     "data": {
      "text/plain": [
       "<torch._C.Generator at 0x7f56a131c8b0>"
      ]
     },
     "execution_count": 2,
     "metadata": {},
     "output_type": "execute_result"
    }
   ],
   "source": [
    "# Load other libraries here.\n",
    "# Keep it minimal! We should be easily able to reproduce your code.\n",
    "\n",
    "# We only support sklearn and pytorch.\n",
    "\n",
    "# Please set random seed to have reproduceable results, e.g. torch.manual_seed(123)\n",
    "import os\n",
    "import math\n",
    "\n",
    "import torch\n",
    "import torchvision\n",
    "import torchvision.transforms as transforms\n",
    "import torch.optim as optim\n",
    "import torch.nn.functional as F\n",
    "from torch.utils.data import Dataset, DataLoader\n",
    "import torch.nn as nn\n",
    "\n",
    "from sklearn.neighbors import KNeighborsClassifier\n",
    "from sklearn.pipeline import Pipeline\n",
    "from sklearn.model_selection import GridSearchCV, PredefinedSplit\n",
    "from sklearn.preprocessing import StandardScaler\n",
    "from sklearn.metrics import classification_report, accuracy_score\n",
    "from sklearn.svm import SVC\n",
    "from joblib import dump, load\n",
    "\n",
    "torch.manual_seed(123)"
   ]
  },
  {
   "cell_type": "markdown",
   "metadata": {
    "id": "nxi-lLD0mKHD"
   },
   "source": [
    "Helpers\n",
    "\n",
    "In case you choose to have some methods you plan to reuse during the notebook, define them here. This will avoid clutter and keep rest of the notebook succinct."
   ]
  },
  {
   "cell_type": "code",
   "execution_count": 3,
   "metadata": {
    "id": "VBbigqdEmKd8"
   },
   "outputs": [],
   "source": [
    "def identity_func(foo):\n",
    "    return foo\n",
    "\n",
    "\n",
    "#\n",
    "#\n",
    "# ------- Your Code -------\n",
    "#\n",
    "#\n",
    "\n",
    "def sort_list(a, b, c):\n",
    "    \"\"\"\n",
    "    Sort two list and use the same order to sort third list.\n",
    "    \"\"\"\n",
    "    dic_train = {k: v for k, v in zip(a, b)}\n",
    "    dic_train = {k: v for k, v in sorted(dic_train.items(), key=lambda item: item[1])}\n",
    "    dic_test = {k: v for k, v in zip(a, c)}\n",
    "    for k,v in dic_train.items():\n",
    "        dic_train[k] = [v, dic_test[k]]\n",
    "    a = list(dic_train.keys())\n",
    "    train_val = list(dic_train.values())\n",
    "    train = [item[0] for item in train_val]\n",
    "    val = [item[1] for item in train_val]\n",
    "    return a, train, val\n",
    "\n",
    "\n",
    "def create_predefined_splits(len_train, len_test):\n",
    "    \"\"\" Predefined split\n",
    "    \"\"\"\n",
    "    # The indices which have the value -1 will be kept in train.\n",
    "    train_indices = np.full((len_train,), -1)\n",
    "\n",
    "    # The indices which have zero or positive values, will be kept in test\n",
    "    test_indices = np.full((len_test,), 0)\n",
    "    test_fold = np.append(train_indices, test_indices)\n",
    "\n",
    "    return PredefinedSplit(test_fold)\n",
    "\n",
    "\n",
    "# You can use this function to flatten 2D inputs\n",
    "def flatten_input_pixels(x_input):\n",
    "    result = []\n",
    "    for i in range(len(x_input)):\n",
    "        result.append(x_input[i].flatten())\n",
    "    return np.array(result, np.uint8)  # [n_samples, n_features]\n",
    "\n",
    "\n",
    "# You can use this function to plot the accuracy of the models with different parametes\n",
    "def plot_scores(x, y, title = \"Title\", x_label = \"X\", y_label = \"Y\"):\n",
    "    fig, ax = plt.subplots(nrows=1,ncols=1)\n",
    "    \n",
    "    ax.plot(x, y)\n",
    "    ax.set_xticks(x)\n",
    "    ax.set_title(title)\n",
    "    ax.set_xlabel(x_label)\n",
    "    ax.set_ylabel(y_label)\n",
    "    ax.set_ylim(0.6, 1.0)\n",
    "\n",
    "# You can use this function to visualize input images and the predictions of your models\n",
    "# \"y_pred\" is output of your model \n",
    "# \"n_val\" is number of instances in test or validation sets\n",
    "def vis_predictions(x_eval, y_eval, y_pred, n_val):\n",
    "    rows, cols = 4, 3\n",
    "\n",
    "    fig,ax = plt.subplots(nrows = rows, ncols = cols)\n",
    "\n",
    "    ids = np.random.randint(0,n_val,rows*cols)\n",
    "    for i in range(cols):   \n",
    "        for j in range(rows):\n",
    "            ax[j][i].set_title('True label: {0}, Predicted label: {1}'.format(y_eval[ids[(i*rows)+j]], \n",
    "                                                                              y_pred[ids[(i*rows)+j]]))\n",
    "            two_d = (np.reshape(x_eval[ids[(i*rows)+j]], (28, 28))).astype(np.uint8)\n",
    "            ax[j][i].imshow(two_d)\n",
    "            ax[j][i].axes.get_xaxis().set_visible(False)\n",
    "            ax[j][i].axes.get_yaxis().set_visible(False)\n",
    "\n",
    "\n",
    "    plt.tight_layout()  "
   ]
  },
  {
   "cell_type": "markdown",
   "metadata": {
    "id": "n1pcmKkyjT7y"
   },
   "source": [
    "# 1. Loading and Visualizing data (5 points)\n",
    "\n",
    "In this section, you'll need to prepare the MNIST data for the experiments you'll be conducting for the remainder of the notebook."
   ]
  },
  {
   "cell_type": "markdown",
   "metadata": {
    "id": "AIU9Q762fmoT"
   },
   "source": [
    "## 1.1. Load Data\n",
    "\n",
    "Here you'll load the MNIST data into memory. The end-goal is to two have the following variables:\n",
    "  * `x_trainval`, `x_test`: of shape $N \\times d_1 \\times d_2 \\dots$ (e.g., $N \\times 784$. 784 since you could flatten each 28x28 pixel image into a single vector)\n",
    "  * `y_trainval`, `y_test`: of shape $N \\times K$ (K = 1 or 10 depending on how you plan to represent the ground-truth digit annotation)\n",
    "\n",
    "You can either do this by:\n",
    "  1. Downloading the MNIST dataset, unpacking and preparing it yourself to have fine-grained control\n",
    "  1. Using high-level existing functions, such as the one provided by  [`torchvision.datasets`](https://pytorch.org/docs/stable/torchvision/datasets.html#mnist).\n",
    "  \n",
    "  \n",
    "  In either case, it is important that you have disjoint train, val, and test splits!"
   ]
  },
  {
   "cell_type": "code",
   "execution_count": 4,
   "metadata": {
    "id": "7kYacpo_jvao"
   },
   "outputs": [
    {
     "name": "stdout",
     "output_type": "stream",
     "text": [
      "x_train.shape = torch.Size([54000, 28, 28]),  y_train.shape = torch.Size([54000])\n",
      "x_val.shape = torch.Size([6000, 28, 28]),  y_val.shape = torch.Size([6000])\n",
      "x_test.shape = torch.Size([10000, 28, 28]),  y_test.shape = torch.Size([10000])\n"
     ]
    }
   ],
   "source": [
    "# Loading MNIST dataset using torchvision.datasets\n",
    "train_set = torchvision.datasets.MNIST(root='.', train=True, transform=None, download=True)\n",
    "test_set = torchvision.datasets.MNIST(root='.', train=False, transform=None, download=True)\n",
    "\n",
    "# Separate out valiation data from train set to be used in later parts\n",
    "val_frac = 0.1\n",
    "k = int(len(train_set.targets) * (1 - val_frac))\n",
    "x_trainval_3d = train_set.data\n",
    "y_trainval = train_set.targets\n",
    "\n",
    "# Train\n",
    "x_train_3d = torch.tensor(x_trainval_3d.tolist()[:k])\n",
    "y_train = torch.tensor(y_trainval.tolist()[:k])\n",
    "\n",
    "# Validation\n",
    "x_val_3d = torch.tensor(x_trainval_3d.tolist()[k:])\n",
    "y_val = torch.tensor(y_trainval.tolist()[k:])\n",
    "\n",
    "# Test\n",
    "x_test_3d = test_set.data\n",
    "y_test = test_set.targets\n",
    "\n",
    "print('x_train.shape = {},  y_train.shape = {}'.format(x_train_3d.shape, y_train.shape))\n",
    "print('x_val.shape = {},  y_val.shape = {}'.format(x_val_3d.shape, y_val.shape))\n",
    "print('x_test.shape = {},  y_test.shape = {}'.format(x_test_3d.shape, y_test.shape))\n",
    "\n",
    "\n",
    "# Feel free to have multiple variables in case your models are designed for different formats\n",
    "# For instance, in case your model requires Nx28x28 inputs, declare x_trainval_3d, etc.\n",
    "\n",
    "# Tip: Set this to a tiny number (such 0.05) to aid debugging\n",
    "# After all, you do not want to train/evaluate on the entire dataset to find bugs\n",
    "DEBUG_FRAC = 1.0\n",
    "x_trainval_3d = x_trainval_3d[:int(len(x_trainval_3d)*DEBUG_FRAC)]\n",
    "y_trainval = y_trainval[:int(len(y_trainval)*DEBUG_FRAC)]\n"
   ]
  },
  {
   "cell_type": "markdown",
   "metadata": {
    "id": "eA6_cejNjzYw"
   },
   "source": [
    "#### 1.2. Visualize Data\n",
    "\n",
    "To get the hang of your data you'll be training a digit classifier on, visualize it.\n",
    "\n",
    "Examples of ways to visualize it:\n",
    "  * Given a digit, display few randomly sampled images for this digit (the bare minimum)\n",
    "  * Visualize as a grid (e.g., Slide 4, [Lecture 2](https://cms.cispa.saarland/mlcysec19/dl/4/2019-10-24-ml.pdf)) using a combination of `plt.imshow` and `plt.subplots`\n",
    "  \n",
    "It's up to you to decide how you want to do this. The end-goal is for you to potentially give a trailer of the dataset to someone who hasn't seen it before."
   ]
  },
  {
   "cell_type": "code",
   "execution_count": 5,
   "metadata": {
    "id": "dISIbt4plyoD"
   },
   "outputs": [
    {
     "data": {
      "image/png": "[encoded data removed]",
      "text/plain": [
       "<Figure size 720x576 with 100 Axes>"
      ]
     },
     "metadata": {},
     "output_type": "display_data"
    }
   ],
   "source": [
    "# Visualize 10 examples of 10 classes. You can extend the following code:\n",
    "rows, cols = 10, 10\n",
    "fig,ax = plt.subplots(nrows = rows, ncols = cols)\n",
    "\n",
    "for row in range(rows):\n",
    "    idx = y_trainval==row\n",
    "    y_sample = y_trainval[idx]\n",
    "    x_sample = x_trainval_3d[idx]\n",
    "    for col in range(cols):\n",
    "        ax[row, col].imshow(x_sample[col], cmap='gray')\n",
    "        ax[row, col].set_xticks([]), ax[row, col].set_yticks([])\n",
    "#         ax[row, col].set_title(\"lab: {}\".format(y_sample[col]))\n",
    "        \n",
    "\n",
    "fig.tight_layout()\n",
    "plt.savefig('fig1.pdf')   # Save the figures\n",
    "plt.show()   # These should be some visualization of data at the end of this section\n",
    "\n",
    "# You can see an output example in the follow:"
   ]
  },
  {
   "cell_type": "markdown",
   "metadata": {
    "id": "b8sAT53jmJ8_"
   },
   "source": [
    "# 2. Digit classifiers\n",
    "\n",
    "In this section, you'll begin developing models to perform digit classification.\n",
    "\n",
    "Each model needs to be structured like so:\n",
    "  1. Give a brief reason which model you are going to train and why you choose it\n",
    "  1. Define hyper-parameters for model and optimization procedure\n",
    "  1. Define your model\n",
    "  1. Define optimization method and fit model to data\n",
    "  1. Summarize your findings\n",
    "\n",
    "\n",
    "\n",
    "\n",
    "\n"
   ]
  },
  {
   "cell_type": "markdown",
   "metadata": {
    "id": "xkF-7eFnpWoe"
   },
   "source": [
    "## 2.1: Model [M1]: *fill-this-in* (25 points)\n",
    "\n",
    "We use $k-NN as its one of the most basic non-linear classfier used for supervised learning. We chose it for the reason that it is faster to train and the test performance is not affected much when trained on a part of the data. It leverages the degree of similarity between a test sample and training sample. In simple, the label of a test sample is the one for which it shows closest similarity to the training sample.\n",
    "\n",
    "$k$-NN (k-nearest neighbour) is an example of a non-parametric machine learning algorithm because its parameters are not fixed. That is to say; the parameters vary with the size of the data. In a sense, these models can increase in capacity if they have more training data. <br>\n",
    "\n",
    "$k$ in $k$-NN stands for the $k$ nearest neighbours that should be considered for voting when determining the class of a test sample. Let us see the working of a k-NN algorithm for classification. <br>\n",
    "\n",
    "1. The algorithm begins with storing each training sample and its corresponding label. \n",
    "2. Explicitly define the value of $k$, i.e. the total number of closest neighbours, to check for majority voting process. \n",
    "3. Compute the distance between each training and test sample using any distance metrics like `euclidean`, `manhattan` or `chebyshev`.\n",
    "4. Sort the distance and pick the target labels of top $k$ training samples. These training samples are the ones with the closest distance (or perhaps least distance) to the test sample.\n",
    "5. Perform voting for each target label, and the one with the highest frequency is assigned to the test sample.\n",
    "6. Repeat this process for test samples in the data."
   ]
  },
  {
   "cell_type": "markdown",
   "metadata": {
    "id": "lVyT9Oddp3GB"
   },
   "source": [
    "### 2.1.1: Hyper-parameters\n",
    "\n",
    "Define hyper-parameters for your model here.\n",
    "\n",
    "For the given dataset we have use multiple hyperparameters like number of neighbours, weights and distance metric. We will perform a grid search to determine the best hyperparameters for the dataset."
   ]
  },
  {
   "cell_type": "code",
   "execution_count": 6,
   "metadata": {
    "id": "yuHt4T7Vp5NC"
   },
   "outputs": [],
   "source": [
    "param_grid = {\n",
    "    \"knn__n_neighbors\": [3, 5, 7, 9],\n",
    "    \"knn__weights\": ['uniform', 'distance'],\n",
    "    \"knn__algorithm\": ['auto'],\n",
    "    \"knn__metric\": ['euclidean','manhattan','chebyshev']\n",
    "}"
   ]
  },
  {
   "cell_type": "markdown",
   "metadata": {
    "id": "-ZhVgrFM01FF"
   },
   "source": [
    "### 2.1.2: Data Preprocessing\n"
   ]
  },
  {
   "cell_type": "code",
   "execution_count": 7,
   "metadata": {
    "id": "vzJ1X7ek01FF"
   },
   "outputs": [
    {
     "name": "stdout",
     "output_type": "stream",
     "text": [
      "x_train_val.shape = (16800, 784),  y_train_val.shape = (16800,)\n"
     ]
    }
   ],
   "source": [
    "# Flatten: [54000, 28, 28] into [54000, 784], normalization to be done in the pipeline.\n",
    "x_train_np = torch.flatten(x_train_3d, start_dim=1, end_dim=2).numpy()\n",
    "x_val_np = torch.flatten(x_val_3d, start_dim=1, end_dim=2).numpy()\n",
    "x_test_np = torch.flatten(x_test_3d, start_dim=1, end_dim=2).numpy()\n",
    "\n",
    "y_train_np = y_train.numpy()\n",
    "y_val_np = y_val.numpy()\n",
    "y_test_np = y_test.numpy()\n",
    "\n",
    "# Use only a part of trainset~ 20% for GridSearch parameter estimation.\n",
    "k = int(len(y_train_np) * 0.2)\n",
    "# Use pre-defined split to explicitly specity train and test in GridSearchCV\n",
    "ps = create_predefined_splits(len(x_train_np[:k]), len(x_val_np))\n",
    "x_train_val = np.append(x_train_np[:k], x_val_np, axis=0)\n",
    "y_train_val = np.append(y_train_np[:k], y_val_np, axis=0)\n",
    "print('x_train_val.shape = {},  y_train_val.shape = {}'.format(x_train_val.shape, y_train_val.shape))"
   ]
  },
  {
   "cell_type": "markdown",
   "metadata": {
    "id": "pkuCgPatp59X"
   },
   "source": [
    "### 2.1.3: Model\n",
    "\n",
    "Define your model here"
   ]
  },
  {
   "cell_type": "code",
   "execution_count": 8,
   "metadata": {
    "id": "3qV3SuPAp6XF"
   },
   "outputs": [
    {
     "name": "stdout",
     "output_type": "stream",
     "text": [
      "GridSearchCV(cv=PredefinedSplit(test_fold=array([-1, -1, ...,  0,  0])),\n",
      "             estimator=Pipeline(steps=[('scale', StandardScaler()),\n",
      "                                       ('knn', KNeighborsClassifier())]),\n",
      "             n_jobs=10,\n",
      "             param_grid={'knn__algorithm': ['auto'],\n",
      "                         'knn__metric': ['euclidean', 'manhattan', 'chebyshev'],\n",
      "                         'knn__n_neighbors': [3, 5, 7, 9],\n",
      "                         'knn__weights': ['uniform', 'distance']},\n",
      "             return_train_score=True, verbose=2)\n"
     ]
    }
   ],
   "source": [
    "knn = KNeighborsClassifier()\n",
    "pipe = Pipeline(steps=[('scale', StandardScaler()), (\"knn\", knn)])\n",
    "search = GridSearchCV(pipe, param_grid, n_jobs=10, verbose=2, cv=ps, return_train_score=True)\n",
    "print(search)"
   ]
  },
  {
   "cell_type": "markdown",
   "metadata": {
    "id": "SxE6d6OXp6sU"
   },
   "source": [
    "### 2.1.4: Fit Model\n",
    "\n",
    "Define optimization procedure and fit your model to the data"
   ]
  },
  {
   "cell_type": "code",
   "execution_count": 9,
   "metadata": {},
   "outputs": [
    {
     "name": "stdout",
     "output_type": "stream",
     "text": [
      "Fitting 1 folds for each of 24 candidates, totalling 24 fits\n",
      "Model opimization time: 620.810 s\n"
     ]
    }
   ],
   "source": [
    "optim_time = time.time()\n",
    "_ = search.fit(x_train_val, y_train_val)\n",
    "optim_time_end = time.time()\n",
    "print(f\"Model opimization time: {optim_time_end-optim_time:.3f} s\")"
   ]
  },
  {
   "cell_type": "markdown",
   "metadata": {
    "id": "QaJv_d_Dp7OM"
   },
   "source": [
    "### 2.1.5: Evaluation\n",
    "\n",
    "Evaluate your model.\n",
    "  * Evaluate models with different parameters \n",
    "  * Plot the score (accuracy) for each model using \"plot_scores\" function\n",
    "  * Report score for the best model\n",
    "  * Use \"vis_predictions\" function to visualize few examples of test/validation set with the corresponding predictions\n"
   ]
  },
  {
   "cell_type": "code",
   "execution_count": 11,
   "metadata": {
    "scrolled": false
   },
   "outputs": [
    {
     "data": {
      "image/png": "[encoded data removed]",
      "text/plain": [
       "<Figure size 648x360 with 1 Axes>"
      ]
     },
     "metadata": {
      "needs_background": "light"
     },
     "output_type": "display_data"
    }
   ],
   "source": [
    "# Evaluate models with different parameters and\n",
    "# plot score (accuracy) for each model (not using the pre-defined function).\n",
    "\n",
    "params = []\n",
    "for item in search.cv_results_['params']:\n",
    "    params.append(str(item['knn__n_neighbors']) + \" \" + item['knn__metric'] + \" \" + item['knn__weights'])\n",
    "\n",
    "mean_val_scores = [item for item in search.cv_results_['mean_test_score']]\n",
    "mean_train_scores = [item for item in search.cv_results_['mean_train_score']]\n",
    "params, mean_train_scores, mean_val_scores = sort_list(params, mean_train_scores, mean_val_scores)\n",
    "\n",
    "fig = plt.figure(figsize=(9,5))\n",
    "plt.plot(mean_train_scores, label=\"train acc\")\n",
    "plt.plot(mean_val_scores, label=\"valid. acc\")\n",
    "plt.legend()\n",
    "plt.grid()\n",
    "plt.ylabel('Accuracy')\n",
    "_ = plt.xticks(range(len(params)), params, rotation ='90')"
   ]
  },
  {
   "cell_type": "code",
   "execution_count": 12,
   "metadata": {},
   "outputs": [
    {
     "name": "stdout",
     "output_type": "stream",
     "text": [
      "Best parameter (CV score=0.949):\n",
      "{'knn__algorithm': 'auto', 'knn__metric': 'manhattan', 'knn__n_neighbors': 5, 'knn__weights': 'distance'}\n"
     ]
    }
   ],
   "source": [
    "# Here report the score for the best model\n",
    "print(\"Best parameter (CV score=%0.3f):\" % search.best_score_)\n",
    "print(search.best_params_)"
   ]
  },
  {
   "cell_type": "code",
   "execution_count": 13,
   "metadata": {},
   "outputs": [
    {
     "name": "stdout",
     "output_type": "stream",
     "text": [
      "Pipeline(steps=[('scale', StandardScaler()),\n",
      "                ('knn',\n",
      "                 KNeighborsClassifier(metric='manhattan', weights='distance'))])\n"
     ]
    }
   ],
   "source": [
    "print(search.best_estimator_)"
   ]
  },
  {
   "cell_type": "markdown",
   "metadata": {},
   "source": [
    "# ================== ALERT ======================\n",
    "If you wish to observe training error (on the entire train set), uncomment line 7-11. This will take around 20 mins only to tell you that the trainin accuracy is 100%."
   ]
  },
  {
   "cell_type": "code",
   "execution_count": 14,
   "metadata": {},
   "outputs": [
    {
     "name": "stdout",
     "output_type": "stream",
     "text": [
      "Fitting time on validation data: 129.893 s\n",
      "Val acc: 97.000%\n"
     ]
    }
   ],
   "source": [
    "## Training on entire train set.\n",
    "\n",
    "# best_estimator_ will by default use the same pipe as above with best parameters.\n",
    "pipe = search.best_estimator_\n",
    "new_knn = pipe.fit(x_train_np, y_train_np)\n",
    "\n",
    "# start = time.time()\n",
    "# train_score = new_knn.score(x_train_np, y_train_np)\n",
    "# end = time.time()\n",
    "# print(f\"Train acc: {train_score*100:.3f}%\")\n",
    "# print(f\"Fitting time on train data: {end-start:.3f} s\")\n",
    "\n",
    "val_time = time.time()\n",
    "val_score = new_knn.score(x_val_np, y_val_np)\n",
    "val_time_end = time.time()\n",
    "print(f\"Fitting time on validation data: {val_time_end-val_time:.3f} s\")\n",
    "print(f\"Val acc: {val_score*100:.3f}%\")"
   ]
  },
  {
   "cell_type": "code",
   "execution_count": 15,
   "metadata": {},
   "outputs": [
    {
     "name": "stdout",
     "output_type": "stream",
     "text": [
      "Evaluating on test data\n",
      "Test acc: 95.750%\n",
      "              precision    recall  f1-score   support\n",
      "\n",
      "           0       0.96      0.99      0.98       980\n",
      "           1       0.93      1.00      0.96      1135\n",
      "           2       0.98      0.94      0.96      1032\n",
      "           3       0.95      0.96      0.95      1010\n",
      "           4       0.97      0.95      0.96       982\n",
      "           5       0.95      0.95      0.95       892\n",
      "           6       0.98      0.98      0.98       958\n",
      "           7       0.94      0.95      0.94      1028\n",
      "           8       0.98      0.91      0.94       974\n",
      "           9       0.95      0.94      0.94      1009\n",
      "\n",
      "    accuracy                           0.96     10000\n",
      "   macro avg       0.96      0.96      0.96     10000\n",
      "weighted avg       0.96      0.96      0.96     10000\n",
      "\n",
      "Fitting time on test data: 214.509 s\n"
     ]
    }
   ],
   "source": [
    "# Predict target labels for test set and generate scores, classification report.\n",
    "print(\"Evaluating on test data\")\n",
    "start = time.time()\n",
    "y_pred = new_knn.predict(x_test_np)\n",
    "end = time.time()\n",
    "print(f\"Test acc: {accuracy_score(y_test_np, y_pred)*100:.3f}%\")\n",
    "print(classification_report(y_test_np, y_pred))\n",
    "print(f\"Fitting time on test data: {end-start:.3f} s\")"
   ]
  },
  {
   "cell_type": "code",
   "execution_count": 16,
   "metadata": {},
   "outputs": [
    {
     "data": {
      "image/png": "[encoded data removed]",
      "text/plain": [
       "<Figure size 720x576 with 12 Axes>"
      ]
     },
     "metadata": {
      "needs_background": "light"
     },
     "output_type": "display_data"
    }
   ],
   "source": [
    "# Visualize the predictions\n",
    "incorr_pred = [i for i in range(len(y_pred)) if y_pred[i] != y_test_np[i]]\n",
    "x_test_incorr = [x_test_np[i] for i in incorr_pred]\n",
    "y_test_incorr = [y_test_np[i] for i in incorr_pred]\n",
    "y_pred_incorr = [y_pred[i] for i in incorr_pred]\n",
    "\n",
    "vis_predictions(x_test_incorr, y_test_incorr, y_pred_incorr, len(y_pred_incorr))"
   ]
  },
  {
   "cell_type": "markdown",
   "metadata": {
    "id": "DEQrdyLHsUIu"
   },
   "source": [
    "### 2.1.6: Summary\n",
    "   \n",
    "For $k$-NN, we focused on a few parameters like number nearest neighbours $k$, weight function used in prediction, and distance metric as they are observed to have maximum impact on the performance. We decided to use only odd values of $k$ to avoid any tieing when doing the majority voting. These parameters were computed based on $20\\%$ of the training data (to avoid excessing time just for model optimization) and validated on a predefined validation set.\n",
    "\n",
    "Analyzing the plot of training and validation accuracy, we infer that `manhattan` is a better distance metric `euclidean` or `chebyshev`. Taking too many nearest neighbour $\\geq 7$ also doesn't do any good on the validation data. Visually it can be observed that $k=3$ and $k=5$ seemed to perform equally good both on the training data (training mean score ~99%) and the validation data (validation mean score ~ 95%).\n",
    "Furthermore, the best parameters (depending on the mean train score and test score) were found to be for $k=5$ and distance metric when set to `distance`.\n",
    "\n",
    "Total run-time ~ 15 mins\n",
    "- Model optimization: 10 mins\n",
    "- Fit on validation data: 2 mins\n",
    "- Test performance: 3.5 mins\n",
    "\n",
    "We found the validation accuracy to be 97%, and the test accuracy was 95.5%. We observed that $k$-NN could recall true label of  digits 1 and 0 for almost ~100% of the time (checking the recall value). Digit 8 is observed to have the least recall value. <br>\n",
    "That being said, $k$-NN algorithm is not really the best algorithm for classification task like MNIST. It doesn't really learn anything; instead, it computes target label based on a mere similarity measure. It also has no procedure to correct and learn from mistakes. Nevertheless, it is a very suitable algorithm to get quickly started and get accurate results."
   ]
  },
  {
   "cell_type": "markdown",
   "metadata": {
    "id": "Fcq52WUUs2Mm"
   },
   "source": [
    "# 2.2: Model [M2]: *fill-this-in* (25 points)\n",
    "\n",
    "We use Support Vector Machines (SVMs) as the second classifier. SVMs are linear classifiers that can be used to separate both linear as well as non-linear data. SVMs come under the category of maximum margin classifiers as they aim to maximize the margin (distance) between the points belonging to different classes and the decision boundary. This margin also provides robustness to SVMs as small disturbances to a data point will not change the point's class due to margin. For non-linear data SVMs apply the kernel-trick, which means the hyperplane is constructed similar to one that would be constructed if the points were in a higher-dimensional space, and the kernel trick ensures that we do not have to actually transform the points to the higher dimensional space, but can obtain similar results to as if we the points were in higher dimensions. Although the computational complexity of SVMs is high, for cases where the data points are not too much, they work very well. We choose SVM in this case because they are powerful parametric classifiers and they were the most used classifiers in pre deep learning era. Different kernels would perform different transformations of the data, and it would be great to see how they and their associated hyperparameters affect our results. We also wanted to see how a linear classifier performs before trying deep learning-based approaches. The primal form for the optimization objective of SVM is given by-:\n",
    "\n",
    "\\begin{eqnarray*}\n",
    "\\min_{w,b,\\xi} && \\frac{1}{2} w^T w \n",
    "+ C \\sum_{i=1}^n \\xi_i  \\\\\n",
    "&& \\textrm{subject to} \\\\\n",
    "&& y_i (w^T \\phi(x_i) + b) \\geq 1 - \\xi_i, \n",
    "\\nonumber \\\\\n",
    "&& \\xi_i \\geq 0, i = 1, \\ldots, n \n",
    "\\nonumber \n",
    "\\end{eqnarray*}\n",
    "\n",
    "There are a number of hyperparameters to choose from in SVMs. The most important one is the kernel which specifies which transformation is applied to the data before the hyperplane is constructed. Then for each of the kernels, we have `C` parameter. This can be thought of as the inverse of the regularisation coefficient lambda in other ML models. So higher `C` implies less regularisation, and lower `C` implies more regularisation. Then for `rbf` (Gaussian) kernel, we have gamma, which specifies the inverse influence of a point on the other points. So higher gamma means low influence, and lower gamma means more influence. So, higher gamma will make the decision boundary more complex and vice versa."
   ]
  },
  {
   "cell_type": "markdown",
   "metadata": {
    "id": "7XPGNsr701FI"
   },
   "source": [
    "### 2.2.1: Hyper-parameters\n",
    "\n",
    "Define hyper-parameters for your method here"
   ]
  },
  {
   "cell_type": "code",
   "execution_count": 17,
   "metadata": {
    "id": "1V-aANfA01FI"
   },
   "outputs": [],
   "source": [
    "# Defining the parameter grid.\n",
    "param_grid = [\n",
    "               {\"svc__kernel\": [\"linear\"], \"svc__C\": [0.1, 1, 10]},\n",
    "               {\"svc__kernel\": [\"rbf\"], \"svc__gamma\": [0.001, 0.01, 0.1, 1, 2], \"svc__C\": [0.1, 1, 10]},\n",
    "               {\"svc__kernel\": [\"poly\"], \"svc__degree\": [3, 4, 5], \"svc__C\": [0.1, 1, 10]}\n",
    "]"
   ]
  },
  {
   "cell_type": "markdown",
   "metadata": {
    "id": "nure4xC_01FK"
   },
   "source": [
    "### 2.2.2: Data Preprocessing\n"
   ]
  },
  {
   "cell_type": "code",
   "execution_count": 18,
   "metadata": {
    "id": "ak3VMb8S01FK"
   },
   "outputs": [
    {
     "name": "stdout",
     "output_type": "stream",
     "text": [
      "x_train_val.shape = (16800, 784),  y_train_val.shape = (16800,)\n"
     ]
    }
   ],
   "source": [
    "# Flatten: [54000, 28, 28] into [54000, 784], normalization to be done in the pipeline.\n",
    "x_train_np = torch.flatten(x_train_3d, start_dim=1, end_dim=2).numpy()\n",
    "x_val_np = torch.flatten(x_val_3d, start_dim=1, end_dim=2).numpy()\n",
    "x_test_np = torch.flatten(x_test_3d, start_dim=1, end_dim=2).numpy()\n",
    "\n",
    "y_train_np = y_train.numpy()\n",
    "y_val_np = y_val.numpy()\n",
    "y_test_np = y_test.numpy()\n",
    "\n",
    "# Use only a part of trainset~ 20% for GridSearch parameter estimation.\n",
    "k = int(len(y_train_np) * 0.2)\n",
    "# Use pre-defined split to explicitly specity train and test in GridSearchCV\n",
    "ps = create_predefined_splits(len(x_train_np[:k]), len(x_val_np))\n",
    "x_train_val = np.append(x_train_np[:k], x_val_np, axis=0)\n",
    "y_train_val = np.append(y_train_np[:k], y_val_np, axis=0)\n",
    "print('x_train_val.shape = {},  y_train_val.shape = {}'.format(x_train_val.shape, y_train_val.shape))"
   ]
  },
  {
   "cell_type": "markdown",
   "metadata": {
    "id": "6oHcWedF01FK"
   },
   "source": [
    "### 2.2.3: Model\n",
    "\n",
    "Define your model here (all hyper-parameters in 2.1.1)"
   ]
  },
  {
   "cell_type": "code",
   "execution_count": 19,
   "metadata": {
    "id": "RalMhJvZ01FK"
   },
   "outputs": [
    {
     "name": "stdout",
     "output_type": "stream",
     "text": [
      "GridSearchCV(cv=PredefinedSplit(test_fold=array([-1, -1, ...,  0,  0])),\n",
      "             estimator=Pipeline(steps=[('scale', StandardScaler()),\n",
      "                                       ('svc', SVC())]),\n",
      "             n_jobs=-1,\n",
      "             param_grid=[{'svc__C': [0.1, 1, 10], 'svc__kernel': ['linear']},\n",
      "                         {'svc__C': [0.1, 1, 10],\n",
      "                          'svc__gamma': [0.001, 0.01, 0.1, 1, 2],\n",
      "                          'svc__kernel': ['rbf']},\n",
      "                         {'svc__C': [0.1, 1, 10], 'svc__degree': [3, 4, 5],\n",
      "                          'svc__kernel': ['poly']}],\n",
      "             return_train_score=True)\n"
     ]
    }
   ],
   "source": [
    "svc = SVC()\n",
    "pipe = Pipeline(steps=[('scale', StandardScaler()), (\"svc\", svc)])\n",
    "grid_search = GridSearchCV(pipe, param_grid, n_jobs=-1, cv=ps, return_train_score=True)\n",
    "print(grid_search)"
   ]
  },
  {
   "cell_type": "markdown",
   "metadata": {
    "id": "C5k8P8PP01FL"
   },
   "source": [
    "### 2.2.4: Fit Model\n",
    "# ================== ALERT ======================\n",
    "\n",
    "Model optimization in SVM was a very time expensive procedure even though we used only 20% of training data i.e 16800 training samples and a predfined set of 6000 validation samples. This step takes around 30 mins to execute."
   ]
  },
  {
   "cell_type": "code",
   "execution_count": 20,
   "metadata": {
    "id": "DS0sDmha01FL"
   },
   "outputs": [
    {
     "name": "stdout",
     "output_type": "stream",
     "text": [
      "Model opimization time: 1798.302 s\n"
     ]
    }
   ],
   "source": [
    "start_time = time.time()\n",
    "grid_search.fit(x_train_val, y_train_val)\n",
    "end_time = time.time()\n",
    "print(f\"Model opimization time: {end_time-start_time:.3f} s\")"
   ]
  },
  {
   "cell_type": "markdown",
   "metadata": {
    "id": "gNQKy7a901FL"
   },
   "source": [
    "### 2.2.5: Evaluation\n",
    "\n",
    "Evaluate your model.\n",
    "  * Evaluate models with different parameters \n",
    "  * Plot score (accuracy) for each model using \"plot_scores\" function\n",
    "  * Report the score for the best model\n",
    "  * Use \"vis_predictions\" function to visualize few examples of test/validation set with the corresponding predictions\n"
   ]
  },
  {
   "cell_type": "code",
   "execution_count": 21,
   "metadata": {
    "id": "cac5u-Lk01FL"
   },
   "outputs": [
    {
     "name": "stdout",
     "output_type": "stream",
     "text": [
      "Train_accuracy\tValidation Accuracy\tParameters\n",
      "0.997            0.930               {'svc__C': 0.1, 'svc__kernel': 'linear'}\n",
      "1.000            0.924               {'svc__C': 1, 'svc__kernel': 'linear'}\n",
      "1.000            0.924               {'svc__C': 10, 'svc__kernel': 'linear'}\n",
      "0.907            0.907               {'svc__C': 0.1, 'svc__gamma': 0.001, 'svc__kernel': 'rbf'}\n",
      "0.534            0.504               {'svc__C': 0.1, 'svc__gamma': 0.01, 'svc__kernel': 'rbf'}\n",
      "0.113            0.105               {'svc__C': 0.1, 'svc__gamma': 0.1, 'svc__kernel': 'rbf'}\n",
      "0.113            0.105               {'svc__C': 0.1, 'svc__gamma': 1, 'svc__kernel': 'rbf'}\n",
      "0.113            0.105               {'svc__C': 0.1, 'svc__gamma': 2, 'svc__kernel': 'rbf'}\n",
      "0.976            0.948               {'svc__C': 1, 'svc__gamma': 0.001, 'svc__kernel': 'rbf'}\n",
      "1.000            0.778               {'svc__C': 1, 'svc__gamma': 0.01, 'svc__kernel': 'rbf'}\n",
      "1.000            0.185               {'svc__C': 1, 'svc__gamma': 0.1, 'svc__kernel': 'rbf'}\n",
      "1.000            0.105               {'svc__C': 1, 'svc__gamma': 1, 'svc__kernel': 'rbf'}\n",
      "1.000            0.105               {'svc__C': 1, 'svc__gamma': 2, 'svc__kernel': 'rbf'}\n",
      "0.999            0.955               {'svc__C': 10, 'svc__gamma': 0.001, 'svc__kernel': 'rbf'}\n",
      "1.000            0.792               {'svc__C': 10, 'svc__gamma': 0.01, 'svc__kernel': 'rbf'}\n",
      "1.000            0.190               {'svc__C': 10, 'svc__gamma': 0.1, 'svc__kernel': 'rbf'}\n",
      "1.000            0.105               {'svc__C': 10, 'svc__gamma': 1, 'svc__kernel': 'rbf'}\n",
      "1.000            0.105               {'svc__C': 10, 'svc__gamma': 2, 'svc__kernel': 'rbf'}\n",
      "0.641            0.612               {'svc__C': 0.1, 'svc__degree': 3, 'svc__kernel': 'poly'}\n",
      "0.359            0.312               {'svc__C': 0.1, 'svc__degree': 4, 'svc__kernel': 'poly'}\n",
      "0.306            0.255               {'svc__C': 0.1, 'svc__degree': 5, 'svc__kernel': 'poly'}\n",
      "0.951            0.927               {'svc__C': 1, 'svc__degree': 3, 'svc__kernel': 'poly'}\n",
      "0.834            0.783               {'svc__C': 1, 'svc__degree': 4, 'svc__kernel': 'poly'}\n",
      "0.553            0.449               {'svc__C': 1, 'svc__degree': 5, 'svc__kernel': 'poly'}\n",
      "0.998            0.966               {'svc__C': 10, 'svc__degree': 3, 'svc__kernel': 'poly'}\n",
      "0.981            0.926               {'svc__C': 10, 'svc__degree': 4, 'svc__kernel': 'poly'}\n",
      "0.916            0.833               {'svc__C': 10, 'svc__degree': 5, 'svc__kernel': 'poly'}\n"
     ]
    }
   ],
   "source": [
    "mean_val_scores = grid_search.cv_results_[\"mean_test_score\"]\n",
    "mean_train_scores = grid_search.cv_results_[\"mean_train_score\"]\n",
    "params_names = grid_search.cv_results_[\"params\"]\n",
    "\n",
    "print(\"Train_accuracy\\tValidation Accuracy\\tParameters\")\n",
    "for mean_train, mean_val, param in zip(mean_train_scores, mean_val_scores, params_names):\n",
    "    print(\"%0.3f            %0.3f               %r\" % (mean_train, mean_val, param))"
   ]
  },
  {
   "cell_type": "code",
   "execution_count": 36,
   "metadata": {
    "id": "D68bsuVB01FL"
   },
   "outputs": [
    {
     "data": {
      "image/png": "[encoded data removed]",
      "text/plain": [
       "<Figure size 648x360 with 1 Axes>"
      ]
     },
     "metadata": {
      "needs_background": "light"
     },
     "output_type": "display_data"
    }
   ],
   "source": [
    "# Plotting the scores for the models on the training and the validation set.\n",
    "params = []\n",
    "for item in params_names:\n",
    "    if item[\"svc__kernel\"] == \"linear\":\n",
    "        params.append(item[\"svc__kernel\"] + \" C=\" + str(item[\"svc__C\"]))\n",
    "    elif item[\"svc__kernel\"] == \"rbf\":\n",
    "        params.append(item[\"svc__kernel\"] + \" C=\" + str(item[\"svc__C\"]) + \" gamma=\" + str(item[\"svc__gamma\"]))\n",
    "    else:\n",
    "        params.append(item[\"svc__kernel\"] + \" C=\" + str(item[\"svc__C\"]) + \" degree=\" + str(item[\"svc__degree\"]))\n",
    "\n",
    "params, mean_train_scores, mean_val_scores = sort_list(params, mean_train_scores, mean_val_scores)\n",
    "\n",
    "fig = plt.figure(figsize=(9,5))\n",
    "plt.plot(mean_train_scores, label=\"train acc\")\n",
    "plt.plot(mean_val_scores, label=\"validation acc\")\n",
    "plt.legend()\n",
    "plt.grid()\n",
    "plt.ylabel('Accuracy')\n",
    "_ = plt.xticks(range(len(params)), params, rotation ='90')"
   ]
  },
  {
   "cell_type": "code",
   "execution_count": 23,
   "metadata": {
    "id": "9zgw4JUH01FL"
   },
   "outputs": [
    {
     "name": "stdout",
     "output_type": "stream",
     "text": [
      "Best parameter (CV score=0.966):\n",
      "{'svc__C': 10, 'svc__degree': 3, 'svc__kernel': 'poly'}\n"
     ]
    }
   ],
   "source": [
    "# Showing the best score on the validation set as well as the best parameters.\n",
    "print(\"Best parameter (CV score=%0.3f):\" % grid_search.best_score_)\n",
    "print(grid_search.best_params_)"
   ]
  },
  {
   "cell_type": "code",
   "execution_count": 24,
   "metadata": {},
   "outputs": [
    {
     "name": "stdout",
     "output_type": "stream",
     "text": [
      "Training runtime: 320.418 s\n"
     ]
    },
    {
     "data": {
      "text/plain": [
       "['svm.joblib']"
      ]
     },
     "execution_count": 24,
     "metadata": {},
     "output_type": "execute_result"
    }
   ],
   "source": [
    "# Training the model using the best hyperparameters found and then using it to calculate the test accuracy.\n",
    "best_model = Pipeline(steps=[('scale', StandardScaler()), (\"svc\", SVC(kernel='poly', degree=3, C=10))])\n",
    "\n",
    "start_time = time.time()\n",
    "best_model.fit(x_train_np, y_train_np)\n",
    "end_time = time.time()\n",
    "print(f\"Training runtime: {end_time - start_time:.3f} s\")\n",
    "\n",
    "# Saving the trained best model\n",
    "dump(best_model, 'svm.joblib') "
   ]
  },
  {
   "cell_type": "code",
   "execution_count": 25,
   "metadata": {},
   "outputs": [
    {
     "name": "stdout",
     "output_type": "stream",
     "text": [
      "Evaluating on test data\n",
      "Test runtime: 49.578 s\n",
      "Test acc: 97.500%\n",
      "              precision    recall  f1-score   support\n",
      "\n",
      "           0       0.98      0.99      0.99       980\n",
      "           1       0.99      0.99      0.99      1135\n",
      "           2       0.98      0.97      0.97      1032\n",
      "           3       0.98      0.98      0.98      1010\n",
      "           4       0.97      0.98      0.97       982\n",
      "           5       0.97      0.97      0.97       892\n",
      "           6       0.98      0.97      0.98       958\n",
      "           7       0.98      0.96      0.97      1028\n",
      "           8       0.95      0.97      0.96       974\n",
      "           9       0.97      0.96      0.96      1009\n",
      "\n",
      "    accuracy                           0.97     10000\n",
      "   macro avg       0.97      0.97      0.97     10000\n",
      "weighted avg       0.98      0.97      0.98     10000\n",
      "\n"
     ]
    }
   ],
   "source": [
    "# Evaluating the model on the test data\n",
    "print(\"Evaluating on test data\")\n",
    "start_time_test = time.time()\n",
    "y_pred = best_model.predict(x_test_np)\n",
    "end_time_test = time.time()\n",
    "print(f\"Test runtime: {end_time_test - start_time_test:.3f} s\")\n",
    "print(f\"Test acc: {accuracy_score(y_test_np, y_pred)*100:.3f}%\")\n",
    "print(classification_report(y_test_np, y_pred))"
   ]
  },
  {
   "cell_type": "markdown",
   "metadata": {
    "id": "WOT67VC801FL"
   },
   "source": [
    "### 2.2.6: Summary\n",
    "\n",
    "We achieved an overall test accuracy of 97.5% by using SVM. The most influential parameters which we observed were gamma in the case of `rbf` kernel and regularisation parameter `C` in the case of the polynomial kernel. We observed that the linear kernel did not show any significant variations in results when we changed `C`. However, the linear kernel achieved almost perfect train accuracy in almost all the cases of `C`. This indicates that the model might be overfitting to the data. \n",
    "\n",
    "In the case of `rbf` kernel, we observed that using values of gamma which were greater than 0.1, almost always resulted in very bad performance on the test set. We also observed that using high gamma and low `C` results in the model not learning anything. In that case, the model even showed accuracy equivalent to random guessing on both the training and the test set. Using `gamma=0.001` and `C=1` showed the best results for `rbf` kernel. Further increasing `C` with this gamma value lead to overfitting on data. The results showed that gamma is a very important parameter in the case of SVMs, and tuning it properly is very important. In the case of the polynomial kernel, we observed that increasing the degree of the polynomial kernel resulted in a decrease in the performance for all the values of C. As expected, increasing `C` led to an increase in the accuracies in the polynomial kernel. \n",
    "\n",
    "Also, looking at the confusion matrices for the test data, we observed that the F1-scores for 8 and 9 are lower than the rest; it might be due to the visual similarity of 8 and 9, and our model did not have enough capacity to distinguish them every time. \n",
    "\n",
    "One fascinating insight was the influence of gamma on the results. It was interesting to see that gamma has such a major influence on the results. We used part of the data for hyperparameter tuning due to computational reasons. We believe using more data and using bigger ranges for hyperparameter search would definitely improve the results on the test data.\n",
    "\n",
    "It should also be noted of the significantly high model optimization runtime for SVM ~30 mins, although we only used 20% of training data and validated on entire validation set.\n",
    "\n",
    "Total run-time ~ 36 mins\n",
    "- Model optimization: 30 mins\n",
    "- Training runtime: 5.3 mins\n",
    "- Test performance: 1 mins"
   ]
  },
  {
   "cell_type": "markdown",
   "metadata": {
    "id": "cgZ547yT01FM"
   },
   "source": [
    "# 2.3: Model [M3] (Neural Networks): *fill-this-in* (25 points)\n",
    "\n",
    "We use Convolutional Neural Networks in this case. We use them in this case because CNNs have shown excellent results for computer vision tasks, and they also do parameter sharing in the kernels, which reduces the size (in terms of a number of parameters) of the networks. Convolutional Neural networks contain a number of kernels which are basically the parameters to be learned. Each kernel convolves/does a dot product over the whole depth of the input image, and these kernels are stacked together as the next layer. We can also control the size of the resultant output after convolving with a kernel by changing the stride and padding. This gives control on how deep we want to go in the network and how much finer representation we want. We use Multi-class Cross entropy as the loss function. We do not apply any data augmentation to the images. We used Adam as an optimizer in our experiments."
   ]
  },
  {
   "cell_type": "markdown",
   "metadata": {
    "id": "EFslEvfu01FM"
   },
   "source": [
    "### 2.3.1: Hyper-parameters\n",
    "\n",
    "Define hyper-parameters for your method here"
   ]
  },
  {
   "cell_type": "code",
   "execution_count": 26,
   "metadata": {},
   "outputs": [],
   "source": [
    "#Hyperparameters for the model\n",
    "\n",
    "batch_size_train = 100 \n",
    "batch_size_test = 100\n",
    "n_epochs = 30\n",
    "learning_rate = 2e-3\n",
    "input_size=1\n",
    "hidden_layers=[32,64,128]\n",
    "drop_prob=0.3\n",
    "num_classes=10\n",
    "reg=0.001\n",
    "\n",
    "#Initialise the weights\n",
    "def weights_init(m):\n",
    "    if type(m) == nn.Linear:\n",
    "        m.weight.data.normal_(0.0, 1e-3)\n",
    "        m.bias.data.fill_(0.)\n",
    "\n",
    "# Learning rate update functionality        \n",
    "def update_lr(optimizer, lr):\n",
    "    for param_group in optimizer.param_groups:\n",
    "        param_group['lr'] = lr    "
   ]
  },
  {
   "cell_type": "markdown",
   "metadata": {},
   "source": [
    "### 2.3.2: Data Preprocessing"
   ]
  },
  {
   "cell_type": "code",
   "execution_count": 27,
   "metadata": {},
   "outputs": [
    {
     "name": "stdout",
     "output_type": "stream",
     "text": [
      "Loading dataset....\n"
     ]
    }
   ],
   "source": [
    "# Prepare the data\n",
    "print(\"Loading dataset....\")\n",
    "transform = transforms.Compose([\n",
    "                               torchvision.transforms.ToTensor(),\n",
    "                               torchvision.transforms.Normalize(\n",
    "                                 (0.1307,), (0.3081,))\n",
    "                             ])\n",
    "\n",
    "# Loading the datasets\n",
    "train_set = torchvision.datasets.MNIST(root='.', train=True, transform=transform, download=True)\n",
    "train_set, valid_set = torch.utils.data.random_split(train_set, [50000, 10000])\n",
    "test_set = torchvision.datasets.MNIST(root='.', train=False, transform=transform, download=True)\n",
    "\n",
    "# Creating the train loader.\n",
    "train_loader = torch.utils.data.DataLoader(dataset=train_set,\n",
    "                                           batch_size=batch_size_train,\n",
    "                                           shuffle=True)\n",
    "# Creating the val loader.\n",
    "val_loader = torch.utils.data.DataLoader(dataset=valid_set,\n",
    "                                           batch_size=batch_size_train,\n",
    "                                           shuffle=False)\n",
    "# Creating the test loader.\n",
    "test_loader = torch.utils.data.DataLoader(dataset=test_set,\n",
    "                                          batch_size=batch_size_test,\n",
    "                                          shuffle=False)"
   ]
  },
  {
   "cell_type": "markdown",
   "metadata": {},
   "source": [
    "### 2.3.3: Model"
   ]
  },
  {
   "cell_type": "code",
   "execution_count": 28,
   "metadata": {},
   "outputs": [],
   "source": [
    "# Defining the model\n",
    "class Net(nn.Module):\n",
    "    def __init__(self, input_size, hidden_layers, num_classes):\n",
    "        super(Net, self).__init__()\n",
    "        # First convolutional layer\n",
    "        self.conv1 = nn.Sequential(\n",
    "            nn.Conv2d(\n",
    "                in_channels=1,\n",
    "                out_channels=32,\n",
    "                kernel_size=3,\n",
    "                stride=1,\n",
    "                padding=1,\n",
    "            ),\n",
    "            nn.ReLU(),\n",
    "            nn.MaxPool2d(kernel_size=2),\n",
    "            nn.Dropout(drop_prob)\n",
    "        )\n",
    "        # Second convolutional layer\n",
    "        self.conv2 = nn.Sequential(\n",
    "            nn.Conv2d(32, 64, 3, 1, 1),\n",
    "            nn.ReLU(),\n",
    "            nn.MaxPool2d(2),\n",
    "        )\n",
    "        # fully connected layer, output 10 classes\n",
    "        self.out = nn.Linear(64 * 7 * 7, 10)\n",
    "\n",
    "    def forward(self, x):\n",
    "        x = self.conv1(x)\n",
    "        x = self.conv2(x)\n",
    "        # flatten the output of second conv layer.\n",
    "        x = x.view(x.size(0), -1)\n",
    "        output = self.out(x)\n",
    "        return output  # return x for visualization"
   ]
  },
  {
   "cell_type": "markdown",
   "metadata": {},
   "source": [
    "### 2.3.4: Fit Model "
   ]
  },
  {
   "cell_type": "code",
   "execution_count": 29,
   "metadata": {
    "scrolled": false
   },
   "outputs": [
    {
     "name": "stdout",
     "output_type": "stream",
     "text": [
      "Epoch [1/30], Step [50/500], Loss: 0.2826\n",
      "Epoch [1/30], Step [100/500], Loss: 0.2845\n",
      "Epoch [1/30], Step [150/500], Loss: 0.0770\n",
      "Epoch [1/30], Step [200/500], Loss: 0.0885\n",
      "Epoch [1/30], Step [250/500], Loss: 0.0376\n",
      "Epoch [1/30], Step [300/500], Loss: 0.0823\n",
      "Epoch [1/30], Step [350/500], Loss: 0.1284\n",
      "Epoch [1/30], Step [400/500], Loss: 0.0862\n",
      "Epoch [1/30], Step [450/500], Loss: 0.0438\n",
      "Epoch [1/30], Step [500/500], Loss: 0.0384\n",
      "Validation accuracy is: 98.02 %\n",
      "--------------------\n",
      "Epoch [2/30], Step [50/500], Loss: 0.0442\n",
      "Epoch [2/30], Step [100/500], Loss: 0.0802\n",
      "Epoch [2/30], Step [150/500], Loss: 0.0610\n",
      "Epoch [2/30], Step [200/500], Loss: 0.0710\n",
      "Epoch [2/30], Step [250/500], Loss: 0.0213\n",
      "Epoch [2/30], Step [300/500], Loss: 0.0654\n",
      "Epoch [2/30], Step [350/500], Loss: 0.1550\n",
      "Epoch [2/30], Step [400/500], Loss: 0.0692\n",
      "Epoch [2/30], Step [450/500], Loss: 0.0317\n",
      "Epoch [2/30], Step [500/500], Loss: 0.0640\n",
      "Validation accuracy is: 98.39 %\n",
      "--------------------\n",
      "Epoch [3/30], Step [50/500], Loss: 0.0425\n",
      "Epoch [3/30], Step [100/500], Loss: 0.0138\n",
      "Epoch [3/30], Step [150/500], Loss: 0.0558\n",
      "Epoch [3/30], Step [200/500], Loss: 0.0263\n",
      "Epoch [3/30], Step [250/500], Loss: 0.0675\n",
      "Epoch [3/30], Step [300/500], Loss: 0.0662\n",
      "Epoch [3/30], Step [350/500], Loss: 0.0195\n",
      "Epoch [3/30], Step [400/500], Loss: 0.0402\n",
      "Epoch [3/30], Step [450/500], Loss: 0.0289\n",
      "Epoch [3/30], Step [500/500], Loss: 0.0707\n",
      "Validation accuracy is: 98.61 %\n",
      "--------------------\n",
      "Epoch [4/30], Step [50/500], Loss: 0.0263\n",
      "Epoch [4/30], Step [100/500], Loss: 0.0392\n",
      "Epoch [4/30], Step [150/500], Loss: 0.0600\n",
      "Epoch [4/30], Step [200/500], Loss: 0.0312\n",
      "Epoch [4/30], Step [250/500], Loss: 0.0115\n",
      "Epoch [4/30], Step [300/500], Loss: 0.0291\n",
      "Epoch [4/30], Step [350/500], Loss: 0.0433\n",
      "Epoch [4/30], Step [400/500], Loss: 0.0275\n",
      "Epoch [4/30], Step [450/500], Loss: 0.0380\n",
      "Epoch [4/30], Step [500/500], Loss: 0.0635\n",
      "Validation accuracy is: 98.61 %\n",
      "--------------------\n",
      "Epoch [5/30], Step [50/500], Loss: 0.0528\n",
      "Epoch [5/30], Step [100/500], Loss: 0.0144\n",
      "Epoch [5/30], Step [150/500], Loss: 0.0394\n",
      "Epoch [5/30], Step [200/500], Loss: 0.0224\n",
      "Epoch [5/30], Step [250/500], Loss: 0.0147\n",
      "Epoch [5/30], Step [300/500], Loss: 0.0741\n",
      "Epoch [5/30], Step [350/500], Loss: 0.0857\n",
      "Epoch [5/30], Step [400/500], Loss: 0.0149\n",
      "Epoch [5/30], Step [450/500], Loss: 0.0380\n",
      "Epoch [5/30], Step [500/500], Loss: 0.0035\n",
      "Validation accuracy is: 98.67 %\n",
      "--------------------\n",
      "Epoch [6/30], Step [50/500], Loss: 0.0203\n",
      "Epoch [6/30], Step [100/500], Loss: 0.0415\n",
      "Epoch [6/30], Step [150/500], Loss: 0.0132\n",
      "Epoch [6/30], Step [200/500], Loss: 0.0929\n",
      "Epoch [6/30], Step [250/500], Loss: 0.0345\n",
      "Epoch [6/30], Step [300/500], Loss: 0.0805\n",
      "Epoch [6/30], Step [350/500], Loss: 0.0331\n",
      "Epoch [6/30], Step [400/500], Loss: 0.0452\n",
      "Epoch [6/30], Step [450/500], Loss: 0.0202\n",
      "Epoch [6/30], Step [500/500], Loss: 0.0571\n",
      "Validation accuracy is: 98.71 %\n",
      "--------------------\n",
      "Epoch [7/30], Step [50/500], Loss: 0.0332\n",
      "Epoch [7/30], Step [100/500], Loss: 0.0339\n",
      "Epoch [7/30], Step [150/500], Loss: 0.0175\n",
      "Epoch [7/30], Step [200/500], Loss: 0.1031\n",
      "Epoch [7/30], Step [250/500], Loss: 0.0149\n",
      "Epoch [7/30], Step [300/500], Loss: 0.0561\n",
      "Epoch [7/30], Step [350/500], Loss: 0.0300\n",
      "Epoch [7/30], Step [400/500], Loss: 0.0253\n",
      "Epoch [7/30], Step [450/500], Loss: 0.0497\n",
      "Epoch [7/30], Step [500/500], Loss: 0.0199\n",
      "Validation accuracy is: 98.65 %\n",
      "--------------------\n",
      "Epoch [8/30], Step [50/500], Loss: 0.0097\n",
      "Epoch [8/30], Step [100/500], Loss: 0.0302\n",
      "Epoch [8/30], Step [150/500], Loss: 0.0318\n",
      "Epoch [8/30], Step [200/500], Loss: 0.0967\n",
      "Epoch [8/30], Step [250/500], Loss: 0.0145\n",
      "Epoch [8/30], Step [300/500], Loss: 0.0209\n",
      "Epoch [8/30], Step [350/500], Loss: 0.0344\n",
      "Epoch [8/30], Step [400/500], Loss: 0.0427\n",
      "Epoch [8/30], Step [450/500], Loss: 0.0551\n",
      "Epoch [8/30], Step [500/500], Loss: 0.0243\n",
      "Validation accuracy is: 98.75 %\n",
      "--------------------\n",
      "Epoch [9/30], Step [50/500], Loss: 0.0152\n",
      "Epoch [9/30], Step [100/500], Loss: 0.0117\n",
      "Epoch [9/30], Step [150/500], Loss: 0.0278\n",
      "Epoch [9/30], Step [200/500], Loss: 0.0048\n",
      "Epoch [9/30], Step [250/500], Loss: 0.0271\n",
      "Epoch [9/30], Step [300/500], Loss: 0.0840\n",
      "Epoch [9/30], Step [350/500], Loss: 0.0120\n",
      "Epoch [9/30], Step [400/500], Loss: 0.0196\n",
      "Epoch [9/30], Step [450/500], Loss: 0.0408\n",
      "Epoch [9/30], Step [500/500], Loss: 0.0199\n",
      "Validation accuracy is: 98.85 %\n",
      "--------------------\n",
      "Epoch [10/30], Step [50/500], Loss: 0.0401\n",
      "Epoch [10/30], Step [100/500], Loss: 0.0714\n",
      "Epoch [10/30], Step [150/500], Loss: 0.0277\n",
      "Epoch [10/30], Step [200/500], Loss: 0.0202\n",
      "Epoch [10/30], Step [250/500], Loss: 0.0377\n",
      "Epoch [10/30], Step [300/500], Loss: 0.0110\n",
      "Epoch [10/30], Step [350/500], Loss: 0.0660\n",
      "Epoch [10/30], Step [400/500], Loss: 0.0295\n",
      "Epoch [10/30], Step [450/500], Loss: 0.0478\n",
      "Epoch [10/30], Step [500/500], Loss: 0.0465\n",
      "Validation accuracy is: 98.74 %\n",
      "--------------------\n",
      "Epoch [11/30], Step [50/500], Loss: 0.1766\n",
      "Epoch [11/30], Step [100/500], Loss: 0.0156\n",
      "Epoch [11/30], Step [150/500], Loss: 0.0223\n",
      "Epoch [11/30], Step [200/500], Loss: 0.0396\n",
      "Epoch [11/30], Step [250/500], Loss: 0.0403\n",
      "Epoch [11/30], Step [300/500], Loss: 0.0077\n",
      "Epoch [11/30], Step [350/500], Loss: 0.0199\n",
      "Epoch [11/30], Step [400/500], Loss: 0.0271\n",
      "Epoch [11/30], Step [450/500], Loss: 0.0218\n",
      "Epoch [11/30], Step [500/500], Loss: 0.0453\n",
      "Validation accuracy is: 98.85 %\n",
      "--------------------\n",
      "Epoch [12/30], Step [50/500], Loss: 0.0295\n",
      "Epoch [12/30], Step [100/500], Loss: 0.0256\n",
      "Epoch [12/30], Step [150/500], Loss: 0.0116\n",
      "Epoch [12/30], Step [200/500], Loss: 0.0194\n",
      "Epoch [12/30], Step [250/500], Loss: 0.0273\n",
      "Epoch [12/30], Step [300/500], Loss: 0.0352\n",
      "Epoch [12/30], Step [350/500], Loss: 0.0152\n",
      "Epoch [12/30], Step [400/500], Loss: 0.0370\n",
      "Epoch [12/30], Step [450/500], Loss: 0.0164\n",
      "Epoch [12/30], Step [500/500], Loss: 0.0101\n",
      "Validation accuracy is: 98.9 %\n",
      "--------------------\n",
      "Epoch [13/30], Step [50/500], Loss: 0.0132\n",
      "Epoch [13/30], Step [100/500], Loss: 0.0164\n",
      "Epoch [13/30], Step [150/500], Loss: 0.0189\n",
      "Epoch [13/30], Step [200/500], Loss: 0.0073\n",
      "Epoch [13/30], Step [250/500], Loss: 0.0727\n",
      "Epoch [13/30], Step [300/500], Loss: 0.0294\n",
      "Epoch [13/30], Step [350/500], Loss: 0.0181\n",
      "Epoch [13/30], Step [400/500], Loss: 0.0709\n",
      "Epoch [13/30], Step [450/500], Loss: 0.0170\n",
      "Epoch [13/30], Step [500/500], Loss: 0.0556\n",
      "Validation accuracy is: 98.97 %\n",
      "--------------------\n",
      "Epoch [14/30], Step [50/500], Loss: 0.0100\n",
      "Epoch [14/30], Step [100/500], Loss: 0.0332\n",
      "Epoch [14/30], Step [150/500], Loss: 0.0286\n",
      "Epoch [14/30], Step [200/500], Loss: 0.0204\n",
      "Epoch [14/30], Step [250/500], Loss: 0.0058\n",
      "Epoch [14/30], Step [300/500], Loss: 0.0229\n",
      "Epoch [14/30], Step [350/500], Loss: 0.0077\n",
      "Epoch [14/30], Step [400/500], Loss: 0.0140\n",
      "Epoch [14/30], Step [450/500], Loss: 0.0186\n",
      "Epoch [14/30], Step [500/500], Loss: 0.0029\n",
      "Validation accuracy is: 98.69 %\n",
      "--------------------\n",
      "Epoch [15/30], Step [50/500], Loss: 0.0159\n",
      "Epoch [15/30], Step [100/500], Loss: 0.0245\n",
      "Epoch [15/30], Step [150/500], Loss: 0.0349\n",
      "Epoch [15/30], Step [200/500], Loss: 0.0404\n",
      "Epoch [15/30], Step [250/500], Loss: 0.0260\n",
      "Epoch [15/30], Step [300/500], Loss: 0.0344\n",
      "Epoch [15/30], Step [350/500], Loss: 0.0545\n",
      "Epoch [15/30], Step [400/500], Loss: 0.0170\n",
      "Epoch [15/30], Step [450/500], Loss: 0.0195\n",
      "Epoch [15/30], Step [500/500], Loss: 0.0176\n",
      "Validation accuracy is: 98.83 %\n",
      "--------------------\n",
      "Epoch [16/30], Step [50/500], Loss: 0.0360\n",
      "Epoch [16/30], Step [100/500], Loss: 0.0168\n",
      "Epoch [16/30], Step [150/500], Loss: 0.0470\n",
      "Epoch [16/30], Step [200/500], Loss: 0.0170\n",
      "Epoch [16/30], Step [250/500], Loss: 0.1108\n",
      "Epoch [16/30], Step [300/500], Loss: 0.0151\n",
      "Epoch [16/30], Step [350/500], Loss: 0.0102\n",
      "Epoch [16/30], Step [400/500], Loss: 0.0438\n",
      "Epoch [16/30], Step [450/500], Loss: 0.0181\n",
      "Epoch [16/30], Step [500/500], Loss: 0.0058\n",
      "Validation accuracy is: 98.94 %\n",
      "--------------------\n",
      "Epoch [17/30], Step [50/500], Loss: 0.0030\n",
      "Epoch [17/30], Step [100/500], Loss: 0.0155\n",
      "Epoch [17/30], Step [150/500], Loss: 0.0324\n",
      "Epoch [17/30], Step [200/500], Loss: 0.0321\n",
      "Epoch [17/30], Step [250/500], Loss: 0.0230\n",
      "Epoch [17/30], Step [300/500], Loss: 0.0218\n",
      "Epoch [17/30], Step [350/500], Loss: 0.0156\n",
      "Epoch [17/30], Step [400/500], Loss: 0.0177\n",
      "Epoch [17/30], Step [450/500], Loss: 0.0188\n",
      "Epoch [17/30], Step [500/500], Loss: 0.0815\n"
     ]
    },
    {
     "name": "stdout",
     "output_type": "stream",
     "text": [
      "Validation accuracy is: 98.92 %\n",
      "--------------------\n",
      "Epoch [18/30], Step [50/500], Loss: 0.0185\n",
      "Epoch [18/30], Step [100/500], Loss: 0.0094\n",
      "Epoch [18/30], Step [150/500], Loss: 0.0126\n",
      "Epoch [18/30], Step [200/500], Loss: 0.0335\n",
      "Epoch [18/30], Step [250/500], Loss: 0.0121\n",
      "Epoch [18/30], Step [300/500], Loss: 0.0888\n",
      "Epoch [18/30], Step [350/500], Loss: 0.0078\n",
      "Epoch [18/30], Step [400/500], Loss: 0.0300\n",
      "Epoch [18/30], Step [450/500], Loss: 0.0069\n",
      "Epoch [18/30], Step [500/500], Loss: 0.0560\n",
      "Validation accuracy is: 99.0 %\n",
      "--------------------\n",
      "Epoch [19/30], Step [50/500], Loss: 0.0135\n",
      "Epoch [19/30], Step [100/500], Loss: 0.0432\n",
      "Epoch [19/30], Step [150/500], Loss: 0.0046\n",
      "Epoch [19/30], Step [200/500], Loss: 0.0056\n",
      "Epoch [19/30], Step [250/500], Loss: 0.0200\n",
      "Epoch [19/30], Step [300/500], Loss: 0.0255\n",
      "Epoch [19/30], Step [350/500], Loss: 0.0648\n",
      "Epoch [19/30], Step [400/500], Loss: 0.0186\n",
      "Epoch [19/30], Step [450/500], Loss: 0.0034\n",
      "Epoch [19/30], Step [500/500], Loss: 0.0108\n",
      "Validation accuracy is: 98.57 %\n",
      "--------------------\n",
      "Epoch [20/30], Step [50/500], Loss: 0.0131\n",
      "Epoch [20/30], Step [100/500], Loss: 0.0098\n",
      "Epoch [20/30], Step [150/500], Loss: 0.0910\n",
      "Epoch [20/30], Step [200/500], Loss: 0.0304\n",
      "Epoch [20/30], Step [250/500], Loss: 0.0332\n",
      "Epoch [20/30], Step [300/500], Loss: 0.0258\n",
      "Epoch [20/30], Step [350/500], Loss: 0.0444\n",
      "Epoch [20/30], Step [400/500], Loss: 0.0066\n",
      "Epoch [20/30], Step [450/500], Loss: 0.0107\n",
      "Epoch [20/30], Step [500/500], Loss: 0.0486\n",
      "Validation accuracy is: 98.99 %\n",
      "--------------------\n",
      "Epoch [21/30], Step [50/500], Loss: 0.0489\n",
      "Epoch [21/30], Step [100/500], Loss: 0.0242\n",
      "Epoch [21/30], Step [150/500], Loss: 0.0090\n",
      "Epoch [21/30], Step [200/500], Loss: 0.0054\n",
      "Epoch [21/30], Step [250/500], Loss: 0.0174\n",
      "Epoch [21/30], Step [300/500], Loss: 0.1000\n",
      "Epoch [21/30], Step [350/500], Loss: 0.0554\n",
      "Epoch [21/30], Step [400/500], Loss: 0.0410\n",
      "Epoch [21/30], Step [450/500], Loss: 0.0042\n",
      "Epoch [21/30], Step [500/500], Loss: 0.0074\n",
      "Validation accuracy is: 98.9 %\n",
      "--------------------\n",
      "Epoch [22/30], Step [50/500], Loss: 0.0379\n",
      "Epoch [22/30], Step [100/500], Loss: 0.0142\n",
      "Epoch [22/30], Step [150/500], Loss: 0.0056\n",
      "Epoch [22/30], Step [200/500], Loss: 0.0769\n",
      "Epoch [22/30], Step [250/500], Loss: 0.0104\n",
      "Epoch [22/30], Step [300/500], Loss: 0.0227\n",
      "Epoch [22/30], Step [350/500], Loss: 0.0716\n",
      "Epoch [22/30], Step [400/500], Loss: 0.0241\n",
      "Epoch [22/30], Step [450/500], Loss: 0.0343\n",
      "Epoch [22/30], Step [500/500], Loss: 0.0253\n",
      "Validation accuracy is: 98.89 %\n",
      "--------------------\n",
      "Epoch [23/30], Step [50/500], Loss: 0.0274\n",
      "Epoch [23/30], Step [100/500], Loss: 0.0023\n",
      "Epoch [23/30], Step [150/500], Loss: 0.0070\n",
      "Epoch [23/30], Step [200/500], Loss: 0.0189\n",
      "Epoch [23/30], Step [250/500], Loss: 0.0308\n",
      "Epoch [23/30], Step [300/500], Loss: 0.0430\n",
      "Epoch [23/30], Step [350/500], Loss: 0.0700\n",
      "Epoch [23/30], Step [400/500], Loss: 0.0137\n",
      "Epoch [23/30], Step [450/500], Loss: 0.0365\n",
      "Epoch [23/30], Step [500/500], Loss: 0.0666\n",
      "Validation accuracy is: 99.06 %\n",
      "--------------------\n",
      "Epoch [24/30], Step [50/500], Loss: 0.0055\n",
      "Epoch [24/30], Step [100/500], Loss: 0.0243\n",
      "Epoch [24/30], Step [150/500], Loss: 0.0527\n",
      "Epoch [24/30], Step [200/500], Loss: 0.0018\n",
      "Epoch [24/30], Step [250/500], Loss: 0.0275\n",
      "Epoch [24/30], Step [300/500], Loss: 0.0560\n",
      "Epoch [24/30], Step [350/500], Loss: 0.0189\n",
      "Epoch [24/30], Step [400/500], Loss: 0.0182\n",
      "Epoch [24/30], Step [450/500], Loss: 0.0132\n",
      "Epoch [24/30], Step [500/500], Loss: 0.0176\n",
      "Validation accuracy is: 99.02 %\n",
      "--------------------\n",
      "Epoch [25/30], Step [50/500], Loss: 0.0096\n",
      "Epoch [25/30], Step [100/500], Loss: 0.0040\n",
      "Epoch [25/30], Step [150/500], Loss: 0.0203\n",
      "Epoch [25/30], Step [200/500], Loss: 0.0107\n",
      "Epoch [25/30], Step [250/500], Loss: 0.0309\n",
      "Epoch [25/30], Step [300/500], Loss: 0.0122\n",
      "Epoch [25/30], Step [350/500], Loss: 0.0241\n",
      "Epoch [25/30], Step [400/500], Loss: 0.0319\n",
      "Epoch [25/30], Step [450/500], Loss: 0.0093\n",
      "Epoch [25/30], Step [500/500], Loss: 0.0112\n",
      "Validation accuracy is: 99.03 %\n",
      "--------------------\n",
      "Epoch [26/30], Step [50/500], Loss: 0.0175\n",
      "Epoch [26/30], Step [100/500], Loss: 0.0153\n",
      "Epoch [26/30], Step [150/500], Loss: 0.0084\n",
      "Epoch [26/30], Step [200/500], Loss: 0.0126\n",
      "Epoch [26/30], Step [250/500], Loss: 0.0400\n",
      "Epoch [26/30], Step [300/500], Loss: 0.0145\n",
      "Epoch [26/30], Step [350/500], Loss: 0.0087\n",
      "Epoch [26/30], Step [400/500], Loss: 0.0168\n",
      "Epoch [26/30], Step [450/500], Loss: 0.0096\n",
      "Epoch [26/30], Step [500/500], Loss: 0.0041\n",
      "Validation accuracy is: 98.98 %\n",
      "--------------------\n",
      "Epoch [27/30], Step [50/500], Loss: 0.0161\n",
      "Epoch [27/30], Step [100/500], Loss: 0.0217\n",
      "Epoch [27/30], Step [150/500], Loss: 0.0186\n",
      "Epoch [27/30], Step [200/500], Loss: 0.0171\n",
      "Epoch [27/30], Step [250/500], Loss: 0.0423\n",
      "Epoch [27/30], Step [300/500], Loss: 0.0129\n",
      "Epoch [27/30], Step [350/500], Loss: 0.0224\n",
      "Epoch [27/30], Step [400/500], Loss: 0.0104\n",
      "Epoch [27/30], Step [450/500], Loss: 0.0207\n",
      "Epoch [27/30], Step [500/500], Loss: 0.0107\n",
      "Validation accuracy is: 99.11 %\n",
      "--------------------\n",
      "Epoch [28/30], Step [50/500], Loss: 0.0055\n",
      "Epoch [28/30], Step [100/500], Loss: 0.0051\n",
      "Epoch [28/30], Step [150/500], Loss: 0.0307\n",
      "Epoch [28/30], Step [200/500], Loss: 0.0257\n",
      "Epoch [28/30], Step [250/500], Loss: 0.0138\n",
      "Epoch [28/30], Step [300/500], Loss: 0.0135\n",
      "Epoch [28/30], Step [350/500], Loss: 0.0063\n",
      "Epoch [28/30], Step [400/500], Loss: 0.0093\n",
      "Epoch [28/30], Step [450/500], Loss: 0.0122\n",
      "Epoch [28/30], Step [500/500], Loss: 0.0447\n",
      "Validation accuracy is: 98.9 %\n",
      "--------------------\n",
      "Epoch [29/30], Step [50/500], Loss: 0.0023\n",
      "Epoch [29/30], Step [100/500], Loss: 0.0168\n",
      "Epoch [29/30], Step [150/500], Loss: 0.0061\n",
      "Epoch [29/30], Step [200/500], Loss: 0.0385\n",
      "Epoch [29/30], Step [250/500], Loss: 0.0149\n",
      "Epoch [29/30], Step [300/500], Loss: 0.0189\n",
      "Epoch [29/30], Step [350/500], Loss: 0.0175\n",
      "Epoch [29/30], Step [400/500], Loss: 0.0146\n",
      "Epoch [29/30], Step [450/500], Loss: 0.0207\n",
      "Epoch [29/30], Step [500/500], Loss: 0.0033\n",
      "Validation accuracy is: 99.02 %\n",
      "--------------------\n",
      "Epoch [30/30], Step [50/500], Loss: 0.0451\n",
      "Epoch [30/30], Step [100/500], Loss: 0.0126\n",
      "Epoch [30/30], Step [150/500], Loss: 0.0119\n",
      "Epoch [30/30], Step [200/500], Loss: 0.0274\n",
      "Epoch [30/30], Step [250/500], Loss: 0.0113\n",
      "Epoch [30/30], Step [300/500], Loss: 0.0201\n",
      "Epoch [30/30], Step [350/500], Loss: 0.0097\n",
      "Epoch [30/30], Step [400/500], Loss: 0.0045\n",
      "Epoch [30/30], Step [450/500], Loss: 0.0042\n",
      "Epoch [30/30], Step [500/500], Loss: 0.0293\n",
      "Validation accuracy is: 99.03 %\n",
      "--------------------\n",
      "Accuracy of the network on the test images: 99.17 %\n",
      "====================\n",
      "Training runtime: 268.801 s\n"
     ]
    }
   ],
   "source": [
    "# Code for training the model, and evaluating the model\n",
    "\n",
    "start_cnn = time.time()\n",
    "device = torch.device(\"cuda:0\") if torch.cuda.is_available() else torch.device(\"cpu\")\n",
    "\n",
    "# Initialise the model\n",
    "model = Net(input_size, hidden_layers, num_classes).to(device)\n",
    "model.apply(weights_init)\n",
    "running_loss = 0.0\n",
    "loss_plot_y = []\n",
    "loss_plot_x =[]\n",
    "loss_plot_val_y = []\n",
    "loss_plot_val_x =[]\n",
    "lr = learning_rate\n",
    "learning_rate_decay = 0.95\n",
    "accuracy_plot = []\n",
    "total_step = len(train_loader)\n",
    "\n",
    "# Loss function\n",
    "criterion = nn.CrossEntropyLoss()\n",
    "\n",
    "# Optimizer\n",
    "optimizer = torch.optim.Adam(model.parameters(), lr=learning_rate, weight_decay=reg)\n",
    "\n",
    "# For all the epochs.\n",
    "for epoch in range(n_epochs):\n",
    "        model.train()\n",
    "        for (i, (images, labels)) in enumerate(train_loader):\n",
    "            \n",
    "            images = images.to(device)\n",
    "            labels = labels.to(device)\n",
    "            \n",
    "            # Forward pass\n",
    "            outputs = model(images)\n",
    "            \n",
    "            # Loss calculation\n",
    "            loss = criterion(outputs, labels)\n",
    "\n",
    "            # zeroing the gradients\n",
    "            optimizer.zero_grad()\n",
    "            \n",
    "            # Backpropagate the loss\n",
    "            loss.backward()\n",
    "            \n",
    "            # Update the weights\n",
    "            optimizer.step()\n",
    "            running_loss += loss.item()\n",
    "            if (i + 1) % 50 == 0:\n",
    "                print ('Epoch [{}/{}], Step [{}/{}], Loss: {:.4f}'.format(epoch\n",
    "                        + 1, n_epochs, i + 1, total_step, loss.item()))\n",
    "        loss_plot_y.append(running_loss / len(train_loader))\n",
    "                #loss_plot_x.append(epoch * total_step + i)\n",
    "        running_loss = 0.0\n",
    "        loss_plot_x.append(epoch)\n",
    "        lr *= learning_rate_decay\n",
    "        update_lr(optimizer, lr)\n",
    "        \n",
    "        # Doing the validation step.\n",
    "        model.eval()\n",
    "        with torch.no_grad():\n",
    "            correct = 0\n",
    "            total = 0\n",
    "            for (images, labels) in val_loader:\n",
    "                images = images.to(device)\n",
    "                labels = labels.to(device)\n",
    "                outputs = model(images)\n",
    "                (_, predicted) = torch.max(outputs.data, 1)\n",
    "                total += labels.size(0)\n",
    "                correct += (predicted == labels).sum().item()\n",
    "                loss = criterion(outputs, labels)\n",
    "                running_loss += loss.item()\n",
    "            loss_plot_val_y.append(running_loss / len(val_loader))\n",
    "            accuracy_plot.append(100 * correct / total)\n",
    "\n",
    "            print('Validation accuracy is: {} %'.format(100 * correct / total))\n",
    "            print('-'*20)\n",
    "        running_loss=0.0\n",
    "        \n",
    "\n",
    "# Testing the model, although we only use the validation accuracy for selecting the best hyperparameters\n",
    "model.eval()\n",
    "with torch.no_grad():\n",
    "    correct = 0\n",
    "    total = 0\n",
    "    for (images, labels) in test_loader:\n",
    "        images = images.to(device)\n",
    "        labels = labels.to(device)\n",
    "        outputs = model(images)\n",
    "        (_, predicted) = torch.max(outputs.data, 1)\n",
    "        total += labels.size(0)\n",
    "        correct += (predicted == labels).sum().item()\n",
    "\n",
    "\n",
    "    print ('Accuracy of the network on the test images: {} %'.format(\n",
    "            100 * correct / total))\n",
    "end_time_test = time.time()\n",
    "print(\"=\"*20)\n",
    "print(f\"Training runtime: {end_time_test - start_time_test:.3f} s\")"
   ]
  },
  {
   "cell_type": "code",
   "execution_count": 30,
   "metadata": {},
   "outputs": [],
   "source": [
    "# Saving the model\n",
    "torch.save(model.state_dict(), \"cnn_model.pth\")"
   ]
  },
  {
   "cell_type": "markdown",
   "metadata": {},
   "source": [
    "### 2.2.5: Evaluation\n"
   ]
  },
  {
   "cell_type": "code",
   "execution_count": 31,
   "metadata": {},
   "outputs": [
    {
     "data": {
      "image/png": "[encoded data removed]",
      "text/plain": [
       "<Figure size 720x576 with 1 Axes>"
      ]
     },
     "metadata": {
      "needs_background": "light"
     },
     "output_type": "display_data"
    }
   ],
   "source": [
    "# plotting training and validation loss.\n",
    "plt.plot(loss_plot_x,loss_plot_y, label=\"Training loss\")\n",
    "plt.plot(loss_plot_x,loss_plot_val_y, label=\"Validation loss\")\n",
    "plt.legend()\n",
    "plt.title('Training performance: Train and Valid loss')\n",
    "plt.xlabel(\"Epochs\")\n",
    "plt.ylabel(\"Loss\")\n",
    "plt.show()"
   ]
  },
  {
   "cell_type": "code",
   "execution_count": 32,
   "metadata": {
    "scrolled": false
   },
   "outputs": [
    {
     "data": {
      "image/png": "[encoded data removed]",
      "text/plain": [
       "<Figure size 720x576 with 1 Axes>"
      ]
     },
     "metadata": {
      "needs_background": "light"
     },
     "output_type": "display_data"
    }
   ],
   "source": [
    "#Plotting validation accuracy and epoch.\n",
    "plt.plot(np.arange(1,len(accuracy_plot)+1,1),accuracy_plot)\n",
    "plt.xlabel(\"Epochs\")\n",
    "plt.ylabel(\"Accuracy\")\n",
    "plt.title(\"Validation accuracy\")\n",
    "plt.show()"
   ]
  },
  {
   "cell_type": "code",
   "execution_count": 33,
   "metadata": {},
   "outputs": [
    {
     "data": {
      "text/plain": [
       "<All keys matched successfully>"
      ]
     },
     "execution_count": 33,
     "metadata": {},
     "output_type": "execute_result"
    }
   ],
   "source": [
    "# Saving the model\n",
    "model = Net(input_size, hidden_layers, num_classes).to(device)\n",
    "model.load_state_dict(torch.load(\"cnn_model.pth\", map_location=device))"
   ]
  },
  {
   "cell_type": "code",
   "execution_count": 34,
   "metadata": {},
   "outputs": [
    {
     "name": "stdout",
     "output_type": "stream",
     "text": [
      "Accuracy of the network on the test images: 99.17 %\n"
     ]
    }
   ],
   "source": [
    "# Running the test loop for the best model and reporting test accuracy.\n",
    "\n",
    "model.eval()\n",
    "with torch.no_grad():\n",
    "    correct = 0\n",
    "    total = 0\n",
    "    for (images, labels) in test_loader:\n",
    "        images = images.to(device)\n",
    "        labels = labels.to(device)\n",
    "        outputs = model(images)\n",
    "        (_, predicted) = torch.max(outputs.data, 1)\n",
    "        total += labels.size(0)\n",
    "        correct += (predicted == labels).sum().item()\n",
    "\n",
    "\n",
    "print ('Accuracy of the network on the test images: {} %'.format(100 * correct / total))"
   ]
  },
  {
   "cell_type": "code",
   "execution_count": 35,
   "metadata": {},
   "outputs": [
    {
     "data": {
      "image/png": "[encoded data removed]",
      "text/plain": [
       "<Figure size 720x576 with 12 Axes>"
      ]
     },
     "metadata": {
      "needs_background": "light"
     },
     "output_type": "display_data"
    }
   ],
   "source": [
    "# Visualising some of the predictions on the test set.\n",
    "\n",
    "predicted_arr = []\n",
    "labels_arr = []\n",
    "model.eval()\n",
    "with torch.no_grad():\n",
    "    correct = 0\n",
    "    total = 0\n",
    "    for (images, labels) in test_loader:\n",
    "        images = images.to(device)\n",
    "        labels = labels.to(device)\n",
    "        outputs = model(images)\n",
    "        (_, predicted) = torch.max(outputs.data, 1)\n",
    "        predicted_arr.extend(predicted.cpu().numpy().tolist())\n",
    "        labels_arr.extend(labels.cpu().numpy().tolist())\n",
    "\n",
    "x_test_np = torch.flatten(test_loader.dataset.data, start_dim=1, end_dim=2).numpy()\n",
    "vis_predictions(x_test_np, labels_arr, predicted_arr, len(predicted_arr))"
   ]
  },
  {
   "cell_type": "markdown",
   "metadata": {
    "id": "SPMall2f01FN"
   },
   "source": [
    "### 2.3.6: Summary\n",
    "\n",
    "Summarize your findings:\n",
    "\n",
    "There are a lot of hyperparameters to tune in CNNs so we decided to tune some of the hyperparameters which we thought would influence the results more. The hyperparameters which we experimented with were dropout probability, the learning rate, and the batch size. The below table shows the validation accuracies with the various hyperparameters. p refers to the dropout probability, lr refers to the learning rate of the model and bs refers to the batch size. The first row refers to the default parameters which we then change. The last row also has the number of filters changed to 128 from 64 in the second convolutional layer. Since we did not find to improve our results much, we did not experiment with it further.\n",
    "\n",
    "| Hyperparameters | Validation Accuracy |\n",
    "| --- | ----------- |\n",
    "| p=0.5  lr=2e-3  bs=100 | 99.05% |\n",
    "| p=0.1  lr=2e-3  bs=100 | 98.98% |\n",
    "| p=0.7  lr=2e-3  bs=100 | 98.92% |\n",
    "| p=0.9  lr=2e-3  bs=100 | 95.92% |\n",
    "| p=0.3  lr=2e-3  bs=100 | 99.07% |\n",
    "| p=0.3  lr=2e-4  bs=100 | 98.85% |\n",
    "| p=0.3  lr=2e-1  bs=100 | 84.19% |\n",
    "| p=0.3  lr=2e-5  bs=100 | 96.81% |\n",
    "| p=0.3  lr=2e-3  bs=1000 | 98.7% |\n",
    "| p=0.3  lr=2e-4  bs=50 | 98.97% |\n",
    "| p=0.3  lr=2e-4  bs=300 | 98.46% |\n",
    "| p=0.3  lr=2e-3  bs=700 | 98.97% |\n",
    "| p=0.3  lr=2e-3  bs=5 | 98.43% |\n",
    "| p=0.3  lr=2e-4  bs=200 | 98.63% |\n",
    "| p=0.3  lr=2e-4  bs=100 | 98.8% |\n",
    "| p=0.3  lr=2e-4  bs=150 | 98.87% |\n",
    "| p=0.3  lr=1  bs=32 | 9.97% |\n",
    "| p=0.3  lr=2e-4  bs=130 | 98.76% |\n",
    "| p=0.3  lr=2e-3  bs=100 | 98.81% |\n",
    "\n",
    "Our experiments show that there was not a very large effect of changing the hyperparameters in this case unless we went to extreme values. For example, if we changed the learning rate to 1, then the model did not learn anything and gave equal to random accuracy. Also, making learning rate very low slowed down the training process. We also observed that using very high dropout probabilities such as 0.9 was not very helpful as the accuracy on our validation set decreased in that case. Changing the batch size did not show very large effects on our validation set accuracy. Since in CNNs there can be a lot of hyperparameters which also include changing and experimenting with the model architecture, we tried increasing the number of filters from 64 to 128 in the second layer. That did not show much effect on the validation accuracy. We believe that this is due to the simplicity of the dataset and more complicated datasets would definitely benefit from bigger CNN architectures. \n",
    "\n",
    "Total runtime: 5 mins"
   ]
  },
  {
   "cell_type": "markdown",
   "metadata": {
    "id": "Ex3qQp3JolD1"
   },
   "source": [
    "# 3. Summary (20 points)\n",
    "\n",
    "Enter your final summary here.\n",
    "\n",
    "You should now compare performance  on the three models [M1], [M2] and [M3]. Present this in a tabular format and/or using plots.\n",
    "\n",
    "Which model do you recommend to perform digit classification and why?\n",
    "\n",
    "Feel free to discuss other insightful observations."
   ]
  },
  {
   "cell_type": "markdown",
   "metadata": {
    "id": "pa6rPT53LUW8"
   },
   "source": [
    "In our experiments, we tried methods with increasing complexity, starting from the non-parametric method K Nearest Neighbours, then we moved to Linear method Support Vector Machines, and then we tried Convolutional Neural Networks. All the methods showed good results due to the simplicity of the dataset. Although as expected, CNNs performed best followed by SVM and further k-NN. SVMs showed good performance but not as good as CNNs. We also tried various hyperparameters for all these models and got to know about the effect of these hyperparameters on the digit classification task. In our experiments, KNNs and SVMs took more time to train as both of them have high computational complexity. SVMs do not make a good choice in this case and for large datasets due to their computational complexity which increases quadratically in the average case and cubically in the worst case. Similarly, KNN also has a large computational complexity as well it has large storage complexity too. So KNNs are also not very suitable in this case. CNNs also make use of the computational power of the Graphical Processing Units and were thus fast in our experiments. \n",
    "\n",
    "In the table below, we report the test accuracy for the best models for each of the three models. \n",
    "\n",
    "| Method        | Valid. acc | Test acc | Total runtime | Configs     |\n",
    "|----------     |----------- |----------| --------------|--------     | \n",
    "| $k$-NN (M1)   |    97.00%  | 95.7%    | 15 mins       | 24 configs  |\n",
    "| SVM (M2)      |    96.60%  | 97.5%    | 35 mins       | 27 configs  |\n",
    "| CNN (M3)      |    99.03%  | 99.17%   | 5 mins        | 30 epochs   |\n",
    "\n",
    "Certain insightful observation\n",
    "1. $k$-NN performed worst but was faster than SVM. Training runtime for SVM is significantly high making it the most time expensive model of all.\n",
    "2. CNN gave the best performance in terms of time compelxity and accuracy.\n",
    "3. $k$-NN accuracy can be increased if some pre-processing is done on the input image like removing the blur pixels, perform image scaling and use only black and white pixels to obtain more sharp images. \n",
    "4. **Total runtime for SVM is high due the fact that the model optimization or the hyperparameter tuning task is very expensive. With 27 total configuration, it took 30 mins to determine the best configuration. This can reduced by using only a little fraction of train data and validation data.**\n",
    "\n",
    "We recommend Convolutional Neural Networks to perform digit classification. One reason for this is they have shown good results in our experiments. Another reason is that CNNs make a good choice for image-related tasks as they reduce the parameters in the model due to filter weights sharing, and they also make the model object location invariant due to pooling operations. Also, CNNs have shown state of the art results for many years on image related tasks. CNNs or any neural network methods can also be customized according to the size of the dataset and thus the capacity of the models can be increased as much as required for the task. Convolutional neural networks allow the user to experiment and customize the model architecture. While in the case of KNNs and SVMs, the user can only change some hyperparameters but not change the model architecture. Also enhancements such as residual connections make the convolutional neural networks even more powerful."
   ]
  }
 ],
 "metadata": {
  "colab": {
   "collapsed_sections": [],
   "name": "Task_1.ipynb",
   "provenance": []
  },
  "kernelspec": {
   "display_name": "Python 3",
   "language": "python",
   "name": "python3"
  },
  "language_info": {
   "codemirror_mode": {
    "name": "ipython",
    "version": 3
   },
   "file_extension": ".py",
   "mimetype": "text/x-python",
   "name": "python",
   "nbconvert_exporter": "python",
   "pygments_lexer": "ipython3",
   "version": "3.8.5"
  }
 },
 "nbformat": 4,
 "nbformat_minor": 1
}
