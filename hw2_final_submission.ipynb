{
 "cells": [
  {
   "cell_type": "markdown",
   "metadata": {
    "id": "4NzyqehHjUlG"
   },
   "source": [
    "# ML in Cybersecurity: Task II\n",
    "\n",
    "## Team\n",
    "  * **Team name**:  *ChickenEgg*\n",
    "  * **Members**:  *Sangeet Sagar (sasa00001@stud.uni-saarland.de), Abhijith Srinivas Bidaralli (abbi00001@stud.uni-saarland.de), Abhinav Bhatt (abbh00001@stud.uni-saarland.de)*\n",
    "\n",
    "\n",
    "\n",
    "## Logistics\n",
    "  * **Due date**: 25th Nov. 2021, 23:59:59 (email the completed notebook including outputs to mlcysec_ws2022_staff@lists.cispa.saarland)\n",
    "  * Email the completed notebook to mlcysec_ws2022_staff@lists.cispa.saarland \n",
    "  * Complete this in the previously established **teams of 3**\n",
    "  * Feel free to use the course forum to discuss.\n",
    "  \n",
    "  \n",
    "## About this Project\n",
    "In this project, we dive into the vulnerabilities of machine learning models and the difficulties of defending against them. To this end, we ask you to implement an evasion attack (craft adversarial examples) yourselves, and defend your own model.   \n",
    "\n",
    "\n",
    "## A Note on Grading\n",
    "The total number of points in this project is 100. We further provide the number of points achievable with each excercise. You should take particular care to document and visualize your results.\n",
    "\n",
    "Whenever possible, please use tools like tables or figures to compare the different findings\n",
    "\n",
    "\n",
    " \n",
    "## Filling-in the Notebook\n",
    "You'll be submitting this very notebook that is filled-in with (all) your code and analysis. Make sure you submit one that has been previously executed in-order. (So that results/graphs are already visible upon opening it). \n",
    "\n",
    "The notebook you submit **should compile** (or should be self-contained and sufficiently commented). Check tutorial 1 on how to set up the Python3 environment.\n",
    "\n",
    "It is extremely important that you **do not** re-order the existing sections. Apart from that, the code blocks that you need to fill-in are given by:\n",
    "```\n",
    "#\n",
    "#\n",
    "# ------- Your Code -------\n",
    "#\n",
    "#\n",
    "```\n",
    "Feel free to break this into multiple-cells. It's even better if you interleave explanations and code-blocks so that the entire notebook forms a readable \"story\".\n",
    "\n",
    "\n",
    "## Code of Honor\n",
    "We encourage discussing ideas and concepts with other students to help you learn and better understand the course content. However, the work you submit and present **must be original** and demonstrate your effort in solving the presented problems. **We will not tolerate** blatantly using existing solutions (such as from the internet), improper collaboration (e.g., sharing code or experimental data between groups) and plagiarism. If the honor code is not met, no points will be awarded.\n",
    "\n",
    " \n",
    "  ---"
   ]
  },
  {
   "cell_type": "code",
   "execution_count": 1,
   "metadata": {
    "id": "3ewNwfFvbFaR"
   },
   "outputs": [],
   "source": [
    "import time \n",
    " \n",
    "import numpy as np \n",
    "import matplotlib.pyplot as plt \n",
    "\n",
    "import json \n",
    "import time \n",
    "import pickle \n",
    "import sys \n",
    "import csv \n",
    "import os \n",
    "import os.path as osp \n",
    "import shutil \n",
    "\n",
    "import pandas as pd\n",
    "\n",
    "from IPython.display import display, HTML\n",
    " \n",
    "%matplotlib inline \n",
    "plt.rcParams['figure.figsize'] = (10.0, 8.0) # set default size of plots \n",
    "plt.rcParams['image.interpolation'] = 'nearest' \n",
    "plt.rcParams['image.cmap'] = 'gray' \n",
    " \n",
    "# for auto-reloading external modules \n",
    "# see http://stackoverflow.com/questions/1907993/autoreload-of-modules-in-ipython \n",
    "%load_ext autoreload\n",
    "%autoreload 2"
   ]
  },
  {
   "cell_type": "code",
   "execution_count": 2,
   "metadata": {
    "colab": {
     "base_uri": "https://localhost:8080/"
    },
    "id": "640GrzbOevr0",
    "outputId": "76402862-027c-44b1-def6-690618c06bcb"
   },
   "outputs": [
    {
     "data": {
      "text/plain": [
       "<torch._C.Generator at 0x7fec1052d790>"
      ]
     },
     "execution_count": 2,
     "metadata": {},
     "output_type": "execute_result"
    }
   ],
   "source": [
    "# Some suggestions of our libraries that might be helpful for this project\n",
    "from collections import Counter          # an even easier way to count\n",
    "from multiprocessing import Pool         # for multiprocessing\n",
    "from tqdm import tqdm                    # fancy progress bars\n",
    "\n",
    "# Load other libraries here.\n",
    "# Keep it minimal! We should be easily able to reproduce your code.\n",
    "# We only support sklearn and pytorch.\n",
    "import torchvision.datasets as datasets\n",
    "import torchvision.transforms as transforms\n",
    "import torch.utils.data as data\n",
    "\n",
    "# We preload pytorch as an example\n",
    "import torch\n",
    "import torch.nn as nn\n",
    "import torch.nn.functional as F\n",
    "import torch.optim as optim\n",
    "import torchvision\n",
    "import torchvision.transforms as transforms\n",
    "from torch.utils.data import DataLoader, Dataset, TensorDataset\n",
    "torch.manual_seed(123)"
   ]
  },
  {
   "cell_type": "code",
   "execution_count": 3,
   "metadata": {
    "id": "GJZPEAWYMhYB"
   },
   "outputs": [],
   "source": [
    "compute_mode = 'gpu'\n",
    "\n",
    "if compute_mode == 'cpu':\n",
    "    device = torch.device('cpu')\n",
    "elif compute_mode == 'gpu':\n",
    "    # If you are using pytorch on the GPU cluster, you have to manually specify which GPU device to use\n",
    "    # It is extremely important that you *do not* spawn multi-GPU jobs.\n",
    "    os.environ[\"CUDA_VISIBLE_DEVICES\"] = '0'    # Set device ID here\n",
    "    device = torch.device('cuda:0')\n",
    "else:\n",
    "    raise ValueError('Unrecognized compute mode')"
   ]
  },
  {
   "cell_type": "markdown",
   "metadata": {
    "id": "nxi-lLD0mKHD"
   },
   "source": [
    "#### Helpers\n",
    "\n",
    "In case you choose to have some methods you plan to reuse during the notebook, define them here. This will avoid clutter and keep rest of the notebook succinct."
   ]
  },
  {
   "cell_type": "code",
   "execution_count": 4,
   "metadata": {
    "id": "VBbigqdEmKd8"
   },
   "outputs": [],
   "source": [
    "#\n",
    "#\n",
    "# ------- Your Code -------\n",
    "#\n",
    "#"
   ]
  },
  {
   "cell_type": "markdown",
   "metadata": {
    "id": "n1pcmKkyjT7y"
   },
   "source": [
    "# 1. Attacking an ML-model (30 points) \n",
    "\n",
    "In this section, we implement an attack ourselves. First, however, you need a model you can attack. Feel free to choose the DNN/ConvNN from task 1.\n",
    "\n"
   ]
  },
  {
   "cell_type": "markdown",
   "metadata": {
    "id": "QaJv_d_Dp7OM"
   },
   "source": [
    "## 1.1: Setting up the model and data (4 Points)\n",
    "\n",
    "Load the MNIST data, as done in task 1. \n",
    "\n",
    "Re-use the model from task 1 here and train it until it achieves reasonable accuracy (>92%).\n",
    "\n",
    "If you have the saved checkpoint from task 1, you can load it directly. But please compute here the test accuracy using this checkpoint.  \n",
    "\n",
    "**Hint:** In order to save computation time for the rest of exercise, you might consider having a relatively small model here.\n",
    "\n",
    "**Hint**: You might want to save the trained model to save time later."
   ]
  },
  {
   "cell_type": "markdown",
   "metadata": {
    "id": "TqenQnsjGFDt"
   },
   "source": [
    "### Defining hyperparameters"
   ]
  },
  {
   "cell_type": "code",
   "execution_count": 5,
   "metadata": {
    "id": "c688qdGtO1v-"
   },
   "outputs": [],
   "source": [
    "# (1)load data \n",
    "# (2)define model\n",
    "# (3)define loss, optimizer \n",
    "# (4)train (You can re-use the trained model from project1)\n",
    "# (5)evaluate\n",
    "\n",
    "#Hyperparameters for the model\n",
    "batch_size_train = 100 \n",
    "batch_size_test = 100\n",
    "n_epochs = 20\n",
    "learning_rate = 2e-3\n",
    "input_size=1\n",
    "hidden_layers=[32,64,128]\n",
    "drop_prob=0.3\n",
    "num_classes=10\n",
    "reg=0.001\n",
    "\n",
    "#Initialise the weights\n",
    "def weights_init(m):\n",
    "    if type(m) == nn.Linear:\n",
    "        m.weight.data.normal_(0.0, 1e-3)\n",
    "        m.bias.data.fill_(0.)\n",
    "\n",
    "# Learning rate update functionality        \n",
    "def update_lr(optimizer, lr):\n",
    "    for param_group in optimizer.param_groups:\n",
    "        param_group['lr'] = lr  "
   ]
  },
  {
   "cell_type": "markdown",
   "metadata": {
    "id": "klbLdfENGFDu"
   },
   "source": [
    "### Data Preprocessing"
   ]
  },
  {
   "cell_type": "code",
   "execution_count": 7,
   "metadata": {
    "colab": {
     "base_uri": "https://localhost:8080/"
    },
    "id": "kjhay8E1GFDu",
    "outputId": "06371e11-cc6d-4876-8d9a-687f778d190a"
   },
   "outputs": [
    {
     "name": "stdout",
     "output_type": "stream",
     "text": [
      "Loading dataset....\n",
      "Done.\n"
     ]
    }
   ],
   "source": [
    "# Prepare the data\n",
    "print(\"Loading dataset....\")\n",
    "\n",
    "# Loading the datasets\n",
    "train_set = torchvision.datasets.MNIST(root='.', train=True, transform=transforms.ToTensor(), download=True)\n",
    "train_set, valid_set = torch.utils.data.random_split(train_set, [50000, 10000])\n",
    "test_set = torchvision.datasets.MNIST(root='.', train=False, transform=transforms.ToTensor(), download=True)\n",
    "\n",
    "# Creating the train loader.\n",
    "train_loader = torch.utils.data.DataLoader(dataset=train_set,\n",
    "                                           batch_size=batch_size_train,\n",
    "                                           shuffle=True)\n",
    "# Creating the val loader.\n",
    "val_loader = torch.utils.data.DataLoader(dataset=valid_set,\n",
    "                                           batch_size=batch_size_train,\n",
    "                                           shuffle=False)\n",
    "# Creating the test loader.\n",
    "test_loader = torch.utils.data.DataLoader(dataset=test_set,\n",
    "                                          batch_size=batch_size_test,\n",
    "                                          shuffle=False)\n",
    "print(\"Done.\")"
   ]
  },
  {
   "cell_type": "markdown",
   "metadata": {
    "id": "KhVlsdb1GFDv"
   },
   "source": [
    "### Model"
   ]
  },
  {
   "cell_type": "code",
   "execution_count": 8,
   "metadata": {
    "id": "ncK5bTSfDaos"
   },
   "outputs": [],
   "source": [
    "# Defining the model\n",
    "class Net(nn.Module):\n",
    "    def __init__(self, input_size, hidden_layers, num_classes):\n",
    "        super(Net, self).__init__()\n",
    "        # First convolutional layer\n",
    "        self.conv1 = nn.Sequential(\n",
    "            nn.Conv2d(\n",
    "                in_channels=1,\n",
    "                out_channels=32,\n",
    "                kernel_size=3,\n",
    "                stride=1,\n",
    "                padding=1,\n",
    "            ),\n",
    "            nn.ReLU(),\n",
    "            nn.MaxPool2d(kernel_size=2),\n",
    "            nn.Dropout(drop_prob)\n",
    "        )\n",
    "        # Second convolutional layer\n",
    "        self.conv2 = nn.Sequential(\n",
    "            nn.Conv2d(32, 64, 3, 1, 1),\n",
    "            nn.ReLU(),\n",
    "            nn.MaxPool2d(2),\n",
    "        )\n",
    "        # fully connected layer, output 10 classes\n",
    "        self.out = nn.Linear(64 * 7 * 7, 10)\n",
    "\n",
    "    def forward(self, x):\n",
    "        x = self.conv1(x)\n",
    "        x = self.conv2(x)\n",
    "        # flatten the output of second conv layer.\n",
    "        x = x.view(x.size(0), -1)\n",
    "        output = self.out(x)\n",
    "        return output  # return x for visualization"
   ]
  },
  {
   "cell_type": "markdown",
   "metadata": {
    "id": "tROJppM4GFDw"
   },
   "source": [
    "### Fit model"
   ]
  },
  {
   "cell_type": "code",
   "execution_count": 9,
   "metadata": {
    "id": "x9Kxf7Y_GFDx"
   },
   "outputs": [],
   "source": [
    "device = torch.device(\"cuda\") if torch.cuda.is_available() else torch.device(\"cpu\")"
   ]
  },
  {
   "cell_type": "code",
   "execution_count": 10,
   "metadata": {
    "colab": {
     "base_uri": "https://localhost:8080/"
    },
    "id": "9CEBoyMWGFDx",
    "outputId": "fa97a63d-daef-4c4c-dd0e-7e6f80b46250"
   },
   "outputs": [
    {
     "data": {
      "text/plain": [
       "device(type='cuda')"
      ]
     },
     "execution_count": 10,
     "metadata": {},
     "output_type": "execute_result"
    }
   ],
   "source": [
    "device"
   ]
  },
  {
   "cell_type": "code",
   "execution_count": 11,
   "metadata": {
    "colab": {
     "base_uri": "https://localhost:8080/"
    },
    "id": "vrNYdEo7FsiD",
    "outputId": "d46d5248-c5e5-4d5e-d7d0-f0aa362a9771",
    "scrolled": true
   },
   "outputs": [
    {
     "name": "stdout",
     "output_type": "stream",
     "text": [
      "Epoch [1/20], Step [50/500], Loss: 0.4806\n",
      "Epoch [1/20], Step [100/500], Loss: 0.2514\n",
      "Epoch [1/20], Step [150/500], Loss: 0.0882\n",
      "Epoch [1/20], Step [200/500], Loss: 0.1550\n",
      "Epoch [1/20], Step [250/500], Loss: 0.0870\n",
      "Epoch [1/20], Step [300/500], Loss: 0.1117\n",
      "Epoch [1/20], Step [350/500], Loss: 0.0470\n",
      "Epoch [1/20], Step [400/500], Loss: 0.1014\n",
      "Epoch [1/20], Step [450/500], Loss: 0.0554\n",
      "Epoch [1/20], Step [500/500], Loss: 0.0530\n",
      "Validation accuracy is: 97.31 %\n",
      "--------------------\n",
      "Epoch [2/20], Step [50/500], Loss: 0.0988\n",
      "Epoch [2/20], Step [100/500], Loss: 0.0577\n",
      "Epoch [2/20], Step [150/500], Loss: 0.0571\n",
      "Epoch [2/20], Step [200/500], Loss: 0.0231\n",
      "Epoch [2/20], Step [250/500], Loss: 0.0463\n",
      "Epoch [2/20], Step [300/500], Loss: 0.0756\n",
      "Epoch [2/20], Step [350/500], Loss: 0.0984\n",
      "Epoch [2/20], Step [400/500], Loss: 0.1072\n",
      "Epoch [2/20], Step [450/500], Loss: 0.0924\n",
      "Epoch [2/20], Step [500/500], Loss: 0.0911\n",
      "Validation accuracy is: 98.29 %\n",
      "--------------------\n",
      "Epoch [3/20], Step [50/500], Loss: 0.0783\n",
      "Epoch [3/20], Step [100/500], Loss: 0.1401\n",
      "Epoch [3/20], Step [150/500], Loss: 0.0208\n",
      "Epoch [3/20], Step [200/500], Loss: 0.0175\n",
      "Epoch [3/20], Step [250/500], Loss: 0.1057\n",
      "Epoch [3/20], Step [300/500], Loss: 0.0438\n",
      "Epoch [3/20], Step [350/500], Loss: 0.1092\n",
      "Epoch [3/20], Step [400/500], Loss: 0.1073\n",
      "Epoch [3/20], Step [450/500], Loss: 0.0764\n",
      "Epoch [3/20], Step [500/500], Loss: 0.0197\n",
      "Validation accuracy is: 98.22 %\n",
      "--------------------\n",
      "Epoch [4/20], Step [50/500], Loss: 0.0342\n",
      "Epoch [4/20], Step [100/500], Loss: 0.0192\n",
      "Epoch [4/20], Step [150/500], Loss: 0.0506\n",
      "Epoch [4/20], Step [200/500], Loss: 0.1177\n",
      "Epoch [4/20], Step [250/500], Loss: 0.0418\n",
      "Epoch [4/20], Step [300/500], Loss: 0.2268\n",
      "Epoch [4/20], Step [350/500], Loss: 0.0460\n",
      "Epoch [4/20], Step [400/500], Loss: 0.0673\n",
      "Epoch [4/20], Step [450/500], Loss: 0.0785\n",
      "Epoch [4/20], Step [500/500], Loss: 0.0366\n",
      "Validation accuracy is: 98.55 %\n",
      "--------------------\n",
      "Epoch [5/20], Step [50/500], Loss: 0.0581\n",
      "Epoch [5/20], Step [100/500], Loss: 0.0573\n",
      "Epoch [5/20], Step [150/500], Loss: 0.0433\n",
      "Epoch [5/20], Step [200/500], Loss: 0.0523\n",
      "Epoch [5/20], Step [250/500], Loss: 0.1155\n",
      "Epoch [5/20], Step [300/500], Loss: 0.0258\n",
      "Epoch [5/20], Step [350/500], Loss: 0.0277\n",
      "Epoch [5/20], Step [400/500], Loss: 0.1189\n",
      "Epoch [5/20], Step [450/500], Loss: 0.0400\n",
      "Epoch [5/20], Step [500/500], Loss: 0.0357\n",
      "Validation accuracy is: 98.59 %\n",
      "--------------------\n",
      "Epoch [6/20], Step [50/500], Loss: 0.0120\n",
      "Epoch [6/20], Step [100/500], Loss: 0.0097\n",
      "Epoch [6/20], Step [150/500], Loss: 0.0660\n",
      "Epoch [6/20], Step [200/500], Loss: 0.0157\n",
      "Epoch [6/20], Step [250/500], Loss: 0.0334\n",
      "Epoch [6/20], Step [300/500], Loss: 0.0158\n",
      "Epoch [6/20], Step [350/500], Loss: 0.0423\n",
      "Epoch [6/20], Step [400/500], Loss: 0.0473\n",
      "Epoch [6/20], Step [450/500], Loss: 0.0648\n",
      "Epoch [6/20], Step [500/500], Loss: 0.0390\n",
      "Validation accuracy is: 98.61 %\n",
      "--------------------\n",
      "Epoch [7/20], Step [50/500], Loss: 0.0969\n",
      "Epoch [7/20], Step [100/500], Loss: 0.0471\n",
      "Epoch [7/20], Step [150/500], Loss: 0.0560\n",
      "Epoch [7/20], Step [200/500], Loss: 0.0119\n",
      "Epoch [7/20], Step [250/500], Loss: 0.0223\n",
      "Epoch [7/20], Step [300/500], Loss: 0.0505\n",
      "Epoch [7/20], Step [350/500], Loss: 0.0053\n",
      "Epoch [7/20], Step [400/500], Loss: 0.0335\n",
      "Epoch [7/20], Step [450/500], Loss: 0.1226\n",
      "Epoch [7/20], Step [500/500], Loss: 0.0364\n",
      "Validation accuracy is: 98.65 %\n",
      "--------------------\n",
      "Epoch [8/20], Step [50/500], Loss: 0.0255\n",
      "Epoch [8/20], Step [100/500], Loss: 0.0286\n",
      "Epoch [8/20], Step [150/500], Loss: 0.0252\n",
      "Epoch [8/20], Step [200/500], Loss: 0.0180\n",
      "Epoch [8/20], Step [250/500], Loss: 0.0400\n",
      "Epoch [8/20], Step [300/500], Loss: 0.0455\n",
      "Epoch [8/20], Step [350/500], Loss: 0.0438\n",
      "Epoch [8/20], Step [400/500], Loss: 0.0067\n",
      "Epoch [8/20], Step [450/500], Loss: 0.0811\n",
      "Epoch [8/20], Step [500/500], Loss: 0.0167\n",
      "Validation accuracy is: 98.7 %\n",
      "--------------------\n",
      "Epoch [9/20], Step [50/500], Loss: 0.0259\n",
      "Epoch [9/20], Step [100/500], Loss: 0.1152\n",
      "Epoch [9/20], Step [150/500], Loss: 0.0700\n",
      "Epoch [9/20], Step [200/500], Loss: 0.0528\n",
      "Epoch [9/20], Step [250/500], Loss: 0.0654\n",
      "Epoch [9/20], Step [300/500], Loss: 0.0401\n",
      "Epoch [9/20], Step [350/500], Loss: 0.0193\n",
      "Epoch [9/20], Step [400/500], Loss: 0.0233\n",
      "Epoch [9/20], Step [450/500], Loss: 0.0472\n",
      "Epoch [9/20], Step [500/500], Loss: 0.0176\n",
      "Validation accuracy is: 98.76 %\n",
      "--------------------\n",
      "Epoch [10/20], Step [50/500], Loss: 0.0438\n",
      "Epoch [10/20], Step [100/500], Loss: 0.0129\n",
      "Epoch [10/20], Step [150/500], Loss: 0.0351\n",
      "Epoch [10/20], Step [200/500], Loss: 0.0452\n",
      "Epoch [10/20], Step [250/500], Loss: 0.0318\n",
      "Epoch [10/20], Step [300/500], Loss: 0.0440\n",
      "Epoch [10/20], Step [350/500], Loss: 0.0845\n",
      "Epoch [10/20], Step [400/500], Loss: 0.0629\n",
      "Epoch [10/20], Step [450/500], Loss: 0.0825\n",
      "Epoch [10/20], Step [500/500], Loss: 0.0155\n",
      "Validation accuracy is: 98.64 %\n",
      "--------------------\n",
      "Epoch [11/20], Step [50/500], Loss: 0.0413\n",
      "Epoch [11/20], Step [100/500], Loss: 0.0317\n",
      "Epoch [11/20], Step [150/500], Loss: 0.0523\n",
      "Epoch [11/20], Step [200/500], Loss: 0.0341\n",
      "Epoch [11/20], Step [250/500], Loss: 0.0219\n",
      "Epoch [11/20], Step [300/500], Loss: 0.0421\n",
      "Epoch [11/20], Step [350/500], Loss: 0.0294\n",
      "Epoch [11/20], Step [400/500], Loss: 0.0403\n",
      "Epoch [11/20], Step [450/500], Loss: 0.0141\n",
      "Epoch [11/20], Step [500/500], Loss: 0.0753\n",
      "Validation accuracy is: 98.57 %\n",
      "--------------------\n",
      "Epoch [12/20], Step [50/500], Loss: 0.0723\n",
      "Epoch [12/20], Step [100/500], Loss: 0.0434\n",
      "Epoch [12/20], Step [150/500], Loss: 0.0099\n",
      "Epoch [12/20], Step [200/500], Loss: 0.0403\n",
      "Epoch [12/20], Step [250/500], Loss: 0.0505\n",
      "Epoch [12/20], Step [300/500], Loss: 0.0215\n",
      "Epoch [12/20], Step [350/500], Loss: 0.0273\n",
      "Epoch [12/20], Step [400/500], Loss: 0.0146\n",
      "Epoch [12/20], Step [450/500], Loss: 0.0370\n",
      "Epoch [12/20], Step [500/500], Loss: 0.0931\n",
      "Validation accuracy is: 98.63 %\n",
      "--------------------\n",
      "Epoch [13/20], Step [50/500], Loss: 0.1816\n",
      "Epoch [13/20], Step [100/500], Loss: 0.0295\n",
      "Epoch [13/20], Step [150/500], Loss: 0.0460\n",
      "Epoch [13/20], Step [200/500], Loss: 0.0214\n",
      "Epoch [13/20], Step [250/500], Loss: 0.0413\n",
      "Epoch [13/20], Step [300/500], Loss: 0.0108\n",
      "Epoch [13/20], Step [350/500], Loss: 0.0964\n",
      "Epoch [13/20], Step [400/500], Loss: 0.0586\n",
      "Epoch [13/20], Step [450/500], Loss: 0.0569\n",
      "Epoch [13/20], Step [500/500], Loss: 0.0284\n",
      "Validation accuracy is: 98.74 %\n",
      "--------------------\n",
      "Epoch [14/20], Step [50/500], Loss: 0.0409\n",
      "Epoch [14/20], Step [100/500], Loss: 0.0221\n",
      "Epoch [14/20], Step [150/500], Loss: 0.0231\n",
      "Epoch [14/20], Step [200/500], Loss: 0.0657\n",
      "Epoch [14/20], Step [250/500], Loss: 0.0198\n",
      "Epoch [14/20], Step [300/500], Loss: 0.0358\n",
      "Epoch [14/20], Step [350/500], Loss: 0.0201\n",
      "Epoch [14/20], Step [400/500], Loss: 0.0227\n",
      "Epoch [14/20], Step [450/500], Loss: 0.0320\n",
      "Epoch [14/20], Step [500/500], Loss: 0.0118\n",
      "Validation accuracy is: 98.61 %\n",
      "--------------------\n",
      "Epoch [15/20], Step [50/500], Loss: 0.0227\n",
      "Epoch [15/20], Step [100/500], Loss: 0.0193\n",
      "Epoch [15/20], Step [150/500], Loss: 0.0303\n",
      "Epoch [15/20], Step [200/500], Loss: 0.0821\n",
      "Epoch [15/20], Step [250/500], Loss: 0.0267\n",
      "Epoch [15/20], Step [300/500], Loss: 0.1266\n",
      "Epoch [15/20], Step [350/500], Loss: 0.0857\n",
      "Epoch [15/20], Step [400/500], Loss: 0.1288\n",
      "Epoch [15/20], Step [450/500], Loss: 0.0290\n",
      "Epoch [15/20], Step [500/500], Loss: 0.0472\n",
      "Validation accuracy is: 98.68 %\n",
      "--------------------\n",
      "Epoch [16/20], Step [50/500], Loss: 0.0211\n",
      "Epoch [16/20], Step [100/500], Loss: 0.0200\n",
      "Epoch [16/20], Step [150/500], Loss: 0.0358\n",
      "Epoch [16/20], Step [200/500], Loss: 0.0114\n",
      "Epoch [16/20], Step [250/500], Loss: 0.0076\n",
      "Epoch [16/20], Step [300/500], Loss: 0.0350\n",
      "Epoch [16/20], Step [350/500], Loss: 0.0041\n",
      "Epoch [16/20], Step [400/500], Loss: 0.0235\n",
      "Epoch [16/20], Step [450/500], Loss: 0.0170\n",
      "Epoch [16/20], Step [500/500], Loss: 0.0563\n",
      "Validation accuracy is: 98.76 %\n",
      "--------------------\n",
      "Epoch [17/20], Step [50/500], Loss: 0.0979\n",
      "Epoch [17/20], Step [100/500], Loss: 0.0142\n",
      "Epoch [17/20], Step [150/500], Loss: 0.0962\n",
      "Epoch [17/20], Step [200/500], Loss: 0.0395\n",
      "Epoch [17/20], Step [250/500], Loss: 0.0245\n",
      "Epoch [17/20], Step [300/500], Loss: 0.0391\n",
      "Epoch [17/20], Step [350/500], Loss: 0.0275\n",
      "Epoch [17/20], Step [400/500], Loss: 0.0351\n",
      "Epoch [17/20], Step [450/500], Loss: 0.1032\n",
      "Epoch [17/20], Step [500/500], Loss: 0.0635\n",
      "Validation accuracy is: 98.78 %\n",
      "--------------------\n",
      "Epoch [18/20], Step [50/500], Loss: 0.0515\n",
      "Epoch [18/20], Step [100/500], Loss: 0.0710\n",
      "Epoch [18/20], Step [150/500], Loss: 0.0147\n",
      "Epoch [18/20], Step [200/500], Loss: 0.0105\n",
      "Epoch [18/20], Step [250/500], Loss: 0.0127\n",
      "Epoch [18/20], Step [300/500], Loss: 0.0328\n",
      "Epoch [18/20], Step [350/500], Loss: 0.0516\n",
      "Epoch [18/20], Step [400/500], Loss: 0.0350\n",
      "Epoch [18/20], Step [450/500], Loss: 0.0163\n",
      "Epoch [18/20], Step [500/500], Loss: 0.0387\n",
      "Validation accuracy is: 98.57 %\n",
      "--------------------\n",
      "Epoch [19/20], Step [50/500], Loss: 0.0302\n",
      "Epoch [19/20], Step [100/500], Loss: 0.0076\n",
      "Epoch [19/20], Step [150/500], Loss: 0.0869\n",
      "Epoch [19/20], Step [200/500], Loss: 0.1748\n",
      "Epoch [19/20], Step [250/500], Loss: 0.0723\n",
      "Epoch [19/20], Step [300/500], Loss: 0.0082\n",
      "Epoch [19/20], Step [350/500], Loss: 0.0095\n",
      "Epoch [19/20], Step [400/500], Loss: 0.0208\n",
      "Epoch [19/20], Step [450/500], Loss: 0.0117\n",
      "Epoch [19/20], Step [500/500], Loss: 0.0957\n",
      "Validation accuracy is: 98.4 %\n",
      "--------------------\n",
      "Epoch [20/20], Step [50/500], Loss: 0.0329\n",
      "Epoch [20/20], Step [100/500], Loss: 0.0159\n",
      "Epoch [20/20], Step [150/500], Loss: 0.0067\n",
      "Epoch [20/20], Step [200/500], Loss: 0.0467\n",
      "Epoch [20/20], Step [250/500], Loss: 0.0166\n",
      "Epoch [20/20], Step [300/500], Loss: 0.1185\n",
      "Epoch [20/20], Step [350/500], Loss: 0.0158\n",
      "Epoch [20/20], Step [400/500], Loss: 0.0209\n",
      "Epoch [20/20], Step [450/500], Loss: 0.0172\n",
      "Epoch [20/20], Step [500/500], Loss: 0.0184\n",
      "Validation accuracy is: 98.78 %\n",
      "--------------------\n",
      "Accuracy of the network on the test images: 99.02 %\n",
      "====================\n",
      "Training runtime: 244.973 s\n",
      "Model saved\n",
      "Done.\n"
     ]
    }
   ],
   "source": [
    "# device = torch.device(\"cuda:0\") if torch.cuda.is_available() else torch.device(\"cpu\")\n",
    "# Initialise the model\n",
    "model = Net(input_size, hidden_layers, num_classes).to(device)\n",
    "model.apply(weights_init)\n",
    "running_loss = 0.0\n",
    "loss_plot_y = []\n",
    "loss_plot_x =[]\n",
    "loss_plot_val_y = []\n",
    "loss_plot_val_x =[]\n",
    "lr = learning_rate\n",
    "learning_rate_decay = 0.95\n",
    "accuracy_plot = []\n",
    "total_step = len(train_loader)\n",
    "\n",
    "# Loss function\n",
    "criterion = nn.CrossEntropyLoss()\n",
    "\n",
    "# Optimizer\n",
    "optimizer = torch.optim.Adam(model.parameters(), lr=learning_rate, weight_decay=reg)\n",
    "\n",
    "# For all the epochs.\n",
    "start_cnn = time.time()\n",
    "for epoch in range(n_epochs):\n",
    "        model.train()\n",
    "        for (i, (images, labels)) in enumerate(train_loader):\n",
    "            \n",
    "            images = images.to(device)\n",
    "            labels = labels.to(device)\n",
    "            \n",
    "            # Forward pass\n",
    "            outputs = model(images)\n",
    "            \n",
    "            # Loss calculation\n",
    "            loss = criterion(outputs, labels)\n",
    "\n",
    "            # zeroing the gradients\n",
    "            optimizer.zero_grad()\n",
    "            \n",
    "            # Backpropagate the loss\n",
    "            loss.backward()\n",
    "            \n",
    "            # Update the weights\n",
    "            optimizer.step()\n",
    "            running_loss += loss.item()\n",
    "            if (i + 1) % 50 == 0:\n",
    "                print ('Epoch [{}/{}], Step [{}/{}], Loss: {:.4f}'.format(epoch\n",
    "                        + 1, n_epochs, i + 1, total_step, loss.item()))\n",
    "        loss_plot_y.append(running_loss / len(train_loader))\n",
    "                #loss_plot_x.append(epoch * total_step + i)\n",
    "        running_loss = 0.0\n",
    "        loss_plot_x.append(epoch)\n",
    "        lr *= learning_rate_decay\n",
    "        update_lr(optimizer, lr)\n",
    "        \n",
    "        # Doing the validation step.\n",
    "        model.eval()\n",
    "        with torch.no_grad():\n",
    "            correct = 0\n",
    "            total = 0\n",
    "            for (images, labels) in val_loader:\n",
    "                images = images.to(device)\n",
    "                labels = labels.to(device)\n",
    "                outputs = model(images)\n",
    "                (_, predicted) = torch.max(outputs.data, 1)\n",
    "                total += labels.size(0)\n",
    "                correct += (predicted == labels).sum().item()\n",
    "                loss = criterion(outputs, labels)\n",
    "                running_loss += loss.item()\n",
    "            loss_plot_val_y.append(running_loss / len(val_loader))\n",
    "            accuracy_plot.append(100 * correct / total)\n",
    "\n",
    "            print('Validation accuracy is: {} %'.format(100 * correct / total))\n",
    "            print('-'*20)\n",
    "        running_loss=0.0\n",
    "\n",
    "# Testing the model, although we only use the validation accuracy for selecting the best hyperparameters\n",
    "model.eval()\n",
    "with torch.no_grad():\n",
    "    correct = 0\n",
    "    total = 0\n",
    "    for (images, labels) in test_loader:\n",
    "        images = images.to(device)\n",
    "        labels = labels.to(device)\n",
    "        outputs = model(images)\n",
    "        (_, predicted) = torch.max(outputs.data, 1)\n",
    "        total += labels.size(0)\n",
    "        correct += (predicted == labels).sum().item()\n",
    "\n",
    "\n",
    "    print ('Accuracy of the network on the test images: {} %'.format(\n",
    "            100 * correct / total))\n",
    "end_cnn = time.time()\n",
    "print(\"=\"*20)\n",
    "print(f\"Training runtime: {end_cnn - start_cnn:.3f} s\")\n",
    "\n",
    "# Saving the model\n",
    "torch.save(model.state_dict(), \"undefended_model.pth\")\n",
    "print(\"Model saved\")\n",
    "print(\"Done.\")"
   ]
  },
  {
   "cell_type": "code",
   "execution_count": 12,
   "metadata": {
    "colab": {
     "base_uri": "https://localhost:8080/"
    },
    "id": "PuhSeR0LDVBo",
    "outputId": "b7d1b7c8-6f47-4b23-bed3-8bf9275b8b0a"
   },
   "outputs": [
    {
     "name": "stdout",
     "output_type": "stream",
     "text": [
      "Accuracy of the network on the test images: 99.02 %\n"
     ]
    }
   ],
   "source": [
    "# Running the test loop for the best model and reporting test accuracy.\n",
    "model = Net(input_size, hidden_layers, num_classes).to(device)\n",
    "state_dict = torch.load('undefended_model.pth', map_location=device)\n",
    "model.load_state_dict(state_dict)\n",
    "model.eval()\n",
    "with torch.no_grad():\n",
    "    correct = 0\n",
    "    total = 0\n",
    "    for (images, labels) in test_loader:\n",
    "        images = images.to(device)\n",
    "        labels = labels.to(device)\n",
    "        outputs = model(images)\n",
    "        (_, predicted) = torch.max(outputs.data, 1)\n",
    "        total += labels.size(0)\n",
    "        correct += (predicted == labels).sum().item()\n",
    "\n",
    "\n",
    "    print ('Accuracy of the network on the test images: {} %'.format(\n",
    "            100 * correct / total))"
   ]
  },
  {
   "cell_type": "markdown",
   "metadata": {
    "id": "DEQrdyLHsUIu"
   },
   "source": [
    "## 1.2: Implementing the FGSM attack (7 Points)\n",
    "\n",
    "We now want to attack the model trained in the previous step. We will start with the FGSM attack as a simple example. \n",
    "\n",
    "Please implement the FGSM attack mentioned in the lecture. \n",
    "\n",
    "More details: https://arxiv.org/pdf/1412.6572.pdf\n"
   ]
  },
  {
   "cell_type": "code",
   "execution_count": 13,
   "metadata": {
    "id": "gcVZnUNbRKOz"
   },
   "outputs": [],
   "source": [
    "def fgsm_attack(image, epsilon, data_grad):\n",
    "    # Collect the element-wise sign of the data gradient\n",
    "    sign_data_grad = data_grad.sign()\n",
    "    # Create the perturbed image by adjusting each pixel of the input image\n",
    "    perturbed_image = image + epsilon*sign_data_grad\n",
    "    # Adding clipping to maintain [0,1] range\n",
    "    perturbed_image = torch.clamp(perturbed_image, 0, 1)\n",
    "    # Return the perturbed image\n",
    "    return perturbed_image"
   ]
  },
  {
   "cell_type": "code",
   "execution_count": 14,
   "metadata": {
    "id": "BhMH6yPRdlph"
   },
   "outputs": [],
   "source": [
    "test_loader = torch.utils.data.DataLoader(\n",
    "    datasets.MNIST('.', train=False, download=True, transform=transforms.Compose([\n",
    "            transforms.ToTensor(),\n",
    "            ])),\n",
    "        batch_size=1, shuffle=False)"
   ]
  },
  {
   "cell_type": "markdown",
   "metadata": {
    "id": "RNpI3oUoO1wE"
   },
   "source": [
    "## 1.3: Adversarial sample set (7 Points)\n",
    "\n",
    "* Please generate a dataset containing at least 1,000 adversarial examples using FGSM.\n",
    "\n",
    "* Please vary the perturbation budget (3 variants) and generate 1,000 adversarial examples for each. \n",
    "    * **Hint**: you can choose epsilons within, e.g., = [.05, .1, .15, .2, .25, .3],  using MNIST pixel values in the interval       [0, 1]\n",
    "\n",
    "* Compute the accuracy of each attack set. "
   ]
  },
  {
   "cell_type": "code",
   "execution_count": 15,
   "metadata": {
    "id": "lDfmT1N-GFD0"
   },
   "outputs": [],
   "source": [
    "epsilon_list = [0,0.05,0.15,0.30]"
   ]
  },
  {
   "cell_type": "code",
   "execution_count": 16,
   "metadata": {
    "id": "VdhQReZvRS55"
   },
   "outputs": [],
   "source": [
    "def test_perturbation(epsilon):\n",
    "    correct = 0\n",
    "    total = 0\n",
    "    adv_examples = []\n",
    "    label_list =[]\n",
    "    criterion = nn.CrossEntropyLoss()\n",
    "    \n",
    "    # Optimizer\n",
    "    optimizer = torch.optim.Adam(model.parameters(), lr=learning_rate, weight_decay=reg)\n",
    "    for (images, labels) in test_loader:\n",
    "        images = images.to(device)\n",
    "        labels = labels.to(device)\n",
    "\n",
    "        images.requires_grad = True\n",
    "        outputs = model(images)\n",
    "        (_, predicted) = torch.max(outputs.data, 1)\n",
    "        if predicted.item() != labels.item():\n",
    "            continue\n",
    "        \n",
    "        # Loss calculation\n",
    "        loss = criterion(outputs, labels)\n",
    "\n",
    "        # zeroing the gradients\n",
    "        model.zero_grad()\n",
    "        \n",
    "        # Backpropagate the loss\n",
    "        loss.backward()\n",
    "        data_grad = images.grad.data\n",
    "\n",
    "        # Call FGSM Attack\n",
    "        perturbed_data = fgsm_attack(images, epsilon, data_grad)\n",
    "      \n",
    "        # Re-classify the perturbed image\n",
    "        pert_output = model(perturbed_data)\n",
    "        (_, perturb_predicted) = torch.max(pert_output.data, 1)\n",
    "        \n",
    "        if perturb_predicted.item() == labels.item():\n",
    "                correct += 1\n",
    "                # Special case for saving 0 epsilon examples\n",
    "                if (epsilon == epsilon_list[0]) and labels.item() not in label_list and (len(label_list)<=10):\n",
    "                    adv_ex = perturbed_data.squeeze().detach().cpu().numpy()\n",
    "                    adv_examples.append((labels.item(), perturb_predicted.item(), adv_ex))\n",
    "                    label_list.append(labels.item())\n",
    "        else:\n",
    "                # Save some adv examples for visualization later\n",
    "                if labels.item() not in label_list and (len(label_list)<=10):\n",
    "                    adv_ex = perturbed_data.squeeze().detach().cpu().numpy()\n",
    "                    adv_examples.append( (labels.item(), perturb_predicted.item(), adv_ex) )\n",
    "                    label_list.append(labels.item())\n",
    "    final_acc = correct/float(len(test_loader))\n",
    "    adv_examples.sort(key=lambda x:x[0],reverse=False)\n",
    "    print(\"Epsilon: {}\\tTest Accuracy = {} / {} = {}\".format(epsilon, correct, len(test_loader), final_acc))\n",
    "    return adv_examples,final_acc"
   ]
  },
  {
   "cell_type": "code",
   "execution_count": 17,
   "metadata": {
    "colab": {
     "base_uri": "https://localhost:8080/"
    },
    "id": "GbmbDRZYJtjX",
    "outputId": "cdc1f73c-42c9-4973-e1cc-721dc0f4d4dd"
   },
   "outputs": [
    {
     "name": "stdout",
     "output_type": "stream",
     "text": [
      "Epsilon: 0\tTest Accuracy = 9902 / 10000 = 0.9902\n",
      "Epsilon: 0.05\tTest Accuracy = 9638 / 10000 = 0.9638\n",
      "Epsilon: 0.15\tTest Accuracy = 7108 / 10000 = 0.7108\n",
      "Epsilon: 0.3\tTest Accuracy = 383 / 10000 = 0.0383\n"
     ]
    }
   ],
   "source": [
    "epsilon_list = [0,0.05,0.15,0.30]\n",
    "all_examples=[]\n",
    "epsilon_run={}\n",
    "epsilon_acc={}\n",
    "for epsilon in epsilon_list:\n",
    "    start_time = time.time()\n",
    "    adv_examples, final_acc = test_perturbation(epsilon)\n",
    "    all_examples.append(adv_examples)\n",
    "    run_time = time.time() - start_time\n",
    "    epsilon_run[epsilon] = run_time\n",
    "    epsilon_acc[epsilon] = final_acc"
   ]
  },
  {
   "cell_type": "markdown",
   "metadata": {
    "id": "Ex3qQp3JolD1"
   },
   "source": [
    "## 1.4: Visualizing the results (7 Points)\n",
    "\n",
    "* Please chose one sample for each class (for example the first when iterating the test data) and plot the (ten) adversarial examples as well as the predicted label (before and after the attack)\n",
    "\n",
    "* Please repeat the visualization for the three sets you have created "
   ]
  },
  {
   "cell_type": "code",
   "execution_count": 18,
   "metadata": {
    "colab": {
     "base_uri": "https://localhost:8080/",
     "height": 555
    },
    "id": "UqAdsGGP-kVY",
    "outputId": "c5923108-6603-4613-95ed-17dbdd2349bc"
   },
   "outputs": [
    {
     "data": {
      "image/png": "[encoded data removed]",
      "text/plain": [
       "<Figure size 864x864 with 40 Axes>"
      ]
     },
     "metadata": {},
     "output_type": "display_data"
    }
   ],
   "source": [
    "count=0\n",
    "plt.figure(figsize=(12,12))\n",
    "for i in range(len(all_examples)):\n",
    "    adv_examples = all_examples[i]\n",
    "    \n",
    "    for j in range(len(adv_examples)):\n",
    "        count+=1\n",
    "        plt.subplot(5, 10, count)\n",
    "        plt.xticks([], [])\n",
    "        plt.yticks([], [])\n",
    "        \n",
    "        \n",
    "        a,b, ex = adv_examples[j]\n",
    "        plt.title(\"True:{}\\n Pred:{}\".format(a, b))\n",
    "        plt.imshow(ex, cmap=\"gray\")\n",
    "    plt.text(-300, -15, \"Eps: {}\\n\".format(epsilon_list[i]), fontsize=15)\n",
    "# plt.tight_layout()                  "
   ]
  },
  {
   "cell_type": "markdown",
   "metadata": {
    "id": "_iR_sOUp6Wjt"
   },
   "source": [
    "## 1.5: Analyzing the results (5 Points)\n",
    "\n",
    "Please write a brief summary of your findings.  \n",
    "\n",
    "* Does the attack always succeed (the model makes wrong prediction on the adversarial sample)? What is the relationship between the attack success rate and the perturbation budget?\n",
    "* How about the computation cost of the attack? (you can report the time in second) \n",
    "* Does the attack require white-box access to the model?\n",
    "* Feel free to report your results via tables or figures, and mention any other interesting observations \n",
    "\n"
   ]
  },
  {
   "cell_type": "markdown",
   "metadata": {
    "id": "Znt_H6Ww6Wjt"
   },
   "source": [
    "**Your answers go here**\n",
    "\n",
    "\n",
    "*   Attack doesn't always succeed especially for low perturbation budget. For example, perturbation budget of 0.05 gives a drop of 3% in accuracy (99% to 96.38%). We observe that the attack success rate is tightly coupled with the perturbation budget. More the epsilon value, higher will be the attack success rate. \n",
    "*   The computation costs of the attacks is given below in a table format.\n",
    "\n",
    "\n",
    "*   The attacker requires white-box access to the model as he needs the gradients with respect to the input data, which can only be achieved if he has full access to the training weights and loss functions.\n",
    "*   We have plotted a figure below which shows **'Accuracy vs Epsilon'**. We see that accuracy drops sharply after epsilon value of 0.15.\n",
    "\n",
    "\n",
    "\n"
   ]
  },
  {
   "cell_type": "code",
   "execution_count": 19,
   "metadata": {
    "colab": {
     "base_uri": "https://localhost:8080/",
     "height": 350
    },
    "id": "eGkp0B0PO1wJ",
    "outputId": "c7b6406d-7aef-4907-c4bf-d5afc30fa0a6"
   },
   "outputs": [
    {
     "data": {
      "image/png": "[encoded data removed]",
      "text/plain": [
       "<Figure size 648x360 with 1 Axes>"
      ]
     },
     "metadata": {
      "needs_background": "light"
     },
     "output_type": "display_data"
    }
   ],
   "source": [
    "fig = plt.figure(figsize=(9,5))\n",
    "plt.plot(list(epsilon_acc.keys()), list(epsilon_acc.values()), marker='o')\n",
    "plt.title(\"Accuracy vs Epsilon\")\n",
    "plt.xlabel(\"Epsilon\")\n",
    "plt.ylabel(\"Accuracy\")\n",
    "plt.grid()\n",
    "plt.show()"
   ]
  },
  {
   "cell_type": "code",
   "execution_count": 20,
   "metadata": {
    "colab": {
     "base_uri": "https://localhost:8080/",
     "height": 291
    },
    "id": "N-OA-HzE9ACE",
    "outputId": "b0bd3827-03ef-492e-91d3-06969a6916fb"
   },
   "outputs": [
    {
     "name": "stdout",
     "output_type": "stream",
     "text": [
      "Collecting ipy_table\n",
      "  Downloading ipy_table-1.15.1.tar.gz (18 kB)\n",
      "Building wheels for collected packages: ipy-table\n",
      "  Building wheel for ipy-table (setup.py) ... \u001b[?25l\u001b[?25hdone\n",
      "  Created wheel for ipy-table: filename=ipy_table-1.15.1-py3-none-any.whl size=18761 sha256=2d2873698ff0d55361a59d337a27d984e736944f3b6cb2d206b79ce74c50fec6\n",
      "  Stored in directory: /root/.cache/pip/wheels/fb/81/d5/d4c54527f5ad92e9958d2cf736bd5401ad686fe3ac9cb7c0d5\n",
      "Successfully built ipy-table\n",
      "Installing collected packages: ipy-table\n",
      "Successfully installed ipy-table-1.15.1\n"
     ]
    },
    {
     "data": {
      "text/html": [
       "<table border=\"1\" cellpadding=\"3\" cellspacing=\"0\"  style=\"border:black; border-collapse:collapse;\"><tr><td  style=\"border-left: 1px solid;border-right: 1px solid;border-top: 1px solid;border-bottom: 1px solid;\">Epsilon</td><td  style=\"border-left: 1px solid;border-right: 1px solid;border-top: 1px solid;border-bottom: 1px solid;\">Run-time</td></tr><tr><td  style=\"border-left: 1px solid;border-right: 1px solid;border-top: 1px solid;border-bottom: 1px solid;\">0</td><td  style=\"border-left: 1px solid;border-right: 1px solid;border-top: 1px solid;border-bottom: 1px solid;\">31.0512</td></tr><tr><td  style=\"border-left: 1px solid;border-right: 1px solid;border-top: 1px solid;border-bottom: 1px solid;\">0.0500</td><td  style=\"border-left: 1px solid;border-right: 1px solid;border-top: 1px solid;border-bottom: 1px solid;\">30.6665</td></tr><tr><td  style=\"border-left: 1px solid;border-right: 1px solid;border-top: 1px solid;border-bottom: 1px solid;\">0.1500</td><td  style=\"border-left: 1px solid;border-right: 1px solid;border-top: 1px solid;border-bottom: 1px solid;\">30.4450</td></tr><tr><td  style=\"border-left: 1px solid;border-right: 1px solid;border-top: 1px solid;border-bottom: 1px solid;\">0.3000</td><td  style=\"border-left: 1px solid;border-right: 1px solid;border-top: 1px solid;border-bottom: 1px solid;\">30.5521</td></tr></table>"
      ],
      "text/plain": [
       "<ipy_table.ipy_table.IpyTable at 0x7fec08c481d0>"
      ]
     },
     "execution_count": 20,
     "metadata": {},
     "output_type": "execute_result"
    }
   ],
   "source": [
    "!pip install ipy_table\n",
    "from ipy_table import *\n",
    "temp = []\n",
    "run_time_list = []\n",
    "\n",
    "# convert the dictionary to a list\n",
    "run_time_list.append(['Epsilon','Run-time'])\n",
    "for key, value in epsilon_run.items():\n",
    "    temp = [key,value]\n",
    "    run_time_list.append(temp)\n",
    "\n",
    "\n",
    "# create table with make_table\n",
    "make_table(run_time_list)"
   ]
  },
  {
   "cell_type": "markdown",
   "metadata": {
    "id": "KJUmrv5Bymij"
   },
   "source": [
    "# 2. Defending an ML model (35 points) \n",
    "\n",
    "So far, we have focused on attacking an ML model. In this section, we want you to defend your model. \n"
   ]
  },
  {
   "cell_type": "markdown",
   "metadata": {
    "id": "0gHUFK6Mymik"
   },
   "source": [
    "## 2.1: Implementing the adversarial training defense (20 Points)\n",
    "\n",
    "* We would like to ask you to implement the adversarial training defense (https://arxiv.org/pdf/1412.6572.pdf) mentioned in the lecture. \n",
    "\n",
    "* You can use the **FGSM adversarial training** method (i.e., train on FGSM examples). \n",
    "\n",
    "* You can also check the adversarial training implementation in other papers, e.g., http://proceedings.mlr.press/v97/pang19a/pang19a.pdf \n",
    "\n",
    "* Choose a certain **maximum perturbation budget** during training that is in the middle of the range you have experimented with before. \n",
    "\n",
    "* We do not require the defense to work perfectly - but what we want you to understand is why it works or why it does not work.\n",
    "\n",
    "**Hint:** You can save the checkpoint of the defended model as we would need it to for the third part of this exercise.\n"
   ]
  },
  {
   "cell_type": "markdown",
   "metadata": {
    "id": "7uBwxdbbGFD5"
   },
   "source": [
    "### Model Fitting"
   ]
  },
  {
   "cell_type": "code",
   "execution_count": 21,
   "metadata": {
    "colab": {
     "base_uri": "https://localhost:8080/"
    },
    "id": "NaGRB754GFD6",
    "outputId": "aa368c22-7237-4bfb-d3d5-98199ce3cdcf"
   },
   "outputs": [
    {
     "name": "stdout",
     "output_type": "stream",
     "text": [
      "Loading dataset....\n",
      "Done\n"
     ]
    }
   ],
   "source": [
    "# Prepare the data\n",
    "print(\"Loading dataset....\")\n",
    "\n",
    "\n",
    "# Loading MNIST dataset using torchvision.datasets\n",
    "train_set = torchvision.datasets.MNIST(root='.', train=True, transform=transforms.ToTensor(), download=True)\n",
    "train_set, valid_set = torch.utils.data.random_split(train_set, [50000, 10000])\n",
    "test_set = torchvision.datasets.MNIST(root='.', train=False, transform=transforms.ToTensor(), download=True)\n",
    "\n",
    "data = {\n",
    "    'train_set': train_set,\n",
    "    'valid_set': valid_set,\n",
    "    'test_set': test_set\n",
    "}\n",
    "print('Done')"
   ]
  },
  {
   "cell_type": "code",
   "execution_count": 22,
   "metadata": {
    "id": "DD0UalSeymim"
   },
   "outputs": [],
   "source": [
    "class Parameters:\n",
    "\n",
    "    # Model parameters\n",
    "    dropout: float = 0.3\n",
    "    save_model: bool = True\n",
    "    out_dir: str = 'cnn_adv_model'\n",
    "\n",
    "    # Training parameters\n",
    "    epochs: int = 20\n",
    "    batch_size: int = 100\n",
    "    reg: float = 0.001\n",
    "    learning_rate: float = 2e-3\n",
    "    \n",
    "    # FGSM param\n",
    "    train_epsilon=0.15\n",
    "    \n",
    "\n",
    "class Run:\n",
    "    '''Training, evaluation and metrics calculation'''\n",
    "    \n",
    "    def update_lr(optimizer, lr):\n",
    "        for param_group in optimizer.param_groups:\n",
    "            param_group['lr'] = lr \n",
    "    \n",
    "    @staticmethod\n",
    "    def train(model, data, params):\n",
    "\n",
    "        # Initialize loaders\n",
    "        loader_train = DataLoader(\n",
    "                         dataset=data['train_set'],\n",
    "                         batch_size=params.batch_size,\n",
    "                         shuffle=True)\n",
    "        loader_valid = DataLoader(\n",
    "                         dataset=data['valid_set'],\n",
    "                         batch_size=params.batch_size,\n",
    "                         shuffle=False)\n",
    "        \n",
    "        loader_test = DataLoader(\n",
    "                         dataset=data['test_set'],\n",
    "                         batch_size=params.batch_size,\n",
    "                         shuffle=False)\n",
    "\n",
    "\n",
    "        # FGSM param\n",
    "        epsilon = params.train_epsilon\n",
    "        # Define optimizer\n",
    "        lr = params.learning_rate\n",
    "        learning_rate_decay = 0.95\n",
    "        optimizer = torch.optim.Adam(model.parameters(), lr=lr, weight_decay=params.reg)\n",
    "        \n",
    "        # Loss function\n",
    "        criterion = nn.CrossEntropyLoss()\n",
    "\n",
    "        # Tracking best validation accuracy\n",
    "        best_accuracy = 0\n",
    "        \n",
    "        print(\"\\nStart adversarial training...\")\n",
    "        print(f\"Epsilon:{params.train_epsilon}\")\n",
    "        print(f\"{'Epoch':^7} | {'Train Acc':^10} | {'Val Loss':^10} | {'Val Acc':^9} | {'Test Acc':^9} | {'Elapsed':^9}\")\n",
    "        print(\"-\"*80)\n",
    "    \n",
    "        # Starts training phase\n",
    "        train_loss_list = []\n",
    "        val_loss_list = []\n",
    "        test_acc_list = []\n",
    "        \n",
    "        \n",
    "        for epoch in range(params.epochs):\n",
    "            # =======================================\n",
    "            #               Training\n",
    "            # =======================================\n",
    "\n",
    "            # Tracking time and loss\n",
    "            t0_epoch = time.time()\n",
    "            total_loss = 0\n",
    "            adv_train_accuracy = 0\n",
    "            \n",
    "            # Put the model into training mode\n",
    "            model.train()\n",
    "        \n",
    "            # Starts batch training\n",
    "            for x_batch, y_batch in loader_train:\n",
    "                #=============== Normal Training ===============\n",
    "                # Load batch to GPU\n",
    "                x_batch = x_batch.to(DEVICE)\n",
    "                y_batch = y_batch.to(DEVICE)\n",
    "                x_batch.requires_grad = True\n",
    "                # Feed the model\n",
    "                y_pred = model(x_batch)\n",
    "\n",
    "                # Compute loss and accumulate the loss values\n",
    "                loss = criterion(y_pred, y_batch)\n",
    "\n",
    "                # Clean gradients\n",
    "                optimizer.zero_grad()\n",
    "\n",
    "                # Gradients calculation\n",
    "                loss.backward()\n",
    "\n",
    "                # Gradients update\n",
    "                optimizer.step()\n",
    "                data_grad = x_batch.grad.data\n",
    "                #=================================================\n",
    "                \n",
    "                #=============== Adversarial Training ===============\n",
    "                x_batch = fgsm_attack(x_batch, params.train_epsilon, data_grad)\n",
    "                # Load batch to GPU\n",
    "                x_batch = x_batch.to(DEVICE)\n",
    "                y_batch = y_batch.to(DEVICE)\n",
    "                \n",
    "                # Feed the model\n",
    "                y_pred_adv = model(x_batch)\n",
    "\n",
    "                # Compute loss and accumulate the loss values\n",
    "                loss = criterion(y_pred_adv, y_batch)\n",
    "                total_loss += loss.item()\n",
    "\n",
    "                # Clean gradients\n",
    "                optimizer.zero_grad()\n",
    "\n",
    "                # Gradients calculation\n",
    "                loss.backward()\n",
    "\n",
    "                # Gradients update\n",
    "                optimizer.step()\n",
    "                #=======================================================\n",
    "                \n",
    "                # Training metrics (for one batch)\n",
    "                corrects_adv = (torch.max(y_pred_adv, 1)[1].view(y_batch.size()).data == y_batch.data).sum()\n",
    "                acc = 100.0 * corrects_adv/loader_train.batch_size\n",
    "                adv_train_accuracy += acc\n",
    "\n",
    "            # Calculate the average loss over the entire training data for entire batch\n",
    "            avg_train_loss = total_loss / len(loader_train)\n",
    "            train_loss_list.append(avg_train_loss)\n",
    "            \n",
    "            # Compute accuracy averaged over all batches for an epoch\n",
    "            adv_train_accuracy = adv_train_accuracy / len(loader_train)\n",
    "            \n",
    "            lr *= learning_rate_decay\n",
    "            update_lr(optimizer, lr)\n",
    "            \n",
    "            # =======================================\n",
    "            #               Evaluation\n",
    "            # =======================================\n",
    "            \n",
    "            # After the completion of each training epoch, measure the model's\n",
    "            # performance on our validation set.\n",
    "        \n",
    "            # Validation metrics\n",
    "            val_loss, val_accuracy = evaluation(model, loader_valid, epsilon)\n",
    "            _, test_accuracy = evaluation(model, loader_test, epsilon)\n",
    "            val_loss_list.append(val_loss)\n",
    "            test_acc_list.append(test_accuracy)\n",
    "            \n",
    "            # Track the best accuracy\n",
    "            if val_accuracy > best_accuracy:\n",
    "                best_accuracy = val_accuracy\n",
    "                # Save the best model\n",
    "                os.makedirs(params.out_dir, exist_ok=True)\n",
    "                if params.save_model:\n",
    "                    # Also keeping the best model with one name to make it easy to load it later\n",
    "                    PATH = params.out_dir + \"/best_defended_model\" + \".pth\"\n",
    "                    torch.save(model.state_dict(), PATH)\n",
    "                    PATH = params.out_dir + \"/adv_model_epochs_\" + str(epoch+1) +\"_batch_size_\" + str(params.batch_size) + \".pth\"\n",
    "                    torch.save(model.state_dict(), PATH)\n",
    "\n",
    "\n",
    "            # Print performance over the entire training data\n",
    "            time_elapsed = time.time() - t0_epoch\n",
    "            print(f\"{epoch + 1:^7} | {adv_train_accuracy:^10.2f} | {val_loss:^10.6f} | {val_accuracy:^9.2f} | {test_accuracy:^9.2f} | {time_elapsed:^9.2f}\")\n",
    "            \n",
    "            \n",
    "        print(\"\\n\")\n",
    "        print(f\"Training complete! \\nBest accuracy at 0.15 epsilon training: {best_accuracy:.2f} %.\")\n",
    "        print(\"Best model saved: \",PATH)\n",
    "        return train_loss_list, val_loss_list, test_acc_list,PATH\n",
    "\n",
    "\n",
    "def evaluation(model, loader_valid, epsilon):\n",
    "\n",
    "    # Set the model in evaluation mode\n",
    "    model.eval()\n",
    "    corrects, avg_loss = 0, 0\n",
    "    \n",
    "    # Loss function\n",
    "    criterion = nn.CrossEntropyLoss()\n",
    "    \n",
    "    # Start evaluation phase   \n",
    "    for x_batch, y_batch in loader_valid:\n",
    "        \n",
    "        x_batch = x_batch.to(DEVICE); \n",
    "        y_batch = y_batch.to(DEVICE)\n",
    "        x_batch.requires_grad = True\n",
    "        y_pred = model(x_batch)\n",
    "        loss = criterion(y_pred, y_batch)\n",
    "        model.zero_grad()\n",
    "        loss.backward()\n",
    "        \n",
    "        data_grad = x_batch.grad.data\n",
    "        x_batch = fgsm_attack(x_batch, epsilon, data_grad)\n",
    "        y_pred = model(x_batch)\n",
    "        loss = criterion(y_pred, y_batch)\n",
    "\n",
    "        avg_loss += loss.item()\n",
    "        corrects += (torch.max(y_pred, 1) [1].view(y_batch.size()).data == y_batch.data).sum()\n",
    "            \n",
    "    size = len(loader_valid.dataset)\n",
    "    avg_loss /= size\n",
    "    accuracy = 100.0 * corrects/size\n",
    "    \n",
    "    return avg_loss, accuracy"
   ]
  },
  {
   "cell_type": "code",
   "execution_count": 23,
   "metadata": {
    "colab": {
     "base_uri": "https://localhost:8080/"
    },
    "id": "L2ztn4fpGFD7",
    "outputId": "632ffa94-a04a-414b-d4d3-940182b88778",
    "scrolled": false
   },
   "outputs": [
    {
     "name": "stdout",
     "output_type": "stream",
     "text": [
      "\n",
      "Start adversarial training...\n",
      "Epsilon:0.15\n",
      " Epoch  | Train Acc  |  Val Loss  |  Val Acc  | Test Acc  |  Elapsed \n",
      "--------------------------------------------------------------------------------\n",
      "   1    |   84.01    |  0.003369  |   89.17   |   89.33   |   19.83  \n",
      "   2    |   90.80    |  0.002975  |   90.53   |   90.84   |   19.97  \n",
      "   3    |   91.61    |  0.002789  |   91.17   |   91.42   |   19.72  \n",
      "   4    |   92.06    |  0.002766  |   91.01   |   91.48   |   19.83  \n",
      "   5    |   92.57    |  0.002543  |   91.47   |   92.00   |   19.70  \n",
      "   6    |   92.89    |  0.002573  |   91.84   |   92.08   |   19.72  \n",
      "   7    |   92.91    |  0.002553  |   91.48   |   92.23   |   19.72  \n",
      "   8    |   93.15    |  0.002519  |   91.82   |   92.41   |   19.78  \n",
      "   9    |   93.41    |  0.002441  |   92.07   |   92.31   |   19.84  \n",
      "  10    |   93.30    |  0.002374  |   92.30   |   92.70   |   19.83  \n",
      "  11    |   93.60    |  0.002424  |   92.26   |   92.78   |   19.70  \n",
      "  12    |   93.64    |  0.002254  |   92.64   |   93.17   |   19.71  \n",
      "  13    |   93.82    |  0.002298  |   92.38   |   93.22   |   19.68  \n",
      "  14    |   93.84    |  0.002152  |   93.03   |   93.57   |   19.75  \n",
      "  15    |   93.91    |  0.002140  |   92.97   |   93.43   |   19.79  \n",
      "  16    |   93.99    |  0.002405  |   92.20   |   92.90   |   19.73  \n",
      "  17    |   94.03    |  0.002317  |   92.70   |   92.99   |   19.73  \n",
      "  18    |   94.13    |  0.002114  |   93.51   |   93.41   |   19.81  \n",
      "  19    |   94.18    |  0.002188  |   92.80   |   93.15   |   19.68  \n",
      "  20    |   94.23    |  0.002144  |   93.07   |   93.32   |   19.76  \n",
      "\n",
      "\n",
      "Training complete! \n",
      "Best accuracy at 0.15 epsilon training: 93.51 %.\n",
      "Best model saved:  cnn_adv_model/adv_model_epochs_18_batch_size_100.pth\n",
      "*** Training Complete ***\n",
      "Training runtime: 395.30 s\n"
     ]
    }
   ],
   "source": [
    "# Initialize the model\n",
    "DEVICE = device\n",
    "start = time.time()\n",
    "model = Net(input_size, hidden_layers, num_classes)\n",
    "model.to(DEVICE)\n",
    "# print(model)\n",
    "\n",
    "# Train and Evaluate the pipeline\n",
    "train_loss_list, val_loss_list, test_acc_list, PATH = Run().train(model, data, Parameters)\n",
    "end = time.time()\n",
    "print(\"*** Training Complete ***\")\n",
    "print(\"Training runtime: {:.2f} s\".format(end-start))"
   ]
  },
  {
   "cell_type": "markdown",
   "metadata": {
    "id": "v05uS0fd6Wju"
   },
   "source": [
    "## 2.2: Evaluation (10 Points)\n",
    "\n",
    "* Craft adversarial examples using the **defended** model. This entails at least 1,000 examples crafted via FGSM. \n",
    "    * Create one set using a budget that is **less than (within)** the one used in training.\n",
    "    * Create another set using a budget that is **higher than** the one used in training. \n",
    "    * You can use two values of epsilons from question 1.3 \n",
    "    \n",
    "* Evaluate the **defended** model on these two adversarial examples sets. \n"
   ]
  },
  {
   "cell_type": "code",
   "execution_count": 24,
   "metadata": {
    "colab": {
     "base_uri": "https://localhost:8080/"
    },
    "id": "n01iAaDyC5U4",
    "outputId": "219beb18-a7de-4ee9-ee81-a56160a1d270"
   },
   "outputs": [
    {
     "name": "stdout",
     "output_type": "stream",
     "text": [
      "Test acc on lower perturbation budget(eps=0.05): 97.76%.\n",
      "Test acc on higher perturbation budget(eps=0.3): 64.09%.\n"
     ]
    }
   ],
   "source": [
    "eps_lb = 0.05\n",
    "eps_hb = 0.3\n",
    "loader_test = DataLoader(\n",
    "                         dataset=data['test_set'],\n",
    "                         batch_size=Parameters.batch_size,\n",
    "                         shuffle=False)\n",
    "\n",
    "model = Net(input_size, hidden_layers, num_classes).to(device)\n",
    "\n",
    "# Load the best model and test the defended model on two perturbation budget [0.05, 0.3]\n",
    "state_dict = torch.load(PATH)\n",
    "model.load_state_dict(state_dict)\n",
    "model.eval()\n",
    "_, test_accuracy_lb = evaluation(model, loader_test, eps_lb)\n",
    "_, test_accuracy_hb = evaluation(model, loader_test, eps_hb)\n",
    "print(f\"Test acc on lower perturbation budget(eps=0.05): {test_accuracy_lb:.2f}%.\")\n",
    "print(f\"Test acc on higher perturbation budget(eps=0.3): {test_accuracy_hb:.2f}%.\")"
   ]
  },
  {
   "cell_type": "markdown",
   "metadata": {
    "id": "0TYhZ1Kv6Wju"
   },
   "source": [
    "## 2.3 Discussion (5 points)\n",
    "\n",
    "* How successful was the defense against the attack compared to the undefended model? How do you interpret the difference?\n",
    "* How did the two sets differ?"
   ]
  },
  {
   "cell_type": "markdown",
   "metadata": {
    "id": "BGR55SSl6Wju"
   },
   "source": [
    "**Your answers go here**\n",
    "The defended sucessfully managed to combat the adervsarial sample while testing. We trained the adversarial model on clean data as well as adervarial samples on a fixed perturbation budget i.e. $\\epsilon=0.15$. We further tested the model on perturbed images for $\\epsilon=0.05$ and $\\epsilon=0.3$. \n",
    "\n",
    "|Epsilon | Test acc|\n",
    "|--------|---------|\n",
    "|0.05    |97.76%    |\n",
    "|0.15    |93.32%    |\n",
    "|0.3     |64.09%    |\n",
    "\n",
    "We observe that increasing the perturbation budget more than the model was trained on results in a reduced test accuracy. We think the difference is due to the fact that the model has already seen perturbations of and below a particular epsilon type and thus model does not gets attacked with epsilon lower than 0.15. But when we increase the epsilon accuracy decreases because the images get more perturbations added than the model was trained on and thus with higher epsilon we are able to attack the model again. Although not as severely as the undefended model.\n",
    "\n",
    "\n",
    "One major issue with this type of defense mechanism is that it works on a specific type of attack that the model is trained on."
   ]
  },
  {
   "cell_type": "markdown",
   "metadata": {
    "id": "uzVYfn3R6Wjv"
   },
   "source": [
    "# 3: I-FGSM attack (35 points) \n",
    "\n",
    "* FGSM is one of the simplest and earliest attacks. Since then, many more advanced attacks have been proposed. \n",
    "* One of them is the Iterative-FGSM (https://arxiv.org/pdf/1607.02533.pdf), where the attack is repeated multiple times.\n",
    "* In this part, we ask you to please implement the iterative FGSM attack. \n",
    "\n"
   ]
  },
  {
   "cell_type": "markdown",
   "metadata": {
    "id": "ZffXYvVg6Wjv"
   },
   "source": [
    "## 3.1: Implementing the I-FGSM attack (10 Points)\n",
    "\n",
    "**Hints**: \n",
    "\n",
    "* Your code should have an attack loop. At each step, the FGSM attack that you have implemented before is computed using a small step.\n",
    "* After each step, you should perform a per-pixel clipping to make sure the image is in the allowed range, and that the perturbation is within budget.\n"
   ]
  },
  {
   "cell_type": "code",
   "execution_count": 25,
   "metadata": {
    "id": "TDx1b82e6Wjv"
   },
   "outputs": [],
   "source": [
    "def iterative_fgsm(images, model, labels, alpha, n_iters, epsilon):\n",
    "\n",
    "  original_images = images.clone().detach().to(images.device)\n",
    "  images.requires_grad = True\n",
    "  for i in range(n_iters):\n",
    "    model.zero_grad()\n",
    "\n",
    "    output = model(images)\n",
    "    loss = nn.CrossEntropyLoss()(output, labels)\n",
    "    loss.backward()\n",
    "\n",
    "    # Getting the perturbation\n",
    "    perturbation = alpha*images.grad.data.sign()\n",
    "\n",
    "    # Making the overall perturbations for the image within the perturbation budget.\n",
    "    perturbation = torch.clamp(images.data + perturbation - original_images, -epsilon, epsilon)\n",
    "\n",
    "    # Adding the overall perturbation to the image\n",
    "    images.data = original_images + perturbation\n",
    "\n",
    "    # Cliping image in the required range\n",
    "    images.data = torch.clamp(images.data, 0, 1)\n",
    "\n",
    "    images.grad.data.zero_()\n",
    "\n",
    "  return images.detach()"
   ]
  },
  {
   "cell_type": "markdown",
   "metadata": {
    "id": "6XF556Vp6Wjv"
   },
   "source": [
    "## 3.2: Attack the undefended model (5 Points)\n",
    "\n",
    "* We will first attack the **undefended model** (i.e., without adversarial training).\n",
    "\n",
    "* Choose one perturbation budget from Question **1.3** for comparison. \n",
    "\n",
    "    * Hint: A simple way to choose the small step is to divide the total budget by the number of steps (e.g., 10).\n",
    "\n",
    "* Please generate 1000 adversarial examples using the **undefended** model and the **I-FGSM** you implemented. \n",
    "\n",
    "* Please compute the accuracy of the adversarial set on the **undefended** model. "
   ]
  },
  {
   "cell_type": "code",
   "execution_count": 26,
   "metadata": {
    "id": "V4CTGm3nGFD-"
   },
   "outputs": [],
   "source": [
    "test_loader = torch.utils.data.DataLoader(\n",
    "    datasets.MNIST('.', train=False, download=True, transform=transforms.Compose([\n",
    "            transforms.ToTensor(),\n",
    "            ])),\n",
    "        batch_size=1, shuffle=False)"
   ]
  },
  {
   "cell_type": "code",
   "execution_count": 27,
   "metadata": {
    "colab": {
     "base_uri": "https://localhost:8080/"
    },
    "id": "bHy_SEUxGFD-",
    "outputId": "8edc5986-e6cf-44a4-c680-84d411a9d6dc"
   },
   "outputs": [
    {
     "data": {
      "text/plain": [
       "Net(\n",
       "  (conv1): Sequential(\n",
       "    (0): Conv2d(1, 32, kernel_size=(3, 3), stride=(1, 1), padding=(1, 1))\n",
       "    (1): ReLU()\n",
       "    (2): MaxPool2d(kernel_size=2, stride=2, padding=0, dilation=1, ceil_mode=False)\n",
       "    (3): Dropout(p=0.3, inplace=False)\n",
       "  )\n",
       "  (conv2): Sequential(\n",
       "    (0): Conv2d(32, 64, kernel_size=(3, 3), stride=(1, 1), padding=(1, 1))\n",
       "    (1): ReLU()\n",
       "    (2): MaxPool2d(kernel_size=2, stride=2, padding=0, dilation=1, ceil_mode=False)\n",
       "  )\n",
       "  (out): Linear(in_features=3136, out_features=10, bias=True)\n",
       ")"
      ]
     },
     "execution_count": 27,
     "metadata": {},
     "output_type": "execute_result"
    }
   ],
   "source": [
    "# Loading the undefended model trained in part 1.\n",
    "\n",
    "model_undefended = Net(input_size, hidden_layers, num_classes).to(device)\n",
    "PATH_UNDEFENDED = \"undefended_model.pth\"\n",
    "state_dict = torch.load(PATH_UNDEFENDED, map_location=device)\n",
    "model_undefended.load_state_dict(state_dict)\n",
    "model_undefended.eval()"
   ]
  },
  {
   "cell_type": "code",
   "execution_count": 28,
   "metadata": {
    "id": "5RQpqHDTGFD-"
   },
   "outputs": [],
   "source": [
    "# Function to do iterative fgsm attack on the models and then compute accuracy using the attacked images.\n",
    "def test_model_on_iterative_fgsm_attack(model, alpha, n_iters, epsilon):\n",
    "    correct = 0\n",
    "    for (images, labels) in test_loader:\n",
    "        images = images.to(device)\n",
    "        labels = labels.to(device)\n",
    "\n",
    "        per_image = iterative_fgsm(images, model, labels, alpha=alpha, n_iters=n_iters, epsilon=epsilon)\n",
    "        pert_output = model(per_image)\n",
    "        (_, perturb_predicted) = torch.max(pert_output.data, 1)\n",
    "\n",
    "        # Adding 1 to correct because we have set batch size to 1 so we are processing each image one by one        \n",
    "        if perturb_predicted.item() == labels.item():\n",
    "                correct += 1\n",
    "        \n",
    "    final_acc = correct/float(len(test_loader))\n",
    "    print(\"Alpha:{}, n_iters: {}, Epsilon: {}\\tTest Accuracy = {} / {} = {}\".format(alpha, n_iters, epsilon, correct, len(test_loader), final_acc))\n",
    "    return final_acc"
   ]
  },
  {
   "cell_type": "code",
   "execution_count": 29,
   "metadata": {
    "colab": {
     "base_uri": "https://localhost:8080/"
    },
    "id": "3E2Rh3QyGFD_",
    "outputId": "589b87c3-9bdc-4c9b-d778-4b380e992a64"
   },
   "outputs": [
    {
     "name": "stdout",
     "output_type": "stream",
     "text": [
      "Alpha:0.015, n_iters: 10, Epsilon: 0.15\tTest Accuracy = 4334 / 10000 = 0.4334\n",
      "Time taken:  212.86191964149475\n"
     ]
    }
   ],
   "source": [
    "# Choosing epsilon 0.15 for comparison with Task 1. Alpha choosen as (Epsilon / num_iterations)\n",
    "start_time = time.time()\n",
    "test_model_on_iterative_fgsm_attack(model_undefended, alpha=0.015, n_iters=10, epsilon=0.15)\n",
    "print(\"Time taken: \", time.time() - start_time)"
   ]
  },
  {
   "cell_type": "code",
   "execution_count": 30,
   "metadata": {
    "colab": {
     "base_uri": "https://localhost:8080/"
    },
    "id": "uxB_UqdPeNaJ",
    "outputId": "a426c66a-1db5-4e53-fffc-20ed2ec89ca0"
   },
   "outputs": [
    {
     "name": "stdout",
     "output_type": "stream",
     "text": [
      "Alpha:0.015, n_iters: 20, Epsilon: 0.15\tTest Accuracy = 2986 / 10000 = 0.2986\n",
      "Time taken:  412.15719389915466\n"
     ]
    }
   ],
   "source": [
    "start_time = time.time()\n",
    "test_model_on_iterative_fgsm_attack(model_undefended, alpha=0.015, n_iters=20, epsilon=0.15)\n",
    "print(\"Time taken: \", time.time() - start_time)"
   ]
  },
  {
   "cell_type": "code",
   "execution_count": 31,
   "metadata": {
    "colab": {
     "base_uri": "https://localhost:8080/"
    },
    "id": "g-u-LtDnoq9B",
    "outputId": "0d03ea9c-e2c3-493f-96b0-b958f9193b1a"
   },
   "outputs": [
    {
     "name": "stdout",
     "output_type": "stream",
     "text": [
      "Alpha:0.015, n_iters: 30, Epsilon: 0.15\tTest Accuracy = 2722 / 10000 = 0.2722\n",
      "Time taken:  611.6320159435272\n"
     ]
    }
   ],
   "source": [
    "start_time = time.time()\n",
    "test_model_on_iterative_fgsm_attack(model_undefended, alpha=0.015, n_iters=30, epsilon=0.15)\n",
    "print(\"Time taken: \", time.time() - start_time)"
   ]
  },
  {
   "cell_type": "code",
   "execution_count": 32,
   "metadata": {
    "colab": {
     "base_uri": "https://localhost:8080/"
    },
    "id": "EHV-hY4leNcv",
    "outputId": "d0856f3f-0e4c-45ac-d45f-f1070b679451"
   },
   "outputs": [
    {
     "name": "stdout",
     "output_type": "stream",
     "text": [
      "Alpha:0.005, n_iters: 10, Epsilon: 0.05\tTest Accuracy = 9572 / 10000 = 0.9572\n",
      "Time taken:  211.86547589302063\n"
     ]
    }
   ],
   "source": [
    "start_time = time.time()\n",
    "test_model_on_iterative_fgsm_attack(model_undefended, alpha=0.005, n_iters=10, epsilon=0.05)\n",
    "print(\"Time taken: \", time.time() - start_time)"
   ]
  },
  {
   "cell_type": "code",
   "execution_count": 33,
   "metadata": {
    "colab": {
     "base_uri": "https://localhost:8080/"
    },
    "id": "lbPG4o1S6Wjv",
    "outputId": "45268e38-9223-48f4-8f0b-0ea1324e821e"
   },
   "outputs": [
    {
     "name": "stdout",
     "output_type": "stream",
     "text": [
      "Alpha:0.03, n_iters: 10, Epsilon: 0.3\tTest Accuracy = 0 / 10000 = 0.0\n",
      "Time taken:  210.96434235572815\n"
     ]
    }
   ],
   "source": [
    "start_time = time.time()\n",
    "test_model_on_iterative_fgsm_attack(model_undefended, alpha=0.03, n_iters=10, epsilon=0.3)\n",
    "print(\"Time taken: \", time.time() - start_time)"
   ]
  },
  {
   "cell_type": "markdown",
   "metadata": {
    "id": "00-9WZEa6Wjw"
   },
   "source": [
    "### 3.2.1: Findings and comparison with FGSM (8 points)\n",
    "\n",
    "* Please report your findings. How successful was the attack? \n",
    "\n",
    "* What do you expect when increasing the number of steps? (you can experiment with different parameters of the attack and report your findings) \n",
    "\n",
    "* Compare with the basic FGSM. Using the same perturbation budget and using the same model, which attack is more successful? Why do you think this is the case? What about the computation time?\n",
    "\n",
    "* Feel free to report any interesting observations. "
   ]
  },
  {
   "cell_type": "markdown",
   "metadata": {
    "id": "dYPSxtlk6Wjw"
   },
   "source": [
    "The attack on the undefended model was very successful. In all of the cases the attack was able to reduce the accuracy of the model. We observed that increasing the number of steps while keeping epsilon and alpha constant lead to a more severe attack and reduced the accuracy even further. \n",
    "\n",
    "The table below shows the accuracy of the model on the IFGSM attack. Also some values are written here for the FGSM attack from Task 1 so that comparison can be done:\n",
    "\n",
    "| Attack | Parameters | Accuracy | Runtime |\n",
    "| --- | ----------- | | |\n",
    "| FGSM | $ϵ$=0.05 | 96.38% | 30 |\n",
    "| FGSM | $ϵ$=0.15 | 71.08% | 30 |\n",
    "| FGSM | $ϵ$=0.30 | 3.83% | 30 |\n",
    "| IFGSM | $α$=0.005 , n_iters=10 , $ϵ$=0.05 | 95.72% | 212 |\n",
    "| IFGSM | $α$=0.015 , n_iters=10 , $ϵ$=0.15 | 43.34% | 212 |\n",
    "| IFGSM | $α$=0.015 , n_iters=20 , $ϵ$=0.15 | 29.86% | 412 |\n",
    "| IFGSM | $α$=0.015 , n_iters=30 , $ϵ$=0.15 | 27.22% | 611 |\n",
    "| IFGSM | $α$=0.03 , n_iters=10 , $ϵ$=0.3 | 0% | 211 |\n",
    "\n",
    "In comparison with basic FGSM, using the same perturbation budget, the attack was always better with the iterative method and lead to a lower accuracy of the model. For example, for perturbation budget epsilon=0.15, in case of FGSM the accuracy was 71.08%, while with Iterative-FGSM, the accuracy for epsilon=0.15 was 43.34%. We obtained similar results for other epsilon values where Iterative-FGSM attack lead to a lower test accuracy as compared to the FGSM attack.  \n",
    "\n",
    "We think this is the case because in case of Iterative-FGSM, the model is taking smaller but more fine grained steps to increase the loss value, thus it is able to find better perturbations to attack the model by slowy navigating the loss surface instead of just going in a single step like in FGSM. Thus the  attack gets better because of smaller but better and fine-grained navigation of loss surface.\n",
    "\n",
    "The computation of Iterative FGSM was always much more than the FGSM attack. The time taken by iterative attacks was a lot higher than the one by FGSM attack. This further increased with the number of steps. The runtime can be seen in the table above."
   ]
  },
  {
   "cell_type": "markdown",
   "metadata": {
    "id": "1mixjG7O6Wjw"
   },
   "source": [
    "## 3.3: Attack the defended model (5 poinst) \n",
    "\n",
    "* In the previous question, we attacked the **undefended model**. \n",
    "\n",
    "* Now, we want to explore how successful the previous implemented defense (FGSM adversarial training) is againts this new attack. (we will not implement a new defense here, we will be reusing your previous checkpoint of the **defended model**)\n",
    "\n",
    "\n",
    "* Use the **defended model** to create one set of adversarial examples. Use a perturbation budget from Question **2.2** for comparison.  "
   ]
  },
  {
   "cell_type": "code",
   "execution_count": 34,
   "metadata": {
    "colab": {
     "base_uri": "https://localhost:8080/"
    },
    "id": "FRdq0mXE6Wjw",
    "outputId": "4fa71609-3d3c-4ef5-f0cf-8990f8bde087"
   },
   "outputs": [
    {
     "data": {
      "text/plain": [
       "Net(\n",
       "  (conv1): Sequential(\n",
       "    (0): Conv2d(1, 32, kernel_size=(3, 3), stride=(1, 1), padding=(1, 1))\n",
       "    (1): ReLU()\n",
       "    (2): MaxPool2d(kernel_size=2, stride=2, padding=0, dilation=1, ceil_mode=False)\n",
       "    (3): Dropout(p=0.3, inplace=False)\n",
       "  )\n",
       "  (conv2): Sequential(\n",
       "    (0): Conv2d(32, 64, kernel_size=(3, 3), stride=(1, 1), padding=(1, 1))\n",
       "    (1): ReLU()\n",
       "    (2): MaxPool2d(kernel_size=2, stride=2, padding=0, dilation=1, ceil_mode=False)\n",
       "  )\n",
       "  (out): Linear(in_features=3136, out_features=10, bias=True)\n",
       ")"
      ]
     },
     "execution_count": 34,
     "metadata": {},
     "output_type": "execute_result"
    }
   ],
   "source": [
    "# Loading the defended model.\n",
    "\n",
    "model_defended = Net(input_size, hidden_layers, num_classes).to(device)\n",
    "PATH_DEFENDED = \"cnn_adv_model/best_defended_model.pth\"\n",
    "state_dict = torch.load(PATH_DEFENDED, map_location=device)\n",
    "model_defended.load_state_dict(state_dict)\n",
    "model_defended.eval()"
   ]
  },
  {
   "cell_type": "code",
   "execution_count": 35,
   "metadata": {
    "colab": {
     "base_uri": "https://localhost:8080/"
    },
    "id": "QeXDgXG0exya",
    "outputId": "578bdab5-3cdb-41d3-fe84-572ea761f260"
   },
   "outputs": [
    {
     "name": "stdout",
     "output_type": "stream",
     "text": [
      "Alpha:0.015, n_iters: 10, Epsilon: 0.15\tTest Accuracy = 9153 / 10000 = 0.9153\n",
      "Time taken:  210.8948106765747\n"
     ]
    }
   ],
   "source": [
    "# Passing the defended model to the previously defined function\n",
    "start_time = time.time()\n",
    "test_model_on_iterative_fgsm_attack(model_defended, alpha=0.015, n_iters=10, epsilon=0.15)\n",
    "print(\"Time taken: \", time.time() - start_time)"
   ]
  },
  {
   "cell_type": "code",
   "execution_count": 36,
   "metadata": {
    "colab": {
     "base_uri": "https://localhost:8080/"
    },
    "id": "0T-tvkYSkh8g",
    "outputId": "6a70137d-17c5-41e8-9e49-52f543b15141"
   },
   "outputs": [
    {
     "name": "stdout",
     "output_type": "stream",
     "text": [
      "Alpha:0.015, n_iters: 20, Epsilon: 0.15\tTest Accuracy = 9063 / 10000 = 0.9063\n",
      "Time taken:  414.11099004745483\n"
     ]
    }
   ],
   "source": [
    "start_time = time.time()\n",
    "test_model_on_iterative_fgsm_attack(model_defended, alpha=0.015, n_iters=20, epsilon=0.15)\n",
    "print(\"Time taken: \", time.time() - start_time)"
   ]
  },
  {
   "cell_type": "code",
   "execution_count": 37,
   "metadata": {
    "colab": {
     "base_uri": "https://localhost:8080/"
    },
    "id": "J6gbsOG0o35-",
    "outputId": "e870622c-d25a-4215-8e12-de1ba53367c2"
   },
   "outputs": [
    {
     "name": "stdout",
     "output_type": "stream",
     "text": [
      "Alpha:0.015, n_iters: 30, Epsilon: 0.15\tTest Accuracy = 9052 / 10000 = 0.9052\n",
      "Time taken:  619.6938369274139\n"
     ]
    }
   ],
   "source": [
    "start_time = time.time()\n",
    "test_model_on_iterative_fgsm_attack(model_defended, alpha=0.015, n_iters=30, epsilon=0.15)\n",
    "print(\"Time taken: \", time.time() - start_time)"
   ]
  },
  {
   "cell_type": "code",
   "execution_count": 39,
   "metadata": {
    "colab": {
     "base_uri": "https://localhost:8080/"
    },
    "id": "4b6K5KOYkfRq",
    "outputId": "e0f1eec4-2c77-4c9a-953d-24feaab78ac2"
   },
   "outputs": [
    {
     "name": "stdout",
     "output_type": "stream",
     "text": [
      "Alpha:0.005, n_iters: 10, Epsilon: 0.05\tTest Accuracy = 9761 / 10000 = 0.9761\n",
      "Time taken:  211.37415504455566\n"
     ]
    }
   ],
   "source": [
    "start_time = time.time()\n",
    "test_model_on_iterative_fgsm_attack(model_defended, alpha=0.005, n_iters=10, epsilon=0.05)\n",
    "print(\"Time taken: \", time.time() - start_time)"
   ]
  },
  {
   "cell_type": "code",
   "execution_count": 40,
   "metadata": {
    "colab": {
     "base_uri": "https://localhost:8080/"
    },
    "id": "OBCQPjQ8fm5k",
    "outputId": "4b3af4f3-d114-4b12-a063-78c30698de64"
   },
   "outputs": [
    {
     "name": "stdout",
     "output_type": "stream",
     "text": [
      "Alpha:0.03, n_iters: 10, Epsilon: 0.3\tTest Accuracy = 577 / 10000 = 0.0577\n",
      "Time taken:  212.12315392494202\n"
     ]
    }
   ],
   "source": [
    "start_time = time.time()\n",
    "test_model_on_iterative_fgsm_attack(model_defended, alpha=0.03, n_iters=10, epsilon=0.3)\n",
    "print(\"Time taken: \", time.time() - start_time)"
   ]
  },
  {
   "cell_type": "markdown",
   "metadata": {
    "id": "Q4i2EBNj6Wjw"
   },
   "source": [
    "### 3.3.1: Discussion (7 points) \n",
    "* Please report your results. How successful was the attack on the defended model? \n",
    "* Compare it with the success of the FGSM attack on the defended model. What do you observe? How do you interpret the difference? \n",
    "* How do you think you can improve the defense against I-FGSM attack?\n",
    "\n",
    "\n",
    "* Feel free to state any interesting findings you encountered during this project."
   ]
  },
  {
   "cell_type": "markdown",
   "metadata": {
    "id": "Jas2osxv6Wjw"
   },
   "source": [
    "The attack on the defended model was not very successfull. The IFGSM attacked reduced accuracy but not by much. Especially when the perturbation budget was within the range on which the model was trained on, the Iterative FGSM attack was not able to reduce the accuracy by a large amount. There was a drop in accuracy when using the epsilon=0.15 for by using IFGSM (2-3 % accuracy decrease) but it was not as sharp as the decrease in accuracy for the undefended model. \n",
    "\n",
    "The table below shows the accuracy of the defended model on the Iterative FGSM attacks. We also add results from Task 2 for comparison here. Note that the defended model was trained in Task 2 with epsilon=0.15\n",
    "\n",
    "| Attack | Parameters | Accuracy |\n",
    "| --- | ----------- | | \n",
    "| FGSM | $ϵ$=0.05 | 97.76% |\n",
    "| FGSM | $ϵ$=0.15 | 93.32% |\n",
    "| FGSM | $ϵ$=0.30 | 64.09% |\n",
    "| IFGSM | $α$=0.005 , n_iters=10 , $ϵ$=0.05 | 97.61% |\n",
    "| IFGSM | $α$=0.015 , n_iters=10 , $ϵ$=0.15 | 91.53% |\n",
    "| IFGSM | $α$=0.015 , n_iters=20 , $ϵ$=0.15 | 90.63% |\n",
    "| IFGSM | $α$=0.015 , n_iters=30 , $ϵ$=0.15 | 90.52% |\n",
    "| IFGSM | $α$=0.02 , n_iters=10 , $ϵ$=0.2 | 5.77% |\n",
    "\n",
    "We saw in task 2 that FGSM attack was not successful on the defended model. We think that was because the model was trained on FGSM generated examples and model then became resistant to that type of attacks (within the perturbation budget on which the model was trained on). The iterative FGSM was still able to reduce the accuracy on the defended model. The decrease in accuracy in IFGSM might be due to more steps taken in IFGSM which found some of the examples on which the attack was possible by more fine grained attack. The more fine grained steps in IFGSM helped to reduce the accuracy for the defended model. We also observed that increasing the number of steps in IFGSM also didnt help in reducing the accuracy by a lot. We also observe that as soon as we increase the perturbation budget from which the model was trained on, the accuracy of the model again starts decreasing and the model gets attacked.\n",
    "\n",
    "To improve the defense againt the IFGSM attack, we can train on examples generated using the IFGSM attack. We should also use a higher perturbation budget to train the model. But in this case also some examples or some attack vectors might be missed by the model and newer attacks might be generated."
   ]
  },
  {
   "cell_type": "code",
   "execution_count": null,
   "metadata": {
    "id": "65RL6sc5quDg"
   },
   "outputs": [],
   "source": []
  }
 ],
 "metadata": {
  "accelerator": "GPU",
  "colab": {
   "collapsed_sections": [],
   "name": "2021_11_12_Task_02.ipynb",
   "provenance": []
  },
  "kernelspec": {
   "display_name": "Python 3",
   "language": "python",
   "name": "python3"
  },
  "language_info": {
   "codemirror_mode": {
    "name": "ipython",
    "version": 3
   },
   "file_extension": ".py",
   "mimetype": "text/x-python",
   "name": "python",
   "nbconvert_exporter": "python",
   "pygments_lexer": "ipython3",
   "version": "3.8.5"
  }
 },
 "nbformat": 4,
 "nbformat_minor": 1
}
