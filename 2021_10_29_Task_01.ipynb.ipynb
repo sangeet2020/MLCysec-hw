{
 "cells": [
  {
   "cell_type": "markdown",
   "metadata": {
    "id": "cgZ547yT01FM"
   },
   "source": [
    "# 2.3: Model [M3] (Neural Networks): *fill-this-in* (25 points)\n",
    "\n"
   ]
  },
  {
   "cell_type": "markdown",
   "metadata": {
    "id": "EFslEvfu01FM"
   },
   "source": [
    "### 2.3.1: Hyper-parameters\n",
    "\n",
    "Define hyper-parameters for your method here"
   ]
  },
  {
   "cell_type": "code",
   "execution_count": 12,
   "metadata": {
    "id": "lzSHcgtr01FM"
   },
   "outputs": [],
   "source": [
    "#\n",
    "#\n",
    "# ------- Your Code -------\n",
    "#\n",
    "#\n",
    "batch_size_train = 100 \n",
    "batch_size_test = 100\n",
    "n_epochs = 30 \n",
    "# other parameters ...\n",
    "learning_rate = 2e-3\n",
    "input_size=1\n",
    "hidden_layers=[32,64,128]\n",
    "drop_prob=0.3\n",
    "num_classes=10\n",
    "reg=0.001\n",
    "device = torch.device(\"cuda:0\") if torch.cuda.is_available() else torch.device(\"cpu\")\n",
    "def weights_init(m):\n",
    "    if type(m) == nn.Linear:\n",
    "        m.weight.data.normal_(0.0, 1e-3)\n",
    "        m.bias.data.fill_(0.)\n",
    "def update_lr(optimizer, lr):\n",
    "    for param_group in optimizer.param_groups:\n",
    "        param_group['lr'] = lr        "
   ]
  },
  {
   "cell_type": "markdown",
   "metadata": {
    "id": "UIkrTWQ001FM"
   },
   "source": [
    "### 2.3.2: Data Preprocessing\n"
   ]
  },
  {
   "cell_type": "code",
   "execution_count": 8,
   "metadata": {
    "id": "p13RLv7u01FM"
   },
   "outputs": [],
   "source": [
    "#\n",
    "#\n",
    "# ------- Your Code -------\n",
    "#\n",
    "# e.g. normalize, flatten input data.\n",
    "transform = transforms.Compose([\n",
    "                               torchvision.transforms.ToTensor(),\n",
    "                               torchvision.transforms.Normalize(\n",
    "                                 (0.1307,), (0.3081,))\n",
    "                             ])\n",
    "train_set = torchvision.datasets.MNIST(root='.', train=True, transform=transform, download=True)\n",
    "train_set, valid_set = torch.utils.data.random_split(train_set, [50000, 10000])\n",
    "test_set = torchvision.datasets.MNIST(root='.', train=False, transform=transform, download=True)\n",
    "train_loader = torch.utils.data.DataLoader(dataset=train_set,\n",
    "                                           batch_size=batch_size_train,\n",
    "                                           shuffle=True)\n",
    "val_loader = torch.utils.data.DataLoader(dataset=valid_set,\n",
    "                                           batch_size=batch_size_train,\n",
    "                                           shuffle=False)\n",
    "\n",
    "test_loader = torch.utils.data.DataLoader(dataset=test_set,\n",
    "                                          batch_size=batch_size_test,\n",
    "                                          shuffle=False)"
   ]
  },
  {
   "cell_type": "code",
   "execution_count": 9,
   "metadata": {
    "colab": {
     "base_uri": "https://localhost:8080/"
    },
    "id": "nr4TV5312Gco",
    "outputId": "996b6b9e-9424-433d-9edc-e7df4060a088"
   },
   "outputs": [
    {
     "data": {
      "text/plain": [
       "500"
      ]
     },
     "execution_count": 9,
     "metadata": {},
     "output_type": "execute_result"
    }
   ],
   "source": [
    "len(train_loader)"
   ]
  },
  {
   "cell_type": "markdown",
   "metadata": {
    "id": "Cp0nyS8C01FM"
   },
   "source": [
    "### 2.3.3: Model\n",
    "\n",
    "Define your model here"
   ]
  },
  {
   "cell_type": "code",
   "execution_count": 10,
   "metadata": {
    "id": "T6kHJuH401FM"
   },
   "outputs": [],
   "source": [
    "class Net(nn.Module):\n",
    "    def __init__(self, input_size, hidden_layers, num_classes):\n",
    "        super(Net, self).__init__()\n",
    "        self.conv1 = nn.Sequential(\n",
    "            nn.Conv2d(\n",
    "                in_channels=1,\n",
    "                out_channels=32,\n",
    "                kernel_size=3,\n",
    "                stride=1,\n",
    "                padding=1,\n",
    "            ),\n",
    "            nn.ReLU(),\n",
    "            nn.MaxPool2d(kernel_size=2),\n",
    "            nn.Dropout(drop_prob)\n",
    "        )\n",
    "        self.conv2 = nn.Sequential(\n",
    "            nn.Conv2d(32, 64, 3, 1, 1),\n",
    "            nn.ReLU(),\n",
    "            nn.MaxPool2d(2),\n",
    "        )\n",
    "        # fully connected layer, output 10 classes\n",
    "        self.out = nn.Linear(64 * 7 * 7, 10)\n",
    "\n",
    "    def forward(self, x):\n",
    "        x = self.conv1(x)\n",
    "        x = self.conv2(x)\n",
    "        # flatten the output of conv2 to (batch_size, 64 * 7 * 7)\n",
    "        x = x.view(x.size(0), -1)\n",
    "        output = self.out(x)\n",
    "        return output  # return x for visualization"
   ]
  },
  {
   "cell_type": "markdown",
   "metadata": {
    "id": "jhzlip-t01FM"
   },
   "source": [
    "### 2.2.4: Fit Model\n"
   ]
  },
  {
   "cell_type": "code",
   "execution_count": 9,
   "metadata": {
    "colab": {
     "base_uri": "https://localhost:8080/"
    },
    "id": "RUWeF4mQ01FM",
    "outputId": "f8d87e6f-5f8b-488a-ca72-f378e0ba3b56"
   },
   "outputs": [
    {
     "name": "stderr",
     "output_type": "stream",
     "text": [
      "/usr/local/lib/python3.7/dist-packages/torch/nn/functional.py:718: UserWarning: Named tensors and all their associated APIs are an experimental feature and subject to change. Please do not use them for anything important until they are released as stable. (Triggered internally at  /pytorch/c10/core/TensorImpl.h:1156.)\n",
      "  return torch.max_pool2d(input, kernel_size, stride, padding, dilation, ceil_mode)\n"
     ]
    },
    {
     "name": "stdout",
     "output_type": "stream",
     "text": [
      "Epoch [1/30], Step [50/500], Loss: 0.3832\n",
      "Epoch [1/30], Step [100/500], Loss: 0.1175\n",
      "Epoch [1/30], Step [150/500], Loss: 0.0407\n",
      "Epoch [1/30], Step [200/500], Loss: 0.1327\n",
      "Epoch [1/30], Step [250/500], Loss: 0.0626\n",
      "Epoch [1/30], Step [300/500], Loss: 0.1273\n",
      "Epoch [1/30], Step [350/500], Loss: 0.0274\n",
      "Epoch [1/30], Step [400/500], Loss: 0.0479\n",
      "Epoch [1/30], Step [450/500], Loss: 0.0311\n",
      "Epoch [1/30], Step [500/500], Loss: 0.0374\n",
      "Validation accuracy is: 97.52 %\n",
      "Epoch [2/30], Step [50/500], Loss: 0.0790\n",
      "Epoch [2/30], Step [100/500], Loss: 0.0517\n",
      "Epoch [2/30], Step [150/500], Loss: 0.0536\n",
      "Epoch [2/30], Step [200/500], Loss: 0.0183\n",
      "Epoch [2/30], Step [250/500], Loss: 0.0525\n",
      "Epoch [2/30], Step [300/500], Loss: 0.0407\n",
      "Epoch [2/30], Step [350/500], Loss: 0.0824\n",
      "Epoch [2/30], Step [400/500], Loss: 0.1178\n",
      "Epoch [2/30], Step [450/500], Loss: 0.0604\n",
      "Epoch [2/30], Step [500/500], Loss: 0.0701\n",
      "Validation accuracy is: 98.48 %\n",
      "Epoch [3/30], Step [50/500], Loss: 0.0773\n",
      "Epoch [3/30], Step [100/500], Loss: 0.1520\n",
      "Epoch [3/30], Step [150/500], Loss: 0.0168\n",
      "Epoch [3/30], Step [200/500], Loss: 0.0230\n",
      "Epoch [3/30], Step [250/500], Loss: 0.0658\n",
      "Epoch [3/30], Step [300/500], Loss: 0.0643\n",
      "Epoch [3/30], Step [350/500], Loss: 0.0916\n",
      "Epoch [3/30], Step [400/500], Loss: 0.0887\n",
      "Epoch [3/30], Step [450/500], Loss: 0.0530\n",
      "Epoch [3/30], Step [500/500], Loss: 0.0109\n",
      "Validation accuracy is: 98.4 %\n",
      "Epoch [4/30], Step [50/500], Loss: 0.0221\n",
      "Epoch [4/30], Step [100/500], Loss: 0.0102\n",
      "Epoch [4/30], Step [150/500], Loss: 0.0549\n",
      "Epoch [4/30], Step [200/500], Loss: 0.0877\n",
      "Epoch [4/30], Step [250/500], Loss: 0.0402\n",
      "Epoch [4/30], Step [300/500], Loss: 0.2074\n",
      "Epoch [4/30], Step [350/500], Loss: 0.0222\n",
      "Epoch [4/30], Step [400/500], Loss: 0.0304\n",
      "Epoch [4/30], Step [450/500], Loss: 0.0923\n",
      "Epoch [4/30], Step [500/500], Loss: 0.0179\n",
      "Validation accuracy is: 98.73 %\n",
      "Epoch [5/30], Step [50/500], Loss: 0.0186\n",
      "Epoch [5/30], Step [100/500], Loss: 0.0490\n",
      "Epoch [5/30], Step [150/500], Loss: 0.0209\n",
      "Epoch [5/30], Step [200/500], Loss: 0.0601\n",
      "Epoch [5/30], Step [250/500], Loss: 0.0739\n",
      "Epoch [5/30], Step [300/500], Loss: 0.0269\n",
      "Epoch [5/30], Step [350/500], Loss: 0.0166\n",
      "Epoch [5/30], Step [400/500], Loss: 0.0548\n",
      "Epoch [5/30], Step [450/500], Loss: 0.0295\n",
      "Epoch [5/30], Step [500/500], Loss: 0.0410\n",
      "Validation accuracy is: 98.65 %\n",
      "Epoch [6/30], Step [50/500], Loss: 0.0107\n",
      "Epoch [6/30], Step [100/500], Loss: 0.0077\n",
      "Epoch [6/30], Step [150/500], Loss: 0.0270\n",
      "Epoch [6/30], Step [200/500], Loss: 0.0102\n",
      "Epoch [6/30], Step [250/500], Loss: 0.0118\n",
      "Epoch [6/30], Step [300/500], Loss: 0.0332\n",
      "Epoch [6/30], Step [350/500], Loss: 0.0328\n",
      "Epoch [6/30], Step [400/500], Loss: 0.0316\n",
      "Epoch [6/30], Step [450/500], Loss: 0.0322\n",
      "Epoch [6/30], Step [500/500], Loss: 0.0222\n",
      "Validation accuracy is: 98.88 %\n",
      "Epoch [7/30], Step [50/500], Loss: 0.0847\n",
      "Epoch [7/30], Step [100/500], Loss: 0.0277\n",
      "Epoch [7/30], Step [150/500], Loss: 0.0548\n",
      "Epoch [7/30], Step [200/500], Loss: 0.0071\n",
      "Epoch [7/30], Step [250/500], Loss: 0.0288\n",
      "Epoch [7/30], Step [300/500], Loss: 0.0508\n",
      "Epoch [7/30], Step [350/500], Loss: 0.0042\n",
      "Epoch [7/30], Step [400/500], Loss: 0.0181\n",
      "Epoch [7/30], Step [450/500], Loss: 0.0770\n",
      "Epoch [7/30], Step [500/500], Loss: 0.0398\n",
      "Validation accuracy is: 98.65 %\n",
      "Epoch [8/30], Step [50/500], Loss: 0.0156\n",
      "Epoch [8/30], Step [100/500], Loss: 0.0144\n",
      "Epoch [8/30], Step [150/500], Loss: 0.0080\n",
      "Epoch [8/30], Step [200/500], Loss: 0.0125\n",
      "Epoch [8/30], Step [250/500], Loss: 0.0078\n",
      "Epoch [8/30], Step [300/500], Loss: 0.0523\n",
      "Epoch [8/30], Step [350/500], Loss: 0.0124\n",
      "Epoch [8/30], Step [400/500], Loss: 0.0032\n",
      "Epoch [8/30], Step [450/500], Loss: 0.0556\n",
      "Epoch [8/30], Step [500/500], Loss: 0.0094\n",
      "Validation accuracy is: 98.98 %\n",
      "Epoch [9/30], Step [50/500], Loss: 0.0074\n",
      "Epoch [9/30], Step [100/500], Loss: 0.1152\n",
      "Epoch [9/30], Step [150/500], Loss: 0.0349\n",
      "Epoch [9/30], Step [200/500], Loss: 0.0460\n",
      "Epoch [9/30], Step [250/500], Loss: 0.0352\n",
      "Epoch [9/30], Step [300/500], Loss: 0.0315\n",
      "Epoch [9/30], Step [350/500], Loss: 0.0178\n",
      "Epoch [9/30], Step [400/500], Loss: 0.0070\n",
      "Epoch [9/30], Step [450/500], Loss: 0.0477\n",
      "Epoch [9/30], Step [500/500], Loss: 0.0053\n",
      "Validation accuracy is: 98.93 %\n",
      "Epoch [10/30], Step [50/500], Loss: 0.0249\n",
      "Epoch [10/30], Step [100/500], Loss: 0.0110\n",
      "Epoch [10/30], Step [150/500], Loss: 0.0233\n",
      "Epoch [10/30], Step [200/500], Loss: 0.0307\n",
      "Epoch [10/30], Step [250/500], Loss: 0.0441\n",
      "Epoch [10/30], Step [300/500], Loss: 0.0196\n",
      "Epoch [10/30], Step [350/500], Loss: 0.1009\n",
      "Epoch [10/30], Step [400/500], Loss: 0.0456\n",
      "Epoch [10/30], Step [450/500], Loss: 0.0614\n",
      "Epoch [10/30], Step [500/500], Loss: 0.0090\n",
      "Validation accuracy is: 98.91 %\n",
      "Epoch [11/30], Step [50/500], Loss: 0.0371\n",
      "Epoch [11/30], Step [100/500], Loss: 0.0400\n",
      "Epoch [11/30], Step [150/500], Loss: 0.0248\n",
      "Epoch [11/30], Step [200/500], Loss: 0.0314\n",
      "Epoch [11/30], Step [250/500], Loss: 0.0075\n",
      "Epoch [11/30], Step [300/500], Loss: 0.0445\n",
      "Epoch [11/30], Step [350/500], Loss: 0.0129\n",
      "Epoch [11/30], Step [400/500], Loss: 0.0359\n",
      "Epoch [11/30], Step [450/500], Loss: 0.0092\n",
      "Epoch [11/30], Step [500/500], Loss: 0.0746\n",
      "Validation accuracy is: 98.87 %\n",
      "Epoch [12/30], Step [50/500], Loss: 0.0653\n",
      "Epoch [12/30], Step [100/500], Loss: 0.0345\n",
      "Epoch [12/30], Step [150/500], Loss: 0.0075\n",
      "Epoch [12/30], Step [200/500], Loss: 0.0596\n",
      "Epoch [12/30], Step [250/500], Loss: 0.0341\n",
      "Epoch [12/30], Step [300/500], Loss: 0.0179\n",
      "Epoch [12/30], Step [350/500], Loss: 0.0282\n",
      "Epoch [12/30], Step [400/500], Loss: 0.0148\n",
      "Epoch [12/30], Step [450/500], Loss: 0.0556\n",
      "Epoch [12/30], Step [500/500], Loss: 0.0415\n",
      "Validation accuracy is: 98.89 %\n",
      "Epoch [13/30], Step [50/500], Loss: 0.1109\n",
      "Epoch [13/30], Step [100/500], Loss: 0.0186\n",
      "Epoch [13/30], Step [150/500], Loss: 0.0373\n",
      "Epoch [13/30], Step [200/500], Loss: 0.0117\n",
      "Epoch [13/30], Step [250/500], Loss: 0.0257\n",
      "Epoch [13/30], Step [300/500], Loss: 0.0044\n",
      "Epoch [13/30], Step [350/500], Loss: 0.0701\n",
      "Epoch [13/30], Step [400/500], Loss: 0.0333\n",
      "Epoch [13/30], Step [450/500], Loss: 0.0344\n",
      "Epoch [13/30], Step [500/500], Loss: 0.0246\n",
      "Validation accuracy is: 98.98 %\n",
      "Epoch [14/30], Step [50/500], Loss: 0.0502\n",
      "Epoch [14/30], Step [100/500], Loss: 0.0189\n",
      "Epoch [14/30], Step [150/500], Loss: 0.0075\n",
      "Epoch [14/30], Step [200/500], Loss: 0.0872\n",
      "Epoch [14/30], Step [250/500], Loss: 0.0064\n",
      "Epoch [14/30], Step [300/500], Loss: 0.0272\n",
      "Epoch [14/30], Step [350/500], Loss: 0.0178\n",
      "Epoch [14/30], Step [400/500], Loss: 0.0207\n",
      "Epoch [14/30], Step [450/500], Loss: 0.0566\n",
      "Epoch [14/30], Step [500/500], Loss: 0.0106\n",
      "Validation accuracy is: 98.83 %\n",
      "Epoch [15/30], Step [50/500], Loss: 0.0154\n",
      "Epoch [15/30], Step [100/500], Loss: 0.0113\n",
      "Epoch [15/30], Step [150/500], Loss: 0.0243\n",
      "Epoch [15/30], Step [200/500], Loss: 0.0469\n",
      "Epoch [15/30], Step [250/500], Loss: 0.0135\n",
      "Epoch [15/30], Step [300/500], Loss: 0.1036\n",
      "Epoch [15/30], Step [350/500], Loss: 0.0668\n",
      "Epoch [15/30], Step [400/500], Loss: 0.1014\n",
      "Epoch [15/30], Step [450/500], Loss: 0.0163\n",
      "Epoch [15/30], Step [500/500], Loss: 0.0270\n",
      "Validation accuracy is: 98.82 %\n",
      "Epoch [16/30], Step [50/500], Loss: 0.0086\n",
      "Epoch [16/30], Step [100/500], Loss: 0.0259\n",
      "Epoch [16/30], Step [150/500], Loss: 0.0387\n",
      "Epoch [16/30], Step [200/500], Loss: 0.0208\n",
      "Epoch [16/30], Step [250/500], Loss: 0.0109\n",
      "Epoch [16/30], Step [300/500], Loss: 0.0424\n",
      "Epoch [16/30], Step [350/500], Loss: 0.0021\n",
      "Epoch [16/30], Step [400/500], Loss: 0.0174\n",
      "Epoch [16/30], Step [450/500], Loss: 0.0217\n",
      "Epoch [16/30], Step [500/500], Loss: 0.0332\n",
      "Validation accuracy is: 98.98 %\n",
      "Epoch [17/30], Step [50/500], Loss: 0.0933\n",
      "Epoch [17/30], Step [100/500], Loss: 0.0083\n",
      "Epoch [17/30], Step [150/500], Loss: 0.0662\n",
      "Epoch [17/30], Step [200/500], Loss: 0.0314\n",
      "Epoch [17/30], Step [250/500], Loss: 0.0179\n",
      "Epoch [17/30], Step [300/500], Loss: 0.0171\n",
      "Epoch [17/30], Step [350/500], Loss: 0.0117\n",
      "Epoch [17/30], Step [400/500], Loss: 0.0217\n",
      "Epoch [17/30], Step [450/500], Loss: 0.1042\n",
      "Epoch [17/30], Step [500/500], Loss: 0.0649\n",
      "Validation accuracy is: 98.95 %\n",
      "Epoch [18/30], Step [50/500], Loss: 0.0132\n",
      "Epoch [18/30], Step [100/500], Loss: 0.0401\n",
      "Epoch [18/30], Step [150/500], Loss: 0.0112\n",
      "Epoch [18/30], Step [200/500], Loss: 0.0039\n",
      "Epoch [18/30], Step [250/500], Loss: 0.0045\n",
      "Epoch [18/30], Step [300/500], Loss: 0.0264\n",
      "Epoch [18/30], Step [350/500], Loss: 0.0475\n",
      "Epoch [18/30], Step [400/500], Loss: 0.0261\n",
      "Epoch [18/30], Step [450/500], Loss: 0.0168\n",
      "Epoch [18/30], Step [500/500], Loss: 0.0230\n",
      "Validation accuracy is: 98.84 %\n",
      "Epoch [19/30], Step [50/500], Loss: 0.0529\n",
      "Epoch [19/30], Step [100/500], Loss: 0.0044\n",
      "Epoch [19/30], Step [150/500], Loss: 0.0803\n",
      "Epoch [19/30], Step [200/500], Loss: 0.1676\n",
      "Epoch [19/30], Step [250/500], Loss: 0.0877\n",
      "Epoch [19/30], Step [300/500], Loss: 0.0062\n",
      "Epoch [19/30], Step [350/500], Loss: 0.0035\n",
      "Epoch [19/30], Step [400/500], Loss: 0.0290\n",
      "Epoch [19/30], Step [450/500], Loss: 0.0141\n",
      "Epoch [19/30], Step [500/500], Loss: 0.0619\n",
      "Validation accuracy is: 98.89 %\n",
      "Epoch [20/30], Step [50/500], Loss: 0.0165\n",
      "Epoch [20/30], Step [100/500], Loss: 0.0079\n",
      "Epoch [20/30], Step [150/500], Loss: 0.0019\n",
      "Epoch [20/30], Step [200/500], Loss: 0.0454\n",
      "Epoch [20/30], Step [250/500], Loss: 0.0127\n",
      "Epoch [20/30], Step [300/500], Loss: 0.1187\n",
      "Epoch [20/30], Step [350/500], Loss: 0.0081\n",
      "Epoch [20/30], Step [400/500], Loss: 0.0125\n",
      "Epoch [20/30], Step [450/500], Loss: 0.0189\n",
      "Epoch [20/30], Step [500/500], Loss: 0.0092\n",
      "Validation accuracy is: 98.87 %\n",
      "Epoch [21/30], Step [50/500], Loss: 0.0138\n",
      "Epoch [21/30], Step [100/500], Loss: 0.0091\n",
      "Epoch [21/30], Step [150/500], Loss: 0.0186\n",
      "Epoch [21/30], Step [200/500], Loss: 0.0213\n",
      "Epoch [21/30], Step [250/500], Loss: 0.0096\n",
      "Epoch [21/30], Step [300/500], Loss: 0.0556\n",
      "Epoch [21/30], Step [350/500], Loss: 0.0047\n",
      "Epoch [21/30], Step [400/500], Loss: 0.0087\n",
      "Epoch [21/30], Step [450/500], Loss: 0.0039\n",
      "Epoch [21/30], Step [500/500], Loss: 0.1189\n",
      "Validation accuracy is: 98.93 %\n",
      "Epoch [22/30], Step [50/500], Loss: 0.0357\n",
      "Epoch [22/30], Step [100/500], Loss: 0.0079\n",
      "Epoch [22/30], Step [150/500], Loss: 0.0303\n",
      "Epoch [22/30], Step [200/500], Loss: 0.0219\n",
      "Epoch [22/30], Step [250/500], Loss: 0.0131\n",
      "Epoch [22/30], Step [300/500], Loss: 0.0088\n",
      "Epoch [22/30], Step [350/500], Loss: 0.0160\n",
      "Epoch [22/30], Step [400/500], Loss: 0.0732\n",
      "Epoch [22/30], Step [450/500], Loss: 0.0080\n",
      "Epoch [22/30], Step [500/500], Loss: 0.0076\n",
      "Validation accuracy is: 98.96 %\n",
      "Epoch [23/30], Step [50/500], Loss: 0.0218\n",
      "Epoch [23/30], Step [100/500], Loss: 0.0141\n",
      "Epoch [23/30], Step [150/500], Loss: 0.0082\n",
      "Epoch [23/30], Step [200/500], Loss: 0.0109\n",
      "Epoch [23/30], Step [250/500], Loss: 0.0871\n",
      "Epoch [23/30], Step [300/500], Loss: 0.0040\n",
      "Epoch [23/30], Step [350/500], Loss: 0.0107\n",
      "Epoch [23/30], Step [400/500], Loss: 0.0064\n",
      "Epoch [23/30], Step [450/500], Loss: 0.0561\n",
      "Epoch [23/30], Step [500/500], Loss: 0.0137\n",
      "Validation accuracy is: 98.94 %\n",
      "Epoch [24/30], Step [50/500], Loss: 0.0162\n",
      "Epoch [24/30], Step [100/500], Loss: 0.0074\n",
      "Epoch [24/30], Step [150/500], Loss: 0.0095\n",
      "Epoch [24/30], Step [200/500], Loss: 0.0147\n",
      "Epoch [24/30], Step [250/500], Loss: 0.0190\n",
      "Epoch [24/30], Step [300/500], Loss: 0.0176\n",
      "Epoch [24/30], Step [350/500], Loss: 0.0257\n",
      "Epoch [24/30], Step [400/500], Loss: 0.1822\n",
      "Epoch [24/30], Step [450/500], Loss: 0.0640\n",
      "Epoch [24/30], Step [500/500], Loss: 0.0270\n",
      "Validation accuracy is: 98.95 %\n",
      "Epoch [25/30], Step [50/500], Loss: 0.0021\n",
      "Epoch [25/30], Step [100/500], Loss: 0.0162\n",
      "Epoch [25/30], Step [150/500], Loss: 0.0262\n",
      "Epoch [25/30], Step [200/500], Loss: 0.0196\n",
      "Epoch [25/30], Step [250/500], Loss: 0.0170\n",
      "Epoch [25/30], Step [300/500], Loss: 0.0208\n",
      "Epoch [25/30], Step [350/500], Loss: 0.0237\n",
      "Epoch [25/30], Step [400/500], Loss: 0.0165\n",
      "Epoch [25/30], Step [450/500], Loss: 0.0107\n",
      "Epoch [25/30], Step [500/500], Loss: 0.0066\n",
      "Validation accuracy is: 98.84 %\n",
      "Epoch [26/30], Step [50/500], Loss: 0.0334\n",
      "Epoch [26/30], Step [100/500], Loss: 0.0254\n",
      "Epoch [26/30], Step [150/500], Loss: 0.0440\n",
      "Epoch [26/30], Step [200/500], Loss: 0.0152\n",
      "Epoch [26/30], Step [250/500], Loss: 0.0106\n",
      "Epoch [26/30], Step [300/500], Loss: 0.0200\n",
      "Epoch [26/30], Step [350/500], Loss: 0.0055\n",
      "Epoch [26/30], Step [400/500], Loss: 0.0181\n",
      "Epoch [26/30], Step [450/500], Loss: 0.0054\n",
      "Epoch [26/30], Step [500/500], Loss: 0.0210\n",
      "Validation accuracy is: 98.9 %\n",
      "Epoch [27/30], Step [50/500], Loss: 0.0029\n",
      "Epoch [27/30], Step [100/500], Loss: 0.0285\n",
      "Epoch [27/30], Step [150/500], Loss: 0.0103\n",
      "Epoch [27/30], Step [200/500], Loss: 0.0308\n",
      "Epoch [27/30], Step [250/500], Loss: 0.0217\n",
      "Epoch [27/30], Step [300/500], Loss: 0.0134\n",
      "Epoch [27/30], Step [350/500], Loss: 0.0142\n",
      "Epoch [27/30], Step [400/500], Loss: 0.0160\n",
      "Epoch [27/30], Step [450/500], Loss: 0.0051\n",
      "Epoch [27/30], Step [500/500], Loss: 0.0126\n",
      "Validation accuracy is: 99.07 %\n",
      "Epoch [28/30], Step [50/500], Loss: 0.0575\n",
      "Epoch [28/30], Step [100/500], Loss: 0.0022\n",
      "Epoch [28/30], Step [150/500], Loss: 0.0285\n",
      "Epoch [28/30], Step [200/500], Loss: 0.1221\n",
      "Epoch [28/30], Step [250/500], Loss: 0.0497\n",
      "Epoch [28/30], Step [300/500], Loss: 0.0090\n",
      "Epoch [28/30], Step [350/500], Loss: 0.0056\n",
      "Epoch [28/30], Step [400/500], Loss: 0.0145\n",
      "Epoch [28/30], Step [450/500], Loss: 0.0087\n",
      "Epoch [28/30], Step [500/500], Loss: 0.0134\n",
      "Validation accuracy is: 99.05 %\n",
      "Epoch [29/30], Step [50/500], Loss: 0.0235\n",
      "Epoch [29/30], Step [100/500], Loss: 0.0122\n",
      "Epoch [29/30], Step [150/500], Loss: 0.0333\n",
      "Epoch [29/30], Step [200/500], Loss: 0.0095\n",
      "Epoch [29/30], Step [250/500], Loss: 0.0101\n",
      "Epoch [29/30], Step [300/500], Loss: 0.0415\n",
      "Epoch [29/30], Step [350/500], Loss: 0.0202\n",
      "Epoch [29/30], Step [400/500], Loss: 0.0125\n",
      "Epoch [29/30], Step [450/500], Loss: 0.0314\n",
      "Epoch [29/30], Step [500/500], Loss: 0.0365\n",
      "Validation accuracy is: 98.97 %\n",
      "Epoch [30/30], Step [50/500], Loss: 0.0142\n",
      "Epoch [30/30], Step [100/500], Loss: 0.0053\n",
      "Epoch [30/30], Step [150/500], Loss: 0.0287\n",
      "Epoch [30/30], Step [200/500], Loss: 0.0059\n",
      "Epoch [30/30], Step [250/500], Loss: 0.0032\n",
      "Epoch [30/30], Step [300/500], Loss: 0.0195\n",
      "Epoch [30/30], Step [350/500], Loss: 0.0276\n",
      "Epoch [30/30], Step [400/500], Loss: 0.0292\n",
      "Epoch [30/30], Step [450/500], Loss: 0.0207\n",
      "Epoch [30/30], Step [500/500], Loss: 0.0471\n",
      "Validation accuracy is: 99.02 %\n",
      "Accuracy of the network on the test images: 99.16 %\n"
     ]
    }
   ],
   "source": [
    "#\n",
    "#\n",
    "# ------- Your Code -------\n",
    "#\n",
    "# Example: net = Net(), ....\n",
    "device = torch.device(\"cuda:0\") if torch.cuda.is_available() else torch.device(\"cpu\")\n",
    "model = Net(input_size, hidden_layers, num_classes).to(device)\n",
    "model.apply(weights_init)\n",
    "running_loss = 0.0\n",
    "loss_plot_y = []\n",
    "loss_plot_x =[]\n",
    "loss_plot_val_y = []\n",
    "loss_plot_val_x =[]\n",
    "lr = learning_rate\n",
    "learning_rate_decay = 0.95\n",
    "accuracy_plot = []\n",
    "total_step = len(train_loader)\n",
    "criterion = nn.CrossEntropyLoss()\n",
    "optimizer = torch.optim.Adam(model.parameters(), lr=learning_rate, weight_decay=reg)\n",
    "for epoch in range(n_epochs):\n",
    "        model.train()\n",
    "        for (i, (images, labels)) in enumerate(train_loader):\n",
    "            images = images.to(device)\n",
    "            labels = labels.to(device)\n",
    "            outputs = model(images)\n",
    "            loss = criterion(outputs, labels)\n",
    "\n",
    "            optimizer.zero_grad()\n",
    "            loss.backward()\n",
    "            optimizer.step()\n",
    "            running_loss += loss.item()\n",
    "            if (i + 1) % 50 == 0:\n",
    "                print ('Epoch [{}/{}], Step [{}/{}], Loss: {:.4f}'.format(epoch\n",
    "                        + 1, n_epochs, i + 1, total_step, loss.item()))\n",
    "        loss_plot_y.append(running_loss / len(train_loader))\n",
    "                #loss_plot_x.append(epoch * total_step + i)\n",
    "        running_loss = 0.0\n",
    "        loss_plot_x.append(epoch)\n",
    "        lr *= learning_rate_decay\n",
    "        update_lr(optimizer, lr)\n",
    "        model.eval()\n",
    "        with torch.no_grad():\n",
    "            correct = 0\n",
    "            total = 0\n",
    "            for (images, labels) in val_loader:\n",
    "                images = images.to(device)\n",
    "                labels = labels.to(device)\n",
    "                outputs = model(images)\n",
    "                (_, predicted) = torch.max(outputs.data, 1)\n",
    "                total += labels.size(0)\n",
    "                correct += (predicted == labels).sum().item()\n",
    "                loss = criterion(outputs, labels)\n",
    "                running_loss += loss.item()\n",
    "            loss_plot_val_y.append(running_loss / len(val_loader))\n",
    "            accuracy_plot.append(100 * correct / total)\n",
    "\n",
    "            print('Validation accuracy is: {} %'.format(100 * correct / total))\n",
    "        running_loss=0.0\n",
    "\n",
    "model.eval()\n",
    "with torch.no_grad():\n",
    "    correct = 0\n",
    "    total = 0\n",
    "    for (images, labels) in test_loader:\n",
    "        images = images.to(device)\n",
    "        labels = labels.to(device)\n",
    "        outputs = model(images)\n",
    "        (_, predicted) = torch.max(outputs.data, 1)\n",
    "        total += labels.size(0)\n",
    "        correct += (predicted == labels).sum().item()\n",
    "\n",
    "\n",
    "    print ('Accuracy of the network on the test images: {} %'.format(\n",
    "            100 * correct / total))"
   ]
  },
  {
   "cell_type": "code",
   "execution_count": 10,
   "metadata": {
    "id": "42uH7n3g2Gcr"
   },
   "outputs": [],
   "source": [
    "torch.save(model.state_dict(), \"model.pth\")"
   ]
  },
  {
   "cell_type": "markdown",
   "metadata": {
    "id": "aISdfCpb01FN"
   },
   "source": [
    "### 2.2.5: Evaluation\n",
    "\n",
    "Evaluate your model.\n",
    "\n",
    "  * Loss curves: Plot epoch (# passes over training data) and loss\n",
    "  * Accuracy curves: Plot epoch and accuracy over val/test set\n",
    "  * Final numbers: Report final accuracy numbers for your model"
   ]
  },
  {
   "cell_type": "code",
   "execution_count": 11,
   "metadata": {
    "colab": {
     "base_uri": "https://localhost:8080/",
     "height": 279
    },
    "id": "urtpEDvx01FN",
    "outputId": "eaaa0665-13e8-4c08-a50d-70d2718be64c"
   },
   "outputs": [
    {
     "data": {
      "image/png": "[encoded data removed]",
      "text/plain": [
       "<Figure size 432x288 with 1 Axes>"
      ]
     },
     "metadata": {
      "needs_background": "light"
     },
     "output_type": "display_data"
    }
   ],
   "source": [
    "# Here plot epoch (# passes over training data) and loss\n",
    "#\n",
    "# ------- Your Code -------\n",
    "#\n",
    "plt.plot(loss_plot_x,loss_plot_y, label=\"Training loss\")\n",
    "plt.plot(loss_plot_x,loss_plot_val_y, label=\"Validation loss\")\n",
    "plt.legend()\n",
    "plt.xlabel(\"Epochs\")\n",
    "plt.ylabel(\"Loss\")\n",
    "plt.show()"
   ]
  },
  {
   "cell_type": "code",
   "execution_count": 12,
   "metadata": {
    "colab": {
     "base_uri": "https://localhost:8080/",
     "height": 279
    },
    "id": "bAiMSqqs01FN",
    "outputId": "bb73f0de-2344-4171-d5ab-9995373ddb90"
   },
   "outputs": [
    {
     "data": {
      "image/png": "[encoded data removed]",
      "text/plain": [
       "<Figure size 432x288 with 1 Axes>"
      ]
     },
     "metadata": {
      "needs_background": "light"
     },
     "output_type": "display_data"
    }
   ],
   "source": [
    "# Here plot epoch and accuracy over val/test set\n",
    "#\n",
    "# ------- Your Code -------\n",
    "#\n",
    "plt.plot(np.arange(1,len(accuracy_plot)+1,1),accuracy_plot)\n",
    "plt.xlabel(\"Epochs\")\n",
    "plt.ylabel(\"Accuracy\")\n",
    "plt.show()"
   ]
  },
  {
   "cell_type": "code",
   "execution_count": 14,
   "metadata": {
    "colab": {
     "base_uri": "https://localhost:8080/"
    },
    "id": "LTZJPZIP01FN",
    "outputId": "1ab8b985-9726-4efc-d7c5-9e4d651a0145"
   },
   "outputs": [
    {
     "data": {
      "text/plain": [
       "<All keys matched successfully>"
      ]
     },
     "execution_count": 14,
     "metadata": {},
     "output_type": "execute_result"
    }
   ],
   "source": [
    "#\n",
    "#\n",
    "# ------- Your Code -------\n",
    "# Example:\n",
    "model = Net(input_size, hidden_layers, num_classes).to(device)\n",
    "model.load_state_dict(torch.load(\"model.pth\", map_location=torch.device('cpu')))"
   ]
  },
  {
   "cell_type": "code",
   "execution_count": 15,
   "metadata": {
    "colab": {
     "base_uri": "https://localhost:8080/"
    },
    "id": "FzQvt7IF01FN",
    "outputId": "f9c0f627-913c-41cf-d1dd-78e5296f6d4d"
   },
   "outputs": [
    {
     "name": "stdout",
     "output_type": "stream",
     "text": [
      "Accuracy of the network on the test images: 99.16 %\n"
     ]
    }
   ],
   "source": [
    "# Here report the score for the best model\n",
    "#\n",
    "# ------- Your Code -------\n",
    "#\n",
    "model.eval()\n",
    "with torch.no_grad():\n",
    "    correct = 0\n",
    "    total = 0\n",
    "    for (images, labels) in test_loader:\n",
    "        images = images.to(device)\n",
    "        labels = labels.to(device)\n",
    "        outputs = model(images)\n",
    "        (_, predicted) = torch.max(outputs.data, 1)\n",
    "        total += labels.size(0)\n",
    "        correct += (predicted == labels).sum().item()\n",
    "\n",
    "\n",
    "    print ('Accuracy of the network on the test images: {} %'.format(\n",
    "            100 * correct / total))"
   ]
  },
  {
   "cell_type": "code",
   "execution_count": 16,
   "metadata": {
    "colab": {
     "base_uri": "https://localhost:8080/",
     "height": 297
    },
    "id": "RAcVb-iK01FN",
    "outputId": "806b619f-e5fb-420c-e390-43b802a031db"
   },
   "outputs": [
    {
     "data": {
      "image/png": "[encoded data removed]",
      "text/plain": [
       "<Figure size 720x576 with 12 Axes>"
      ]
     },
     "metadata": {
      "needs_background": "light"
     },
     "output_type": "display_data"
    }
   ],
   "source": [
    "# Visualize the predictions\n",
    "# Example: vis_predictions(x_eval, y_pred, size_of_data)\n",
    "#\n",
    "#\n",
    "# ------- Your Code -------\n",
    "#\n",
    "predicted_arr = []\n",
    "labels_arr = []\n",
    "model.eval()\n",
    "with torch.no_grad():\n",
    "    correct = 0\n",
    "    total = 0\n",
    "    for (images, labels) in test_loader:\n",
    "        images = images.to(device)\n",
    "        labels = labels.to(device)\n",
    "        outputs = model(images)\n",
    "        (_, predicted) = torch.max(outputs.data, 1)\n",
    "        predicted_arr.extend(predicted.cpu().numpy().tolist())\n",
    "        labels_arr.extend(labels.cpu().numpy().tolist())\n",
    "\n",
    "x_test_np = torch.flatten(test_loader.dataset.data, start_dim=1, end_dim=2).numpy()\n",
    "vis_predictions(x_test_np, labels_arr, predicted_arr, len(predicted_arr))"
   ]
  },
  {
   "cell_type": "code",
   "execution_count": null,
   "metadata": {
    "id": "pa6rPT53LUW8"
   },
   "outputs": [],
   "source": []
  }
 ],
 "metadata": {
  "accelerator": "GPU",
  "colab": {
   "collapsed_sections": [],
   "name": "2021_10_29_Task_01.ipynb.ipynb",
   "provenance": []
  },
  "kernelspec": {
   "display_name": "Python 3",
   "language": "python",
   "name": "python3"
  },
  "language_info": {
   "codemirror_mode": {
    "name": "ipython",
    "version": 3
   },
   "file_extension": ".py",
   "mimetype": "text/x-python",
   "name": "python",
   "nbconvert_exporter": "python",
   "pygments_lexer": "ipython3",
   "version": "3.8.5"
  }
 },
 "nbformat": 4,
 "nbformat_minor": 1
}
