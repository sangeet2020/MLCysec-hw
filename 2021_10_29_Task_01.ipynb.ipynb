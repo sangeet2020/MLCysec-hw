{
 "cells": [
  {
   "cell_type": "markdown",
   "metadata": {
    "id": "4NzyqehHjUlG"
   },
   "source": [
    "# ML in Cybersecurity: Task I\n",
    "\n",
    "## Team\n",
    "  * **Team name**:  *fill this in*\n",
    "  * **Members**:  *fill this in. format: name1 (email1), name2 (email2), ...*\n",
    "\n",
    "\n",
    "## Logistics\n",
    "  * **Due date**: 11th November 2021, 23:59:59 (email the completed notebook including outputs to mlcysec_ws2022_staff@lists.cispa.saarland)\n",
    "  * Please include your team name and the task number in the file name and the email subject\n",
    "  * Complete this in **teams of 3**\n",
    "  * Feel free to use the forum or the mailing list to find group members.\n",
    "  \n",
    "## Timeline\n",
    "  * 29-Oct-2021: Task 1 hand-out\n",
    "  * **11-Nov-2021** (23:59:59): Email the completed notebook including outputs to mlcysec_ws2022_staff@lists.cispa.saarland\n",
    "  * 12-Nov-2021: Task 1 discussion and summary\n",
    "  \n",
    "  \n",
    "## About this task\n",
    "In this task, you'll implement a digit classifier, based on the popular [MNIST](http://yann.lecun.com/exdb/mnist/) dataset. The dataset is based on a seminal [paper](http://yann.lecun.com/exdb/publis/pdf/lecun-01a.pdf), which immensely popularized (convolutional) neural networks. This is a great starting point for ML research and this dataset/model has been a stepping stone numerous other tasks such as [GANs](https://papers.nips.cc/paper/5423-generative-adversarial-nets.pdf), [Adversarial Perturbations](https://arxiv.org/abs/1412.6572) and so many more!\n",
    "\n",
    "This dataset consists of data $\\mathcal{D} = \\{x_i, y_i\\}_{i=1}^N$, where $x_i$ is a 28x28 pixel grayscale image and $y_i$ is a scalar represeting digits between 0-9. The notebook will guide you to load this data, implement classifiers $\\hat{y_i} = f_w(x_i)$  and analyze results. By doing so, you'll have a ML model that works on real data!\n",
    "\n",
    "To put things into context, have a look at Slide 21 in the [second](https://cms.cispa.saarland/mlcysec19/dl/4/2019-10-24-ml.pdf) lecture. Within this framework, the following blocks of this task are fixed:\n",
    "  * *Real-world problem*: Digit classification\n",
    "  * *Performance metric*: Mean accuracy i.e., $ \\frac{1}{N} \\sum_{i=1}^N \\mathbb{1}[\\hat{y_i} = y_i]$, where $\\mathbb{1}[\\hat{y_i} = y_i]$ is 1 if your model predicted the right digit for the $i$-th digit and 0 otherwise.\n",
    "  * *Data*: The MNIST dataset\n",
    "\n",
    "You'll make the the following design-choices:\n",
    " * *Choice of Model*: A model family (Non-parametric methods, Linear classifiers, Neural Networks, etc.)\n",
    " * *ML Model*: Specific model (e.g., SVM with a polynomial kernel)\n",
    " * *Loss/Risk*\n",
    " * *Optimization*\n",
    "\n",
    "\n",
    "## A Note on Grading\n",
    "The grading for this task will depend on:\n",
    " 1. Functional digit classifier\n",
    "   * Following a well-defined ML pipeline\n",
    "   * Developing 3 classification models (keep them diverse and ideally of increasing complexity)\n",
    "   * Obtaining reasonable accuracies (>80%) on a held-out test set\n",
    " 1. Analysis\n",
    "   * Which methods work better than the rest and why?\n",
    "   * Which hyper-parameters and design-choices were important in each of your methods?\n",
    "   * Quantifying influence of these hyper-parameters on loss and/or validation accuracies\n",
    "   * Trade-offs between methods, hyper-parameters, design-choices\n",
    "    * Anything else you find interesting (this part is open-ended)\n",
    "  \n",
    " A note on (1.): \n",
    "  * Choose your models that aids good insights. We require at least one non-Neural Network (e.g., SVM, KNN) and one Neural Network model (e.g., MLP, CNN).\n",
    "  * We definitely don't expect all three models to achieve >99% test accuracies!\n",
    "\n",
    "## Grading Details\n",
    " * 5 points for loading and visualization \n",
    " * 25x3 points for models. Per model:\n",
    "   * 4 points for written description \n",
    "   * 7 points for implementation\n",
    "   * 7 points for evaluation\n",
    "   * 7 points for summary\n",
    " * 15 points for final summary (Section 3)\n",
    " * 5 points for clean code\n",
    " \n",
    "## Filling-in the Notebook\n",
    "You'll be submitting this very notebook that is filled-in with your code and analysis. Make sure you submit one that has been previously executed in-order. (So that results/graphs are already visible upon opening it). \n",
    "\n",
    "The notebook you submit **should compile** (or should be self-contained and sufficiently commented). Check tutorial 1 on how to set up the Python3 environment.\n",
    "\n",
    "\n",
    "**The notebook is your task report. So, to make the report readable, omit code for techniques/models/things that did not work. You can use final summary to provide report about these codes.**\n",
    "\n",
    "It is extremely important that you **do not** re-order the existing sections. Apart from that, the code blocks that you need to fill-in are given by:\n",
    "```\n",
    "#\n",
    "#\n",
    "# ------- Your Code -------\n",
    "#\n",
    "#\n",
    "```\n",
    "Feel free to break this into multiple-cells. It's even better if you interleave explanations and code-blocks so that the entire notebook forms a readable \"story\".\n",
    "\n",
    "\n",
    "## Code of Honor\n",
    "We encourage discussing ideas and concepts with other students to help you learn and better understand the course content. However, the work you submit and present **must be original** and demonstrate your effort in solving the presented problems. **We will not tolerate** blatantly using existing solutions (such as from the internet), improper collaboration (e.g., sharing code or experimental data between groups) and plagiarism. If the honor code is not met, no points will be awarded.\n",
    "\n",
    " \n",
    " ## Versions\n",
    "  * v2.0: Added pytorch\n",
    "  * v1.1: Added Code of Honor\n",
    "  * v1.0: Initial notebook\n",
    "  \n",
    "  ---"
   ]
  },
  {
   "cell_type": "code",
   "execution_count": 270,
   "metadata": {
    "id": "3ewNwfFvbFaR"
   },
   "outputs": [
    {
     "name": "stdout",
     "output_type": "stream",
     "text": [
      "The autoreload extension is already loaded. To reload it, use:\n",
      "  %reload_ext autoreload\n"
     ]
    }
   ],
   "source": [
    "import time \n",
    " \n",
    "import numpy as np \n",
    "import matplotlib.pyplot as plt \n",
    "\n",
    "import json \n",
    "import time \n",
    "import pickle \n",
    "import sys \n",
    "import csv \n",
    "import os \n",
    "import os.path as osp \n",
    "import shutil \n",
    "\n",
    "import pandas as pd\n",
    "\n",
    "from IPython.display import display, HTML\n",
    " \n",
    "%matplotlib inline \n",
    "plt.rcParams['figure.figsize'] = (10.0, 8.0) # set default size of plots \n",
    "plt.rcParams['image.interpolation'] = 'nearest' \n",
    "plt.rcParams['image.cmap'] = 'gray' \n",
    " \n",
    "# for auto-reloading external modules \n",
    "# see http://stackoverflow.com/questions/1907993/autoreload-of-modules-in-ipython \n",
    "%load_ext autoreload\n",
    "%autoreload 2"
   ]
  },
  {
   "cell_type": "code",
   "execution_count": 271,
   "metadata": {
    "id": "640GrzbOevr0"
   },
   "outputs": [
    {
     "data": {
      "text/plain": [
       "<torch._C.Generator at 0x7fc1eda178b0>"
      ]
     },
     "execution_count": 271,
     "metadata": {},
     "output_type": "execute_result"
    }
   ],
   "source": [
    "# Load other libraries here.\n",
    "# Keep it minimal! We should be easily able to reproduce your code.\n",
    "\n",
    "# We only support sklearn and pytorch.\n",
    "\n",
    "# Please set random seed to have reproduceable results, e.g. torch.manual_seed(123)\n",
    "import os\n",
    "import math\n",
    "\n",
    "import torch\n",
    "import torchvision\n",
    "import torchvision.transforms as transforms\n",
    "import torch.optim as optim\n",
    "import torch.nn.functional as F\n",
    "from torch.utils.data import Dataset, DataLoader\n",
    "import torch.nn as nn\n",
    "\n",
    "from sklearn.neighbors import KNeighborsClassifier\n",
    "from sklearn.pipeline import Pipeline\n",
    "from sklearn.model_selection import GridSearchCV, PredefinedSplit\n",
    "from sklearn.preprocessing import StandardScaler\n",
    "from sklearn.metrics import classification_report, accuracy_score\n",
    "\n",
    "torch.manual_seed(123)\n"
   ]
  },
  {
   "cell_type": "markdown",
   "metadata": {
    "id": "nxi-lLD0mKHD"
   },
   "source": [
    "Helpers\n",
    "\n",
    "In case you choose to have some methods you plan to reuse during the notebook, define them here. This will avoid clutter and keep rest of the notebook succinct."
   ]
  },
  {
   "cell_type": "code",
   "execution_count": 272,
   "metadata": {
    "id": "VBbigqdEmKd8"
   },
   "outputs": [],
   "source": [
    "def identity_func(foo):\n",
    "    return foo\n",
    "\n",
    "\n",
    "#\n",
    "#\n",
    "# ------- Your Code -------\n",
    "#\n",
    "#\n",
    "\n",
    "def sort_list(a, b, c):\n",
    "    \"\"\"\n",
    "    Sort two list and use the same order to sort third list.\n",
    "    \"\"\"\n",
    "    dic_train = {k: v for k, v in zip(a, b)}\n",
    "    dic_train = {k: v for k, v in sorted(dic_train.items(), key=lambda item: item[1])}\n",
    "    dic_test = {k: v for k, v in zip(a, c)}\n",
    "    for k,v in dic_train.items():\n",
    "        dic_train[k] = [v, dic_test[k]]\n",
    "    a = list(dic_train.keys())\n",
    "    train_val = list(dic_train.values())\n",
    "    train = [item[0] for item in train_val]\n",
    "    val = [item[1] for item in train_val]\n",
    "    return a, train, val\n",
    "\n",
    "\n",
    "def create_predefined_splits(len_train, len_test):\n",
    "    \"\"\" Predefined split\n",
    "    \"\"\"\n",
    "    # The indices which have the value -1 will be kept in train.\n",
    "    train_indices = np.full((len_train,), -1)\n",
    "\n",
    "    # The indices which have zero or positive values, will be kept in test\n",
    "    test_indices = np.full((len_test,), 0)\n",
    "    test_fold = np.append(train_indices, test_indices)\n",
    "\n",
    "    return PredefinedSplit(test_fold)\n",
    "\n",
    "\n",
    "# You can use this function to flatten 2D inputs\n",
    "def flatten_input_pixels(x_input):\n",
    "    result = []\n",
    "    for i in range(len(x_input)):\n",
    "        result.append(x_input[i].flatten())\n",
    "    return np.array(result, np.uint8)  # [n_samples, n_features]\n",
    "\n",
    "\n",
    "# You can use this function to plot the accuracy of the models with different parametes\n",
    "def plot_scores(x, y, title = \"Title\", x_label = \"X\", y_label = \"Y\"):\n",
    "    fig, ax = plt.subplots(nrows=1,ncols=1)\n",
    "    \n",
    "    ax.plot(x, y)\n",
    "    ax.set_xticks(x)\n",
    "    ax.set_title(title)\n",
    "    ax.set_xlabel(x_label)\n",
    "    ax.set_ylabel(y_label)\n",
    "    ax.set_ylim(0.6, 1.0)\n",
    "\n",
    "# You can use this function to visualize input images and the predictions of your models\n",
    "# \"y_pred\" is output of your model \n",
    "# \"n_val\" is number of instances in test or validation sets\n",
    "def vis_predictions(x_eval, y_eval, y_pred, n_val):\n",
    "    rows, cols = 4, 3\n",
    "\n",
    "    fig,ax = plt.subplots(nrows = rows, ncols = cols)\n",
    "\n",
    "    ids = np.random.randint(0,n_val,rows*cols)\n",
    "    for i in range(cols):   \n",
    "        for j in range(rows):\n",
    "            ax[j][i].set_title('True label: {0}, Predicted label: {1}'.format(y_eval[ids[(i*rows)+j]], \n",
    "                                                                              y_pred[ids[(i*rows)+j]]))\n",
    "            two_d = (np.reshape(x_eval[ids[(i*rows)+j]], (28, 28))).astype(np.uint8)\n",
    "            ax[j][i].imshow(two_d)\n",
    "            ax[j][i].axes.get_xaxis().set_visible(False)\n",
    "            ax[j][i].axes.get_yaxis().set_visible(False)\n",
    "\n",
    "\n",
    "    plt.tight_layout()  "
   ]
  },
  {
   "cell_type": "markdown",
   "metadata": {
    "id": "n1pcmKkyjT7y"
   },
   "source": [
    "# 1. Loading and Visualizing data (5 points)\n",
    "\n",
    "In this section, you'll need to prepare the MNIST data for the experiments you'll be conducting for the remainder of the notebook."
   ]
  },
  {
   "cell_type": "markdown",
   "metadata": {
    "id": "AIU9Q762fmoT"
   },
   "source": [
    "## 1.1. Load Data\n",
    "\n",
    "Here you'll load the MNIST data into memory. The end-goal is to two have the following variables:\n",
    "  * `x_trainval`, `x_test`: of shape $N \\times d_1 \\times d_2 \\dots$ (e.g., $N \\times 784$. 784 since you could flatten each 28x28 pixel image into a single vector)\n",
    "  * `y_trainval`, `y_test`: of shape $N \\times K$ (K = 1 or 10 depending on how you plan to represent the ground-truth digit annotation)\n",
    "\n",
    "You can either do this by:\n",
    "  1. Downloading the MNIST dataset, unpacking and preparing it yourself to have fine-grained control\n",
    "  1. Using high-level existing functions, such as the one provided by  [`torchvision.datasets`](https://pytorch.org/docs/stable/torchvision/datasets.html#mnist).\n",
    "  \n",
    "  \n",
    "  In either case, it is important that you have disjoint train, val, and test splits!"
   ]
  },
  {
   "cell_type": "code",
   "execution_count": 273,
   "metadata": {
    "id": "7kYacpo_jvao"
   },
   "outputs": [
    {
     "name": "stdout",
     "output_type": "stream",
     "text": [
      "x_train.shape = torch.Size([54000, 28, 28]),  y_train.shape = torch.Size([54000])\n",
      "x_val.shape = torch.Size([6000, 28, 28]),  y_val.shape = torch.Size([6000])\n",
      "x_test.shape = torch.Size([10000, 28, 28]),  y_test.shape = torch.Size([10000])\n"
     ]
    }
   ],
   "source": [
    "# Loading MNIST dataset using torchvision.datasets\n",
    "train_set = torchvision.datasets.MNIST(root='.', train=True, transform=None, download=True)\n",
    "test_set = torchvision.datasets.MNIST(root='.', train=False, transform=None, download=True)\n",
    "\n",
    "# Separate out valiation data from train set to be used in later parts\n",
    "val_frac = 0.1\n",
    "k = int(len(train_set.targets) * (1 - val_frac))\n",
    "x_trainval_3d = train_set.data\n",
    "y_trainval = train_set.targets\n",
    "\n",
    "# Train\n",
    "x_train_3d = torch.tensor(x_trainval_3d.tolist()[:k])\n",
    "y_train = torch.tensor(y_trainval.tolist()[:k])\n",
    "\n",
    "# Validation\n",
    "x_val_3d = torch.tensor(x_trainval_3d.tolist()[k:])\n",
    "y_val = torch.tensor(y_trainval.tolist()[k:])\n",
    "\n",
    "# Test\n",
    "x_test_3d = test_set.data\n",
    "y_test = test_set.targets\n",
    "\n",
    "print('x_train.shape = {},  y_train.shape = {}'.format(x_train_3d.shape, y_train.shape))\n",
    "print('x_val.shape = {},  y_val.shape = {}'.format(x_val_3d.shape, y_val.shape))\n",
    "print('x_test.shape = {},  y_test.shape = {}'.format(x_test_3d.shape, y_test.shape))\n",
    "\n",
    "\n",
    "# Feel free to have multiple variables in case your models are designed for different formats\n",
    "# For instance, in case your model requires Nx28x28 inputs, declare x_trainval_3d, etc.\n",
    "\n",
    "# Tip: Set this to a tiny number (such 0.05) to aid debugging\n",
    "# After all, you do not want to train/evaluate on the entire dataset to find bugs\n",
    "DEBUG_FRAC = 1.0\n",
    "x_trainval_3d = x_trainval_3d[:int(len(x_trainval_3d)*DEBUG_FRAC)]\n",
    "y_trainval = y_trainval[:int(len(y_trainval)*DEBUG_FRAC)]\n"
   ]
  },
  {
   "cell_type": "markdown",
   "metadata": {
    "id": "eA6_cejNjzYw"
   },
   "source": [
    "#### 1.2. Visualize Data\n",
    "\n",
    "To get the hang of your data you'll be training a digit classifier on, visualize it.\n",
    "\n",
    "Examples of ways to visualize it:\n",
    "  * Given a digit, display few randomly sampled images for this digit (the bare minimum)\n",
    "  * Visualize as a grid (e.g., Slide 4, [Lecture 2](https://cms.cispa.saarland/mlcysec19/dl/4/2019-10-24-ml.pdf)) using a combination of `plt.imshow` and `plt.subplots`\n",
    "  \n",
    "It's up to you to decide how you want to do this. The end-goal is for you to potentially give a trailer of the dataset to someone who hasn't seen it before."
   ]
  },
  {
   "cell_type": "code",
   "execution_count": 274,
   "metadata": {
    "id": "dISIbt4plyoD"
   },
   "outputs": [
    {
     "data": {
      "image/png": "[encoded data removed]",
      "text/plain": [
       "<Figure size 720x576 with 100 Axes>"
      ]
     },
     "metadata": {},
     "output_type": "display_data"
    }
   ],
   "source": [
    "# Visualize 10 examples of 10 classes. You can extend the following code:\n",
    "rows, cols = 10, 10\n",
    "fig,ax = plt.subplots(nrows = rows, ncols = cols)\n",
    "\n",
    "for row in range(rows):\n",
    "    idx = y_trainval==row\n",
    "    y_sample = y_trainval[idx]\n",
    "    x_sample = x_trainval_3d[idx]\n",
    "    for col in range(cols):\n",
    "        ax[row, col].imshow(x_sample[col], cmap='gray')\n",
    "        ax[row, col].set_xticks([]), ax[row, col].set_yticks([])\n",
    "#         ax[row, col].set_title(\"lab: {}\".format(y_sample[col]))\n",
    "        \n",
    "\n",
    "fig.tight_layout()\n",
    "plt.savefig('fig1.pdf')   # Save the figures\n",
    "plt.show()   # These should be some visualization of data at the end of this section\n",
    "\n",
    "# You can see an output example in the follow:"
   ]
  },
  {
   "cell_type": "markdown",
   "metadata": {
    "id": "b8sAT53jmJ8_"
   },
   "source": [
    "# 2. Digit classifiers\n",
    "\n",
    "In this section, you'll begin developing models to perform digit classification.\n",
    "\n",
    "Each model needs to be structured like so:\n",
    "  1. Give a brief reason which model you are going to train and why you choose it\n",
    "  1. Define hyper-parameters for model and optimization procedure\n",
    "  1. Define your model\n",
    "  1. Define optimization method and fit model to data\n",
    "  1. Summarize your findings\n",
    "\n",
    "\n",
    "\n",
    "\n",
    "\n"
   ]
  },
  {
   "cell_type": "markdown",
   "metadata": {
    "id": "xkF-7eFnpWoe"
   },
   "source": [
    "## 2.1: Model [M1]: *fill-this-in* (25 points)\n",
    "\n",
    "**Short description **: *fill this in*"
   ]
  },
  {
   "cell_type": "markdown",
   "metadata": {
    "id": "lVyT9Oddp3GB"
   },
   "source": [
    "### 2.1.1: Hyper-parameters\n",
    "\n",
    "Define hyper-parameters for your model here"
   ]
  },
  {
   "cell_type": "code",
   "execution_count": 154,
   "metadata": {
    "id": "yuHt4T7Vp5NC"
   },
   "outputs": [],
   "source": [
    "param_grid = {\n",
    "    \"knn__n_neighbors\": [3, 4, 5, 6, 7],\n",
    "    \"knn__weights\": ['uniform', 'distance'],\n",
    "    \"knn__algorithm\": ['auto'],\n",
    "    \"knn__metric\": ['euclidean','manhattan','chebyshev']\n",
    "}\n",
    "\n",
    "# degree = np.asarray([1,2,3]) # example\n",
    "\n",
    "## We dont this anymore, we have already defined train, val and test while pre-processing dataset.\n",
    "# test_set = 'val'  #  or 'test'\n",
    "# # Decide all your hyperparameters based on validation performance\n",
    "# # Then, switch to 'test' for final evaluation\n",
    "\n",
    "# if test_set == 'val':\n",
    "#     train_idxs, val_idxs = ..., ...   # Fill in\n",
    "#     x_train, y_train = x_trainval[train_idxs], y_trainval[train_idxs]\n",
    "#     x_eval, y_eval = x_trainval[val_idxs], y_trainval[val_idxs]\n",
    "# else:\n",
    "#     x_train, y_train = x_trainval, y_trainval\n",
    "#     x_eval, y_eval = x_test, y_test\n",
    "\n"
   ]
  },
  {
   "cell_type": "markdown",
   "metadata": {
    "id": "-ZhVgrFM01FF"
   },
   "source": [
    "### 2.1.2: Data Preprocessing\n"
   ]
  },
  {
   "cell_type": "code",
   "execution_count": 269,
   "metadata": {
    "id": "vzJ1X7ek01FF"
   },
   "outputs": [
    {
     "name": "stdout",
     "output_type": "stream",
     "text": [
      "x_train_val.shape = (16800, 784),  y_train_val.shape = (16800,)\n"
     ]
    }
   ],
   "source": [
    "# Flatten: [54000, 28, 28] into [54000, 784], normalization to be done in the pipeline.\n",
    "x_train_np = torch.flatten(x_train_3d, start_dim=1, end_dim=2).numpy()\n",
    "x_val_np = torch.flatten(x_val_3d, start_dim=1, end_dim=2).numpy()\n",
    "x_test_np = torch.flatten(x_test_3d, start_dim=1, end_dim=2).numpy()\n",
    "\n",
    "y_train_np = y_train.numpy()\n",
    "y_val_np = y_val.numpy()\n",
    "y_test_np = y_test.numpy()\n",
    "\n",
    "# Use only a part of trainset~ 20% for GridSearch parameter estimation.\n",
    "k = int(len(y_train_np) * 0.2)\n",
    "# Use pre-defined split to explicitly specity train and test in GridSearchCV\n",
    "ps = create_predefined_splits(len(x_train_np[:k]), len(x_val_np))\n",
    "x_train_val = np.append(x_train_np[:k], x_val_np, axis=0)\n",
    "y_train_val = np.append(y_train_np[:k], y_val_np, axis=0)\n",
    "print('x_train_val.shape = {},  y_train_val.shape = {}'.format(x_train_val.shape, y_train_val.shape))"
   ]
  },
  {
   "cell_type": "markdown",
   "metadata": {
    "id": "pkuCgPatp59X"
   },
   "source": [
    "### 2.1.3: Model\n",
    "\n",
    "Define your model here"
   ]
  },
  {
   "cell_type": "code",
   "execution_count": 249,
   "metadata": {
    "id": "3qV3SuPAp6XF"
   },
   "outputs": [
    {
     "name": "stdout",
     "output_type": "stream",
     "text": [
      "GridSearchCV(cv=PredefinedSplit(test_fold=array([-1, -1, ...,  0,  0])),\n",
      "             estimator=Pipeline(steps=[('scale', StandardScaler()),\n",
      "                                       ('knn', KNeighborsClassifier())]),\n",
      "             n_jobs=10,\n",
      "             param_grid={'knn__algorithm': ['auto'],\n",
      "                         'knn__metric': ['euclidean', 'manhattan', 'chebyshev'],\n",
      "                         'knn__n_neighbors': [3, 4, 5, 6, 7],\n",
      "                         'knn__weights': ['uniform', 'distance']},\n",
      "             return_train_score=True, verbose=2)\n"
     ]
    }
   ],
   "source": [
    "knn = KNeighborsClassifier()\n",
    "pipe = Pipeline(steps=[('scale', StandardScaler()), (\"knn\", knn)])\n",
    "search = GridSearchCV(pipe, param_grid, n_jobs=10, verbose=2, cv=ps, return_train_score=True)\n",
    "print(search)"
   ]
  },
  {
   "cell_type": "markdown",
   "metadata": {
    "id": "SxE6d6OXp6sU"
   },
   "source": [
    "### 2.1.4: Fit Model\n",
    "\n",
    "Define optimization procedure and fit your model to the data"
   ]
  },
  {
   "cell_type": "code",
   "execution_count": 250,
   "metadata": {},
   "outputs": [
    {
     "name": "stdout",
     "output_type": "stream",
     "text": [
      "Fitting 1 folds for each of 30 candidates, totalling 30 fits\n"
     ]
    }
   ],
   "source": [
    "_ = search.fit(x_train_val, y_train_val)"
   ]
  },
  {
   "cell_type": "markdown",
   "metadata": {
    "id": "QaJv_d_Dp7OM"
   },
   "source": [
    "### 2.1.5: Evaluation\n",
    "\n",
    "Evaluate your model.\n",
    "  * Evaluate models with different parameters \n",
    "  * Plot the score (accuracy) for each model using \"plot_scores\" function\n",
    "  * Report score for the best model\n",
    "  * Use \"vis_predictions\" function to visualize few examples of test/validation set with the corresponding predictions\n"
   ]
  },
  {
   "cell_type": "code",
   "execution_count": 251,
   "metadata": {
    "scrolled": false
   },
   "outputs": [
    {
     "data": {
      "image/png": "[encoded data removed]",
      "text/plain": [
       "<Figure size 648x360 with 1 Axes>"
      ]
     },
     "metadata": {
      "needs_background": "light"
     },
     "output_type": "display_data"
    }
   ],
   "source": [
    "# Evaluate models with different parameters and\n",
    "# plot score (accuracy) for each model (not using the pre-defined function).\n",
    "\n",
    "params = []\n",
    "for item in search.cv_results_['params']:\n",
    "    params.append(str(item['knn__n_neighbors']) + \" \" + item['knn__metric'] + \" \" + item['knn__weights'])\n",
    "\n",
    "mean_val_scores = [item for item in search.cv_results_['mean_test_score']]\n",
    "mean_train_scores = [item for item in search.cv_results_['mean_train_score']]\n",
    "params, mean_train_scores, mean_val_scores = sort_list(params, mean_train_scores, mean_val_scores)\n",
    "\n",
    "fig = plt.figure(figsize=(9,5))\n",
    "plt.plot(mean_train_scores, label=\"train acc\")\n",
    "plt.plot(mean_val_scores, label=\"valid. acc\")\n",
    "plt.legend()\n",
    "plt.ylabel('Accuracy')\n",
    "_ = plt.xticks(range(len(params)), params, rotation ='90')"
   ]
  },
  {
   "cell_type": "code",
   "execution_count": 252,
   "metadata": {},
   "outputs": [
    {
     "name": "stdout",
     "output_type": "stream",
     "text": [
      "Best parameter (CV score=0.950):\n",
      "{'knn__algorithm': 'auto', 'knn__metric': 'manhattan', 'knn__n_neighbors': 4, 'knn__weights': 'distance'}\n"
     ]
    }
   ],
   "source": [
    "# Here report the score for the best model\n",
    "print(\"Best parameter (CV score=%0.3f):\" % search.best_score_)\n",
    "print(search.best_params_)"
   ]
  },
  {
   "cell_type": "code",
   "execution_count": 254,
   "metadata": {},
   "outputs": [
    {
     "name": "stdout",
     "output_type": "stream",
     "text": [
      "Pipeline(steps=[('scale', StandardScaler()),\n",
      "                ('knn',\n",
      "                 KNeighborsClassifier(metric='manhattan', n_neighbors=4,\n",
      "                                      weights='distance'))])\n"
     ]
    }
   ],
   "source": [
    "print(search.best_estimator_)"
   ]
  },
  {
   "cell_type": "code",
   "execution_count": 255,
   "metadata": {},
   "outputs": [
    {
     "name": "stdout",
     "output_type": "stream",
     "text": [
      "Fitting on best parameters: {'knn__algorithm': 'auto', 'knn__metric': 'manhattan', 'knn__n_neighbors': 4, 'knn__weights': 'distance'}\n",
      "Train acc: 100.000%\n",
      "Val acc: 97.150%\n",
      "Fitting time on train data: 1196.286 s\n"
     ]
    }
   ],
   "source": [
    "## Training on entire train set.\n",
    "\n",
    "# best_estimator_ will by default use the same pipe as above with best parameters.\n",
    "pipe = search.best_estimator_\n",
    "new_knn = pipe.fit(x_train_np, y_train_np)\n",
    "\n",
    "start = time.time()\n",
    "train_score = new_knn.score(x_train_np, y_train_np)\n",
    "end = time.time()\n",
    "\n",
    "val_score = new_knn.score(x_val_np, y_val_np)\n",
    "\n",
    "print(f\"Train acc: {train_score*100:.3f}%\")\n",
    "print(f\"Val acc: {val_score*100:.3f}%\")\n",
    "print(f\"Fitting time on train data: {end-start:.3f} s\")"
   ]
  },
  {
   "cell_type": "code",
   "execution_count": 267,
   "metadata": {},
   "outputs": [
    {
     "name": "stdout",
     "output_type": "stream",
     "text": [
      "Evaluating on test data\n",
      "Test acc: 95.840%\n",
      "              precision    recall  f1-score   support\n",
      "\n",
      "           0       0.96      0.99      0.98       980\n",
      "           1       0.94      1.00      0.97      1135\n",
      "           2       0.98      0.95      0.96      1032\n",
      "           3       0.95      0.96      0.95      1010\n",
      "           4       0.97      0.95      0.96       982\n",
      "           5       0.95      0.95      0.95       892\n",
      "           6       0.98      0.98      0.98       958\n",
      "           7       0.94      0.95      0.94      1028\n",
      "           8       0.98      0.91      0.94       974\n",
      "           9       0.94      0.94      0.94      1009\n",
      "\n",
      "    accuracy                           0.96     10000\n",
      "   macro avg       0.96      0.96      0.96     10000\n",
      "weighted avg       0.96      0.96      0.96     10000\n",
      "\n",
      "Fitting time on test data: 230.593 s\n"
     ]
    }
   ],
   "source": [
    "# Predict target labels for test set and generate scores, classification report.\n",
    "print(\"Evaluating on test data\")\n",
    "start = time.time()\n",
    "y_pred = new_knn.predict(x_test_np)\n",
    "end = time.time()\n",
    "print(f\"Test acc: {accuracy_score(y_test_np, y_pred)*100:.3f}%\")\n",
    "print(classification_report(y_test_np, y_pred))\n",
    "print(f\"Fitting time on test data: {end-start:.3f} s\")"
   ]
  },
  {
   "cell_type": "code",
   "execution_count": 262,
   "metadata": {},
   "outputs": [
    {
     "data": {
      "image/png": "[encoded data removed]",
      "text/plain": [
       "<Figure size 720x576 with 12 Axes>"
      ]
     },
     "metadata": {
      "needs_background": "light"
     },
     "output_type": "display_data"
    }
   ],
   "source": [
    "# Visualize the predictions\n",
    "incorr_pred = [i for i in range(len(y_pred)) if y_pred[i] != y_test_np[i]]\n",
    "x_test_incorr = [x_test_np[i] for i in incorr_pred]\n",
    "y_test_incorr = [y_test_np[i] for i in incorr_pred]\n",
    "y_pred_incorr = [y_pred[i] for i in incorr_pred]\n",
    "\n",
    "vis_predictions(x_test_incorr, y_test_incorr, y_pred_incorr, len(y_pred_incorr))"
   ]
  },
  {
   "cell_type": "markdown",
   "metadata": {
    "id": "DEQrdyLHsUIu"
   },
   "source": [
    "### 2.1.6: Summary\n",
    "\n",
    "Summarize your findings:\n",
    " * Which hyper-parameters were important and how did they influence your results?\n",
    " * What were other design choices you faced?\n",
    " * Any other interesting insights..."
   ]
  },
  {
   "cell_type": "markdown",
   "metadata": {
    "id": "Fcq52WUUs2Mm"
   },
   "source": [
    "# 2.2: Model [M2]: *fill-this-in* (25 points)\n",
    "\n",
    "\n"
   ]
  },
  {
   "cell_type": "markdown",
   "metadata": {
    "id": "7XPGNsr701FI"
   },
   "source": [
    "### 2.2.1: Hyper-parameters\n",
    "\n",
    "Define hyper-parameters for your method here"
   ]
  },
  {
   "cell_type": "code",
   "execution_count": null,
   "metadata": {
    "id": "1V-aANfA01FI"
   },
   "outputs": [],
   "source": [
    "#\n",
    "#\n",
    "# ------- Your Code -------\n",
    "#\n",
    "#\n",
    "\n",
    "degree = np.asarray([1,2,3]) # example\n",
    "\n",
    "# You don't need the following code, if you can use data from 2.1.1.\n",
    "\n",
    "test_set = 'val'  #  or 'test'\n",
    "# Decide all your hyperparameters based on validation performance\n",
    "# Then, switch to 'test' for final evaluation\n",
    "\n",
    "if test_set == 'val':\n",
    "    train_idxs, val_idxs = ..., ...   # Fill in\n",
    "    x_train, y_train = x_trainval[train_idxs], y_trainval[train_idxs]\n",
    "    x_eval, y_eval = x_trainval[val_idxs], y_trainval[val_idxs]\n",
    "else:\n",
    "    x_train, y_train = x_trainval, y_trainval\n",
    "    x_eval, y_eval = x_test, y_test"
   ]
  },
  {
   "cell_type": "markdown",
   "metadata": {
    "id": "nure4xC_01FK"
   },
   "source": [
    "### 2.2.2: Data Preprocessing\n"
   ]
  },
  {
   "cell_type": "code",
   "execution_count": null,
   "metadata": {
    "id": "ak3VMb8S01FK"
   },
   "outputs": [],
   "source": [
    "#\n",
    "#\n",
    "# ------- Your Code -------\n",
    "#\n",
    "# e.g. normalize, flatten input data.\n"
   ]
  },
  {
   "cell_type": "markdown",
   "metadata": {
    "id": "6oHcWedF01FK"
   },
   "source": [
    "### 2.2.3: Model\n",
    "\n",
    "Define your model here (all hyper-parameters in 2.1.1)"
   ]
  },
  {
   "cell_type": "code",
   "execution_count": null,
   "metadata": {
    "id": "RalMhJvZ01FK"
   },
   "outputs": [],
   "source": [
    "#\n",
    "#\n",
    "# ------- Your Code -------\n",
    "#\n",
    "# "
   ]
  },
  {
   "cell_type": "markdown",
   "metadata": {
    "id": "C5k8P8PP01FL"
   },
   "source": [
    "### 2.2.4: Fit Model\n"
   ]
  },
  {
   "cell_type": "code",
   "execution_count": null,
   "metadata": {
    "id": "DS0sDmha01FL"
   },
   "outputs": [],
   "source": [
    "#\n",
    "#\n",
    "# ------- Your Code -------\n",
    "#\n",
    "# \n",
    "#  Please save the trained model"
   ]
  },
  {
   "cell_type": "markdown",
   "metadata": {
    "id": "gNQKy7a901FL"
   },
   "source": [
    "### 2.2.5: Evaluation\n",
    "\n",
    "Evaluate your model.\n",
    "  * Evaluate models with different parameters \n",
    "  * Plot score (accuracy) for each model using \"plot_scores\" function\n",
    "  * Report the score for the best model\n",
    "  * Use \"vis_predictions\" function to visualize few examples of test/validation set with the corresponding predictions\n"
   ]
  },
  {
   "cell_type": "code",
   "execution_count": null,
   "metadata": {
    "id": "cac5u-Lk01FL"
   },
   "outputs": [],
   "source": [
    "# Here plot score (accuracy) for each model. You can use \"plot_scores\" function.\n",
    "\n",
    "# Example: plot_scores(parameters, scores, \"title\", \"x_label\", \"y_label\"), \n",
    "\n",
    "# You can see an example in the follow.\n",
    "# Note that the visualizations/plots provided are just simple examples/illustrations. \n",
    "# We encourage more informative and alternate methods to present results."
   ]
  },
  {
   "cell_type": "code",
   "execution_count": null,
   "metadata": {
    "id": "D68bsuVB01FL"
   },
   "outputs": [],
   "source": [
    "# Here report the score for the best model\n",
    "#\n",
    "# ------- Your Code -------\n",
    "#"
   ]
  },
  {
   "cell_type": "code",
   "execution_count": null,
   "metadata": {
    "id": "9zgw4JUH01FL"
   },
   "outputs": [],
   "source": [
    "# Visualize the predictions\n",
    "# Example: vis_predictions(x_eval, y_pred, size_of_data)\n",
    "#\n",
    "#\n",
    "# ------- Your Code -------\n",
    "#"
   ]
  },
  {
   "cell_type": "markdown",
   "metadata": {
    "id": "WOT67VC801FL"
   },
   "source": [
    "### 2.2.6: Summary\n",
    "\n",
    "Summarize your findings:\n",
    " * Which hyper-parameters were important and how did they influence your results?\n",
    " * What were other design choices you faced?\n",
    " * Any other interesting insights..."
   ]
  },
  {
   "cell_type": "markdown",
   "metadata": {
    "id": "cgZ547yT01FM"
   },
   "source": [
    "# 2.3: Model [M3] (Neural Networks): *fill-this-in* (25 points)\n",
    "\n"
   ]
  },
  {
   "cell_type": "markdown",
   "metadata": {
    "id": "EFslEvfu01FM"
   },
   "source": [
    "### 2.3.1: Hyper-parameters\n",
    "\n",
    "Define hyper-parameters for your method here"
   ]
  },
  {
   "cell_type": "code",
   "execution_count": 381,
   "metadata": {},
   "outputs": [],
   "source": [
    "class Parameters:\n",
    "\n",
    "    # Model parameters\n",
    "    out_size: int = 32\n",
    "    stride: int = 2\n",
    "    dropout: float = 0.25\n",
    "    save_model: bool = True\n",
    "    out_dir: str = 'cnn_model'\n",
    "\n",
    "    # Training parameters\n",
    "    epochs: int = 20\n",
    "    batch_size: int = 100\n",
    "    \n",
    "    learning_rate: float = 1e-3\n",
    "\n",
    "DEVICE = torch.device(\"cuda:0\") if torch.cuda.is_available() else torch.device(\"cpu\")"
   ]
  },
  {
   "cell_type": "markdown",
   "metadata": {},
   "source": [
    "### 2.3.2: Data Preprocessing"
   ]
  },
  {
   "cell_type": "code",
   "execution_count": 382,
   "metadata": {},
   "outputs": [
    {
     "name": "stdout",
     "output_type": "stream",
     "text": [
      "Loading dataset....\n"
     ]
    }
   ],
   "source": [
    "# Prepare the data\n",
    "print(\"Loading dataset....\")\n",
    "\n",
    "\n",
    "# Loading MNIST dataset using torchvision.datasets\n",
    "transform=torchvision.transforms.Compose([\n",
    "                                        torchvision.transforms.ToTensor(),\n",
    "                                        torchvision.transforms.Normalize(\n",
    "                                        (0.1307,), (0.3081,))])\n",
    "\n",
    "train_set = torchvision.datasets.MNIST(root='.', train=True, transform=transform, download=True)\n",
    "train_set, valid_set = torch.utils.data.random_split(train_set, [50000, 10000])\n",
    "test_set = torchvision.datasets.MNIST(root='.', train=False, transform=transform, download=True)\n",
    "\n",
    "data = {\n",
    "    'train_set': train_set,\n",
    "    'valid_set': valid_set,\n",
    "    'test_set': test_set\n",
    "}"
   ]
  },
  {
   "cell_type": "markdown",
   "metadata": {},
   "source": [
    "### 2.3.3: Model"
   ]
  },
  {
   "cell_type": "code",
   "execution_count": 383,
   "metadata": {},
   "outputs": [],
   "source": [
    "class TextClassifier(nn.Module):\n",
    "    def __init__(self):\n",
    "        super(TextClassifier, self).__init__()\n",
    "        self.conv1 = nn.Sequential(         \n",
    "            nn.Conv2d(\n",
    "                in_channels=1,              \n",
    "                out_channels=16,            \n",
    "                kernel_size=5,              \n",
    "                stride=1,                   \n",
    "                padding=2,                  \n",
    "            ),                              \n",
    "            nn.ReLU(),                      \n",
    "            nn.MaxPool2d(kernel_size=2),    \n",
    "        )\n",
    "        self.conv2 = nn.Sequential(         \n",
    "            nn.Conv2d(16, 32, 5, 1, 2),     \n",
    "            nn.ReLU(),                      \n",
    "            nn.MaxPool2d(2),                \n",
    "        )\n",
    "        # fully connected layer, output 10 classes\n",
    "        self.out = nn.Linear(32 * 7 * 7, 10)\n",
    "    def forward(self, x):\n",
    "        x = self.conv1(x)\n",
    "        x = self.conv2(x)\n",
    "        # flatten the output of conv2 to (batch_size, 32 * 7 * 7)\n",
    "        x = x.view(x.size(0), -1)       \n",
    "        output = self.out(x)\n",
    "        return output, x    # return x for visualization"
   ]
  },
  {
   "cell_type": "markdown",
   "metadata": {},
   "source": [
    "### 2.3.4: Fit Model and Evaluation"
   ]
  },
  {
   "cell_type": "code",
   "execution_count": 384,
   "metadata": {},
   "outputs": [],
   "source": [
    "class DatasetMaper(Dataset):\n",
    "\n",
    "    def __init__(self, x, y):\n",
    "        self.x = x\n",
    "        self.y = y\n",
    "\n",
    "    def __len__(self):\n",
    "        return len(self.x)\n",
    "\n",
    "    def __getitem__(self, idx):\n",
    "        return self.x[idx], self.y[idx]\n",
    "\n",
    "    \n",
    "class Run:\n",
    "    '''Training, evaluation and metrics calculation'''\n",
    "\n",
    "    @staticmethod\n",
    "    def train(model, data, params):\n",
    "\n",
    "        # Initialize loaders\n",
    "        loader_train = DataLoader(\n",
    "                         dataset=data['train_set'],\n",
    "                         batch_size=params.batch_size,\n",
    "                         shuffle=True)\n",
    "        loader_valid = DataLoader(\n",
    "                         dataset=data['valid_set'],\n",
    "                         batch_size=params.batch_size,\n",
    "                         shuffle=False)\n",
    "        \n",
    "        loader_test = DataLoader(\n",
    "                         dataset=data['test_set'],\n",
    "                         batch_size=params.batch_size,\n",
    "                         shuffle=False)\n",
    "\n",
    "\n",
    "        # Define optimizer\n",
    "        optimizer = optim.RMSprop(model.parameters(), lr=params.learning_rate)\n",
    "        # optimizer = torch.optim.Adam(model.parameters(), lr=params.learning_rate)\n",
    "\n",
    "        # Tracking best validation accuracy\n",
    "        best_accuracy = 0\n",
    "        \n",
    "        print(\"\\nStart training...\")\n",
    "        # print(f\"{'Epoch':^7} | {'Train Loss':^12} | {'Train Acc':^10} | {'Val Loss':^10} | {'Val Acc':^9} | {'Elapsed':^9}\")\n",
    "        print(f\"{'Epoch':^7} | {'Train Loss':^12} | {'Train Acc':^10} | {'Val Loss':^10} | {'Val Acc':^9} | {'Test Acc':^9} | {'Elapsed':^9}\")\n",
    "        print(\"-\"*80)\n",
    "    \n",
    "        # Starts training phase\n",
    "        train_loss_list = []\n",
    "        val_loss_list = []\n",
    "        test_acc_list = []\n",
    "        for epoch in range(params.epochs):\n",
    "            # =======================================\n",
    "            #               Training\n",
    "            # =======================================\n",
    "\n",
    "            # Tracking time and loss\n",
    "            t0_epoch = time.time()\n",
    "            total_loss = 0\n",
    "        \n",
    "            # Put the model into training mode\n",
    "            model.train()\n",
    "        \n",
    "            # Starts batch training\n",
    "            for x_batch, y_batch in loader_train:\n",
    "                # Load batch to GPU\n",
    "                x_batch = x_batch.to(DEVICE)\n",
    "                y_batch = y_batch.type(torch.FloatTensor)\n",
    "                y_batch = y_batch.to(DEVICE)\n",
    "                \n",
    "                # Feed the model\n",
    "                y_pred = model(x_batch.to(torch.float))[0]\n",
    "\n",
    "                # Compute loss and accumulate the loss values\n",
    "                # import pdb; pdb.set_trace()\n",
    "                loss = F.cross_entropy(y_pred, y_batch.long(), reduction='sum')\n",
    "                total_loss += loss.item()\n",
    "\n",
    "                # Clean gradients\n",
    "                optimizer.zero_grad()\n",
    "\n",
    "                # Gradients calculation\n",
    "                loss.backward()\n",
    "\n",
    "                # Gradients update\n",
    "                optimizer.step()\n",
    "            \n",
    "                # break\n",
    "\n",
    "            # Calculate the average loss over the entire training data\n",
    "            avg_train_loss = total_loss / len(loader_train)\n",
    "            train_loss_list.append(avg_train_loss)\n",
    "            \n",
    "            # =======================================\n",
    "            #               Evaluation\n",
    "            # =======================================\n",
    "            \n",
    "            # After the completion of each training epoch, measure the model's\n",
    "            # performance on our validation set.\n",
    "            \n",
    "            # Training metrics\n",
    "            corrects = (torch.max(y_pred, 1)[1].view(y_batch.size()).data == y_batch.data).sum()\n",
    "            train_accuracy = 100.0 * corrects/loader_train.batch_size\n",
    "            \n",
    "            \n",
    "            # Validation metrics\n",
    "            val_loss, val_accuracy = evaluation(model, loader_valid)\n",
    "            _, test_accuracy = evaluation(model, loader_test)\n",
    "            val_loss_list.append(val_loss)\n",
    "            test_acc_list.append(test_accuracy)\n",
    "            \n",
    "            # Track the best accuracy\n",
    "            if val_accuracy > best_accuracy:\n",
    "                best_accuracy = val_accuracy\n",
    "\n",
    "            # Print performance over the entire training data\n",
    "            time_elapsed = time.time() - t0_epoch\n",
    "            print(f\"{epoch + 1:^7} | {avg_train_loss:^12.6f} | {train_accuracy:^10.2f} | {val_loss:^10.6f} | {val_accuracy:^9.2f} | {test_accuracy:^9.2f} | {time_elapsed:^9.2f}\")\n",
    "            \n",
    "            \n",
    "        print(\"\\n\")\n",
    "        print(f\"Training complete! \\nBest accuracy: {best_accuracy:.2f} %.\")\n",
    "        \n",
    "        os.makedirs(params.out_dir, exist_ok=True)\n",
    "        if params.save_model:\n",
    "            PATH = params.out_dir + \"/model_epochs_\" + str(params.epochs) +\"_batch_size_\" + str(params.batch_size) + \".pth\"\n",
    "            torch.save(model.state_dict(), PATH)\n",
    "            print(\"Model saved: \",PATH)\n",
    "        return train_loss_list, val_loss_list, test_acc_list\n",
    "\n",
    "\n",
    "def evaluation(model, loader_valid):\n",
    "\n",
    "    # Set the model in evaluation mode\n",
    "\n",
    "    model.eval()\n",
    "    corrects, avg_loss = 0, 0\n",
    "    \n",
    "    # Start evaluation phase   \n",
    "    with torch.no_grad():\n",
    "        for x_batch, y_batch in loader_valid:\n",
    "            x_batch = x_batch.to(DEVICE); y_batch = y_batch.to(DEVICE)\n",
    "            x_batch = x_batch.to(torch.int64)\n",
    "            \n",
    "            y_pred = model(x_batch.to(torch.float))[0]\n",
    "            \n",
    "            loss = F.cross_entropy(y_pred, y_batch.long(), reduction='sum')\n",
    "            \n",
    "            avg_loss += loss.item()\n",
    "            corrects += (torch.max(y_pred, 1) [1].view(y_batch.size()).data == y_batch.data).sum()\n",
    "            \n",
    "    size = len(loader_valid.dataset)\n",
    "    avg_loss /= size\n",
    "    accuracy = 100.0 * corrects/size\n",
    "    \n",
    "    return avg_loss, accuracy"
   ]
  },
  {
   "cell_type": "code",
   "execution_count": 385,
   "metadata": {
    "scrolled": false
   },
   "outputs": [
    {
     "name": "stdout",
     "output_type": "stream",
     "text": [
      "TextClassifier(\n",
      "  (conv1): Sequential(\n",
      "    (0): Conv2d(1, 16, kernel_size=(5, 5), stride=(1, 1), padding=(2, 2))\n",
      "    (1): ReLU()\n",
      "    (2): MaxPool2d(kernel_size=2, stride=2, padding=0, dilation=1, ceil_mode=False)\n",
      "  )\n",
      "  (conv2): Sequential(\n",
      "    (0): Conv2d(16, 32, kernel_size=(5, 5), stride=(1, 1), padding=(2, 2))\n",
      "    (1): ReLU()\n",
      "    (2): MaxPool2d(kernel_size=2, stride=2, padding=0, dilation=1, ceil_mode=False)\n",
      "  )\n",
      "  (out): Linear(in_features=1568, out_features=10, bias=True)\n",
      ")\n",
      "\n",
      "Start training...\n",
      " Epoch  |  Train Loss  | Train Acc  |  Val Loss  |  Val Acc  | Test Acc  |  Elapsed \n",
      "--------------------------------------------------------------------------------\n",
      "   1    |  17.609043   |   97.00    |  0.114560  |   97.26   |   97.61   |   7.88   \n",
      "   2    |   5.570564   |   99.00    |  0.087281  |   97.90   |   98.04   |   7.95   \n",
      "   3    |   3.971349   |   99.00    |  0.061684  |   98.40   |   98.50   |   7.89   \n",
      "   4    |   3.129793   |   99.00    |  0.056324  |   98.52   |   98.55   |   7.83   \n",
      "   5    |   2.575295   |   98.00    |  0.049930  |   98.66   |   98.89   |   7.83   \n",
      "   6    |   2.148155   |   100.00   |  0.048842  |   98.69   |   98.72   |   7.89   \n",
      "   7    |   1.713666   |   100.00   |  0.058130  |   98.41   |   98.50   |   7.98   \n",
      "   8    |   1.510904   |   98.00    |  0.043668  |   98.68   |   98.77   |   7.91   \n",
      "   9    |   1.290548   |   99.00    |  0.039604  |   98.86   |   98.91   |   8.00   \n",
      "  10    |   1.045947   |   100.00   |  0.042811  |   98.66   |   98.85   |   7.83   \n",
      "  11    |   0.907926   |   99.00    |  0.058632  |   98.29   |   98.53   |   7.86   \n",
      "  12    |   0.790540   |   100.00   |  0.059159  |   98.31   |   98.40   |   7.73   \n",
      "  13    |   0.754424   |   100.00   |  0.040040  |   98.84   |   98.96   |   7.75   \n",
      "  14    |   0.598884   |   100.00   |  0.041601  |   98.90   |   98.93   |   7.78   \n",
      "  15    |   0.510728   |   100.00   |  0.059201  |   98.30   |   98.47   |   7.72   \n",
      "  16    |   0.546497   |   100.00   |  0.047363  |   98.77   |   98.66   |   7.81   \n",
      "  17    |   0.440858   |   100.00   |  0.044797  |   98.78   |   98.81   |   7.75   \n",
      "  18    |   0.361498   |   98.00    |  0.067122  |   98.08   |   98.25   |   7.65   \n",
      "  19    |   0.342060   |   100.00   |  0.052159  |   98.76   |   98.74   |   7.66   \n",
      "  20    |   0.413669   |   99.00    |  0.056142  |   98.48   |   98.62   |   7.65   \n",
      "\n",
      "\n",
      "Training complete! \n",
      "Best accuracy: 98.90 %.\n",
      "Model saved:  cnn_model/model_epochs_20_batch_size_100.pth\n",
      "*** Training Complete ***\n",
      "Training runtime: 156.39 s\n"
     ]
    }
   ],
   "source": [
    "# Initialize the model\n",
    "start = time.time()\n",
    "model = TextClassifier()\n",
    "model.to(DEVICE)\n",
    "print(model)\n",
    "\n",
    "# Train and Evaluate the pipeline\n",
    "train_loss_list, val_loss_list, test_acc_list = Run().train(model, data, Parameters)\n",
    "end = time.time()\n",
    "print(\"*** Training Complete ***\")\n",
    "print(\"Training runtime: {:.2f} s\".format(end-start))"
   ]
  },
  {
   "cell_type": "markdown",
   "metadata": {},
   "source": [
    "### 2.3.5: Visualize training performance"
   ]
  },
  {
   "cell_type": "code",
   "execution_count": 395,
   "metadata": {},
   "outputs": [
    {
     "data": {
      "image/png": "[encoded data removed]",
      "text/plain": [
       "<Figure size 648x360 with 2 Axes>"
      ]
     },
     "metadata": {
      "needs_background": "light"
     },
     "output_type": "display_data"
    }
   ],
   "source": [
    "## Plotting\n",
    "# train loss vs. validation loss vs test acc\n",
    "\n",
    "fig = plt.figure(figsize=(9,5))\n",
    "ax1 = fig.add_subplot(111)\n",
    "\n",
    "test_accs = [item.cpu().detach().numpy() for item in test_acc_list]\n",
    "TrainLoss, = plt.plot(range(Parameters.epochs), train_loss_list,color=\"blue\", label=\"Train loss\")\n",
    "ValidLoss, = plt.plot(range(Parameters.epochs), val_loss_list, color=\"red\",  label=\"Val loss\")\n",
    "ax1.set_ylabel(\"Loss\")\n",
    "\n",
    "ax2 = ax1.twinx() \n",
    "TestAcc, = plt.plot(range(Parameters.epochs), test_accs,color=\"green\", label=\"Test acc\")\n",
    "ax2.set_ylabel('Acc')\n",
    "\n",
    "ax1.set_xlabel(\"Epoch\")\n",
    "plt.legend(\n",
    "  [TrainLoss, ValidLoss, TestAcc],\n",
    "  ['Train loss','Valid loss','Test acc'],\n",
    "  loc=0,\n",
    ")\n",
    "plt.title('Training performance')\n",
    "_ = plt.xticks(range(Parameters.epochs), list(range(1, Parameters.epochs+1)))\n",
    "plt.show()\n",
    "\n"
   ]
  },
  {
   "cell_type": "markdown",
   "metadata": {
    "id": "SPMall2f01FN"
   },
   "source": [
    "### 2.3.6: Summary\n",
    "\n",
    "Summarize your findings:\n",
    " * Which hyper-parameters were important and how did they influence your results?\n",
    " * What were other design choices you faced?\n",
    " * Any other interesting insights..."
   ]
  },
  {
   "cell_type": "markdown",
   "metadata": {
    "id": "Ex3qQp3JolD1"
   },
   "source": [
    "# 3. Summary (20 points)\n",
    "\n",
    "Enter your final summary here.\n",
    "\n",
    "You should now compare performance  on the three models [M1], [M2] and [M3]. Present this in a tabular format and/or using plots.\n",
    "\n",
    "Which model do you recommend to perform digit classification and why?\n",
    "\n",
    "Feel free to discuss other insightful observations."
   ]
  },
  {
   "cell_type": "code",
   "execution_count": null,
   "metadata": {
    "id": "pa6rPT53LUW8"
   },
   "outputs": [],
   "source": []
  }
 ],
 "metadata": {
  "colab": {
   "collapsed_sections": [],
   "name": "Task_1.ipynb",
   "provenance": []
  },
  "kernelspec": {
   "display_name": "Python 3",
   "language": "python",
   "name": "python3"
  },
  "language_info": {
   "codemirror_mode": {
    "name": "ipython",
    "version": 3
   },
   "file_extension": ".py",
   "mimetype": "text/x-python",
   "name": "python",
   "nbconvert_exporter": "python",
   "pygments_lexer": "ipython3",
   "version": "3.8.5"
  }
 },
 "nbformat": 4,
 "nbformat_minor": 1
}
