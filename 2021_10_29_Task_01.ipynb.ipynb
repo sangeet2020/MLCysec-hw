{
 "cells": [
  {
   "cell_type": "markdown",
   "metadata": {
    "id": "4NzyqehHjUlG"
   },
   "source": [
    "# ML in Cybersecurity: Task I\n",
    "\n",
    "## Team\n",
    "  * **Team name**:  *fill this in*\n",
    "  * **Members**:  *fill this in. format: name1 (email1), name2 (email2), ...*\n",
    "\n",
    "\n",
    "## Logistics\n",
    "  * **Due date**: 11th November 2021, 23:59:59 (email the completed notebook including outputs to mlcysec_ws2022_staff@lists.cispa.saarland)\n",
    "  * Please include your team name and the task number in the file name and the email subject\n",
    "  * Complete this in **teams of 3**\n",
    "  * Feel free to use the forum or the mailing list to find group members.\n",
    "  \n",
    "## Timeline\n",
    "  * 29-Oct-2021: Task 1 hand-out\n",
    "  * **11-Nov-2021** (23:59:59): Email the completed notebook including outputs to mlcysec_ws2022_staff@lists.cispa.saarland\n",
    "  * 12-Nov-2021: Task 1 discussion and summary\n",
    "  \n",
    "  \n",
    "## About this task\n",
    "In this task, you'll implement a digit classifier, based on the popular [MNIST](http://yann.lecun.com/exdb/mnist/) dataset. The dataset is based on a seminal [paper](http://yann.lecun.com/exdb/publis/pdf/lecun-01a.pdf), which immensely popularized (convolutional) neural networks. This is a great starting point for ML research and this dataset/model has been a stepping stone numerous other tasks such as [GANs](https://papers.nips.cc/paper/5423-generative-adversarial-nets.pdf), [Adversarial Perturbations](https://arxiv.org/abs/1412.6572) and so many more!\n",
    "\n",
    "This dataset consists of data $\\mathcal{D} = \\{x_i, y_i\\}_{i=1}^N$, where $x_i$ is a 28x28 pixel grayscale image and $y_i$ is a scalar represeting digits between 0-9. The notebook will guide you to load this data, implement classifiers $\\hat{y_i} = f_w(x_i)$  and analyze results. By doing so, you'll have a ML model that works on real data!\n",
    "\n",
    "To put things into context, have a look at Slide 21 in the [second](https://cms.cispa.saarland/mlcysec19/dl/4/2019-10-24-ml.pdf) lecture. Within this framework, the following blocks of this task are fixed:\n",
    "  * *Real-world problem*: Digit classification\n",
    "  * *Performance metric*: Mean accuracy i.e., $ \\frac{1}{N} \\sum_{i=1}^N \\mathbb{1}[\\hat{y_i} = y_i]$, where $\\mathbb{1}[\\hat{y_i} = y_i]$ is 1 if your model predicted the right digit for the $i$-th digit and 0 otherwise.\n",
    "  * *Data*: The MNIST dataset\n",
    "\n",
    "You'll make the the following design-choices:\n",
    " * *Choice of Model*: A model family (Non-parametric methods, Linear classifiers, Neural Networks, etc.)\n",
    " * *ML Model*: Specific model (e.g., SVM with a polynomial kernel)\n",
    " * *Loss/Risk*\n",
    " * *Optimization*\n",
    "\n",
    "\n",
    "## A Note on Grading\n",
    "The grading for this task will depend on:\n",
    " 1. Functional digit classifier\n",
    "   * Following a well-defined ML pipeline\n",
    "   * Developing 3 classification models (keep them diverse and ideally of increasing complexity)\n",
    "   * Obtaining reasonable accuracies (>80%) on a held-out test set\n",
    " 1. Analysis\n",
    "   * Which methods work better than the rest and why?\n",
    "   * Which hyper-parameters and design-choices were important in each of your methods?\n",
    "   * Quantifying influence of these hyper-parameters on loss and/or validation accuracies\n",
    "   * Trade-offs between methods, hyper-parameters, design-choices\n",
    "    * Anything else you find interesting (this part is open-ended)\n",
    "  \n",
    " A note on (1.): \n",
    "  * Choose your models that aids good insights. We require at least one non-Neural Network (e.g., SVM, KNN) and one Neural Network model (e.g., MLP, CNN).\n",
    "  * We definitely don't expect all three models to achieve >99% test accuracies!\n",
    "\n",
    "## Grading Details\n",
    " * 5 points for loading and visualization \n",
    " * 25x3 points for models. Per model:\n",
    "   * 4 points for written description \n",
    "   * 7 points for implementation\n",
    "   * 7 points for evaluation\n",
    "   * 7 points for summary\n",
    " * 15 points for final summary (Section 3)\n",
    " * 5 points for clean code\n",
    " \n",
    "## Filling-in the Notebook\n",
    "You'll be submitting this very notebook that is filled-in with your code and analysis. Make sure you submit one that has been previously executed in-order. (So that results/graphs are already visible upon opening it). \n",
    "\n",
    "The notebook you submit **should compile** (or should be self-contained and sufficiently commented). Check tutorial 1 on how to set up the Python3 environment.\n",
    "\n",
    "\n",
    "**The notebook is your task report. So, to make the report readable, omit code for techniques/models/things that did not work. You can use final summary to provide report about these codes.**\n",
    "\n",
    "It is extremely important that you **do not** re-order the existing sections. Apart from that, the code blocks that you need to fill-in are given by:\n",
    "```\n",
    "#\n",
    "#\n",
    "# ------- Your Code -------\n",
    "#\n",
    "#\n",
    "```\n",
    "Feel free to break this into multiple-cells. It's even better if you interleave explanations and code-blocks so that the entire notebook forms a readable \"story\".\n",
    "\n",
    "\n",
    "## Code of Honor\n",
    "We encourage discussing ideas and concepts with other students to help you learn and better understand the course content. However, the work you submit and present **must be original** and demonstrate your effort in solving the presented problems. **We will not tolerate** blatantly using existing solutions (such as from the internet), improper collaboration (e.g., sharing code or experimental data between groups) and plagiarism. If the honor code is not met, no points will be awarded.\n",
    "\n",
    " \n",
    " ## Versions\n",
    "  * v2.0: Added pytorch\n",
    "  * v1.1: Added Code of Honor\n",
    "  * v1.0: Initial notebook\n",
    "  \n",
    "  ---"
   ]
  },
  {
   "cell_type": "code",
   "execution_count": 1,
   "metadata": {
    "id": "3ewNwfFvbFaR"
   },
   "outputs": [],
   "source": [
    "import time \n",
    " \n",
    "import numpy as np \n",
    "import matplotlib.pyplot as plt \n",
    "\n",
    "import json \n",
    "import time \n",
    "import pickle \n",
    "import sys \n",
    "import csv \n",
    "import os \n",
    "import os.path as osp \n",
    "import shutil \n",
    "\n",
    "import pandas as pd\n",
    "\n",
    "from IPython.display import display, HTML\n",
    " \n",
    "%matplotlib inline \n",
    "plt.rcParams['figure.figsize'] = (10.0, 8.0) # set default size of plots \n",
    "plt.rcParams['image.interpolation'] = 'nearest' \n",
    "plt.rcParams['image.cmap'] = 'gray' \n",
    " \n",
    "# for auto-reloading external modules \n",
    "# see http://stackoverflow.com/questions/1907993/autoreload-of-modules-in-ipython \n",
    "%load_ext autoreload\n",
    "%autoreload 2"
   ]
  },
  {
   "cell_type": "code",
   "execution_count": 2,
   "metadata": {
    "colab": {
     "base_uri": "https://localhost:8080/"
    },
    "id": "640GrzbOevr0",
    "outputId": "f17573de-817a-47b0-de8c-ff94587e63ce"
   },
   "outputs": [
    {
     "data": {
      "text/plain": [
       "<torch._C.Generator at 0x7fa71bf1c710>"
      ]
     },
     "execution_count": 2,
     "metadata": {},
     "output_type": "execute_result"
    }
   ],
   "source": [
    "# Load other libraries here.\n",
    "# Keep it minimal! We should be easily able to reproduce your code.\n",
    "\n",
    "# We only support sklearn and pytorch.\n",
    "\n",
    "# Please set random seed to have reproduceable results, e.g. torch.manual_seed(123)\n",
    "import torch\n",
    "import torchvision\n",
    "import torchvision.transforms as transforms\n",
    "\n",
    "from sklearn.neighbors import KNeighborsClassifier\n",
    "from sklearn.pipeline import Pipeline\n",
    "from sklearn.model_selection import GridSearchCV, PredefinedSplit\n",
    "from sklearn.preprocessing import StandardScaler\n",
    "from sklearn.metrics import classification_report, accuracy_score\n",
    "from sklearn.svm import SVC\n",
    "from joblib import dump, load\n",
    "\n",
    "torch.manual_seed(123)\n"
   ]
  },
  {
   "cell_type": "markdown",
   "metadata": {
    "id": "nxi-lLD0mKHD"
   },
   "source": [
    "Helpers\n",
    "\n",
    "In case you choose to have some methods you plan to reuse during the notebook, define them here. This will avoid clutter and keep rest of the notebook succinct."
   ]
  },
  {
   "cell_type": "code",
   "execution_count": 3,
   "metadata": {
    "id": "VBbigqdEmKd8"
   },
   "outputs": [],
   "source": [
    "def identity_func(foo):\n",
    "    return foo\n",
    "\n",
    "\n",
    "#\n",
    "#\n",
    "# ------- Your Code -------\n",
    "#\n",
    "#\n",
    "\n",
    "def sort_list(a, b, c):\n",
    "    \"\"\"\n",
    "    Sort two list and use the same order to sort third list.\n",
    "    \"\"\"\n",
    "    dic_train = {k: v for k, v in zip(a, b)}\n",
    "    dic_train = {k: v for k, v in sorted(dic_train.items(), key=lambda item: item[1])}\n",
    "    dic_test = {k: v for k, v in zip(a, c)}\n",
    "    for k,v in dic_train.items():\n",
    "        dic_train[k] = [v, dic_test[k]]\n",
    "    a = list(dic_train.keys())\n",
    "    train_val = list(dic_train.values())\n",
    "    train = [item[0] for item in train_val]\n",
    "    val = [item[1] for item in train_val]\n",
    "    return a, train, val\n",
    "\n",
    "\n",
    "def create_predefined_splits(len_train, len_test):\n",
    "    \"\"\" Predefined split\n",
    "    \"\"\"\n",
    "    # The indices which have the value -1 will be kept in train.\n",
    "    train_indices = np.full((len_train,), -1)\n",
    "\n",
    "    # The indices which have zero or positive values, will be kept in test\n",
    "    test_indices = np.full((len_test,), 0)\n",
    "    test_fold = np.append(train_indices, test_indices)\n",
    "\n",
    "    return PredefinedSplit(test_fold)\n",
    "\n",
    "\n",
    "# You can use this function to flatten 2D inputs\n",
    "def flatten_input_pixels(x_input):\n",
    "    result = []\n",
    "    for i in range(len(x_input)):\n",
    "        result.append(x_input[i].flatten())\n",
    "    return np.array(result, np.uint8)  # [n_samples, n_features]\n",
    "\n",
    "\n",
    "# You can use this function to plot the accuracy of the models with different parametes\n",
    "def plot_scores(x, y, title = \"Title\", x_label = \"X\", y_label = \"Y\"):\n",
    "    fig, ax = plt.subplots(nrows=1,ncols=1)\n",
    "    \n",
    "    ax.plot(x, y)\n",
    "    ax.set_xticks(x)\n",
    "    ax.set_title(title)\n",
    "    ax.set_xlabel(x_label)\n",
    "    ax.set_ylabel(y_label)\n",
    "    ax.set_ylim(0.6, 1.0)\n",
    "\n",
    "# You can use this function to visualize input images and the predictions of your models\n",
    "# \"y_pred\" is output of your model \n",
    "# \"n_val\" is number of instances in test or validation sets\n",
    "def vis_predictions(x_eval, y_eval, y_pred, n_val):\n",
    "    rows, cols = 4, 3\n",
    "\n",
    "    fig,ax = plt.subplots(nrows = rows, ncols = cols)\n",
    "\n",
    "    ids = np.random.randint(0,n_val,rows*cols)\n",
    "    for i in range(cols):   \n",
    "        for j in range(rows):\n",
    "            ax[j][i].set_title('True label: {0}, Predicted label: {1}'.format(y_eval[ids[(i*rows)+j]], \n",
    "                                                                              y_pred[ids[(i*rows)+j]]))\n",
    "            two_d = (np.reshape(x_eval[ids[(i*rows)+j]], (28, 28))).astype(np.uint8)\n",
    "            ax[j][i].imshow(two_d)\n",
    "            ax[j][i].axes.get_xaxis().set_visible(False)\n",
    "            ax[j][i].axes.get_yaxis().set_visible(False)\n",
    "\n",
    "\n",
    "    plt.tight_layout()  "
   ]
  },
  {
   "cell_type": "markdown",
   "metadata": {
    "id": "n1pcmKkyjT7y"
   },
   "source": [
    "# 1. Loading and Visualizing data (5 points)\n",
    "\n",
    "In this section, you'll need to prepare the MNIST data for the experiments you'll be conducting for the remainder of the notebook."
   ]
  },
  {
   "cell_type": "markdown",
   "metadata": {
    "id": "AIU9Q762fmoT"
   },
   "source": [
    "## 1.1. Load Data\n",
    "\n",
    "Here you'll load the MNIST data into memory. The end-goal is to two have the following variables:\n",
    "  * `x_trainval`, `x_test`: of shape $N \\times d_1 \\times d_2 \\dots$ (e.g., $N \\times 784$. 784 since you could flatten each 28x28 pixel image into a single vector)\n",
    "  * `y_trainval`, `y_test`: of shape $N \\times K$ (K = 1 or 10 depending on how you plan to represent the ground-truth digit annotation)\n",
    "\n",
    "You can either do this by:\n",
    "  1. Downloading the MNIST dataset, unpacking and preparing it yourself to have fine-grained control\n",
    "  1. Using high-level existing functions, such as the one provided by  [`torchvision.datasets`](https://pytorch.org/docs/stable/torchvision/datasets.html#mnist).\n",
    "  \n",
    "  \n",
    "  In either case, it is important that you have disjoint train, val, and test splits!"
   ]
  },
  {
   "cell_type": "code",
   "execution_count": 4,
   "metadata": {
    "colab": {
     "base_uri": "https://localhost:8080/",
     "height": 522,
     "referenced_widgets": [
      "3485460a71c842fc97df86fcd5ab1e90",
      "85f13a8da49e4c2589e978d76b465a2e",
      "f8e3693bd90c4f0fb81332200c7af84c",
      "5ace838886af474ca9b28054a0cf1a2d",
      "7363cdc469da4d1eb40dbc8af101a557",
      "f9b88540f03040339369bd4194ea26ef",
      "e919c5f1ac6f433380461ce447151dea",
      "dc413ce906974d05b2147b1b5859e474",
      "5de73bbf79d54e07a0b46d3270025898",
      "781a4ae2658f4e209fdb8d846707e2a3",
      "625d9faa9e7143ab938b194f0421958a",
      "f81dd63f63484a969119b60cc191c6b7",
      "b7453223e7e54ec0923170ac48256750",
      "6742985ed79849d39438b58cf7baac28",
      "53ad5e27fa8343da8d57a08d12efcc2c",
      "a5f3597bfbf04c1e98aea52838ab1627",
      "f6d206d1f1c4495383d6f0884471981d",
      "3b43355c6d2b4950bfb43ac538c0f062",
      "2c26e7a4a0d44570ac019ed0450f1bf1",
      "bb6cb4542f024c1dadc72bf2f837076e",
      "15f005f613364aba9cc382189db6d360",
      "6769cb3581d744b494e433e6c003f900",
      "23c2898a709f4091a2e7d6cba3d25e87",
      "ad20cebc3b9140e4a6bdbec9404f73a4",
      "7fb8e76f085b4bdc800ef8c2fe440510",
      "4ce7bf3f17224930a2b5f43893554012",
      "8da9e95eb2434616b716aee80d34ee0e",
      "d80e0c4e87834ece85e01463d2e38ef0",
      "bc97d84d33b044969314bb1bbb8bdc97",
      "f7739151c4554f0bbdeeab92ac69f540",
      "35a1281cd46f47d4a7aebce9a5a322ad",
      "cfd54891e0184448882af1e16f51708d",
      "ed67cdb251c94647a1f3ea5d2f19cbe5",
      "b6a2bc63ef6f4752a7de4bcb458ba953",
      "1518e969982c4d6dbcf5d37538346628",
      "7a93c8b51a8a40d8be612acb97b45eef",
      "aa77c05b1e0d4e5b951e2dc287721fb5",
      "363cadb8cdc5439695895f5833bf7f81",
      "cdbff430dd1f49148df30a20a913fb7c",
      "118091a534924f44aab40fd727d55fa0",
      "cf450c03fadd44ca900d2b2e2fdedc49",
      "cd43f6ed9e704d4ebe449d3c5f1c1cc3",
      "55086484843e4434b8aedf4e1d93be6b",
      "864b9d765762486d8675156679e1092d"
     ]
    },
    "id": "7kYacpo_jvao",
    "outputId": "a197a5e0-192e-4dca-84ee-72d20878e6b6"
   },
   "outputs": [
    {
     "name": "stdout",
     "output_type": "stream",
     "text": [
      "x_train.shape = torch.Size([54000, 28, 28]),  y_train.shape = torch.Size([54000])\n",
      "x_val.shape = torch.Size([6000, 28, 28]),  y_val.shape = torch.Size([6000])\n",
      "x_test.shape = torch.Size([10000, 28, 28]),  y_test.shape = torch.Size([10000])\n"
     ]
    }
   ],
   "source": [
    "# Loading MNIST dataset using torchvision.datasets\n",
    "train_set = torchvision.datasets.MNIST(root='.', train=True, transform=None, download=True)\n",
    "test_set = torchvision.datasets.MNIST(root='.', train=False, transform=None, download=True)\n",
    "\n",
    "# Separate out valiation data from train set to be used in later parts\n",
    "val_frac = 0.1\n",
    "k = int(len(train_set.targets) * (1 - val_frac))\n",
    "x_trainval_3d = train_set.data\n",
    "y_trainval = train_set.targets\n",
    "\n",
    "# Train\n",
    "x_train_3d = torch.tensor(x_trainval_3d.tolist()[:k])\n",
    "y_train = torch.tensor(y_trainval.tolist()[:k])\n",
    "\n",
    "# Validation\n",
    "x_val_3d = torch.tensor(x_trainval_3d.tolist()[k:])\n",
    "y_val = torch.tensor(y_trainval.tolist()[k:])\n",
    "\n",
    "# Test\n",
    "x_test_3d = test_set.data\n",
    "y_test = test_set.targets\n",
    "\n",
    "print('x_train.shape = {},  y_train.shape = {}'.format(x_train_3d.shape, y_train.shape))\n",
    "print('x_val.shape = {},  y_val.shape = {}'.format(x_val_3d.shape, y_val.shape))\n",
    "print('x_test.shape = {},  y_test.shape = {}'.format(x_test_3d.shape, y_test.shape))\n",
    "\n",
    "\n",
    "# Feel free to have multiple variables in case your models are designed for different formats\n",
    "# For instance, in case your model requires Nx28x28 inputs, declare x_trainval_3d, etc.\n",
    "\n",
    "# Tip: Set this to a tiny number (such 0.05) to aid debugging\n",
    "# After all, you do not want to train/evaluate on the entire dataset to find bugs\n",
    "DEBUG_FRAC = 1.0\n",
    "x_trainval_3d = x_trainval_3d[:int(len(x_trainval_3d)*DEBUG_FRAC)]\n",
    "y_trainval = y_trainval[:int(len(y_trainval)*DEBUG_FRAC)]\n"
   ]
  },
  {
   "cell_type": "markdown",
   "metadata": {
    "id": "eA6_cejNjzYw"
   },
   "source": [
    "#### 1.2. Visualize Data\n",
    "\n",
    "To get the hang of your data you'll be training a digit classifier on, visualize it.\n",
    "\n",
    "Examples of ways to visualize it:\n",
    "  * Given a digit, display few randomly sampled images for this digit (the bare minimum)\n",
    "  * Visualize as a grid (e.g., Slide 4, [Lecture 2](https://cms.cispa.saarland/mlcysec19/dl/4/2019-10-24-ml.pdf)) using a combination of `plt.imshow` and `plt.subplots`\n",
    "  \n",
    "It's up to you to decide how you want to do this. The end-goal is for you to potentially give a trailer of the dataset to someone who hasn't seen it before."
   ]
  },
  {
   "cell_type": "code",
   "execution_count": null,
   "metadata": {
    "id": "dISIbt4plyoD",
    "outputId": "73a6f2d6-203a-4f4b-cb5b-f300f26e5e6f"
   },
   "outputs": [
    {
     "data": {
      "image/png": "[encoded data removed]",
      "text/plain": [
       "<Figure size 720x576 with 100 Axes>"
      ]
     },
     "metadata": {},
     "output_type": "display_data"
    }
   ],
   "source": [
    "# Visualize 10 examples of 10 classes. You can extend the following code:\n",
    "rows, cols = 10, 10\n",
    "fig,ax = plt.subplots(nrows = rows, ncols = cols)\n",
    "\n",
    "for row in range(rows):\n",
    "    idx = y_trainval==row\n",
    "    y_sample = y_trainval[idx]\n",
    "    x_sample = x_trainval_3d[idx]\n",
    "    for col in range(cols):\n",
    "        ax[row, col].imshow(x_sample[col], cmap='gray')\n",
    "        ax[row, col].set_xticks([]), ax[row, col].set_yticks([])\n",
    "#         ax[row, col].set_title(\"lab: {}\".format(y_sample[col]))\n",
    "        \n",
    "\n",
    "fig.tight_layout()\n",
    "plt.savefig('fig1.pdf')   # Save the figures\n",
    "plt.show()   # These should be some visualization of data at the end of this section\n",
    "\n",
    "# You can see an output example in the follow:"
   ]
  },
  {
   "cell_type": "markdown",
   "metadata": {
    "id": "b8sAT53jmJ8_"
   },
   "source": [
    "# 2. Digit classifiers\n",
    "\n",
    "In this section, you'll begin developing models to perform digit classification.\n",
    "\n",
    "Each model needs to be structured like so:\n",
    "  1. Give a brief reason which model you are going to train and why you choose it\n",
    "  1. Define hyper-parameters for model and optimization procedure\n",
    "  1. Define your model\n",
    "  1. Define optimization method and fit model to data\n",
    "  1. Summarize your findings\n",
    "\n",
    "\n",
    "\n",
    "\n",
    "\n"
   ]
  },
  {
   "cell_type": "markdown",
   "metadata": {
    "id": "xkF-7eFnpWoe"
   },
   "source": [
    "## 2.1: Model [M1]: *fill-this-in* (25 points)\n",
    "\n",
    "**Short description **: *fill this in*"
   ]
  },
  {
   "cell_type": "markdown",
   "metadata": {
    "id": "lVyT9Oddp3GB"
   },
   "source": [
    "### 2.1.1: Hyper-parameters\n",
    "\n",
    "Define hyper-parameters for your model here"
   ]
  },
  {
   "cell_type": "code",
   "execution_count": null,
   "metadata": {
    "id": "yuHt4T7Vp5NC"
   },
   "outputs": [],
   "source": [
    "param_grid = {\n",
    "    \"knn__n_neighbors\": [3, 4, 5, 6, 7],\n",
    "    \"knn__weights\": ['uniform', 'distance'],\n",
    "    \"knn__algorithm\": ['auto'],\n",
    "    \"knn__metric\": ['euclidean','manhattan','chebyshev']\n",
    "}\n",
    "\n",
    "# degree = np.asarray([1,2,3]) # example\n",
    "\n",
    "## We dont this anymore, we have already defined train, val and test while pre-processing dataset.\n",
    "# test_set = 'val'  #  or 'test'\n",
    "# # Decide all your hyperparameters based on validation performance\n",
    "# # Then, switch to 'test' for final evaluation\n",
    "\n",
    "# if test_set == 'val':\n",
    "#     train_idxs, val_idxs = ..., ...   # Fill in\n",
    "#     x_train, y_train = x_trainval[train_idxs], y_trainval[train_idxs]\n",
    "#     x_eval, y_eval = x_trainval[val_idxs], y_trainval[val_idxs]\n",
    "# else:\n",
    "#     x_train, y_train = x_trainval, y_trainval\n",
    "#     x_eval, y_eval = x_test, y_test\n",
    "\n"
   ]
  },
  {
   "cell_type": "markdown",
   "metadata": {
    "id": "-ZhVgrFM01FF"
   },
   "source": [
    "### 2.1.2: Data Preprocessing\n"
   ]
  },
  {
   "cell_type": "code",
   "execution_count": null,
   "metadata": {
    "id": "vzJ1X7ek01FF",
    "outputId": "c9254ee6-d0d3-4672-ec31-21b3da20e043"
   },
   "outputs": [
    {
     "name": "stdout",
     "output_type": "stream",
     "text": [
      "x_train_val.shape = (16800, 784),  y_train_val.shape = (16800,)\n"
     ]
    }
   ],
   "source": [
    "# Flatten: [54000, 28, 28] into [54000, 784], normalization to be done in the pipeline.\n",
    "x_train_np = torch.flatten(x_train_3d, start_dim=1, end_dim=2).numpy()\n",
    "x_val_np = torch.flatten(x_val_3d, start_dim=1, end_dim=2).numpy()\n",
    "x_test_np = torch.flatten(x_test_3d, start_dim=1, end_dim=2).numpy()\n",
    "\n",
    "y_train_np = y_train.numpy()\n",
    "y_val_np = y_val.numpy()\n",
    "y_test_np = y_test.numpy()\n",
    "\n",
    "# Use only a part of trainset~ 20% for GridSearch parameter estimation.\n",
    "k = int(len(y_train_np) * 0.2)\n",
    "# Use pre-defined split to explicitly specity train and test in GridSearchCV\n",
    "ps = create_predefined_splits(len(x_train_np[:k]), len(x_val_np))\n",
    "x_train_val = np.append(x_train_np[:k], x_val_np, axis=0)\n",
    "y_train_val = np.append(y_train_np[:k], y_val_np, axis=0)\n",
    "print('x_train_val.shape = {},  y_train_val.shape = {}'.format(x_train_val.shape, y_train_val.shape))"
   ]
  },
  {
   "cell_type": "markdown",
   "metadata": {
    "id": "pkuCgPatp59X"
   },
   "source": [
    "### 2.1.3: Model\n",
    "\n",
    "Define your model here"
   ]
  },
  {
   "cell_type": "code",
   "execution_count": null,
   "metadata": {
    "id": "3qV3SuPAp6XF",
    "outputId": "fb2882b1-f384-4b5a-d9a7-d25711a3e22d"
   },
   "outputs": [
    {
     "name": "stdout",
     "output_type": "stream",
     "text": [
      "GridSearchCV(cv=PredefinedSplit(test_fold=array([-1, -1, ...,  0,  0])),\n",
      "             estimator=Pipeline(steps=[('scale', StandardScaler()),\n",
      "                                       ('knn', KNeighborsClassifier())]),\n",
      "             n_jobs=10,\n",
      "             param_grid={'knn__algorithm': ['auto'],\n",
      "                         'knn__metric': ['euclidean', 'manhattan', 'chebyshev'],\n",
      "                         'knn__n_neighbors': [3, 4, 5, 6, 7],\n",
      "                         'knn__weights': ['uniform', 'distance']},\n",
      "             return_train_score=True, verbose=2)\n"
     ]
    }
   ],
   "source": [
    "knn = KNeighborsClassifier()\n",
    "pipe = Pipeline(steps=[('scale', StandardScaler()), (\"knn\", knn)])\n",
    "search = GridSearchCV(pipe, param_grid, n_jobs=10, verbose=2, cv=ps, return_train_score=True)\n",
    "print(search)"
   ]
  },
  {
   "cell_type": "markdown",
   "metadata": {
    "id": "SxE6d6OXp6sU"
   },
   "source": [
    "### 2.1.4: Fit Model\n",
    "\n",
    "Define optimization procedure and fit your model to the data"
   ]
  },
  {
   "cell_type": "code",
   "execution_count": null,
   "metadata": {
    "id": "7Ts4oU7RoG7_",
    "outputId": "682e54a2-6095-40b4-b56f-c703bba9c07c"
   },
   "outputs": [
    {
     "name": "stdout",
     "output_type": "stream",
     "text": [
      "Fitting 1 folds for each of 30 candidates, totalling 30 fits\n"
     ]
    }
   ],
   "source": [
    "_ = search.fit(x_train_val, y_train_val)"
   ]
  },
  {
   "cell_type": "markdown",
   "metadata": {
    "id": "QaJv_d_Dp7OM"
   },
   "source": [
    "### 2.1.5: Evaluation\n",
    "\n",
    "Evaluate your model.\n",
    "  * Evaluate models with different parameters \n",
    "  * Plot the score (accuracy) for each model using \"plot_scores\" function\n",
    "  * Report score for the best model\n",
    "  * Use \"vis_predictions\" function to visualize few examples of test/validation set with the corresponding predictions\n"
   ]
  },
  {
   "cell_type": "code",
   "execution_count": null,
   "metadata": {
    "id": "LCk_blY7oG8B",
    "outputId": "7a5ba44c-692b-4fd1-d9a2-4759eff5b39a",
    "scrolled": false
   },
   "outputs": [
    {
     "data": {
      "image/png": "[encoded data removed]",
      "text/plain": [
       "<Figure size 648x360 with 1 Axes>"
      ]
     },
     "metadata": {
      "needs_background": "light"
     },
     "output_type": "display_data"
    }
   ],
   "source": [
    "# Evaluate models with different parameters and\n",
    "# plot score (accuracy) for each model (not using the pre-defined function).\n",
    "\n",
    "params = []\n",
    "for item in search.cv_results_['params']:\n",
    "    params.append(str(item['knn__n_neighbors']) + \" \" + item['knn__metric'] + \" \" + item['knn__weights'])\n",
    "\n",
    "mean_val_scores = [item for item in search.cv_results_['mean_test_score']]\n",
    "mean_train_scores = [item for item in search.cv_results_['mean_train_score']]\n",
    "params, mean_train_scores, mean_val_scores = sort_list(params, mean_train_scores, mean_val_scores)\n",
    "\n",
    "fig = plt.figure(figsize=(9,5))\n",
    "plt.plot(mean_train_scores, label=\"train acc\")\n",
    "plt.plot(mean_val_scores, label=\"valid. acc\")\n",
    "plt.legend()\n",
    "plt.ylabel('Accuracy')\n",
    "_ = plt.xticks(range(len(params)), params, rotation ='90')"
   ]
  },
  {
   "cell_type": "code",
   "execution_count": null,
   "metadata": {
    "id": "pghIMIhSoG8F",
    "outputId": "fc3465f5-4240-4ea6-bd97-f9a10d1fe3dc"
   },
   "outputs": [
    {
     "name": "stdout",
     "output_type": "stream",
     "text": [
      "Best parameter (CV score=0.950):\n",
      "{'knn__algorithm': 'auto', 'knn__metric': 'manhattan', 'knn__n_neighbors': 4, 'knn__weights': 'distance'}\n"
     ]
    }
   ],
   "source": [
    "# Here report the score for the best model\n",
    "print(\"Best parameter (CV score=%0.3f):\" % search.best_score_)\n",
    "print(search.best_params_)"
   ]
  },
  {
   "cell_type": "code",
   "execution_count": null,
   "metadata": {
    "id": "TVgmVO1FoG8G",
    "outputId": "f9ab45a0-024d-4f76-9971-01a88406961b"
   },
   "outputs": [
    {
     "name": "stdout",
     "output_type": "stream",
     "text": [
      "Pipeline(steps=[('scale', StandardScaler()),\n",
      "                ('knn',\n",
      "                 KNeighborsClassifier(metric='manhattan', n_neighbors=4,\n",
      "                                      weights='distance'))])\n"
     ]
    }
   ],
   "source": [
    "print(search.best_estimator_)"
   ]
  },
  {
   "cell_type": "code",
   "execution_count": null,
   "metadata": {
    "id": "bpQy-6e_oG8H",
    "outputId": "83e014f6-82c6-4ca9-d310-852d21a958d7"
   },
   "outputs": [
    {
     "name": "stdout",
     "output_type": "stream",
     "text": [
      "Fitting on best parameters: {'knn__algorithm': 'auto', 'knn__metric': 'manhattan', 'knn__n_neighbors': 4, 'knn__weights': 'distance'}\n",
      "Train acc: 100.000%\n",
      "Val acc: 97.150%\n",
      "Fitting time on train data: 1196.286 s\n"
     ]
    }
   ],
   "source": [
    "## Training on entire train set.\n",
    "\n",
    "# best_estimator_ will by default use the same pipe as above with best parameters.\n",
    "pipe = search.best_estimator_\n",
    "new_knn = pipe.fit(x_train_np, y_train_np)\n",
    "\n",
    "start = time.time()\n",
    "train_score = new_knn.score(x_train_np, y_train_np)\n",
    "end = time.time()\n",
    "\n",
    "val_score = new_knn.score(x_val_np, y_val_np)\n",
    "\n",
    "print(f\"Train acc: {train_score*100:.3f}%\")\n",
    "print(f\"Val acc: {val_score*100:.3f}%\")\n",
    "print(f\"Fitting time on train data: {end-start:.3f} s\")"
   ]
  },
  {
   "cell_type": "code",
   "execution_count": null,
   "metadata": {
    "id": "fRXfv1l4oG8J",
    "outputId": "ef8053e9-652c-4322-b6b7-bf700d18b091"
   },
   "outputs": [
    {
     "name": "stdout",
     "output_type": "stream",
     "text": [
      "Evaluating on test data\n",
      "Test acc: 95.840%\n",
      "              precision    recall  f1-score   support\n",
      "\n",
      "           0       0.96      0.99      0.98       980\n",
      "           1       0.94      1.00      0.97      1135\n",
      "           2       0.98      0.95      0.96      1032\n",
      "           3       0.95      0.96      0.95      1010\n",
      "           4       0.97      0.95      0.96       982\n",
      "           5       0.95      0.95      0.95       892\n",
      "           6       0.98      0.98      0.98       958\n",
      "           7       0.94      0.95      0.94      1028\n",
      "           8       0.98      0.91      0.94       974\n",
      "           9       0.94      0.94      0.94      1009\n",
      "\n",
      "    accuracy                           0.96     10000\n",
      "   macro avg       0.96      0.96      0.96     10000\n",
      "weighted avg       0.96      0.96      0.96     10000\n",
      "\n",
      "Fitting time on test data: 230.593 s\n"
     ]
    }
   ],
   "source": [
    "# Predict target labels for test set and generate scores, classification report.\n",
    "print(\"Evaluating on test data\")\n",
    "start = time.time()\n",
    "y_pred = new_knn.predict(x_test_np)\n",
    "end = time.time()\n",
    "print(f\"Test acc: {accuracy_score(y_test_np, y_pred)*100:.3f}%\")\n",
    "print(classification_report(y_test_np, y_pred))\n",
    "print(f\"Fitting time on test data: {end-start:.3f} s\")"
   ]
  },
  {
   "cell_type": "code",
   "execution_count": null,
   "metadata": {
    "id": "2aNy9w79oG8J",
    "outputId": "fb6b3103-08ed-403a-9753-cc53388a1047"
   },
   "outputs": [
    {
     "data": {
      "image/png": "[encoded data removed]",
      "text/plain": [
       "<Figure size 720x576 with 12 Axes>"
      ]
     },
     "metadata": {
      "needs_background": "light"
     },
     "output_type": "display_data"
    }
   ],
   "source": [
    "# Visualize the predictions\n",
    "incorr_pred = [i for i in range(len(y_pred)) if y_pred[i] != y_test_np[i]]\n",
    "x_test_incorr = [x_test_np[i] for i in incorr_pred]\n",
    "y_test_incorr = [y_test_np[i] for i in incorr_pred]\n",
    "y_pred_incorr = [y_pred[i] for i in incorr_pred]\n",
    "\n",
    "vis_predictions(x_test_incorr, y_test_incorr, y_pred_incorr, len(y_pred_incorr))"
   ]
  },
  {
   "cell_type": "markdown",
   "metadata": {
    "id": "DEQrdyLHsUIu"
   },
   "source": [
    "### 2.1.6: Summary\n",
    "\n",
    "Summarize your findings:\n",
    " * Which hyper-parameters were important and how did they influence your results?\n",
    " * What were other design choices you faced?\n",
    " * Any other interesting insights..."
   ]
  },
  {
   "cell_type": "markdown",
   "metadata": {
    "id": "Fcq52WUUs2Mm"
   },
   "source": [
    "# 2.2: Model [M2]: *fill-this-in* (25 points)\n",
    "\n",
    "\n"
   ]
  },
  {
   "cell_type": "markdown",
   "metadata": {
    "id": "1q7goZ01oG8K"
   },
   "source": [
    "We use Support Vector Machines (SVMs) as the second classifier. SVMs are linear classifiers that can be used to separate both linear as well as non-linear data. SVMs come under the category of maximum margin classifiers as they aim to maximize the margin (distance) between the points belonging to different classes and the decision boundary. This margin also provides robustness to SVMs as small disturbances to a data point will not change the point's class due to margin. For non-linear data SVMs apply the kernel-trick, which means the hyperplane is constructed similar to one that would be constructed if the points were in a higher dimensional space, and the kernel trick ensures that we do not have to actually transform the points to the higher dimensional space, but can obtain similar results to as if we the points were in higher dimensions. Although the computational complexity of SVMs is high, for cases where the data points are not too much, they work very well. We choose SVM in this case because they are powerful parametric classifiers and they were the most used classifiers in pre deep learning era. Different kernels would perform different transformations of the data and it would be great to see how they and their associated hyperparameters affect our results. We also wanted to see how a linear classifier performs before trying deep learning based approaches. The primal form for the optimization objective of SVM is given by-:\n",
    "\n",
    "\\begin{eqnarray*}\n",
    "\\min_{w,b,\\xi} && \\frac{1}{2} w^T w \n",
    "+ C \\sum_{i=1}^n \\xi_i  \\\\\n",
    "&& \\textrm{subject to} \\\\\n",
    "&& y_i (w^T \\phi(x_i) + b) \\geq 1 - \\xi_i, \n",
    "\\nonumber \\\\\n",
    "&& \\xi_i \\geq 0, i = 1, \\ldots, n \n",
    "\\nonumber \n",
    "\\end{eqnarray*}\n",
    "\n",
    "There are a number of hyperparameters to choose from in SVMs. Most important one is the kernel which specifies which transformation is applied on the data before the hyperplane is constructed. Then for each of the kernel we have C parameter. This can be thought of as inverse of the regularisation coefficient lambda in other ML models. So higher C implies less regularisation and lower C implies more regularisation. Then for 'rbf' (gaussian) kernel we have gamma which specifies the inverse of influence of a point on the other points. So higher gamma means low influence and lower gamma means more influence. So, higher gamma will make the decision boundary more complex and vice versa."
   ]
  },
  {
   "cell_type": "markdown",
   "metadata": {
    "id": "7XPGNsr701FI"
   },
   "source": [
    "### 2.2.1: Hyper-parameters\n",
    "\n",
    "Define hyper-parameters for your method here"
   ]
  },
  {
   "cell_type": "code",
   "execution_count": 7,
   "metadata": {
    "id": "1V-aANfA01FI"
   },
   "outputs": [],
   "source": [
    "# Defining the parameter grid.\n",
    "param_grid = [\n",
    "               {\"svc__kernel\": [\"linear\"], \"svc__C\": [0.1, 1, 10]},\n",
    "               {\"svc__kernel\": [\"rbf\"], \"svc__gamma\": [0.001, 0.01, 0.1, 1, 2], \"svc__C\": [0.1, 1, 10]},\n",
    "               {\"svc__kernel\": [\"poly\"], \"svc__degree\": [3, 4, 5], \"svc__C\": [0.1, 1, 10]}\n",
    "]"
   ]
  },
  {
   "cell_type": "markdown",
   "metadata": {
    "id": "nure4xC_01FK"
   },
   "source": [
    "### 2.2.2: Data Preprocessing\n"
   ]
  },
  {
   "cell_type": "code",
   "execution_count": 8,
   "metadata": {
    "colab": {
     "base_uri": "https://localhost:8080/"
    },
    "id": "ak3VMb8S01FK",
    "outputId": "43070e23-98ed-4dda-9a6f-389e4d7502dd"
   },
   "outputs": [
    {
     "name": "stdout",
     "output_type": "stream",
     "text": [
      "x_train_val.shape = (16800, 784),  y_train_val.shape = (16800,)\n"
     ]
    }
   ],
   "source": [
    "# Flatten: [54000, 28, 28] into [54000, 784], normalization to be done in the pipeline.\n",
    "x_train_np = torch.flatten(x_train_3d, start_dim=1, end_dim=2).numpy()\n",
    "x_val_np = torch.flatten(x_val_3d, start_dim=1, end_dim=2).numpy()\n",
    "x_test_np = torch.flatten(x_test_3d, start_dim=1, end_dim=2).numpy()\n",
    "\n",
    "y_train_np = y_train.numpy()\n",
    "y_val_np = y_val.numpy()\n",
    "y_test_np = y_test.numpy()\n",
    "\n",
    "# Use only a part of trainset~ 20% for GridSearch parameter estimation.\n",
    "k = int(len(y_train_np) * 0.2)\n",
    "# Use pre-defined split to explicitly specity train and test in GridSearchCV\n",
    "ps = create_predefined_splits(len(x_train_np[:k]), len(x_val_np))\n",
    "x_train_val = np.append(x_train_np[:k], x_val_np, axis=0)\n",
    "y_train_val = np.append(y_train_np[:k], y_val_np, axis=0)\n",
    "print('x_train_val.shape = {},  y_train_val.shape = {}'.format(x_train_val.shape, y_train_val.shape))"
   ]
  },
  {
   "cell_type": "markdown",
   "metadata": {
    "id": "6oHcWedF01FK"
   },
   "source": [
    "### 2.2.3: Model\n",
    "\n",
    "Define your model here (all hyper-parameters in 2.1.1)"
   ]
  },
  {
   "cell_type": "code",
   "execution_count": 7,
   "metadata": {
    "colab": {
     "base_uri": "https://localhost:8080/"
    },
    "id": "RalMhJvZ01FK",
    "outputId": "ba640bac-4596-46c8-9729-3b19c9dc245a"
   },
   "outputs": [
    {
     "name": "stdout",
     "output_type": "stream",
     "text": [
      "GridSearchCV(cv=PredefinedSplit(test_fold=array([-1, -1, ...,  0,  0])),\n",
      "             error_score=nan,\n",
      "             estimator=Pipeline(memory=None,\n",
      "                                steps=[('scale',\n",
      "                                        StandardScaler(copy=True,\n",
      "                                                       with_mean=True,\n",
      "                                                       with_std=True)),\n",
      "                                       ('svc',\n",
      "                                        SVC(C=1.0, break_ties=False,\n",
      "                                            cache_size=200, class_weight=None,\n",
      "                                            coef0=0.0,\n",
      "                                            decision_function_shape='ovr',\n",
      "                                            degree=3, gamma='scale',\n",
      "                                            kernel='rbf', max_iter=-1,\n",
      "                                            probabilit...\n",
      "                                            tol=0.001, verbose=False))],\n",
      "                                verbose=False),\n",
      "             iid='deprecated', n_jobs=-1,\n",
      "             param_grid=[{'svc__C': [0.1, 1, 10], 'svc__kernel': ['linear']},\n",
      "                         {'svc__C': [0.1, 1, 10],\n",
      "                          'svc__gamma': [0.001, 0.01, 0.1, 1, 2],\n",
      "                          'svc__kernel': ['rbf']},\n",
      "                         {'svc__C': [0.1, 1, 10], 'svc__degree': [3, 4, 5],\n",
      "                          'svc__kernel': ['poly']}],\n",
      "             pre_dispatch='2*n_jobs', refit=True, return_train_score=True,\n",
      "             scoring=None, verbose=0)\n"
     ]
    }
   ],
   "source": [
    "svc = SVC()\n",
    "pipe = Pipeline(steps=[('scale', StandardScaler()), (\"svc\", svc)])\n",
    "grid_search = GridSearchCV(pipe, param_grid, n_jobs=-1, cv=ps, return_train_score=True)\n",
    "print(grid_search)"
   ]
  },
  {
   "cell_type": "markdown",
   "metadata": {
    "id": "C5k8P8PP01FL"
   },
   "source": [
    "### 2.2.4: Fit Model\n"
   ]
  },
  {
   "cell_type": "code",
   "execution_count": 8,
   "metadata": {
    "colab": {
     "base_uri": "https://localhost:8080/"
    },
    "id": "DS0sDmha01FL",
    "outputId": "33e29452-4e21-4f95-ea65-1dd1a00b2ae7"
   },
   "outputs": [
    {
     "data": {
      "text/plain": [
       "5891.026125431061"
      ]
     },
     "execution_count": 8,
     "metadata": {},
     "output_type": "execute_result"
    }
   ],
   "source": [
    "start_time = time.time()\n",
    "grid_search.fit(x_train_val, y_train_val)\n",
    "end_time = time.time()\n",
    "end_time - start_time"
   ]
  },
  {
   "cell_type": "markdown",
   "metadata": {
    "id": "gNQKy7a901FL"
   },
   "source": [
    "### 2.2.5: Evaluation\n",
    "\n",
    "Evaluate your model.\n",
    "  * Evaluate models with different parameters \n",
    "  * Plot score (accuracy) for each model using \"plot_scores\" function\n",
    "  * Report the score for the best model\n",
    "  * Use \"vis_predictions\" function to visualize few examples of test/validation set with the corresponding predictions\n"
   ]
  },
  {
   "cell_type": "code",
   "execution_count": 43,
   "metadata": {
    "colab": {
     "base_uri": "https://localhost:8080/"
    },
    "id": "5br8MXc1dHDx",
    "outputId": "fb196414-58e7-467f-f744-ac35e7d0e2db"
   },
   "outputs": [
    {
     "name": "stdout",
     "output_type": "stream",
     "text": [
      "Train_accuracy\tValidation Accuracy\tParameters\n",
      "0.997            0.930               {'svc__C': 0.1, 'svc__kernel': 'linear'}\n",
      "1.000            0.924               {'svc__C': 1, 'svc__kernel': 'linear'}\n",
      "1.000            0.924               {'svc__C': 10, 'svc__kernel': 'linear'}\n",
      "0.907            0.907               {'svc__C': 0.1, 'svc__gamma': 0.001, 'svc__kernel': 'rbf'}\n",
      "0.534            0.504               {'svc__C': 0.1, 'svc__gamma': 0.01, 'svc__kernel': 'rbf'}\n",
      "0.113            0.105               {'svc__C': 0.1, 'svc__gamma': 0.1, 'svc__kernel': 'rbf'}\n",
      "0.113            0.105               {'svc__C': 0.1, 'svc__gamma': 1, 'svc__kernel': 'rbf'}\n",
      "0.113            0.105               {'svc__C': 0.1, 'svc__gamma': 2, 'svc__kernel': 'rbf'}\n",
      "0.976            0.948               {'svc__C': 1, 'svc__gamma': 0.001, 'svc__kernel': 'rbf'}\n",
      "1.000            0.778               {'svc__C': 1, 'svc__gamma': 0.01, 'svc__kernel': 'rbf'}\n",
      "1.000            0.185               {'svc__C': 1, 'svc__gamma': 0.1, 'svc__kernel': 'rbf'}\n",
      "1.000            0.105               {'svc__C': 1, 'svc__gamma': 1, 'svc__kernel': 'rbf'}\n",
      "1.000            0.105               {'svc__C': 1, 'svc__gamma': 2, 'svc__kernel': 'rbf'}\n",
      "0.999            0.955               {'svc__C': 10, 'svc__gamma': 0.001, 'svc__kernel': 'rbf'}\n",
      "1.000            0.792               {'svc__C': 10, 'svc__gamma': 0.01, 'svc__kernel': 'rbf'}\n",
      "1.000            0.190               {'svc__C': 10, 'svc__gamma': 0.1, 'svc__kernel': 'rbf'}\n",
      "1.000            0.105               {'svc__C': 10, 'svc__gamma': 1, 'svc__kernel': 'rbf'}\n",
      "1.000            0.105               {'svc__C': 10, 'svc__gamma': 2, 'svc__kernel': 'rbf'}\n",
      "0.641            0.612               {'svc__C': 0.1, 'svc__degree': 3, 'svc__kernel': 'poly'}\n",
      "0.359            0.312               {'svc__C': 0.1, 'svc__degree': 4, 'svc__kernel': 'poly'}\n",
      "0.306            0.255               {'svc__C': 0.1, 'svc__degree': 5, 'svc__kernel': 'poly'}\n",
      "0.951            0.927               {'svc__C': 1, 'svc__degree': 3, 'svc__kernel': 'poly'}\n",
      "0.834            0.783               {'svc__C': 1, 'svc__degree': 4, 'svc__kernel': 'poly'}\n",
      "0.553            0.449               {'svc__C': 1, 'svc__degree': 5, 'svc__kernel': 'poly'}\n",
      "0.998            0.966               {'svc__C': 10, 'svc__degree': 3, 'svc__kernel': 'poly'}\n",
      "0.981            0.926               {'svc__C': 10, 'svc__degree': 4, 'svc__kernel': 'poly'}\n",
      "0.916            0.833               {'svc__C': 10, 'svc__degree': 5, 'svc__kernel': 'poly'}\n"
     ]
    }
   ],
   "source": [
    "mean_val_scores = grid_search.cv_results_[\"mean_test_score\"]\n",
    "mean_train_scores = grid_search.cv_results_[\"mean_train_score\"]\n",
    "params_names = grid_search.cv_results_[\"params\"]\n",
    "\n",
    "print(\"Train_accuracy\\tValidation Accuracy\\tParameters\")\n",
    "for mean_train, mean_val, param in zip(mean_train_scores, mean_val_scores, params_names):\n",
    "    print(\"%0.3f            %0.3f               %r\" % (mean_train, mean_val, param))"
   ]
  },
  {
   "cell_type": "code",
   "execution_count": 45,
   "metadata": {
    "colab": {
     "base_uri": "https://localhost:8080/",
     "height": 436
    },
    "id": "AYrLDnJvcwsf",
    "outputId": "705d1b2c-77a5-4aa1-b205-53316d8e8e32"
   },
   "outputs": [
    {
     "data": {
      "image/png": "[encoded data removed]",
      "text/plain": [
       "<Figure size 648x360 with 1 Axes>"
      ]
     },
     "metadata": {
      "needs_background": "light"
     },
     "output_type": "display_data"
    }
   ],
   "source": [
    "# Plotting the scores for the models on the training and the validation set.\n",
    "params = []\n",
    "for item in params_names:\n",
    "    if item[\"svc__kernel\"] == \"linear\":\n",
    "        params.append(item[\"svc__kernel\"] + \" C=\" + str(item[\"svc__C\"]))\n",
    "    elif item[\"svc__kernel\"] == \"rbf\":\n",
    "        params.append(item[\"svc__kernel\"] + \" C=\" + str(item[\"svc__C\"]) + \" gamma=\" + str(item[\"svc__gamma\"]))\n",
    "    else:\n",
    "        params.append(item[\"svc__kernel\"] + \" C=\" + str(item[\"svc__C\"]) + \" degree=\" + str(item[\"svc__degree\"]))\n",
    "\n",
    "params, mean_train_scores, mean_val_scores = sort_list(params, mean_train_scores, mean_val_scores)\n",
    "\n",
    "fig = plt.figure(figsize=(9,5))\n",
    "plt.plot(mean_train_scores, label=\"train acc\")\n",
    "plt.plot(mean_val_scores, label=\"validation acc\")\n",
    "plt.legend()\n",
    "plt.ylabel('Accuracy')\n",
    "_ = plt.xticks(range(len(params)), params, rotation ='90')"
   ]
  },
  {
   "cell_type": "code",
   "execution_count": 55,
   "metadata": {
    "colab": {
     "base_uri": "https://localhost:8080/"
    },
    "id": "b2C21PdScwvA",
    "outputId": "b27a31fc-9508-4d23-c49b-9a39c7d2e6e5"
   },
   "outputs": [
    {
     "name": "stdout",
     "output_type": "stream",
     "text": [
      "Best parameter (CV score=0.966):\n",
      "{'svc__C': 10, 'svc__degree': 3, 'svc__kernel': 'poly'}\n"
     ]
    }
   ],
   "source": [
    "# Showing the best score on the validation set as well as the best parameters.\n",
    "print(\"Best parameter (CV score=%0.3f):\" % grid_search.best_score_)\n",
    "print(grid_search.best_params_)"
   ]
  },
  {
   "cell_type": "code",
   "execution_count": 12,
   "metadata": {
    "colab": {
     "base_uri": "https://localhost:8080/"
    },
    "id": "D68bsuVB01FL",
    "outputId": "6c52098d-35c3-4f63-f5fe-3c8f74e72e14"
   },
   "outputs": [
    {
     "name": "stdout",
     "output_type": "stream",
     "text": [
      "774.0349082946777\n"
     ]
    }
   ],
   "source": [
    "# Training the model using the best hyperparameters found and then using it to calculate the test accuracy.\n",
    "best_model = Pipeline(steps=[('scale', StandardScaler()), (\"svc\", SVC(kernel='poly', degree=3, C=10))])\n",
    "\n",
    "start_time = time.time()\n",
    "best_model.fit(x_train_np, y_train_np)\n",
    "end_time = time.time()\n",
    "print(end_time - start_time)"
   ]
  },
  {
   "cell_type": "code",
   "execution_count": 13,
   "metadata": {
    "colab": {
     "base_uri": "https://localhost:8080/"
    },
    "id": "YEfSJfMM4A4q",
    "outputId": "7ab6c55c-33b1-4383-b827-7f05a938d627"
   },
   "outputs": [
    {
     "data": {
      "text/plain": [
       "['svm.joblib']"
      ]
     },
     "execution_count": 13,
     "metadata": {},
     "output_type": "execute_result"
    }
   ],
   "source": [
    "# Saving the trained best model\n",
    "dump(best_model, 'svm.joblib') "
   ]
  },
  {
   "cell_type": "code",
   "execution_count": 14,
   "metadata": {
    "colab": {
     "base_uri": "https://localhost:8080/"
    },
    "id": "9zgw4JUH01FL",
    "outputId": "22b466e0-a6b1-4c7c-c531-61967c05b12a"
   },
   "outputs": [
    {
     "name": "stdout",
     "output_type": "stream",
     "text": [
      "Evaluating on test data\n",
      "Test acc: 97.500%\n",
      "              precision    recall  f1-score   support\n",
      "\n",
      "           0       0.98      0.99      0.99       980\n",
      "           1       0.99      0.99      0.99      1135\n",
      "           2       0.98      0.97      0.97      1032\n",
      "           3       0.98      0.98      0.98      1010\n",
      "           4       0.97      0.98      0.97       982\n",
      "           5       0.97      0.97      0.97       892\n",
      "           6       0.98      0.97      0.98       958\n",
      "           7       0.98      0.96      0.97      1028\n",
      "           8       0.95      0.97      0.96       974\n",
      "           9       0.97      0.96      0.96      1009\n",
      "\n",
      "    accuracy                           0.97     10000\n",
      "   macro avg       0.97      0.97      0.97     10000\n",
      "weighted avg       0.98      0.97      0.98     10000\n",
      "\n"
     ]
    }
   ],
   "source": [
    "# Evaluating the model on the test data\n",
    "print(\"Evaluating on test data\")\n",
    "y_pred = best_model.predict(x_test_np)\n",
    "print(f\"Test acc: {accuracy_score(y_test_np, y_pred)*100:.3f}%\")\n",
    "print(classification_report(y_test_np, y_pred))"
   ]
  },
  {
   "cell_type": "code",
   "execution_count": 25,
   "metadata": {
    "colab": {
     "base_uri": "https://localhost:8080/",
     "height": 297
    },
    "id": "hIY98cIl3vEP",
    "outputId": "0207c2fd-6698-45ca-c5d9-d924a47e9f09"
   },
   "outputs": [
    {
     "data": {
      "image/png": "[encoded data removed]",
      "text/plain": [
       "<Figure size 720x576 with 12 Axes>"
      ]
     },
     "metadata": {
      "needs_background": "light"
     },
     "output_type": "display_data"
    }
   ],
   "source": [
    "# Visualize the predictions\n",
    "vis_predictions(x_test_np, y_test_np, y_pred, len(y_pred))"
   ]
  },
  {
   "cell_type": "markdown",
   "metadata": {
    "id": "WOT67VC801FL"
   },
   "source": [
    "### 2.2.6: Summary\n",
    "\n",
    "Summarize your findings:\n",
    " * Which hyper-parameters were important and how did they influence your results?\n",
    " * What were other design choices you faced?\n",
    " * Any other interesting insights..."
   ]
  },
  {
   "cell_type": "markdown",
   "metadata": {
    "id": "82mPk3dN5qcy"
   },
   "source": [
    "We achieved an overall test accuracy of 97.5% by using SVM. The most influential parameters which we observed were gamma in the case of rbf kernel, and regularisation parameter C in the case of polynomial kernel. We observed that the linear kernel did not show any significant variations in results when we changed C. Although linear kernel achieved almost perfect train accuracy in almost all the cases of C. This indicates that the model might be overfitting to the data. In the case of rbf kernel, we observed that using values of gamma which were greater than 0.1 almost always resulted in very bad performance on the test set. We also observed that using high gamma and low C results in the model not learning anything. In that case, model even showed accuracy equivalent to random guessing on both the training and the test set. Using gamma=0.001 and C=1 showed the best results for rbf kernel. Further increasing C with this gamma value lead to overfitting on data. The results showed that gamma is a very important parameter in case of SVMs and tuning it properly is very important. In the case of polynomial kernel, we observed that increasing the degree of the polynomial kernel resulted in a decrease in the performance for all the values of C. As expected, increasing C led to an increase in the accuracies in the polynomial kernel. Also looking at the confusion matrices for the test data, we observed that the F1-scores for 8 and 9 are lower than the rest, it might be due to visual similarity of 8 and 9, and our model did not have enough capacity to distinguish them everytime. One interesting insight was the influence of gamma on the results. It was interesting to see gamma has such a major influence on the results. We used part of the data for hyperparameter tuning due to computational reasons. We believe using more data and using bigger ranges for hyperparameter search would definitely improve the results on the test data."
   ]
  },
  {
   "cell_type": "markdown",
   "metadata": {
    "id": "cgZ547yT01FM"
   },
   "source": [
    "# 2.3: Model [M3] (Neural Networks): *fill-this-in* (25 points)\n",
    "\n"
   ]
  },
  {
   "cell_type": "markdown",
   "metadata": {
    "id": "EFslEvfu01FM"
   },
   "source": [
    "### 2.3.1: Hyper-parameters\n",
    "\n",
    "Define hyper-parameters for your method here"
   ]
  },
  {
   "cell_type": "code",
   "execution_count": null,
   "metadata": {
    "id": "lzSHcgtr01FM"
   },
   "outputs": [],
   "source": [
    "#\n",
    "#\n",
    "# ------- Your Code -------\n",
    "#\n",
    "#\n",
    "batch_size_train = ... # Fill in\n",
    "batch_size_test = ... # Fill in\n",
    "n_epochs = ... # Fill in\n",
    "# other parameters ...\n",
    "\n",
    "\n",
    "# You don't need the following code, if you can use data from 2.1.1.\n",
    "# You can also use torch built-in functions (torch.utils.data)\n",
    "\n",
    "test_set = 'val'  #  or 'test'\n",
    "# Decide all your hyperparameters based on validation performance\n",
    "# Then, switch to 'test' for final evaluation\n",
    "\n",
    "if test_set == 'val':\n",
    "    train_idxs, val_idxs = ..., ...   # Fill in\n",
    "    x_train, y_train = x_trainval[train_idxs], y_trainval[train_idxs]\n",
    "    x_eval, y_eval = x_trainval[val_idxs], y_trainval[val_idxs]\n",
    "else:\n",
    "    x_train, y_train = x_trainval, y_trainval\n",
    "    x_eval, y_eval = x_test, y_test"
   ]
  },
  {
   "cell_type": "markdown",
   "metadata": {
    "id": "UIkrTWQ001FM"
   },
   "source": [
    "### 2.3.2: Data Preprocessing\n"
   ]
  },
  {
   "cell_type": "code",
   "execution_count": null,
   "metadata": {
    "id": "p13RLv7u01FM"
   },
   "outputs": [],
   "source": [
    "#\n",
    "#\n",
    "# ------- Your Code -------\n",
    "#\n",
    "# e.g. normalize, flatten input data.\n"
   ]
  },
  {
   "cell_type": "markdown",
   "metadata": {
    "id": "Cp0nyS8C01FM"
   },
   "source": [
    "### 2.3.3: Model\n",
    "\n",
    "Define your model here"
   ]
  },
  {
   "cell_type": "code",
   "execution_count": null,
   "metadata": {
    "id": "T6kHJuH401FM"
   },
   "outputs": [],
   "source": [
    "class Net(nn.Module):\n",
    "    #\n",
    "    #\n",
    "    # ------- Your Code -------\n",
    "    #\n",
    "    #"
   ]
  },
  {
   "cell_type": "markdown",
   "metadata": {
    "id": "jhzlip-t01FM"
   },
   "source": [
    "### 2.2.4: Fit Model\n"
   ]
  },
  {
   "cell_type": "code",
   "execution_count": null,
   "metadata": {
    "id": "RUWeF4mQ01FM"
   },
   "outputs": [],
   "source": [
    "#\n",
    "#\n",
    "# ------- Your Code -------\n",
    "#\n",
    "# Example: net = Net(), ...."
   ]
  },
  {
   "cell_type": "code",
   "execution_count": null,
   "metadata": {
    "id": "ARJe7dZM01FM"
   },
   "outputs": [],
   "source": [
    "def train(args ... # Fill in):\n",
    "    #\n",
    "    #\n",
    "    # ------- Your Code -------\n",
    "    #\n"
   ]
  },
  {
   "cell_type": "code",
   "execution_count": null,
   "metadata": {
    "id": "qn0MgIyX01FN"
   },
   "outputs": [],
   "source": [
    "def test(args ... # Fill in):\n",
    "    #\n",
    "    #\n",
    "    # ------- Your Code -------\n",
    "    #"
   ]
  },
  {
   "cell_type": "code",
   "execution_count": null,
   "metadata": {
    "id": "Rgwj4e0901FN"
   },
   "outputs": [],
   "source": [
    "# Save your model using torch.save()"
   ]
  },
  {
   "cell_type": "markdown",
   "metadata": {
    "id": "aISdfCpb01FN"
   },
   "source": [
    "### 2.2.5: Evaluation\n",
    "\n",
    "Evaluate your model.\n",
    "\n",
    "  * Loss curves: Plot epoch (# passes over training data) and loss\n",
    "  * Accuracy curves: Plot epoch and accuracy over val/test set\n",
    "  * Final numbers: Report final accuracy numbers for your model"
   ]
  },
  {
   "cell_type": "code",
   "execution_count": null,
   "metadata": {
    "id": "urtpEDvx01FN"
   },
   "outputs": [],
   "source": [
    "# Here plot epoch (# passes over training data) and loss\n",
    "#\n",
    "# ------- Your Code -------\n",
    "#"
   ]
  },
  {
   "cell_type": "code",
   "execution_count": null,
   "metadata": {
    "id": "bAiMSqqs01FN"
   },
   "outputs": [],
   "source": [
    "# Here plot epoch and accuracy over val/test set\n",
    "#\n",
    "# ------- Your Code -------\n",
    "#"
   ]
  },
  {
   "cell_type": "code",
   "execution_count": null,
   "metadata": {
    "id": "LTZJPZIP01FN"
   },
   "outputs": [],
   "source": [
    "#\n",
    "#\n",
    "# ------- Your Code -------\n",
    "# Example:\n",
    "# net = Net()\n",
    "# net.load_state_dict(torch.load(\"PATH\"))"
   ]
  },
  {
   "cell_type": "code",
   "execution_count": null,
   "metadata": {
    "id": "FzQvt7IF01FN"
   },
   "outputs": [],
   "source": [
    "# Here report the score for the best model\n",
    "#\n",
    "# ------- Your Code -------\n",
    "#"
   ]
  },
  {
   "cell_type": "code",
   "execution_count": null,
   "metadata": {
    "id": "RAcVb-iK01FN"
   },
   "outputs": [],
   "source": [
    "# Visualize the predictions\n",
    "# Example: vis_predictions(x_eval, y_pred, size_of_data)\n",
    "#\n",
    "#\n",
    "# ------- Your Code -------\n",
    "#"
   ]
  },
  {
   "cell_type": "markdown",
   "metadata": {
    "id": "SPMall2f01FN"
   },
   "source": [
    "### 2.3.6: Summary\n",
    "\n",
    "Summarize your findings:\n",
    " * Which hyper-parameters were important and how did they influence your results?\n",
    " * What were other design choices you faced?\n",
    " * Any other interesting insights..."
   ]
  },
  {
   "cell_type": "markdown",
   "metadata": {
    "id": "Ex3qQp3JolD1"
   },
   "source": [
    "# 3. Summary (20 points)\n",
    "\n",
    "Enter your final summary here.\n",
    "\n",
    "You should now compare performance  on the three models [M1], [M2] and [M3]. Present this in a tabular format and/or using plots.\n",
    "\n",
    "Which model do you recommend to perform digit classification and why?\n",
    "\n",
    "Feel free to discuss other insightful observations."
   ]
  },
  {
   "cell_type": "code",
   "execution_count": null,
   "metadata": {
    "id": "pa6rPT53LUW8"
   },
   "outputs": [],
   "source": []
  }
 ],
 "metadata": {
  "colab": {
   "collapsed_sections": [],
   "name": "2021_10_29_Task_01.ipynb.ipynb",
   "provenance": []
  },
  "kernelspec": {
   "display_name": "Python 3",
   "language": "python",
   "name": "python3"
  },
  "language_info": {
   "codemirror_mode": {
    "name": "ipython",
    "version": 3
   },
   "file_extension": ".py",
   "mimetype": "text/x-python",
   "name": "python",
   "nbconvert_exporter": "python",
   "pygments_lexer": "ipython3",
   "version": "3.8.5"
  },
  "widgets": {
   "application/vnd.jupyter.widget-state+json": {
    "118091a534924f44aab40fd727d55fa0": {
     "model_module": "@jupyter-widgets/base",
     "model_module_version": "1.2.0",
     "model_name": "LayoutModel",
     "state": {
      "_model_module": "@jupyter-widgets/base",
      "_model_module_version": "1.2.0",
      "_model_name": "LayoutModel",
      "_view_count": null,
      "_view_module": "@jupyter-widgets/base",
      "_view_module_version": "1.2.0",
      "_view_name": "LayoutView",
      "align_content": null,
      "align_items": null,
      "align_self": null,
      "border": null,
      "bottom": null,
      "display": null,
      "flex": null,
      "flex_flow": null,
      "grid_area": null,
      "grid_auto_columns": null,
      "grid_auto_flow": null,
      "grid_auto_rows": null,
      "grid_column": null,
      "grid_gap": null,
      "grid_row": null,
      "grid_template_areas": null,
      "grid_template_columns": null,
      "grid_template_rows": null,
      "height": null,
      "justify_content": null,
      "justify_items": null,
      "left": null,
      "margin": null,
      "max_height": null,
      "max_width": null,
      "min_height": null,
      "min_width": null,
      "object_fit": null,
      "object_position": null,
      "order": null,
      "overflow": null,
      "overflow_x": null,
      "overflow_y": null,
      "padding": null,
      "right": null,
      "top": null,
      "visibility": null,
      "width": null
     }
    },
    "1518e969982c4d6dbcf5d37538346628": {
     "model_module": "@jupyter-widgets/base",
     "model_module_version": "1.2.0",
     "model_name": "LayoutModel",
     "state": {
      "_model_module": "@jupyter-widgets/base",
      "_model_module_version": "1.2.0",
      "_model_name": "LayoutModel",
      "_view_count": null,
      "_view_module": "@jupyter-widgets/base",
      "_view_module_version": "1.2.0",
      "_view_name": "LayoutView",
      "align_content": null,
      "align_items": null,
      "align_self": null,
      "border": null,
      "bottom": null,
      "display": null,
      "flex": null,
      "flex_flow": null,
      "grid_area": null,
      "grid_auto_columns": null,
      "grid_auto_flow": null,
      "grid_auto_rows": null,
      "grid_column": null,
      "grid_gap": null,
      "grid_row": null,
      "grid_template_areas": null,
      "grid_template_columns": null,
      "grid_template_rows": null,
      "height": null,
      "justify_content": null,
      "justify_items": null,
      "left": null,
      "margin": null,
      "max_height": null,
      "max_width": null,
      "min_height": null,
      "min_width": null,
      "object_fit": null,
      "object_position": null,
      "order": null,
      "overflow": null,
      "overflow_x": null,
      "overflow_y": null,
      "padding": null,
      "right": null,
      "top": null,
      "visibility": null,
      "width": null
     }
    },
    "15f005f613364aba9cc382189db6d360": {
     "model_module": "@jupyter-widgets/controls",
     "model_module_version": "1.5.0",
     "model_name": "DescriptionStyleModel",
     "state": {
      "_model_module": "@jupyter-widgets/controls",
      "_model_module_version": "1.5.0",
      "_model_name": "DescriptionStyleModel",
      "_view_count": null,
      "_view_module": "@jupyter-widgets/base",
      "_view_module_version": "1.2.0",
      "_view_name": "StyleView",
      "description_width": ""
     }
    },
    "23c2898a709f4091a2e7d6cba3d25e87": {
     "model_module": "@jupyter-widgets/controls",
     "model_module_version": "1.5.0",
     "model_name": "HBoxModel",
     "state": {
      "_dom_classes": [],
      "_model_module": "@jupyter-widgets/controls",
      "_model_module_version": "1.5.0",
      "_model_name": "HBoxModel",
      "_view_count": null,
      "_view_module": "@jupyter-widgets/controls",
      "_view_module_version": "1.5.0",
      "_view_name": "HBoxView",
      "box_style": "",
      "children": [
       "IPY_MODEL_7fb8e76f085b4bdc800ef8c2fe440510",
       "IPY_MODEL_4ce7bf3f17224930a2b5f43893554012",
       "IPY_MODEL_8da9e95eb2434616b716aee80d34ee0e"
      ],
      "layout": "IPY_MODEL_ad20cebc3b9140e4a6bdbec9404f73a4"
     }
    },
    "2c26e7a4a0d44570ac019ed0450f1bf1": {
     "model_module": "@jupyter-widgets/controls",
     "model_module_version": "1.5.0",
     "model_name": "ProgressStyleModel",
     "state": {
      "_model_module": "@jupyter-widgets/controls",
      "_model_module_version": "1.5.0",
      "_model_name": "ProgressStyleModel",
      "_view_count": null,
      "_view_module": "@jupyter-widgets/base",
      "_view_module_version": "1.2.0",
      "_view_name": "StyleView",
      "bar_color": null,
      "description_width": ""
     }
    },
    "3485460a71c842fc97df86fcd5ab1e90": {
     "model_module": "@jupyter-widgets/controls",
     "model_module_version": "1.5.0",
     "model_name": "HBoxModel",
     "state": {
      "_dom_classes": [],
      "_model_module": "@jupyter-widgets/controls",
      "_model_module_version": "1.5.0",
      "_model_name": "HBoxModel",
      "_view_count": null,
      "_view_module": "@jupyter-widgets/controls",
      "_view_module_version": "1.5.0",
      "_view_name": "HBoxView",
      "box_style": "",
      "children": [
       "IPY_MODEL_f8e3693bd90c4f0fb81332200c7af84c",
       "IPY_MODEL_5ace838886af474ca9b28054a0cf1a2d",
       "IPY_MODEL_7363cdc469da4d1eb40dbc8af101a557"
      ],
      "layout": "IPY_MODEL_85f13a8da49e4c2589e978d76b465a2e"
     }
    },
    "35a1281cd46f47d4a7aebce9a5a322ad": {
     "model_module": "@jupyter-widgets/base",
     "model_module_version": "1.2.0",
     "model_name": "LayoutModel",
     "state": {
      "_model_module": "@jupyter-widgets/base",
      "_model_module_version": "1.2.0",
      "_model_name": "LayoutModel",
      "_view_count": null,
      "_view_module": "@jupyter-widgets/base",
      "_view_module_version": "1.2.0",
      "_view_name": "LayoutView",
      "align_content": null,
      "align_items": null,
      "align_self": null,
      "border": null,
      "bottom": null,
      "display": null,
      "flex": null,
      "flex_flow": null,
      "grid_area": null,
      "grid_auto_columns": null,
      "grid_auto_flow": null,
      "grid_auto_rows": null,
      "grid_column": null,
      "grid_gap": null,
      "grid_row": null,
      "grid_template_areas": null,
      "grid_template_columns": null,
      "grid_template_rows": null,
      "height": null,
      "justify_content": null,
      "justify_items": null,
      "left": null,
      "margin": null,
      "max_height": null,
      "max_width": null,
      "min_height": null,
      "min_width": null,
      "object_fit": null,
      "object_position": null,
      "order": null,
      "overflow": null,
      "overflow_x": null,
      "overflow_y": null,
      "padding": null,
      "right": null,
      "top": null,
      "visibility": null,
      "width": null
     }
    },
    "363cadb8cdc5439695895f5833bf7f81": {
     "model_module": "@jupyter-widgets/controls",
     "model_module_version": "1.5.0",
     "model_name": "HTMLModel",
     "state": {
      "_dom_classes": [],
      "_model_module": "@jupyter-widgets/controls",
      "_model_module_version": "1.5.0",
      "_model_name": "HTMLModel",
      "_view_count": null,
      "_view_module": "@jupyter-widgets/controls",
      "_view_module_version": "1.5.0",
      "_view_name": "HTMLView",
      "description": "",
      "description_tooltip": null,
      "layout": "IPY_MODEL_864b9d765762486d8675156679e1092d",
      "placeholder": "​",
      "style": "IPY_MODEL_55086484843e4434b8aedf4e1d93be6b",
      "value": " 5120/? [00:00&lt;00:00, 133588.19it/s]"
     }
    },
    "3b43355c6d2b4950bfb43ac538c0f062": {
     "model_module": "@jupyter-widgets/base",
     "model_module_version": "1.2.0",
     "model_name": "LayoutModel",
     "state": {
      "_model_module": "@jupyter-widgets/base",
      "_model_module_version": "1.2.0",
      "_model_name": "LayoutModel",
      "_view_count": null,
      "_view_module": "@jupyter-widgets/base",
      "_view_module_version": "1.2.0",
      "_view_name": "LayoutView",
      "align_content": null,
      "align_items": null,
      "align_self": null,
      "border": null,
      "bottom": null,
      "display": null,
      "flex": null,
      "flex_flow": null,
      "grid_area": null,
      "grid_auto_columns": null,
      "grid_auto_flow": null,
      "grid_auto_rows": null,
      "grid_column": null,
      "grid_gap": null,
      "grid_row": null,
      "grid_template_areas": null,
      "grid_template_columns": null,
      "grid_template_rows": null,
      "height": null,
      "justify_content": null,
      "justify_items": null,
      "left": null,
      "margin": null,
      "max_height": null,
      "max_width": null,
      "min_height": null,
      "min_width": null,
      "object_fit": null,
      "object_position": null,
      "order": null,
      "overflow": null,
      "overflow_x": null,
      "overflow_y": null,
      "padding": null,
      "right": null,
      "top": null,
      "visibility": null,
      "width": null
     }
    },
    "4ce7bf3f17224930a2b5f43893554012": {
     "model_module": "@jupyter-widgets/controls",
     "model_module_version": "1.5.0",
     "model_name": "FloatProgressModel",
     "state": {
      "_dom_classes": [],
      "_model_module": "@jupyter-widgets/controls",
      "_model_module_version": "1.5.0",
      "_model_name": "FloatProgressModel",
      "_view_count": null,
      "_view_module": "@jupyter-widgets/controls",
      "_view_module_version": "1.5.0",
      "_view_name": "ProgressView",
      "bar_style": "success",
      "description": "",
      "description_tooltip": null,
      "layout": "IPY_MODEL_35a1281cd46f47d4a7aebce9a5a322ad",
      "max": 1648877,
      "min": 0,
      "orientation": "horizontal",
      "style": "IPY_MODEL_f7739151c4554f0bbdeeab92ac69f540",
      "value": 1648877
     }
    },
    "53ad5e27fa8343da8d57a08d12efcc2c": {
     "model_module": "@jupyter-widgets/controls",
     "model_module_version": "1.5.0",
     "model_name": "FloatProgressModel",
     "state": {
      "_dom_classes": [],
      "_model_module": "@jupyter-widgets/controls",
      "_model_module_version": "1.5.0",
      "_model_name": "FloatProgressModel",
      "_view_count": null,
      "_view_module": "@jupyter-widgets/controls",
      "_view_module_version": "1.5.0",
      "_view_name": "ProgressView",
      "bar_style": "success",
      "description": "",
      "description_tooltip": null,
      "layout": "IPY_MODEL_bb6cb4542f024c1dadc72bf2f837076e",
      "max": 28881,
      "min": 0,
      "orientation": "horizontal",
      "style": "IPY_MODEL_2c26e7a4a0d44570ac019ed0450f1bf1",
      "value": 28881
     }
    },
    "55086484843e4434b8aedf4e1d93be6b": {
     "model_module": "@jupyter-widgets/controls",
     "model_module_version": "1.5.0",
     "model_name": "DescriptionStyleModel",
     "state": {
      "_model_module": "@jupyter-widgets/controls",
      "_model_module_version": "1.5.0",
      "_model_name": "DescriptionStyleModel",
      "_view_count": null,
      "_view_module": "@jupyter-widgets/base",
      "_view_module_version": "1.2.0",
      "_view_name": "StyleView",
      "description_width": ""
     }
    },
    "5ace838886af474ca9b28054a0cf1a2d": {
     "model_module": "@jupyter-widgets/controls",
     "model_module_version": "1.5.0",
     "model_name": "FloatProgressModel",
     "state": {
      "_dom_classes": [],
      "_model_module": "@jupyter-widgets/controls",
      "_model_module_version": "1.5.0",
      "_model_name": "FloatProgressModel",
      "_view_count": null,
      "_view_module": "@jupyter-widgets/controls",
      "_view_module_version": "1.5.0",
      "_view_name": "ProgressView",
      "bar_style": "success",
      "description": "",
      "description_tooltip": null,
      "layout": "IPY_MODEL_5de73bbf79d54e07a0b46d3270025898",
      "max": 9912422,
      "min": 0,
      "orientation": "horizontal",
      "style": "IPY_MODEL_dc413ce906974d05b2147b1b5859e474",
      "value": 9912422
     }
    },
    "5de73bbf79d54e07a0b46d3270025898": {
     "model_module": "@jupyter-widgets/base",
     "model_module_version": "1.2.0",
     "model_name": "LayoutModel",
     "state": {
      "_model_module": "@jupyter-widgets/base",
      "_model_module_version": "1.2.0",
      "_model_name": "LayoutModel",
      "_view_count": null,
      "_view_module": "@jupyter-widgets/base",
      "_view_module_version": "1.2.0",
      "_view_name": "LayoutView",
      "align_content": null,
      "align_items": null,
      "align_self": null,
      "border": null,
      "bottom": null,
      "display": null,
      "flex": null,
      "flex_flow": null,
      "grid_area": null,
      "grid_auto_columns": null,
      "grid_auto_flow": null,
      "grid_auto_rows": null,
      "grid_column": null,
      "grid_gap": null,
      "grid_row": null,
      "grid_template_areas": null,
      "grid_template_columns": null,
      "grid_template_rows": null,
      "height": null,
      "justify_content": null,
      "justify_items": null,
      "left": null,
      "margin": null,
      "max_height": null,
      "max_width": null,
      "min_height": null,
      "min_width": null,
      "object_fit": null,
      "object_position": null,
      "order": null,
      "overflow": null,
      "overflow_x": null,
      "overflow_y": null,
      "padding": null,
      "right": null,
      "top": null,
      "visibility": null,
      "width": null
     }
    },
    "625d9faa9e7143ab938b194f0421958a": {
     "model_module": "@jupyter-widgets/base",
     "model_module_version": "1.2.0",
     "model_name": "LayoutModel",
     "state": {
      "_model_module": "@jupyter-widgets/base",
      "_model_module_version": "1.2.0",
      "_model_name": "LayoutModel",
      "_view_count": null,
      "_view_module": "@jupyter-widgets/base",
      "_view_module_version": "1.2.0",
      "_view_name": "LayoutView",
      "align_content": null,
      "align_items": null,
      "align_self": null,
      "border": null,
      "bottom": null,
      "display": null,
      "flex": null,
      "flex_flow": null,
      "grid_area": null,
      "grid_auto_columns": null,
      "grid_auto_flow": null,
      "grid_auto_rows": null,
      "grid_column": null,
      "grid_gap": null,
      "grid_row": null,
      "grid_template_areas": null,
      "grid_template_columns": null,
      "grid_template_rows": null,
      "height": null,
      "justify_content": null,
      "justify_items": null,
      "left": null,
      "margin": null,
      "max_height": null,
      "max_width": null,
      "min_height": null,
      "min_width": null,
      "object_fit": null,
      "object_position": null,
      "order": null,
      "overflow": null,
      "overflow_x": null,
      "overflow_y": null,
      "padding": null,
      "right": null,
      "top": null,
      "visibility": null,
      "width": null
     }
    },
    "6742985ed79849d39438b58cf7baac28": {
     "model_module": "@jupyter-widgets/controls",
     "model_module_version": "1.5.0",
     "model_name": "HTMLModel",
     "state": {
      "_dom_classes": [],
      "_model_module": "@jupyter-widgets/controls",
      "_model_module_version": "1.5.0",
      "_model_name": "HTMLModel",
      "_view_count": null,
      "_view_module": "@jupyter-widgets/controls",
      "_view_module_version": "1.5.0",
      "_view_name": "HTMLView",
      "description": "",
      "description_tooltip": null,
      "layout": "IPY_MODEL_3b43355c6d2b4950bfb43ac538c0f062",
      "placeholder": "​",
      "style": "IPY_MODEL_f6d206d1f1c4495383d6f0884471981d",
      "value": ""
     }
    },
    "6769cb3581d744b494e433e6c003f900": {
     "model_module": "@jupyter-widgets/base",
     "model_module_version": "1.2.0",
     "model_name": "LayoutModel",
     "state": {
      "_model_module": "@jupyter-widgets/base",
      "_model_module_version": "1.2.0",
      "_model_name": "LayoutModel",
      "_view_count": null,
      "_view_module": "@jupyter-widgets/base",
      "_view_module_version": "1.2.0",
      "_view_name": "LayoutView",
      "align_content": null,
      "align_items": null,
      "align_self": null,
      "border": null,
      "bottom": null,
      "display": null,
      "flex": null,
      "flex_flow": null,
      "grid_area": null,
      "grid_auto_columns": null,
      "grid_auto_flow": null,
      "grid_auto_rows": null,
      "grid_column": null,
      "grid_gap": null,
      "grid_row": null,
      "grid_template_areas": null,
      "grid_template_columns": null,
      "grid_template_rows": null,
      "height": null,
      "justify_content": null,
      "justify_items": null,
      "left": null,
      "margin": null,
      "max_height": null,
      "max_width": null,
      "min_height": null,
      "min_width": null,
      "object_fit": null,
      "object_position": null,
      "order": null,
      "overflow": null,
      "overflow_x": null,
      "overflow_y": null,
      "padding": null,
      "right": null,
      "top": null,
      "visibility": null,
      "width": null
     }
    },
    "7363cdc469da4d1eb40dbc8af101a557": {
     "model_module": "@jupyter-widgets/controls",
     "model_module_version": "1.5.0",
     "model_name": "HTMLModel",
     "state": {
      "_dom_classes": [],
      "_model_module": "@jupyter-widgets/controls",
      "_model_module_version": "1.5.0",
      "_model_name": "HTMLModel",
      "_view_count": null,
      "_view_module": "@jupyter-widgets/controls",
      "_view_module_version": "1.5.0",
      "_view_name": "HTMLView",
      "description": "",
      "description_tooltip": null,
      "layout": "IPY_MODEL_625d9faa9e7143ab938b194f0421958a",
      "placeholder": "​",
      "style": "IPY_MODEL_781a4ae2658f4e209fdb8d846707e2a3",
      "value": " 9913344/? [00:00&lt;00:00, 55481519.07it/s]"
     }
    },
    "781a4ae2658f4e209fdb8d846707e2a3": {
     "model_module": "@jupyter-widgets/controls",
     "model_module_version": "1.5.0",
     "model_name": "DescriptionStyleModel",
     "state": {
      "_model_module": "@jupyter-widgets/controls",
      "_model_module_version": "1.5.0",
      "_model_name": "DescriptionStyleModel",
      "_view_count": null,
      "_view_module": "@jupyter-widgets/base",
      "_view_module_version": "1.2.0",
      "_view_name": "StyleView",
      "description_width": ""
     }
    },
    "7a93c8b51a8a40d8be612acb97b45eef": {
     "model_module": "@jupyter-widgets/controls",
     "model_module_version": "1.5.0",
     "model_name": "HTMLModel",
     "state": {
      "_dom_classes": [],
      "_model_module": "@jupyter-widgets/controls",
      "_model_module_version": "1.5.0",
      "_model_name": "HTMLModel",
      "_view_count": null,
      "_view_module": "@jupyter-widgets/controls",
      "_view_module_version": "1.5.0",
      "_view_name": "HTMLView",
      "description": "",
      "description_tooltip": null,
      "layout": "IPY_MODEL_118091a534924f44aab40fd727d55fa0",
      "placeholder": "​",
      "style": "IPY_MODEL_cdbff430dd1f49148df30a20a913fb7c",
      "value": ""
     }
    },
    "7fb8e76f085b4bdc800ef8c2fe440510": {
     "model_module": "@jupyter-widgets/controls",
     "model_module_version": "1.5.0",
     "model_name": "HTMLModel",
     "state": {
      "_dom_classes": [],
      "_model_module": "@jupyter-widgets/controls",
      "_model_module_version": "1.5.0",
      "_model_name": "HTMLModel",
      "_view_count": null,
      "_view_module": "@jupyter-widgets/controls",
      "_view_module_version": "1.5.0",
      "_view_name": "HTMLView",
      "description": "",
      "description_tooltip": null,
      "layout": "IPY_MODEL_bc97d84d33b044969314bb1bbb8bdc97",
      "placeholder": "​",
      "style": "IPY_MODEL_d80e0c4e87834ece85e01463d2e38ef0",
      "value": ""
     }
    },
    "85f13a8da49e4c2589e978d76b465a2e": {
     "model_module": "@jupyter-widgets/base",
     "model_module_version": "1.2.0",
     "model_name": "LayoutModel",
     "state": {
      "_model_module": "@jupyter-widgets/base",
      "_model_module_version": "1.2.0",
      "_model_name": "LayoutModel",
      "_view_count": null,
      "_view_module": "@jupyter-widgets/base",
      "_view_module_version": "1.2.0",
      "_view_name": "LayoutView",
      "align_content": null,
      "align_items": null,
      "align_self": null,
      "border": null,
      "bottom": null,
      "display": null,
      "flex": null,
      "flex_flow": null,
      "grid_area": null,
      "grid_auto_columns": null,
      "grid_auto_flow": null,
      "grid_auto_rows": null,
      "grid_column": null,
      "grid_gap": null,
      "grid_row": null,
      "grid_template_areas": null,
      "grid_template_columns": null,
      "grid_template_rows": null,
      "height": null,
      "justify_content": null,
      "justify_items": null,
      "left": null,
      "margin": null,
      "max_height": null,
      "max_width": null,
      "min_height": null,
      "min_width": null,
      "object_fit": null,
      "object_position": null,
      "order": null,
      "overflow": null,
      "overflow_x": null,
      "overflow_y": null,
      "padding": null,
      "right": null,
      "top": null,
      "visibility": null,
      "width": null
     }
    },
    "864b9d765762486d8675156679e1092d": {
     "model_module": "@jupyter-widgets/base",
     "model_module_version": "1.2.0",
     "model_name": "LayoutModel",
     "state": {
      "_model_module": "@jupyter-widgets/base",
      "_model_module_version": "1.2.0",
      "_model_name": "LayoutModel",
      "_view_count": null,
      "_view_module": "@jupyter-widgets/base",
      "_view_module_version": "1.2.0",
      "_view_name": "LayoutView",
      "align_content": null,
      "align_items": null,
      "align_self": null,
      "border": null,
      "bottom": null,
      "display": null,
      "flex": null,
      "flex_flow": null,
      "grid_area": null,
      "grid_auto_columns": null,
      "grid_auto_flow": null,
      "grid_auto_rows": null,
      "grid_column": null,
      "grid_gap": null,
      "grid_row": null,
      "grid_template_areas": null,
      "grid_template_columns": null,
      "grid_template_rows": null,
      "height": null,
      "justify_content": null,
      "justify_items": null,
      "left": null,
      "margin": null,
      "max_height": null,
      "max_width": null,
      "min_height": null,
      "min_width": null,
      "object_fit": null,
      "object_position": null,
      "order": null,
      "overflow": null,
      "overflow_x": null,
      "overflow_y": null,
      "padding": null,
      "right": null,
      "top": null,
      "visibility": null,
      "width": null
     }
    },
    "8da9e95eb2434616b716aee80d34ee0e": {
     "model_module": "@jupyter-widgets/controls",
     "model_module_version": "1.5.0",
     "model_name": "HTMLModel",
     "state": {
      "_dom_classes": [],
      "_model_module": "@jupyter-widgets/controls",
      "_model_module_version": "1.5.0",
      "_model_name": "HTMLModel",
      "_view_count": null,
      "_view_module": "@jupyter-widgets/controls",
      "_view_module_version": "1.5.0",
      "_view_name": "HTMLView",
      "description": "",
      "description_tooltip": null,
      "layout": "IPY_MODEL_ed67cdb251c94647a1f3ea5d2f19cbe5",
      "placeholder": "​",
      "style": "IPY_MODEL_cfd54891e0184448882af1e16f51708d",
      "value": " 1649664/? [00:00&lt;00:00, 14948632.24it/s]"
     }
    },
    "a5f3597bfbf04c1e98aea52838ab1627": {
     "model_module": "@jupyter-widgets/controls",
     "model_module_version": "1.5.0",
     "model_name": "HTMLModel",
     "state": {
      "_dom_classes": [],
      "_model_module": "@jupyter-widgets/controls",
      "_model_module_version": "1.5.0",
      "_model_name": "HTMLModel",
      "_view_count": null,
      "_view_module": "@jupyter-widgets/controls",
      "_view_module_version": "1.5.0",
      "_view_name": "HTMLView",
      "description": "",
      "description_tooltip": null,
      "layout": "IPY_MODEL_6769cb3581d744b494e433e6c003f900",
      "placeholder": "​",
      "style": "IPY_MODEL_15f005f613364aba9cc382189db6d360",
      "value": " 29696/? [00:00&lt;00:00, 832842.21it/s]"
     }
    },
    "aa77c05b1e0d4e5b951e2dc287721fb5": {
     "model_module": "@jupyter-widgets/controls",
     "model_module_version": "1.5.0",
     "model_name": "FloatProgressModel",
     "state": {
      "_dom_classes": [],
      "_model_module": "@jupyter-widgets/controls",
      "_model_module_version": "1.5.0",
      "_model_name": "FloatProgressModel",
      "_view_count": null,
      "_view_module": "@jupyter-widgets/controls",
      "_view_module_version": "1.5.0",
      "_view_name": "ProgressView",
      "bar_style": "success",
      "description": "",
      "description_tooltip": null,
      "layout": "IPY_MODEL_cd43f6ed9e704d4ebe449d3c5f1c1cc3",
      "max": 4542,
      "min": 0,
      "orientation": "horizontal",
      "style": "IPY_MODEL_cf450c03fadd44ca900d2b2e2fdedc49",
      "value": 4542
     }
    },
    "ad20cebc3b9140e4a6bdbec9404f73a4": {
     "model_module": "@jupyter-widgets/base",
     "model_module_version": "1.2.0",
     "model_name": "LayoutModel",
     "state": {
      "_model_module": "@jupyter-widgets/base",
      "_model_module_version": "1.2.0",
      "_model_name": "LayoutModel",
      "_view_count": null,
      "_view_module": "@jupyter-widgets/base",
      "_view_module_version": "1.2.0",
      "_view_name": "LayoutView",
      "align_content": null,
      "align_items": null,
      "align_self": null,
      "border": null,
      "bottom": null,
      "display": null,
      "flex": null,
      "flex_flow": null,
      "grid_area": null,
      "grid_auto_columns": null,
      "grid_auto_flow": null,
      "grid_auto_rows": null,
      "grid_column": null,
      "grid_gap": null,
      "grid_row": null,
      "grid_template_areas": null,
      "grid_template_columns": null,
      "grid_template_rows": null,
      "height": null,
      "justify_content": null,
      "justify_items": null,
      "left": null,
      "margin": null,
      "max_height": null,
      "max_width": null,
      "min_height": null,
      "min_width": null,
      "object_fit": null,
      "object_position": null,
      "order": null,
      "overflow": null,
      "overflow_x": null,
      "overflow_y": null,
      "padding": null,
      "right": null,
      "top": null,
      "visibility": null,
      "width": null
     }
    },
    "b6a2bc63ef6f4752a7de4bcb458ba953": {
     "model_module": "@jupyter-widgets/controls",
     "model_module_version": "1.5.0",
     "model_name": "HBoxModel",
     "state": {
      "_dom_classes": [],
      "_model_module": "@jupyter-widgets/controls",
      "_model_module_version": "1.5.0",
      "_model_name": "HBoxModel",
      "_view_count": null,
      "_view_module": "@jupyter-widgets/controls",
      "_view_module_version": "1.5.0",
      "_view_name": "HBoxView",
      "box_style": "",
      "children": [
       "IPY_MODEL_7a93c8b51a8a40d8be612acb97b45eef",
       "IPY_MODEL_aa77c05b1e0d4e5b951e2dc287721fb5",
       "IPY_MODEL_363cadb8cdc5439695895f5833bf7f81"
      ],
      "layout": "IPY_MODEL_1518e969982c4d6dbcf5d37538346628"
     }
    },
    "b7453223e7e54ec0923170ac48256750": {
     "model_module": "@jupyter-widgets/base",
     "model_module_version": "1.2.0",
     "model_name": "LayoutModel",
     "state": {
      "_model_module": "@jupyter-widgets/base",
      "_model_module_version": "1.2.0",
      "_model_name": "LayoutModel",
      "_view_count": null,
      "_view_module": "@jupyter-widgets/base",
      "_view_module_version": "1.2.0",
      "_view_name": "LayoutView",
      "align_content": null,
      "align_items": null,
      "align_self": null,
      "border": null,
      "bottom": null,
      "display": null,
      "flex": null,
      "flex_flow": null,
      "grid_area": null,
      "grid_auto_columns": null,
      "grid_auto_flow": null,
      "grid_auto_rows": null,
      "grid_column": null,
      "grid_gap": null,
      "grid_row": null,
      "grid_template_areas": null,
      "grid_template_columns": null,
      "grid_template_rows": null,
      "height": null,
      "justify_content": null,
      "justify_items": null,
      "left": null,
      "margin": null,
      "max_height": null,
      "max_width": null,
      "min_height": null,
      "min_width": null,
      "object_fit": null,
      "object_position": null,
      "order": null,
      "overflow": null,
      "overflow_x": null,
      "overflow_y": null,
      "padding": null,
      "right": null,
      "top": null,
      "visibility": null,
      "width": null
     }
    },
    "bb6cb4542f024c1dadc72bf2f837076e": {
     "model_module": "@jupyter-widgets/base",
     "model_module_version": "1.2.0",
     "model_name": "LayoutModel",
     "state": {
      "_model_module": "@jupyter-widgets/base",
      "_model_module_version": "1.2.0",
      "_model_name": "LayoutModel",
      "_view_count": null,
      "_view_module": "@jupyter-widgets/base",
      "_view_module_version": "1.2.0",
      "_view_name": "LayoutView",
      "align_content": null,
      "align_items": null,
      "align_self": null,
      "border": null,
      "bottom": null,
      "display": null,
      "flex": null,
      "flex_flow": null,
      "grid_area": null,
      "grid_auto_columns": null,
      "grid_auto_flow": null,
      "grid_auto_rows": null,
      "grid_column": null,
      "grid_gap": null,
      "grid_row": null,
      "grid_template_areas": null,
      "grid_template_columns": null,
      "grid_template_rows": null,
      "height": null,
      "justify_content": null,
      "justify_items": null,
      "left": null,
      "margin": null,
      "max_height": null,
      "max_width": null,
      "min_height": null,
      "min_width": null,
      "object_fit": null,
      "object_position": null,
      "order": null,
      "overflow": null,
      "overflow_x": null,
      "overflow_y": null,
      "padding": null,
      "right": null,
      "top": null,
      "visibility": null,
      "width": null
     }
    },
    "bc97d84d33b044969314bb1bbb8bdc97": {
     "model_module": "@jupyter-widgets/base",
     "model_module_version": "1.2.0",
     "model_name": "LayoutModel",
     "state": {
      "_model_module": "@jupyter-widgets/base",
      "_model_module_version": "1.2.0",
      "_model_name": "LayoutModel",
      "_view_count": null,
      "_view_module": "@jupyter-widgets/base",
      "_view_module_version": "1.2.0",
      "_view_name": "LayoutView",
      "align_content": null,
      "align_items": null,
      "align_self": null,
      "border": null,
      "bottom": null,
      "display": null,
      "flex": null,
      "flex_flow": null,
      "grid_area": null,
      "grid_auto_columns": null,
      "grid_auto_flow": null,
      "grid_auto_rows": null,
      "grid_column": null,
      "grid_gap": null,
      "grid_row": null,
      "grid_template_areas": null,
      "grid_template_columns": null,
      "grid_template_rows": null,
      "height": null,
      "justify_content": null,
      "justify_items": null,
      "left": null,
      "margin": null,
      "max_height": null,
      "max_width": null,
      "min_height": null,
      "min_width": null,
      "object_fit": null,
      "object_position": null,
      "order": null,
      "overflow": null,
      "overflow_x": null,
      "overflow_y": null,
      "padding": null,
      "right": null,
      "top": null,
      "visibility": null,
      "width": null
     }
    },
    "cd43f6ed9e704d4ebe449d3c5f1c1cc3": {
     "model_module": "@jupyter-widgets/base",
     "model_module_version": "1.2.0",
     "model_name": "LayoutModel",
     "state": {
      "_model_module": "@jupyter-widgets/base",
      "_model_module_version": "1.2.0",
      "_model_name": "LayoutModel",
      "_view_count": null,
      "_view_module": "@jupyter-widgets/base",
      "_view_module_version": "1.2.0",
      "_view_name": "LayoutView",
      "align_content": null,
      "align_items": null,
      "align_self": null,
      "border": null,
      "bottom": null,
      "display": null,
      "flex": null,
      "flex_flow": null,
      "grid_area": null,
      "grid_auto_columns": null,
      "grid_auto_flow": null,
      "grid_auto_rows": null,
      "grid_column": null,
      "grid_gap": null,
      "grid_row": null,
      "grid_template_areas": null,
      "grid_template_columns": null,
      "grid_template_rows": null,
      "height": null,
      "justify_content": null,
      "justify_items": null,
      "left": null,
      "margin": null,
      "max_height": null,
      "max_width": null,
      "min_height": null,
      "min_width": null,
      "object_fit": null,
      "object_position": null,
      "order": null,
      "overflow": null,
      "overflow_x": null,
      "overflow_y": null,
      "padding": null,
      "right": null,
      "top": null,
      "visibility": null,
      "width": null
     }
    },
    "cdbff430dd1f49148df30a20a913fb7c": {
     "model_module": "@jupyter-widgets/controls",
     "model_module_version": "1.5.0",
     "model_name": "DescriptionStyleModel",
     "state": {
      "_model_module": "@jupyter-widgets/controls",
      "_model_module_version": "1.5.0",
      "_model_name": "DescriptionStyleModel",
      "_view_count": null,
      "_view_module": "@jupyter-widgets/base",
      "_view_module_version": "1.2.0",
      "_view_name": "StyleView",
      "description_width": ""
     }
    },
    "cf450c03fadd44ca900d2b2e2fdedc49": {
     "model_module": "@jupyter-widgets/controls",
     "model_module_version": "1.5.0",
     "model_name": "ProgressStyleModel",
     "state": {
      "_model_module": "@jupyter-widgets/controls",
      "_model_module_version": "1.5.0",
      "_model_name": "ProgressStyleModel",
      "_view_count": null,
      "_view_module": "@jupyter-widgets/base",
      "_view_module_version": "1.2.0",
      "_view_name": "StyleView",
      "bar_color": null,
      "description_width": ""
     }
    },
    "cfd54891e0184448882af1e16f51708d": {
     "model_module": "@jupyter-widgets/controls",
     "model_module_version": "1.5.0",
     "model_name": "DescriptionStyleModel",
     "state": {
      "_model_module": "@jupyter-widgets/controls",
      "_model_module_version": "1.5.0",
      "_model_name": "DescriptionStyleModel",
      "_view_count": null,
      "_view_module": "@jupyter-widgets/base",
      "_view_module_version": "1.2.0",
      "_view_name": "StyleView",
      "description_width": ""
     }
    },
    "d80e0c4e87834ece85e01463d2e38ef0": {
     "model_module": "@jupyter-widgets/controls",
     "model_module_version": "1.5.0",
     "model_name": "DescriptionStyleModel",
     "state": {
      "_model_module": "@jupyter-widgets/controls",
      "_model_module_version": "1.5.0",
      "_model_name": "DescriptionStyleModel",
      "_view_count": null,
      "_view_module": "@jupyter-widgets/base",
      "_view_module_version": "1.2.0",
      "_view_name": "StyleView",
      "description_width": ""
     }
    },
    "dc413ce906974d05b2147b1b5859e474": {
     "model_module": "@jupyter-widgets/controls",
     "model_module_version": "1.5.0",
     "model_name": "ProgressStyleModel",
     "state": {
      "_model_module": "@jupyter-widgets/controls",
      "_model_module_version": "1.5.0",
      "_model_name": "ProgressStyleModel",
      "_view_count": null,
      "_view_module": "@jupyter-widgets/base",
      "_view_module_version": "1.2.0",
      "_view_name": "StyleView",
      "bar_color": null,
      "description_width": ""
     }
    },
    "e919c5f1ac6f433380461ce447151dea": {
     "model_module": "@jupyter-widgets/base",
     "model_module_version": "1.2.0",
     "model_name": "LayoutModel",
     "state": {
      "_model_module": "@jupyter-widgets/base",
      "_model_module_version": "1.2.0",
      "_model_name": "LayoutModel",
      "_view_count": null,
      "_view_module": "@jupyter-widgets/base",
      "_view_module_version": "1.2.0",
      "_view_name": "LayoutView",
      "align_content": null,
      "align_items": null,
      "align_self": null,
      "border": null,
      "bottom": null,
      "display": null,
      "flex": null,
      "flex_flow": null,
      "grid_area": null,
      "grid_auto_columns": null,
      "grid_auto_flow": null,
      "grid_auto_rows": null,
      "grid_column": null,
      "grid_gap": null,
      "grid_row": null,
      "grid_template_areas": null,
      "grid_template_columns": null,
      "grid_template_rows": null,
      "height": null,
      "justify_content": null,
      "justify_items": null,
      "left": null,
      "margin": null,
      "max_height": null,
      "max_width": null,
      "min_height": null,
      "min_width": null,
      "object_fit": null,
      "object_position": null,
      "order": null,
      "overflow": null,
      "overflow_x": null,
      "overflow_y": null,
      "padding": null,
      "right": null,
      "top": null,
      "visibility": null,
      "width": null
     }
    },
    "ed67cdb251c94647a1f3ea5d2f19cbe5": {
     "model_module": "@jupyter-widgets/base",
     "model_module_version": "1.2.0",
     "model_name": "LayoutModel",
     "state": {
      "_model_module": "@jupyter-widgets/base",
      "_model_module_version": "1.2.0",
      "_model_name": "LayoutModel",
      "_view_count": null,
      "_view_module": "@jupyter-widgets/base",
      "_view_module_version": "1.2.0",
      "_view_name": "LayoutView",
      "align_content": null,
      "align_items": null,
      "align_self": null,
      "border": null,
      "bottom": null,
      "display": null,
      "flex": null,
      "flex_flow": null,
      "grid_area": null,
      "grid_auto_columns": null,
      "grid_auto_flow": null,
      "grid_auto_rows": null,
      "grid_column": null,
      "grid_gap": null,
      "grid_row": null,
      "grid_template_areas": null,
      "grid_template_columns": null,
      "grid_template_rows": null,
      "height": null,
      "justify_content": null,
      "justify_items": null,
      "left": null,
      "margin": null,
      "max_height": null,
      "max_width": null,
      "min_height": null,
      "min_width": null,
      "object_fit": null,
      "object_position": null,
      "order": null,
      "overflow": null,
      "overflow_x": null,
      "overflow_y": null,
      "padding": null,
      "right": null,
      "top": null,
      "visibility": null,
      "width": null
     }
    },
    "f6d206d1f1c4495383d6f0884471981d": {
     "model_module": "@jupyter-widgets/controls",
     "model_module_version": "1.5.0",
     "model_name": "DescriptionStyleModel",
     "state": {
      "_model_module": "@jupyter-widgets/controls",
      "_model_module_version": "1.5.0",
      "_model_name": "DescriptionStyleModel",
      "_view_count": null,
      "_view_module": "@jupyter-widgets/base",
      "_view_module_version": "1.2.0",
      "_view_name": "StyleView",
      "description_width": ""
     }
    },
    "f7739151c4554f0bbdeeab92ac69f540": {
     "model_module": "@jupyter-widgets/controls",
     "model_module_version": "1.5.0",
     "model_name": "ProgressStyleModel",
     "state": {
      "_model_module": "@jupyter-widgets/controls",
      "_model_module_version": "1.5.0",
      "_model_name": "ProgressStyleModel",
      "_view_count": null,
      "_view_module": "@jupyter-widgets/base",
      "_view_module_version": "1.2.0",
      "_view_name": "StyleView",
      "bar_color": null,
      "description_width": ""
     }
    },
    "f81dd63f63484a969119b60cc191c6b7": {
     "model_module": "@jupyter-widgets/controls",
     "model_module_version": "1.5.0",
     "model_name": "HBoxModel",
     "state": {
      "_dom_classes": [],
      "_model_module": "@jupyter-widgets/controls",
      "_model_module_version": "1.5.0",
      "_model_name": "HBoxModel",
      "_view_count": null,
      "_view_module": "@jupyter-widgets/controls",
      "_view_module_version": "1.5.0",
      "_view_name": "HBoxView",
      "box_style": "",
      "children": [
       "IPY_MODEL_6742985ed79849d39438b58cf7baac28",
       "IPY_MODEL_53ad5e27fa8343da8d57a08d12efcc2c",
       "IPY_MODEL_a5f3597bfbf04c1e98aea52838ab1627"
      ],
      "layout": "IPY_MODEL_b7453223e7e54ec0923170ac48256750"
     }
    },
    "f8e3693bd90c4f0fb81332200c7af84c": {
     "model_module": "@jupyter-widgets/controls",
     "model_module_version": "1.5.0",
     "model_name": "HTMLModel",
     "state": {
      "_dom_classes": [],
      "_model_module": "@jupyter-widgets/controls",
      "_model_module_version": "1.5.0",
      "_model_name": "HTMLModel",
      "_view_count": null,
      "_view_module": "@jupyter-widgets/controls",
      "_view_module_version": "1.5.0",
      "_view_name": "HTMLView",
      "description": "",
      "description_tooltip": null,
      "layout": "IPY_MODEL_e919c5f1ac6f433380461ce447151dea",
      "placeholder": "​",
      "style": "IPY_MODEL_f9b88540f03040339369bd4194ea26ef",
      "value": ""
     }
    },
    "f9b88540f03040339369bd4194ea26ef": {
     "model_module": "@jupyter-widgets/controls",
     "model_module_version": "1.5.0",
     "model_name": "DescriptionStyleModel",
     "state": {
      "_model_module": "@jupyter-widgets/controls",
      "_model_module_version": "1.5.0",
      "_model_name": "DescriptionStyleModel",
      "_view_count": null,
      "_view_module": "@jupyter-widgets/base",
      "_view_module_version": "1.2.0",
      "_view_name": "StyleView",
      "description_width": ""
     }
    }
   }
  }
 },
 "nbformat": 4,
 "nbformat_minor": 1
}
